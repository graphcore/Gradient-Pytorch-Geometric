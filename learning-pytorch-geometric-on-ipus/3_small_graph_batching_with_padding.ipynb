{
 "cells": [
  {
   "cell_type": "markdown",
   "id": "3d8b7fcd",
   "metadata": {},
   "source": [
    "Copyright (c) 2023 Graphcore Ltd. All rights reserved."
   ]
  },
  {
   "attachments": {},
   "cell_type": "markdown",
   "id": "7695112a",
   "metadata": {},
   "source": [
    "# Small graph batching on IPUs using padding\n",
    "\n",
    "Batching is an essential procedure to scale the training of a deep learning model to large quantities of data. This process results in the creation of mini-batches of data, where each mini-batch is a collection of samples that can be processed in a single iteration of the training algorithm.\n",
    "The number of samples grouped in a mini-batch is commonly referred to as 'batch size'.\n",
    "\n",
    "Small graph datasets, which are common in molecular science, contain a varying number of nodes and edges per graph. Large graph datasets are often sampled or clustered which results in differently sized graphs.\n",
    "IPUs can only run a statically compiled model - in other words the size of the tensors used are known at compile time. This means that the sizes of our input samples must be  constant over iterations, rather than dynamically sized as most graph datasets are.\n",
    "There are different strategies to obtain fixed size inputs: in this tutorial we will focus on basic approaches suitable to datasets made up of many small graphs. More advanced techniques applicable to such datasets will be discussed in the [Small Graph Batching with Packing](../4_small_graph_batching_with_packing/4_small_graph_batching_with_packing.ipynb) tutorial.\n",
    "\n",
    "If you are interested in a large graph use case, have a look at our [Cluster CGN example](../../../../gnn/cluster_gcn/pytorch_geometric/node_classification_with_cluster_gcn.ipynb).\n",
    "\n",
    "In this tutorial, you will learn how to:\n",
    "\n",
    "- batch small graphs to accelerate training for GNN models,\n",
    "- obtain fixed size input compatible with IPU usage using a fixed size dataloader to batch the input graphs and then pad the resulting mini-batches,\n",
    "- mask out the added padded items in some operations to ensure that the functionality using the fixed size inputs is not adversely affecting the outcome, so we correctly calculate the loss function on the relevant subgraphs,\n",
    "- use PopTorch to transform and prepare our model for distributed training and inference on IPUs.\n",
    "\n",
    "> This tutorial expects you to have familiarity with GNNs, PopTorch, the PyTorch Geometric library and to understand the IPU's requirement for fixed sized tensors. If this is not the case you may want to go through our introductory tutorials [At a glance](../1_at_a_glance/1_at_a_glance.ipynb) and [A worked example](../2_a_worked_example2_a_worked_example.ipynb).\n",
    "> For additional resources on PopTorch please consult the relative [User Guide](https://docs.graphcore.ai/projects/poptorch-user-guide/en/latest/index.html) and [Examples](https://docs.graphcore.ai/en/latest/examples.html#pytorch).\n",
    "\n",
    "## Running on Paperspace\n",
    "\n",
    "The Paperspace environment lets you run this notebook with no set up. To improve your experience we preload datasets and pre-install packages, this can take a few minutes, if you experience errors immediately after starting a session please try restarting the kernel before contacting support. If a problem persists or you want to give us feedback on the content of this notebook, please reach out to through our community of developers using our [slack channel](https://www.graphcore.ai/join-community) or raise a [GitHub issue](https://github.com/graphcore/examples).\n",
    "\n",
    "Requirements:\n",
    "\n",
    "* Python packages installed with `pip install -r ./requirements.txt`"
   ]
  },
  {
   "cell_type": "code",
   "execution_count": null,
   "id": "ad39510d",
   "metadata": {},
   "outputs": [],
   "source": [
    "%pip install -q -r ./requirements.txt"
   ]
  },
  {
   "cell_type": "markdown",
   "id": "7899732d",
   "metadata": {},
   "source": [
    "And for compatibility with the Paperspace environment variables we will do the following:"
   ]
  },
  {
   "cell_type": "code",
   "execution_count": null,
   "id": "a1a5325f",
   "metadata": {},
   "outputs": [],
   "source": [
    "import os\n",
    "\n",
    "executable_cache_dir = (\n",
    "    os.getenv(\"POPLAR_EXECUTABLE_CACHE_DIR\", \"/tmp/exe_cache/\") + \"/pyg-padding\"\n",
    ")\n",
    "dataset_directory = os.getenv(\"DATASET_DIR\", \"data\")"
   ]
  },
  {
   "cell_type": "markdown",
   "id": "028cd9a9",
   "metadata": {},
   "source": [
    "Now we are ready to start!"
   ]
  },
  {
   "cell_type": "markdown",
   "id": "c2ec0da9",
   "metadata": {},
   "source": [
    "## Introduction to small graph structures and the QM9 Dataset\n",
    "\n",
    "A subset of GNN models focus on how to classify and predict properties related to molecules and chemical compounds.\n",
    "These models have many applications within healthcare and chemistry which aim to use graph representations to solve problems within this space.\n",
    "In this tutorial, we accelerate training of these models by batching in order to effectively use the IPU's processing power."
   ]
  },
  {
   "cell_type": "markdown",
   "id": "76d8361a",
   "metadata": {},
   "source": [
    "## QM9 dataset in PyTorch Geometric\n",
    "\n",
    "The PyTorch Geometric (PyG) package comes bundled with a range of datasets, which we can easily pull and use to experiment with different GNN models. We are going to use the QM9 dataset, a small-graphs dataset which contains 130831 molecules represented as graphs, each with different structures and physical properties.\n",
    "Each molecule is represented as an undirected graph, where its atoms are the nodes of the graphs and the edges connect atoms that are within a given cutoff radius to each other.\n",
    "We can inspect a molecule within the dataset, represented as an instance of a [torch_geometric.data.Data](https://pytorch-geometric.readthedocs.io/en/latest/modules/data.html#torch_geometric.data.Data) object:"
   ]
  },
  {
   "cell_type": "code",
   "execution_count": null,
   "id": "1584d092",
   "metadata": {},
   "outputs": [],
   "source": [
    "from torch_geometric.datasets import QM9\n",
    "\n",
    "dataset = QM9(root=dataset_directory)\n",
    "print(dataset)\n",
    "print(dataset[2])"
   ]
  },
  {
   "cell_type": "markdown",
   "id": "197c4cee",
   "metadata": {},
   "source": [
    "Each molecule contains the following properties:\n",
    "\n",
    "* `z` contains the atomic number for each atom in the molecule. For a molecule with `n` atoms (therefore `n` nodes), the nuclear charges $Z= (Z_1, Z_2, ..., Z_n)$ are stored as a vector of integers of length `num_atoms`\n",
    "* `pos`  is a tensor of real numbers of size `[num_atoms, 3]` which contains the 3D structure of the molecule\n",
    "* `x` contains properties of each atom of size `[num_atoms,11]` as all the nodes in each graph have 11 node features defined. These include measurements such as heat capacity, free energy, internal energy and so on.\n",
    "* `edge_index` contains information relating to how the atoms in each molecule are connected as an adjacency list with size `[2,num_edges]`\n",
    "* `y` contains the 19 regression targets. The HOMO-LUMO energy gap is stored in the 4th column so can be accessed by slicing this tensor using y[:,4]. This information will be useful later on in this tutorial when we will use the QM9 dataset to train our model to predict the HOMO-LUMO energy gap.\n",
    "\n",
    "You can see in the code below that we use the py3Dmol package to visualise the 3D structure of a group of molecules for more insights on our data."
   ]
  },
  {
   "cell_type": "code",
   "execution_count": null,
   "id": "b227ec06",
   "metadata": {},
   "outputs": [],
   "source": [
    "import ipywidgets\n",
    "import py3Dmol\n",
    "from ipywidgets import interact\n",
    "from periodictable import elements\n",
    "\n",
    "\n",
    "def MolTo3DView(\n",
    "    mol, loader_on, size=(300, 300), style=\"stick\", surface=False, opacity=0.5\n",
    "):\n",
    "    \"\"\"Draw molecule in 3D\n",
    "\n",
    "    Args:\n",
    "    ----\n",
    "        mol: rdMol, molecule to show\n",
    "        size: tuple(int, int), canvas size\n",
    "        style: str, type of drawing molecule\n",
    "               style can be 'line', 'stick', 'sphere', 'carton'\n",
    "        surface, bool, display SAS\n",
    "        opacity, float, opacity of surface, range 0.0-1.0\n",
    "    Return:\n",
    "    ----\n",
    "        viewer: py3Dmol.view, a class for constructing embedded 3Dmol.js views in ipython notebooks.\n",
    "    \"\"\"\n",
    "\n",
    "    assert style in (\"line\", \"stick\", \"sphere\", \"carton\")\n",
    "    viewer = py3Dmol.view(width=size[0], height=size[1])\n",
    "    viewer.addModel(mol, \"mol\")\n",
    "    viewer.setStyle({style: {}})\n",
    "    if surface:\n",
    "        viewer.addSurface(py3Dmol.SAS, {\"opacity\": opacity})\n",
    "    viewer.zoomTo()\n",
    "    return viewer"
   ]
  },
  {
   "cell_type": "markdown",
   "id": "9d3fb8d4",
   "metadata": {},
   "source": [
    "We need to provide the simple `xyz` format to the `py3Dmo.view` function:"
   ]
  },
  {
   "cell_type": "code",
   "execution_count": null,
   "id": "69b0d8e0",
   "metadata": {},
   "outputs": [],
   "source": [
    "def molecule_converter(datum):\n",
    "    num_atoms = int(datum.z.numel())\n",
    "    xyz = f\"{num_atoms}\\n\\n\"\n",
    "    for i in range(num_atoms):\n",
    "        sym = elements[datum.z[i].item()].symbol\n",
    "        r = datum.pos[i, :].tolist()\n",
    "        line = [sym] + [f\"{i: 0.08f}\" for i in r]\n",
    "        line = \"\\t\".join(line)\n",
    "        xyz += f\"{line}\\n\"\n",
    "    return xyz\n",
    "\n",
    "\n",
    "def conf_viewer(idx):\n",
    "    mol = smi[idx]\n",
    "    return MolTo3DView(mol, loader_on=True, size=(300, 300)).show()\n",
    "\n",
    "\n",
    "bs = 12\n",
    "data_chunk = dataset[0:bs]\n",
    "smi = [molecule_converter(i) for i in data_chunk]\n",
    "interact(conf_viewer, idx=ipywidgets.IntSlider(min=0, max=bs - 1, step=1))"
   ]
  },
  {
   "cell_type": "markdown",
   "id": "720c1481",
   "metadata": {},
   "source": [
    "The code above allows us to view a subset of graphs in the dataset and interact with the data. By moving the slider we can see that each of the graphs has a different number of nodes and edges, and different physical properties, as shown by the variety of colours of the atoms (nodes) of each molecule.\n",
    "\n",
    "In the next section, we will dive deeper in how to batch together these molecules."
   ]
  },
  {
   "cell_type": "markdown",
   "id": "7d7cec51",
   "metadata": {},
   "source": [
    "## Mini-batching in PyTorch Geometric\n",
    "\n",
    "\n",
    "Due to the dynamic shape of graphs, batching by concatenation is inefficient since most graphs do not share the same number of nodes or edges.\n",
    "Consider the following set of tensors representing a single graph. When compared to the other tensors representing the other graphs in the dataset you will find that each graph has a different number of nodes but the same number of features. This means that they can not be concatenated along the features' dimension to the mismatch of shapes.\n",
    "\n",
    "![tensors.png](static/tensors.png)\n",
    "\n",
    "The [PyTorch Geometric Dataloader](https://pytorch-geometric.readthedocs.io/en/latest/modules/loader.html#torch_geometric.loader.DataLoader) achieves mini-batching by stacking the adjacency matrices in a diagonal fashion, and by concatenating node and edge features in the node dimension. This creates a larger graph consisting of disconnected subgraphs. More details can be found in the [Advanced Mini-Batching](https://pytorch-geometric.readthedocs.io/en/latest/notes/batching.html) PyTorch Geometric documentation.\n",
    "The dataloader will also generate a  `batch` vector which is used later during training. The `batch` vector assigns each feature in the mini-batch to its respective subgraph. This vector is represented as `Batch` in the figure below.\n",
    "\n",
    "![tensor_2.png](static/tensor_2.png)\n",
    "\n",
    "Using the QM9 dataset and the PyTorch Geometric Dataloader, we can inspect the first few mini-batches created by stacking samples into larger batched graphs. In this example, we will use `batch_size=4`, hence stacking 4 samples in a mini-batch."
   ]
  },
  {
   "cell_type": "code",
   "execution_count": null,
   "id": "9b9b14c2",
   "metadata": {},
   "outputs": [],
   "source": [
    "from torch_geometric.data import Data\n",
    "from torch_geometric.loader import DataLoader\n",
    "\n",
    "loader = DataLoader(dataset, batch_size=4)\n",
    "it = iter(loader)\n",
    "next(it), next(it), next(it)"
   ]
  },
  {
   "cell_type": "markdown",
   "id": "4ef8e7c0",
   "metadata": {},
   "source": [
    "This visualisation shows how 4 molecules per mini-batch are now grouped together to be considered a larger graph made up of subgraphs:\n",
    "\n",
    "![Fixed_dataloader_1.png](static/Fixed_dataloader_1.png)\n",
    "\n",
    "As we can see through our visulisation, and through inspecting the first few mini-batches of our dataloader, each mini-batch has a different shape."
   ]
  },
  {
   "cell_type": "code",
   "execution_count": null,
   "id": "aa108427",
   "metadata": {},
   "outputs": [],
   "source": [
    "for i, batch in zip(range(3), loader):\n",
    "    print(f\"Mini-batch {i} has an x tensor of shape: {batch.x.shape}\")"
   ]
  },
  {
   "cell_type": "markdown",
   "id": "93093bb0",
   "metadata": {},
   "source": [
    "The variable size of the input tensors in each mini-batch is incompatible with using IPUs because they require static compilation of the computational graph. We must therefore pad each mini-batch to create statically shaped inputs\n",
    "\n",
    "## Using the fixed size data loader in PopTorch Geometric\n",
    "\n",
    "To process a dataset on the IPU, each mini-batch of graphs needs to have relative tensors of the same size.\n",
    "To achieve that, each mini-batch must be padded to a fixed size, hiding the dynamic shape of the underlying data from the IPU.\n",
    "There are multiple ways to achieve fixed tensor sizes which trade-off implementation complexity with padding efficiency.\n",
    "For this tutorial we will demonstrate the usage of the `FixedSizeDataLoader` class available in [PopTorch Geometric](https://docs.graphcore.ai/projects/poptorch-geometric-user-guide/), the IPU-specific PyTorch Geometric library.\n",
    "\n",
    "### Batching using FixedSizeDataLoader in PopTorch Geometric\n",
    "\n",
    "`FixedSizeDataLoader` can be used to create an IPU-optimised dataloader from non-fixed shape samples by padding the samples to create fixed size mini-batches.\n",
    "This dataloader creates a fixed batch sampler with `batch_size` graphs in each mini-batch. The `num_nodes` and `num_edges` optional arguments allow you to set the total number of nodes and edges in a batch, respectively, to make the batch fixed size and therefore suitable for the IPU.\n",
    "Using `Summary` we can find the maximum number of nodes and edges across the samples.\n",
    "\n",
    "These maximum values will be used later when creating dummy nodes for padding using our dataloader."
   ]
  },
  {
   "cell_type": "code",
   "execution_count": null,
   "id": "b69de510",
   "metadata": {},
   "outputs": [],
   "source": [
    "from torch_geometric.data.summary import Summary\n",
    "import poptorch\n",
    "\n",
    "dataset_summary = Summary.from_dataset(dataset)\n",
    "print(dataset_summary)\n",
    "max_number_of_nodes = int(dataset_summary.num_nodes.max)\n",
    "max_number_of_edges = int(dataset_summary.num_edges.max)\n",
    "print(f\"Max number of nodes in the dataset is: {max_number_of_nodes}\")\n",
    "print(f\"Max number of edges in the dataset is: {max_number_of_edges}\")"
   ]
  },
  {
   "cell_type": "markdown",
   "id": "73cfbf7d",
   "metadata": {},
   "source": [
    "A naive approach to decide the `num_nodes` and `num_edges` values to pass to `FixedSizeDataLoader` is to multiply each by our chosen `batch_size`. This strategy ensures that a mini-batch made up of graphs of the largest size in the dataset can still fit when batched together."
   ]
  },
  {
   "cell_type": "code",
   "execution_count": null,
   "id": "5c30f077",
   "metadata": {},
   "outputs": [],
   "source": [
    "batch_size = 128\n",
    "max_num_nodes_per_batch = max_number_of_nodes * batch_size\n",
    "max_num_edges_per_batch = max_number_of_edges * batch_size\n",
    "print(f\"{max_num_nodes_per_batch = }\")\n",
    "print(f\"{max_num_edges_per_batch = }\")"
   ]
  },
  {
   "cell_type": "markdown",
   "id": "1e548966",
   "metadata": {},
   "source": [
    "We can pad our mini-batches by creating a new 'null' graph made of dummy nodes and edges that ensures each mini-batch has a fixed size for execution on the IPU.\n",
    "\n",
    "The null graph will have `num_nodes` - $sum(N_i)$ nodes, and `num_edges` - $sum(E_i)$ edges, where $N$ is the number of nodes and $E$ is the number of edges for each subgraph $i$ in the mini-batch.\n",
    "\n",
    "Since $sum(N_i)$ and $sum(E_i)$ will be different depending on the size of the molecules in each batch, each null graph will be the size of the remaining number of nodes and edges required to fill to the maximum values set.\n",
    "\n",
    "We can achieve this by using the PopTorch Geometric `FizedSizeDataLoader`, which creates a wrapper around a PopTorch dataloader, optimised for accelerated and distributed learning on IPUs."
   ]
  },
  {
   "cell_type": "code",
   "execution_count": null,
   "id": "8ad4e33b",
   "metadata": {},
   "outputs": [],
   "source": [
    "from poptorch_geometric import FixedSizeDataLoader\n",
    "\n",
    "ipu_dataloader = FixedSizeDataLoader(\n",
    "    dataset,\n",
    "    num_nodes=max_num_nodes_per_batch,\n",
    "    num_edges=max_num_edges_per_batch,\n",
    "    batch_size=batch_size,\n",
    ")"
   ]
  },
  {
   "cell_type": "markdown",
   "id": "23fb1750",
   "metadata": {},
   "source": [
    "The null graph will contain nodes and edges with features set to the padding value of 0.\n",
    "\n",
    "We also need to make sure that `edge_index` has a fixed size, so it needs padding too. As this entity represents the graph connectivity we need to be careful to avoid connecting the dummy edges to the real subgraphs' nodes.\n",
    "So we connect the dummy edges to the null graph instead, specifically adding them as a self-loop on one of its nodes.\n",
    "\n",
    "The null graph is visualised by the nodes in the green circle which have been added to the visualisation below.\n",
    "\n",
    "![Fixed_dataloader_2.png](static/Fixed_dataloader_2.png)"
   ]
  },
  {
   "cell_type": "code",
   "execution_count": null,
   "id": "358ccabe",
   "metadata": {},
   "outputs": [],
   "source": [
    "sample = next(iter(ipu_dataloader))\n",
    "print(sample)\n",
    "print(\"Shape of y:\", sample.y.shape)"
   ]
  },
  {
   "cell_type": "markdown",
   "id": "e9e1e4ff",
   "metadata": {},
   "source": [
    "As you can see from the output of each sample, we now have `batch_size` subgraphs in each mini-batch."
   ]
  },
  {
   "cell_type": "markdown",
   "id": "11eac9dc",
   "metadata": {},
   "source": [
    "### Training on the IPU using the Fixed Sized Dataloader in PopTorch Geometric\n",
    "\n",
    "Our aim is to train a model on the IPU with the QM9 dataset to predict the HOMO-LUMO energy gap. To do so, we will use a classic GCN operator.\n",
    "\n",
    "GNNs rely on a message passing scheme which aggregates connected nodes. Information is not propagated across disconnected subgraphs in each mini-batch as the operation is only executed along connected nodes.\n",
    "The pooling layers perform a final aggregation of the node embeddings, which enables us to flatten the subgraphs to a single value in order to calculate the loss.\n",
    "The 'batch' variable is used here to allow us to aggregate the appropriate node embeddings for each subgraph, processing each subgraph as linearly separable samples."
   ]
  },
  {
   "cell_type": "code",
   "execution_count": null,
   "id": "5559f521",
   "metadata": {},
   "outputs": [],
   "source": [
    "import torch\n",
    "import torch.nn.functional as F\n",
    "from torch.nn import Linear\n",
    "from torch_geometric.nn import GCNConv, global_mean_pool\n",
    "\n",
    "\n",
    "class GcnForBatching(torch.nn.Module):\n",
    "    def __init__(self, hidden_channels, batch_size):\n",
    "        super(GcnForBatching, self).__init__()\n",
    "        torch.manual_seed(1234)\n",
    "        self.conv = GCNConv(dataset.num_features, hidden_channels, add_self_loops=False)\n",
    "        self.lin = Linear(hidden_channels, dataset.num_classes)\n",
    "        self.batch_size = batch_size  # includes the padding graph\n",
    "\n",
    "    def forward(self, x, edge_index, y, batch):\n",
    "        # 1. Obtain node embeddings\n",
    "        x = self.conv(x, edge_index).relu()\n",
    "        # 2. Pooling layer\n",
    "        x = global_mean_pool(x, batch, size=self.batch_size)\n",
    "        # 3. Apply a final classifier\n",
    "        x = F.dropout(x, p=0.5, training=self.training)\n",
    "        x = self.lin(x)\n",
    "\n",
    "        if self.training:\n",
    "            return F.mse_loss(\n",
    "                x[: (self.batch_size - 1)], y[: (self.batch_size - 1)]\n",
    "            )  # mask out the null graph from the loss\n",
    "        return x"
   ]
  },
  {
   "cell_type": "markdown",
   "id": "173c77a1",
   "metadata": {},
   "source": [
    "During the pooling step, we reduce the number of dimensions of each of the subgraphs down to (`batch_size`,`1`) which denotes the number of subgraphs per mini-batch (including the null graph) and the regression value per subgraph.\n",
    "\n",
    "So when we calculate the loss in this instance, we must mask out the last sample from the mini-batch which is the null graph. This ensures that we only include the valid subgraphs when calculating the loss value which will be used to adjust the weights during backpropagation.\n",
    "\n",
    "Now that we have put together our model using PyTorch Geometric, we can use PopTorch to enable model training on the IPU:"
   ]
  },
  {
   "cell_type": "code",
   "execution_count": null,
   "id": "0a4a4c49",
   "metadata": {},
   "outputs": [],
   "source": [
    "model = GcnForBatching(hidden_channels=16, batch_size=batch_size)\n",
    "optim = poptorch.optim.Adam(model.parameters(), lr=0.001)\n",
    "poptorch_model = poptorch.trainingModel(\n",
    "    model,\n",
    "    optimizer=optim,\n",
    "    options=poptorch.Options().enableExecutableCaching(executable_cache_dir),\n",
    ")\n",
    "poptorch_model"
   ]
  },
  {
   "cell_type": "markdown",
   "id": "7f140d31",
   "metadata": {},
   "source": [
    "We are now ready to run training on our model using `FixedSizeDataLoader` and the PopTorch model on the IPU.\n",
    "\n",
    "This training function is flexible, and can be executed on both the CPU and IPU, depending on which model is selected in the training loop.\n",
    "\n",
    "Using the PopTorch model we run on the IPU as follows:"
   ]
  },
  {
   "cell_type": "code",
   "execution_count": null,
   "id": "c8fa4825",
   "metadata": {},
   "outputs": [],
   "source": [
    "poptorch_model.train()\n",
    "loss_per_epoch = []\n",
    "\n",
    "for epoch in range(0, 3):\n",
    "    total_loss = 0\n",
    "\n",
    "    for data in ipu_dataloader:\n",
    "        loss = poptorch_model(data.x, data.edge_index, data.y, data.batch)\n",
    "        total_loss += loss\n",
    "        optim.zero_grad()\n",
    "\n",
    "    loss_this_epoch = total_loss / len(dataset)\n",
    "    loss_per_epoch.append(loss_this_epoch)\n",
    "    print(\"Epoch:\", epoch, \" Training Loss: \", loss_this_epoch)"
   ]
  },
  {
   "cell_type": "markdown",
   "id": "1d29b73c",
   "metadata": {},
   "source": [
    "To understand how the training of our model is progressing per epoch, we can create a loss plot:"
   ]
  },
  {
   "cell_type": "code",
   "execution_count": null,
   "id": "a9bc881c",
   "metadata": {},
   "outputs": [],
   "source": [
    "import matplotlib.pyplot as plt\n",
    "\n",
    "plt.figure()\n",
    "plt.plot(loss_per_epoch)\n",
    "plt.title(\"Loss per epoch using the Fixed Sized Dataloader\")\n",
    "plt.xlabel(\"Epoch\")\n",
    "plt.ylabel(\"Loss\")"
   ]
  },
  {
   "attachments": {},
   "cell_type": "markdown",
   "id": "fef5a163",
   "metadata": {},
   "source": [
    "This section has described how to use the `FixedSizeDataLoder` to batch and train GNNs on the IPU.\n",
    "\n",
    "One limitation of this method is that it requires a large batch size to be efficient: for the smaller batch sizes the amount of padding will need to increase.\n",
    "\n",
    "Another limitation is that the mini-batches are not checked for consistency with the tensor size limits: if the graphs drawn out of the dataset to form the batch are too large for the fixed tensor limits, the dataloader will raise an error and stop during training.\n",
    "\n",
    "These limitations can be overcome by using more advanced batching techniques such as packing. To learn more about how to pack graphs on the IPU see our [Small Graph Batching with Packing tutorial](../4_small_graph_batching_with_packing/4_small_graph_batching_with_packing.ipynb).\n",
    "\n",
    "# Conclusion\n",
    "\n",
    "In this tutorial, we learnt about the fixed sized batching technique which enables us to quickly get started on training GNNs on the IPU. This was done in the context of the QM9 molecular dataset.\n",
    "\n",
    "You should now have a good understanding of:\n",
    " - how to batch graphs and prepare them for training on the IPU using `FixedSizeDataloader`,\n",
    " - how mini-batches are processed and aggregated within GNN models,\n",
    " - how to handle our padded graphs through masking when we calculate our final loss value, to ensure that the padded graphs are not affecting training.\n",
    "\n",
    "For the next steps take a look at our GNN examples which dive into more specific applications using state of the art models: for instance, take a look at our Schnet Notebook, found within: `graph-prediction/schnet-molecular-property-prediction/schnet_training.ipynb`.\n",
    "\n",
    "You can also have a look at more advanced batching techniques specific to the IPU to minimise padding in your mini-batches in our Small Graph Batching with Packing tutorial found within: `learning-pytorch-geometric-on-ipus/4_small_graph_batching_with_packing.ipynb`."
   ]
  }
 ],
 "metadata": {
  "kernelspec": {
   "display_name": "3.2.0+1262_poptorch",
   "language": "python",
   "name": "python3"
  },
  "language_info": {
   "name": "python",
   "version": "3.8.10 (default, Nov 14 2022, 12:59:47) \n[GCC 9.4.0]"
  },
  "traceability": {
   "sdk_version": "3.2.0+1262",
   "source_file": "3_small_graph_batching_with_padding.py",
   "sst_version": "0.0.10",
   "timestamp": "2023-03-13T10:19"
  },
  "vscode": {
   "interpreter": {
    "hash": "4b7133ac454a965c7b25bf17fb22ff5a4b1e3a6d812b3e17a861b05f76606f09"
   }
  }
 },
 "nbformat": 4,
 "nbformat_minor": 5
}
