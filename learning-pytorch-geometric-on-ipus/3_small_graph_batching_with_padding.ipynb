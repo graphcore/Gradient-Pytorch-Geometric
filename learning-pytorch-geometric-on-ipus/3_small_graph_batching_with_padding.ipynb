{
 "cells": [
  {
   "attachments": {},
   "cell_type": "markdown",
   "id": "e6cc2dd4",
   "metadata": {},
   "source": [
    "Copyright (c) 2023 Graphcore Ltd. All rights reserved."
   ]
  },
  {
   "attachments": {},
   "cell_type": "markdown",
   "id": "73625186",
   "metadata": {},
   "source": [
    "# Small Graph Batching on IPUs using Padding\n",
    "\n",
    "Batching is an essential procedure to scale the training of a deep learning model to large quantities of data. This process results in the creation of mini-batches of data, where each mini-batch is a collection of samples that can be processed in a single iteration of the training algorithm.\n",
    "The number of samples grouped in a mini-batch is commonly referred to as 'batch size'.\n",
    "\n",
    "Small graph datasets, which are common in molecular science, contain a varying number of nodes and edges per graph. Large graph datasets are often sampled or clustered which results in differently sized graphs.\n",
    "IPUs can only run a statically compiled model - in other words the size of the tensors used are known at compile time. This means that the sizes of our input samples must be  constant over iterations, rather than dynamically sized as most graph datasets are.\n",
    "There are different strategies to obtain fixed size inputs: in this tutorial we will focus on basic approaches suitable to datasets made up of many small graphs. More advanced techniques applicable to such datasets will be discussed in the `learning-pytorch-geometric-on-ipus/4_small_graph_batching_with_packing.ipynb` tutorial.\n",
    "\n",
    "If you are interested in a large graph use case, have a look at our `node-prediction/cluster_gcn_training.ipynb` example.\n",
    "\n",
    "In this tutorial, you will learn how to:\n",
    "\n",
    "- batch small graphs to accelerate training for GNN models,\n",
    "- obtain fixed size input compatible with IPU usage using a fixed size dataloader to batch the input graphs and then pad the resulting mini-batches,\n",
    "- mask out the added padded items in some operations to ensure that the functionality using the fixed size inputs is not adversely affecting the outcome, so we correctly calculate the loss function on the relevant subgraphs,\n",
    "- use PopTorch to transform and prepare our model for distributed training and inference on IPUs.\n",
    "\n",
    "> This tutorial expects you to have familiarity with GNNs, PopTorch, the PyTorch Geometric library and to understand the IPU's requirement for fixed sized tensors. If this is not the case you may want to go through our introductory tutorials `learning-pytorch-geometric-on-ipus/1_at_a_glance.ipynb` and `learning-pytorch-geometric-on-ipus/2_a_worked_example.ipynb`.\n",
    "> For additional resources on PopTorch please consult the relative [User Guide](https://docs.graphcore.ai/projects/poptorch-user-guide/en/latest/index.html) and [Examples](https://docs.graphcore.ai/en/latest/examples.html#pytorch).\n",
    "\n",
    "## Running on Paperspace\n",
    "\n",
    "The Paperspace environment lets you run this notebook with no set up. To improve your experience we preload datasets and pre-install packages, this can take a few minutes, if you experience errors immediately after starting a session please try restarting the kernel before contacting support. If a problem persists or you want to give us feedback on the content of this notebook, please reach out to through our community of developers using our [slack channel](https://www.graphcore.ai/join-community) or raise a [GitHub issue](https://github.com/graphcore/examples).\n",
    "\n",
    "Requirements:\n",
    "\n",
    "* Python packages installed with `pip install -r ./requirements.txt`"
   ]
  },
  {
   "attachments": {},
   "cell_type": "markdown",
   "id": "0a7451f4",
   "metadata": {},
   "source": [
    "In order to improve usability and support for future users, Graphcore would like to collect information about the\n",
    "applications and code being run in this notebook. The following information will be anonymised before being sent to Graphcore:\n",
    "\n",
    "- User progression through the notebook\n",
    "- Notebook details: number of cells, code being run and the output of the cells\n",
    "- Environment details\n",
    "\n",
    "You can disable logging at any time by running `%unload_ext graphcore_cloud_tools.notebook_logging.gc_logger` from any cell."
   ]
  },
  {
   "cell_type": "code",
   "execution_count": null,
   "id": "1a2e214f",
   "metadata": {},
   "outputs": [],
   "source": [
    "%pip install -r ./requirements.txt\n",
    "%load_ext graphcore_cloud_tools.notebook_logging.gc_logger"
   ]
  },
  {
   "attachments": {},
   "cell_type": "markdown",
   "id": "7baa6f6b",
   "metadata": {},
   "source": [
    "And for compatibility with the Paperspace environment variables we will do the following:"
   ]
  },
  {
   "cell_type": "code",
   "execution_count": null,
   "id": "4b700d0f",
   "metadata": {},
   "outputs": [],
   "source": [
    "import os\n",
    "\n",
    "executable_cache_dir = (\n",
    "    os.getenv(\"POPLAR_EXECUTABLE_CACHE_DIR\", \"/tmp/exe_cache/\") + \"/pyg-padding\"\n",
    ")\n",
    "dataset_directory = os.getenv(\"DATASETS_DIR\", \"data\")"
   ]
  },
  {
   "attachments": {},
   "cell_type": "markdown",
   "id": "e469dbfa",
   "metadata": {},
   "source": [
    "Now we are ready to start!"
   ]
  },
  {
   "attachments": {},
   "cell_type": "markdown",
   "id": "dda1d8ca",
   "metadata": {},
   "source": [
    "## Introduction to small graph structures and the QM9 Dataset\n",
    "\n",
    "A subset of GNN models focus on how to classify and predict properties related to molecules and chemical compounds.\n",
    "These models have many applications within healthcare and chemistry which aim to use graph representations to solve problems within this space.\n",
    "In this tutorial, we accelerate training of these models by batching in order to effectively use the IPU's processing power."
   ]
  },
  {
   "attachments": {},
   "cell_type": "markdown",
   "id": "ddd9b695",
   "metadata": {},
   "source": [
    "## QM9 dataset in PyTorch Geometric\n",
    "\n",
    "The PyTorch Geometric (PyG) package comes bundled with a range of datasets, which we can easily pull and use to experiment with different GNN models. We are going to use the QM9 dataset, a small-graphs dataset which contains 130831 molecules represented as graphs, each with different structures and physical properties.\n",
    "Each molecule is represented as an undirected graph, where its atoms are the nodes of the graphs and the edges connect atoms that are within a given cutoff radius to each other.\n",
    "We can inspect a molecule within the dataset, represented as an instance of a [torch_geometric.data.Data](https://pytorch-geometric.readthedocs.io/en/latest/modules/data.html#torch_geometric.data.Data) object:"
   ]
  },
  {
   "cell_type": "code",
   "execution_count": null,
   "id": "e32dd046",
   "metadata": {},
   "outputs": [],
   "source": [
    "from torch_geometric.datasets import QM9\n",
    "\n",
    "dataset = QM9(root=dataset_directory)\n",
    "print(dataset)\n",
    "print(dataset[2])"
   ]
  },
  {
   "attachments": {},
   "cell_type": "markdown",
   "id": "599888a9",
   "metadata": {},
   "source": [
    "Each molecule contains the following properties:\n",
    "\n",
    "* `z` contains the atomic number for each atom in the molecule. For a molecule with `n` atoms (therefore `n` nodes), the nuclear charges $Z= (Z_1, Z_2, ..., Z_n)$ are stored as a vector of integers of length `num_atoms`\n",
    "* `pos`  is a tensor of real numbers of size `[num_atoms, 3]` which contains the 3D structure of the molecule\n",
    "* `x` contains properties of each atom of size `[num_atoms,11]` as all the nodes in each graph have 11 node features defined. These include measurements such as heat capacity, free energy, internal energy and so on.\n",
    "* `edge_index` contains information relating to how the atoms in each molecule are connected as an adjacency list with size `[2,num_edges]`\n",
    "* `y` contains the 19 regression targets. The HOMO-LUMO energy gap is stored in the 4th column so can be accessed by slicing this tensor using y[:,4]. This information will be useful later on in this tutorial when we will use the QM9 dataset to train our model to predict the HOMO-LUMO energy gap.\n",
    "\n",
    "You can see in the code below that we use the py3Dmol package to visualise the 3D structure of a group of molecules for more insights on our data."
   ]
  },
  {
   "cell_type": "code",
   "execution_count": null,
   "id": "78139224",
   "metadata": {},
   "outputs": [],
   "source": [
    "import ipywidgets\n",
    "import py3Dmol\n",
    "from ipywidgets import interact\n",
    "from periodictable import elements\n",
    "\n",
    "\n",
    "def MolTo3DView(\n",
    "    mol, loader_on, size=(300, 300), style=\"stick\", surface=False, opacity=0.5\n",
    "):\n",
    "    \"\"\"Draw molecule in 3D\n",
    "\n",
    "    Args:\n",
    "    ----\n",
    "        mol: rdMol, molecule to show\n",
    "        size: tuple(int, int), canvas size\n",
    "        style: str, type of drawing molecule\n",
    "               style can be 'line', 'stick', 'sphere', 'carton'\n",
    "        surface, bool, display SAS\n",
    "        opacity, float, opacity of surface, range 0.0-1.0\n",
    "    Return:\n",
    "    ----\n",
    "        viewer: py3Dmol.view, a class for constructing embedded 3Dmol.js views in ipython notebooks.\n",
    "    \"\"\"\n",
    "\n",
    "    assert style in (\"line\", \"stick\", \"sphere\", \"carton\")\n",
    "    viewer = py3Dmol.view(width=size[0], height=size[1])\n",
    "    viewer.addModel(mol, \"mol\")\n",
    "    viewer.setStyle({style: {}})\n",
    "    if surface:\n",
    "        viewer.addSurface(py3Dmol.SAS, {\"opacity\": opacity})\n",
    "    viewer.zoomTo()\n",
    "    return viewer"
   ]
  },
  {
   "attachments": {},
   "cell_type": "markdown",
   "id": "0cab12c9",
   "metadata": {},
   "source": [
    "We need to provide the simple `xyz` format to the `py3Dmo.view` function:"
   ]
  },
  {
   "cell_type": "code",
   "execution_count": null,
   "id": "7e7c7b30",
   "metadata": {},
   "outputs": [],
   "source": [
    "def molecule_converter(datum):\n",
    "    num_atoms = int(datum.z.numel())\n",
    "    xyz = f\"{num_atoms}\\n\\n\"\n",
    "    for i in range(num_atoms):\n",
    "        sym = elements[datum.z[i].item()].symbol\n",
    "        r = datum.pos[i, :].tolist()\n",
    "        line = [sym] + [f\"{i: 0.08f}\" for i in r]\n",
    "        line = \"\\t\".join(line)\n",
    "        xyz += f\"{line}\\n\"\n",
    "    return xyz\n",
    "\n",
    "\n",
    "def conf_viewer(idx):\n",
    "    mol = smi[idx]\n",
    "    return MolTo3DView(mol, loader_on=True, size=(300, 300)).show()\n",
    "\n",
    "\n",
    "bs = 12\n",
    "data_chunk = dataset[0:bs]\n",
    "smi = [molecule_converter(i) for i in data_chunk]\n",
    "interact(conf_viewer, idx=ipywidgets.IntSlider(min=0, max=bs - 1, step=1))"
   ]
  },
  {
   "attachments": {},
   "cell_type": "markdown",
   "id": "aefa4021",
   "metadata": {},
   "source": [
    "The code above allows us to view a subset of graphs in the dataset and interact with the data. By moving the slider we can see that each of the graphs has a different number of nodes and edges, and different physical properties, as shown by the variety of colours of the atoms (nodes) of each molecule.\n",
    "\n",
    "In the next section, we will dive deeper in how to batch together these molecules."
   ]
  },
  {
   "attachments": {},
   "cell_type": "markdown",
   "id": "746dccba",
   "metadata": {},
   "source": [
    "## Mini-batching in PyTorch Geometric\n",
    "\n",
    "\n",
    "Due to the dynamic shape of graphs, batching by concatenation is inefficient since most graphs do not share the same number of nodes or edges.\n",
    "Consider the following set of tensors representing a single graph. When compared to the other tensors representing the other graphs in the dataset you will find that each graph has a different number of nodes but the same number of features. This means that they can not be concatenated along the features' dimension to the mismatch of shapes.\n",
    "\n",
    "![tensors.png](static/tensors.png)\n",
    "\n",
    "The [PyTorch Geometric Dataloader](https://pytorch-geometric.readthedocs.io/en/latest/modules/loader.html#torch_geometric.loader.DataLoader) achieves mini-batching by stacking the adjacency matrices in a diagonal fashion, and by concatenating node and edge features in the node dimension. This creates a larger graph consisting of disconnected subgraphs. More details can be found in the [Advanced Mini-Batching](https://pytorch-geometric.readthedocs.io/en/latest/notes/batching.html) PyTorch Geometric documentation.\n",
    "The dataloader will also generate a  `batch` vector which is used later during training. The `batch` vector assigns each feature in the mini-batch to its respective subgraph. This vector is represented as `Batch` in the figure below.\n",
    "\n",
    "![tensor_2.png](static/tensor_2.png)\n",
    "\n",
    "Using the QM9 dataset and the PyTorch Geometric Dataloader, we can inspect the first few mini-batches created by stacking samples into larger batched graphs. In this example, we will use `batch_size=4`, hence stacking 4 samples in a mini-batch."
   ]
  },
  {
   "cell_type": "code",
   "execution_count": null,
   "id": "f909c4b2",
   "metadata": {},
   "outputs": [],
   "source": [
    "from torch_geometric.data import Data\n",
    "from torch_geometric.loader import DataLoader\n",
    "\n",
    "loader = DataLoader(dataset, batch_size=4)\n",
    "it = iter(loader)\n",
    "next(it), next(it), next(it)"
   ]
  },
  {
   "attachments": {},
   "cell_type": "markdown",
   "id": "24d6ff13",
   "metadata": {},
   "source": [
    "This visualisation shows how 4 molecules per mini-batch are now grouped together to be considered a larger graph made up of subgraphs:\n",
    "\n",
    "![Fixed_dataloader_1.png](static/Fixed_dataloader_1.png)\n",
    "\n",
    "As we can see through our visualisation, and through inspecting the first few mini-batches of our dataloader, each mini-batch has a different shape."
   ]
  },
  {
   "cell_type": "code",
   "execution_count": null,
   "id": "b3bbb4db",
   "metadata": {},
   "outputs": [],
   "source": [
    "for i, batch in zip(range(3), loader):\n",
    "    print(f\"Mini-batch {i} has an x tensor of shape: {batch.x.shape}\")"
   ]
  },
  {
   "attachments": {},
   "cell_type": "markdown",
   "id": "131340d9",
   "metadata": {},
   "source": [
    "The variable size of the input tensors in each mini-batch is incompatible with using IPUs because they require static compilation of the computational graph. We must therefore pad each mini-batch to create statically shaped inputs\n",
    "\n",
    "## Using the fixed size data loader in PopTorch Geometric\n",
    "\n",
    "To process a dataset on the IPU, each mini-batch of graphs needs to have relative tensors of the same size.\n",
    "To achieve that, each mini-batch must be padded to a fixed size, hiding the dynamic shape of the underlying data from the IPU.\n",
    "There are multiple ways to achieve fixed tensor sizes which trade-off implementation complexity with padding efficiency.\n",
    "For this tutorial we will demonstrate the usage of the `FixedSizeDataLoader` class available in [PopTorch Geometric](https://docs.graphcore.ai/projects/poptorch-geometric-user-guide/), the IPU-specific PyTorch Geometric library.\n",
    "\n",
    "### Batching using FixedSizeDataLoader in PopTorch Geometric\n",
    "\n",
    "`FixedSizeDataLoader` can be used to create an IPU-optimised dataloader from non-fixed shape samples by padding the samples to create fixed size mini-batches.\n",
    "This dataloader creates a fixed batch sampler with `batch_size` graphs in each mini-batch. The `num_nodes` and `num_edges` optional arguments allow you to set the total number of nodes and edges in a batch, respectively, to make the batch fixed size and therefore suitable for the IPU.\n",
    "Using `Summary` we can find the maximum number of nodes and edges across the samples.\n",
    "\n",
    "These maximum values will be used later when creating dummy nodes for padding using our dataloader."
   ]
  },
  {
   "cell_type": "code",
   "execution_count": null,
   "id": "bd3968ed",
   "metadata": {},
   "outputs": [],
   "source": [
    "from torch_geometric.data.summary import Summary\n",
    "\n",
    "dataset_summary = Summary.from_dataset(dataset)\n",
    "print(dataset_summary)\n",
    "max_number_of_nodes = int(dataset_summary.num_nodes.max)\n",
    "max_number_of_edges = int(dataset_summary.num_edges.max)\n",
    "print(f\"Max number of nodes in the dataset is: {max_number_of_nodes}\")\n",
    "print(f\"Max number of edges in the dataset is: {max_number_of_edges}\")"
   ]
  },
  {
   "attachments": {},
   "cell_type": "markdown",
   "id": "44d11aa1",
   "metadata": {},
   "source": [
    "A naive approach to decide the `num_nodes` and `num_edges` values to pass to `FixedSizeDataLoader` is to multiply each by our chosen `batch_size`. This strategy ensures that a mini-batch made up of graphs of the largest size in the dataset can still fit when batched together."
   ]
  },
  {
   "cell_type": "code",
   "execution_count": null,
   "id": "98c1e048",
   "metadata": {},
   "outputs": [],
   "source": [
    "batch_size = 128\n",
    "max_num_nodes_per_batch = max_number_of_nodes * batch_size\n",
    "max_num_edges_per_batch = max_number_of_edges * batch_size\n",
    "print(f\"{max_num_nodes_per_batch = }\")\n",
    "print(f\"{max_num_edges_per_batch = }\")"
   ]
  },
  {
   "attachments": {},
   "cell_type": "markdown",
   "id": "da26bfbf",
   "metadata": {},
   "source": [
    "We can pad our mini-batches by creating a new 'null' graph made of dummy nodes and edges that ensures each mini-batch has a fixed size for execution on the IPU.\n",
    "\n",
    "The null graph will have `num_nodes` - $sum(N_i)$ nodes, and `num_edges` - $sum(E_i)$ edges, where $N$ is the number of nodes and $E$ is the number of edges for each subgraph $i$ in the mini-batch.\n",
    "\n",
    "Since $sum(N_i)$ and $sum(E_i)$ will be different depending on the size of the molecules in each batch, each null graph will be the size of the remaining number of nodes and edges required to fill to the maximum values set."
   ]
  },
  {
   "attachments": {},
   "cell_type": "markdown",
   "id": "e51a66cc",
   "metadata": {},
   "source": [
    "We also need to make sure that `edge_index` has a fixed size, so it needs padding too. As this entity represents the graph connectivity we need to be careful to avoid connecting the dummy edges to the real subgraphs' nodes.\n",
    "So we connect the dummy edges to the null graph instead, specifically adding them as a self-loop on one of its nodes.\n",
    "\n",
    "The null graph is visualised by the nodes in the green circle which have been added to the visualisation below.\n",
    "\n",
    "![Fixed_dataloader_2.png](static/Fixed_dataloader_2.png)"
   ]
  },
  {
   "attachments": {},
   "cell_type": "markdown",
   "id": "3622c366",
   "metadata": {},
   "source": [
    "We can achieve all this by using the PopTorch Geometric `FizedSizeDataLoader` with the numbers of nodes and edges we have calculated which will make the batches produced by the data loader up to these specified sizes."
   ]
  },
  {
   "cell_type": "code",
   "execution_count": null,
   "id": "f5fd65e2",
   "metadata": {},
   "outputs": [],
   "source": [
    "from poptorch_geometric import FixedSizeDataLoader, FixedSizeOptions\n",
    "\n",
    "ipu_dataloader = FixedSizeDataLoader(\n",
    "    dataset,\n",
    "    batch_size=batch_size,\n",
    "    fixed_size_options=FixedSizeOptions(\n",
    "        num_nodes=max_num_nodes_per_batch,\n",
    "        num_edges=max_num_edges_per_batch,\n",
    "        num_graphs=batch_size,\n",
    "    ),\n",
    ")"
   ]
  },
  {
   "attachments": {},
   "cell_type": "markdown",
   "id": "c5c0f8b0",
   "metadata": {},
   "source": [
    "And take a look at the batch it produces:"
   ]
  },
  {
   "cell_type": "code",
   "execution_count": null,
   "id": "4b674445",
   "metadata": {},
   "outputs": [],
   "source": [
    "sample = next(iter(ipu_dataloader))\n",
    "print(sample)\n",
    "print(\"Shape of y:\", sample.y.shape)"
   ]
  },
  {
   "attachments": {},
   "cell_type": "markdown",
   "id": "79500845",
   "metadata": {},
   "source": [
    "As you can see from the output of each sample, we now have `batch_size` subgraphs in each mini-batch, with sizes corresponding to our calculated maximum number of nodes and edges in a batch.\n",
    "\n",
    "Here we have gone through the theory of what it means for batches to be padded to fixed size. We can also let PopTorch Geometric handle many of these steps for us, creating the data loader as follows:"
   ]
  },
  {
   "cell_type": "code",
   "execution_count": null,
   "id": "a7cdb2d5",
   "metadata": {},
   "outputs": [],
   "source": [
    "ipu_dataloader = FixedSizeDataLoader(dataset, batch_size=batch_size)"
   ]
  },
  {
   "attachments": {},
   "cell_type": "markdown",
   "id": "b734fa6a",
   "metadata": {},
   "source": [
    "In this case, the number of nodes and edges to pad to will be gathered from the dataset automatically, in much the same way as the steps we have followed above.\n",
    "\n",
    "Now that we have our data loader, let's see how we train a model using it."
   ]
  },
  {
   "attachments": {},
   "cell_type": "markdown",
   "id": "928b3119",
   "metadata": {},
   "source": [
    "### Training on the IPU using the Fixed Sized Dataloader in PopTorch Geometric\n",
    "\n",
    "Our aim is to train a model on the IPU with the QM9 dataset to predict the HOMO-LUMO energy gap. To do so, we will use a classic GCN operator.\n",
    "\n",
    "GNNs rely on a message passing scheme which aggregates connected nodes. Information is not propagated across disconnected subgraphs in each mini-batch as the operation is only executed along connected nodes.\n",
    "The pooling layers perform a final aggregation of the node embeddings, which enables us to flatten the subgraphs to a single value in order to calculate the loss.\n",
    "The 'batch' variable is used here to allow us to aggregate the appropriate node embeddings for each subgraph, processing each subgraph as linearly separable samples."
   ]
  },
  {
   "cell_type": "code",
   "execution_count": null,
   "id": "5a39d257",
   "metadata": {},
   "outputs": [],
   "source": [
    "import torch\n",
    "import torch.nn.functional as F\n",
    "from torch.nn import Linear\n",
    "from torch_geometric.nn import GCNConv, global_mean_pool\n",
    "\n",
    "\n",
    "class GcnForBatching(torch.nn.Module):\n",
    "    def __init__(self, hidden_channels, batch_size):\n",
    "        super(GcnForBatching, self).__init__()\n",
    "        torch.manual_seed(1234)\n",
    "        self.conv = GCNConv(dataset.num_features, hidden_channels, add_self_loops=False)\n",
    "        self.lin = Linear(hidden_channels, dataset.num_classes)\n",
    "        self.batch_size = batch_size  # includes the padding graph\n",
    "\n",
    "    def forward(self, x, edge_index, y, batch):\n",
    "        # 1. Obtain node embeddings\n",
    "        x = self.conv(x, edge_index).relu()\n",
    "        # 2. Pooling layer\n",
    "        x = global_mean_pool(x, batch, size=self.batch_size)\n",
    "        # 3. Apply a final classifier\n",
    "        x = F.dropout(x, p=0.5, training=self.training)\n",
    "        x = self.lin(x)\n",
    "\n",
    "        if self.training:\n",
    "            return F.mse_loss(\n",
    "                x[: (self.batch_size - 1)], y[: (self.batch_size - 1)]\n",
    "            )  # mask out the null graph from the loss\n",
    "        return x"
   ]
  },
  {
   "attachments": {},
   "cell_type": "markdown",
   "id": "51ec4fc9",
   "metadata": {},
   "source": [
    "During the pooling step, we reduce the number of dimensions of each of the subgraphs down to (`batch_size`,`1`) which denotes the number of subgraphs per mini-batch (including the null graph) and the regression value per subgraph.\n",
    "\n",
    "So when we calculate the loss in this instance, we must mask out the last sample from the mini-batch which is the null graph. This ensures that we only include the valid subgraphs when calculating the loss value which will be used to adjust the weights during backpropagation.\n",
    "\n",
    "Now that we have put together our model using PyTorch Geometric, we can use PopTorch to enable model training on the IPU:"
   ]
  },
  {
   "cell_type": "code",
   "execution_count": null,
   "id": "bcbf355d",
   "metadata": {},
   "outputs": [],
   "source": [
    "import poptorch\n",
    "\n",
    "model = GcnForBatching(hidden_channels=16, batch_size=batch_size)\n",
    "optim = poptorch.optim.Adam(model.parameters(), lr=0.001)\n",
    "poptorch_model = poptorch.trainingModel(\n",
    "    model,\n",
    "    optimizer=optim,\n",
    "    options=poptorch.Options().enableExecutableCaching(executable_cache_dir),\n",
    ")\n",
    "poptorch_model"
   ]
  },
  {
   "attachments": {},
   "cell_type": "markdown",
   "id": "41bb96fa",
   "metadata": {},
   "source": [
    "We are now ready to run training on our model using `FixedSizeDataLoader` and the PopTorch model on the IPU.\n",
    "\n",
    "This training function is flexible, and can be executed on both the CPU and IPU, depending on which model is selected in the training loop.\n",
    "\n",
    "Using the PopTorch model we run on the IPU as follows:"
   ]
  },
  {
   "cell_type": "code",
   "execution_count": null,
   "id": "30ec2e43",
   "metadata": {},
   "outputs": [],
   "source": [
    "poptorch_model.train()\n",
    "loss_per_epoch = []\n",
    "\n",
    "for epoch in range(0, 3):\n",
    "    total_loss = 0\n",
    "\n",
    "    for data in ipu_dataloader:\n",
    "        loss = poptorch_model(data.x, data.edge_index, data.y, data.batch)\n",
    "        total_loss += loss\n",
    "        optim.zero_grad()\n",
    "\n",
    "    loss_this_epoch = total_loss / len(dataset)\n",
    "    loss_per_epoch.append(loss_this_epoch)\n",
    "    print(\"Epoch:\", epoch, \" Training Loss: \", loss_this_epoch)"
   ]
  },
  {
   "attachments": {},
   "cell_type": "markdown",
   "id": "a4d308c6",
   "metadata": {},
   "source": [
    "To understand how the training of our model is progressing per epoch, we can create a loss plot:"
   ]
  },
  {
   "cell_type": "code",
   "execution_count": null,
   "id": "bd3c581d",
   "metadata": {},
   "outputs": [],
   "source": [
    "import matplotlib.pyplot as plt\n",
    "\n",
    "plt.figure()\n",
    "plt.plot(loss_per_epoch)\n",
    "plt.title(\"Loss per epoch using the Fixed Sized Dataloader\")\n",
    "plt.xlabel(\"Epoch\")\n",
    "plt.ylabel(\"Loss\")"
   ]
  },
  {
   "attachments": {},
   "cell_type": "markdown",
   "id": "c90f4505",
   "metadata": {},
   "source": [
    "This section has described how to use the `FixedSizeDataLoder` to batch and train GNNs on the IPU.\n",
    "\n",
    "One limitation of this method is that it requires a large batch size to be efficient: for the smaller batch sizes the amount of padding will need to increase.\n",
    "\n",
    "Another limitation is that the mini-batches are not checked for consistency with the tensor size limits: if the graphs drawn out of the dataset to form the batch are too large for the fixed tensor limits, the dataloader will raise an error and stop during training.\n",
    "\n",
    "These limitations can be overcome by using more advanced batching techniques such as packing. To learn more about how to pack graphs on the IPU see our `learning-pytorch-geometric-on-ipus/4_small_graph_batching_with_packing.ipynb` tutorial.\n",
    "\n",
    "# Conclusion\n",
    "\n",
    "In this tutorial, we learnt about the fixed sized batching technique which enables us to quickly get started on training GNNs on the IPU. This was done in the context of the QM9 molecular dataset.\n",
    "\n",
    "You should now have a good understanding of:\n",
    " - how to batch graphs and prepare them for training on the IPU using `FixedSizeDataloader`,\n",
    " - how mini-batches are processed and aggregated within GNN models,\n",
    " - how to handle our padded graphs through masking when we calculate our final loss value, to ensure that the padded graphs are not affecting training.\n",
    "\n",
    "For the next steps take a look at our GNN examples which dive into more specific applications using state of the art models: for instance, take a look at our Schnet Notebook, found within: `graph-prediction/schnet-molecular-property-prediction/schnet_training.ipynb`."
   ]
  }
 ],
 "metadata": {
  "language_info": {
   "name": "python"
  }
 },
 "nbformat": 4,
 "nbformat_minor": 5
}
