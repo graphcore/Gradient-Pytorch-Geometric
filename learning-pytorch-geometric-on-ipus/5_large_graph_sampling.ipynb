{
 "cells": [
  {
   "attachments": {},
   "cell_type": "markdown",
   "id": "d2b361bf",
   "metadata": {},
   "source": [
    "Copyright (c) 2023 Graphcore Ltd. All rights reserved."
   ]
  },
  {
   "attachments": {},
   "cell_type": "markdown",
   "id": "1847b0b2",
   "metadata": {},
   "source": [
    "# Sampling large graphs on IPUs using PyTorch Geometric\n",
    "\n",
    "\n",
    "\n",
    "[![Run on Gradient](../../gradient-badge.svg)](https://console.paperspace.com/github/<runtime-repo>?machine=Free-IPU-POD4&container=<dockerhub-image>&file=<path-to-file-in-repo>)  [![Join our Slack Community](https://img.shields.io/badge/Slack-Join%20Graphcore's%20Community-blue?style=flat-square&logo=slack)](https://www.graphcore.ai/join-community)\n",
    "\n",
    ">### Link for the Run on Gradient button\n",
    "\n",
    "> Once the notebook is available on Paperspace Gradient we like to have a \"Run on Gradient\" button. The link for the button needs to be configured. The example above shows the convention for how to form the link. \n",
    "\n",
    "> - The SVG image file for the button should be a local file in the repo (as shown in the example above). You can also use the [image file on Paperspace](https://assets.paperspace.io/img/gradient-badge.svg) but this is not reliable as Github's caching occasionally breaks.\n",
    "> - `<runtime-repo>` represents the \"organisation/repository-name\" of the public repository that contains the notebook.\n",
    "> - `<dockerhub-image>` is the name and tag of a public Docker Hub container.\n",
    "> - `<path-to-file-in-repo>` is the location of the notebook inside the repo starting with a leading `/`.\n",
    ">\n",
    "> Note the part after the `?` in the link needs to be URL-encoded. You can use an online [URL encoder](https://www.urlencoder.org/) or you can use the [Paperspace link builder](https://docs.paperspace.com/gradient/notebooks/run-on-gradient/).\n",
    ">\n",
    "> Example of a fully-formed link for the \"Run on Gradient\" button:\n",
    "> https://console.paperspace.com/github/gradient-ai/Graphcore-Pytorch?machine=Free-IPU-POD4&container=graphcore/pytorch-jupyter:3.1.0-ubuntu-20.04-20230104&file=/temporal-graph-networks/Train_TGN.ipynb\n",
    "\n",
    "In the previous tutorials we have been focusing on working with datasets comprising many small graphs. For some modern applications, however, we will need to operate on larger graphs characterised by increasing number of nodes (range 10M-10B) and edges (range 100M-100B): imagine having to build a recommendation system for a social network type of input graph, which can be constituted by a huge number of users (nodes) and relationships (edges). \n",
    "\n",
    "We might think of two routes to approach large graph problems:\n",
    "- full batch training: this is the approach we have been using in [Tutorial 2](https://ipu.dev/O2u8MZ) when working with a single, relatively small graph. The aim is to generate embeddings for all the nodes at the same time: this entails keeping in memory the entire graph as well as all the node embeddings. If the size of the computational graph increases, the amount of memory required to hold graph and embeddings become challenging for modern accelerators. \n",
    "- mini-batching: alternatively, we can sample mini-batches from the graph similarly to what we did in [Tutorial 3](https://ipu.dev/azOCIN) or [Tutorial 4](https://ipu.dev/lDMtKe) where the dataset was a collection of many small graphs. When sampling from a larger graph, however, we need to be extra careful to reduce the chances of the sampled nodes to be isolated from each other. Should that be the case, the mini-batches would no longer be representative of the whole graph which would negatively impact our machine learning task. The need here is to engineer effective sampling methods to make sure that the message passing scheme is still effective with large graphs. \n",
    "\n",
    "In this tutorial, we will demonstrate two approaches widely used in literature to cope with increasing graph size by performing message passage over mini-batches. We will leverage the Graphcore IPU architecture, which is a great fit for GNNs applications as explained in this [blog post](https://www.graphcore.ai/posts/accelerating-pyg-on-ipus-unleash-the-power-of-graph-neural-networks), and the PyTorch Geometric (PyG) integration for IPUs. You will learn how to: \n",
    "- effectively cluster nodes of your input graph; \n",
    "- sample neighbouring nodes of your input graph; \n",
    "- then, for both sampling methods, train your GNN on IPUs to classify papers from the PubMed dataset.\n",
    "\n",
    "This notebook assumes some familiarity with PopTorch as well as PyTorch Geometric (PyG). For additional resources please consult:\n",
    "- [PopTorch Documentation](https://docs.graphcore.ai/projects/poptorch-user-guide/en/latest/index.html),\n",
    "- [PopTorch Examples and Tutorials](https://docs.graphcore.ai/en/latest/examples.html#pytorch),\n",
    "- [PyTorch Geometric](https://pytorch-geometric.readthedocs.io/en/latest/),\n",
    "- [PopTorch Geometric Documentation](https://docs.graphcore.ai/projects/poptorch-geometric-user-guide/en/latest/index.html).\n",
    "\n",
    "[![Join our Slack\n",
    "Community](https://img.shields.io/badge/Slack-Join%20Graphcore's%20Community-blue?style=flat-square&logo=slack)](https://www.graphcore.ai/join-community)"
   ]
  },
  {
   "cell_type": "code",
   "execution_count": 1,
   "id": "0279f464",
   "metadata": {},
   "outputs": [],
   "source": [
    "# Make imported python modules automatically reload when the files are changed\n",
    "# needs to be before the first import.\n",
    "%load_ext autoreload\n",
    "%autoreload 2\n",
    "# TODO: remove at the end of notebook development"
   ]
  },
  {
   "attachments": {},
   "cell_type": "markdown",
   "id": "db890f52",
   "metadata": {},
   "source": [
    "## Environment setup\n",
    "\n",
    "The best way to run this demo is on Paperspace Gradient's cloud IPUs because everything is already set up for you. To run the demo using other IPU hardware, you need to have the Poplar SDK enabled and the latest PopTorch Geometric wheel installed. Refer to the [getting started guide](https://docs.graphcore.ai/en/latest/getting-started.html#getting-started) for your system for details on how to enable the Poplar SDK and install the PopTorch wheels."
   ]
  },
  {
   "attachments": {},
   "cell_type": "markdown",
   "id": "fbe9927c",
   "metadata": {},
   "source": [
    "> You can install requirements directly from a notebook. You can:\n",
    ">\n",
    "> 1. Run commands by starting the line in a code cell with `!`, as shown in the first code block below. \n",
    "> 2. Install Python requirements with the `%pip` [magic command](https://ipython.readthedocs.io/en/stable/interactive/magics.html).\n",
    "> \n",
    "> Use these methods to make it easier for your user to set up the environment they need."
   ]
  },
  {
   "cell_type": "code",
   "execution_count": 2,
   "id": "5c72d24a",
   "metadata": {},
   "outputs": [
    {
     "name": "stdout",
     "output_type": "stream",
     "text": [
      "Note: you may need to restart the kernel to use updated packages.\n"
     ]
    }
   ],
   "source": [
    "%pip install -q -r requirements.txt"
   ]
  },
  {
   "attachments": {},
   "cell_type": "markdown",
   "id": "b33a842f",
   "metadata": {},
   "source": [
    "To make it easier for you to run this tutorial, we read in some configuration related to the environment you are running the notebook in."
   ]
  },
  {
   "cell_type": "code",
   "execution_count": 3,
   "id": "965ca0a6",
   "metadata": {},
   "outputs": [],
   "source": [
    "import os\n",
    "\n",
    "dataset_directory = os.getenv(\"DATASETS_DIR\", \"data\")"
   ]
  },
  {
   "attachments": {},
   "cell_type": "markdown",
   "id": "3da127aa",
   "metadata": {},
   "source": [
    "## Clustering the computation graph for node classification\n",
    "\n",
    "The idea behind this method is that we can sample the entire input graph in smaller sub-graphs that individually fit in memory and on which we can calculate layer-wise embeddings, performing message passing on one sub-graph at the time.\n",
    "The sub-graph should also retain the connectivity of the original graph to avoid information loss: to achieve that we make sure that the small communities the original graph is made up of are mirrored in the generated sub-graphs.\n",
    "\n",
    "A well known approach is [Cluster-GCN](https://arxiv.org/abs/1905.07953). The steps are:\n",
    "- pre-processing: given a large graph, we partition it into group of nodes we name sub-graphs.\n",
    "- mini-batch training: we load one sub-graph at the time in the device memory and apply message passing over it to compute the loss.\n",
    "\n",
    "You can also check out our dedicated [Cluster-GCN example.](https://ipu.dev/PmAtSw)"
   ]
  },
  {
   "attachments": {},
   "cell_type": "markdown",
   "id": "a3efcc79",
   "metadata": {},
   "source": [
    "### Cluster-GCN in PyG on IPUs\n",
    "\n",
    "First, let's load the `PubMed` dataset from the `Planetoid` node classification benchmarking suite and print some statistics about it."
   ]
  },
  {
   "cell_type": "code",
   "execution_count": 4,
   "id": "ed8b9c02",
   "metadata": {},
   "outputs": [
    {
     "name": "stdout",
     "output_type": "stream",
     "text": [
      "Dataset: PubMed() \n",
      "Number of graphs: 1: \n",
      "Number of features: 500 \n",
      "Number of classes: 3 \n",
      "Data(x=[19717, 500], edge_index=[2, 108365], y=[19717], train_mask=[19717], val_mask=[19717], test_mask=[19717])\n",
      "Total number of nodes: 19717\n",
      "Total number of edges: 108365\n"
     ]
    }
   ],
   "source": [
    "import torch\n",
    "from torch_geometric.datasets import Planetoid\n",
    "import torch_geometric.transforms as T\n",
    "\n",
    "transform = T.Compose([T.NormalizeFeatures(), T.AddSelfLoops()])\n",
    "\n",
    "dataset = Planetoid(root=dataset_directory, name=\"PubMed\", transform=transform)\n",
    "data = dataset[0]  # Access the graph as Data object\n",
    "\n",
    "print(f\"Dataset: {dataset} \")\n",
    "print(f\"Number of graphs: {len(dataset)}: \")\n",
    "print(f\"Number of features: {dataset.num_features} \")\n",
    "print(f\"Number of classes: {dataset.num_classes} \")\n",
    "\n",
    "print(data)\n",
    "\n",
    "print(f\"Total number of nodes: {data.num_nodes}\")\n",
    "print(f\"Total number of edges: {data.num_edges}\")"
   ]
  },
  {
   "attachments": {},
   "cell_type": "markdown",
   "id": "72793ce7",
   "metadata": {},
   "source": [
    "The dataset consists of 19717 scientific publications from the PubMed database relative to diabetes classified into one of three classes. This is not a huge dataset, but it will serve our purpose to demonstrate the sampling approaches. \n",
    "Let's now proceed with the clustering. The first step is to use `ClusterData` to partition our `Data` object into `num_clusters` clusters: under the hood it leverages the METIS algorithm to obtain the split."
   ]
  },
  {
   "cell_type": "code",
   "execution_count": 11,
   "id": "47b5129e",
   "metadata": {},
   "outputs": [
    {
     "name": "stdout",
     "output_type": "stream",
     "text": [
      "The dataset has been split in 100 clusters\n"
     ]
    }
   ],
   "source": [
    "from torch_geometric.loader import ClusterData, ClusterLoader\n",
    "\n",
    "num_clusters = 100\n",
    "clusters_per_batch = 10\n",
    "\n",
    "cluster_data = ClusterData(\n",
    "    data, num_parts=num_clusters, recursive=False, save_dir=dataset_directory\n",
    ")\n",
    "\n",
    "print(f\"The dataset has been split in {len(cluster_data)} clusters\")"
   ]
  },
  {
   "attachments": {},
   "cell_type": "markdown",
   "id": "c6730e63",
   "metadata": {},
   "source": [
    "We can now inspect the composition of a couple of clusters, for example:"
   ]
  },
  {
   "cell_type": "code",
   "execution_count": 6,
   "id": "a555d17c",
   "metadata": {},
   "outputs": [
    {
     "data": {
      "text/plain": [
       "(Data(x=[196, 500], y=[196], train_mask=[196], val_mask=[196], test_mask=[196], edge_index=[2, 626]),\n",
       " Data(x=[202, 500], y=[202], train_mask=[202], val_mask=[202], test_mask=[202], edge_index=[2, 706]))"
      ]
     },
     "execution_count": 6,
     "metadata": {},
     "output_type": "execute_result"
    }
   ],
   "source": [
    "cluster_data[50], cluster_data[60]"
   ]
  },
  {
   "attachments": {},
   "cell_type": "markdown",
   "id": "f13cbeae",
   "metadata": {},
   "source": [
    "You will observe how each cluster contains a different number of nodes and edges, which we will need to keep in mind when preparing the mini-batches to feed into the IPU. The IPU relies on Ahead-Of-Time (AOT) compilation hence it needs the input tensors to be fixed sizes. The mini-batches that we will load onto the IPU will be the result of combining clusters together, hence each mini-batch will have a different size.  We need to make sure that the mini-batches are fixed in size so they can be loaded correctly into the IPU. \n",
    "\n",
    "As first step to achieve fixed sizes for the IPU we can use the PyG `ClusterLoader` which implements the stochastic partitioning scheme in CLuster-GCN. "
   ]
  },
  {
   "cell_type": "code",
   "execution_count": 17,
   "id": "7b9bd05c",
   "metadata": {},
   "outputs": [
    {
     "name": "stdout",
     "output_type": "stream",
     "text": [
      "next(dynamic_dataloader_iter) = Data(x=[1948, 500], y=[1948], train_mask=[1948], val_mask=[1948], test_mask=[1948], edge_index=[2, 7104])\n",
      "next(dynamic_dataloader_iter) = Data(x=[1968, 500], y=[1968], train_mask=[1968], val_mask=[1968], test_mask=[1968], edge_index=[2, 8366])\n"
     ]
    }
   ],
   "source": [
    "dynamic_size_dataloader = ClusterLoader(\n",
    "    cluster_data,\n",
    "    batch_size=clusters_per_batch,\n",
    ")\n",
    "\n",
    "dynamic_dataloader_iter = iter(dynamic_size_dataloader)\n",
    "print(f\"{next(dynamic_dataloader_iter) = }\")\n",
    "print(f\"{next(dynamic_dataloader_iter) = }\")"
   ]
  },
  {
   "attachments": {},
   "cell_type": "markdown",
   "id": "220a759d",
   "metadata": {},
   "source": [
    "Next, we leverage the information contained in our mini-batches to calculate the maximum number of nodes and edges to apply to our fixed size mini-batches for the IPU. To do so, we can use the helper method `FixedSizeOptions.from_loader` which handles this calculation by sampling the dynamic data loader under the hood for us. Then, it will initialise a `FixedSizeOption` object that we can use at a later stage to pad our mini-batches up to the calculated fixed size. "
   ]
  },
  {
   "cell_type": "code",
   "execution_count": 18,
   "id": "a1da87a2",
   "metadata": {},
   "outputs": [],
   "source": [
    "import poptorch\n",
    "from poptorch_geometric import FixedSizeOptions, OverSizeStrategy\n",
    "\n",
    "fixed_size_options = FixedSizeOptions.from_loader(dynamic_size_dataloader, sample_limit=10)"
   ]
  },
  {
   "attachments": {},
   "cell_type": "markdown",
   "id": "2b3edafb",
   "metadata": {},
   "source": [
    "To comply with the AOT compilation requirement on IPUs we will use `FixedSizeClusterLoader` from PopTorch Geometric: it will produce fixed size mini-batches by padding to the previously calculated maximum number of nodes and edges. "
   ]
  },
  {
   "cell_type": "code",
   "execution_count": 19,
   "id": "4665571e",
   "metadata": {},
   "outputs": [],
   "source": [
    "from poptorch_geometric.cluster_loader import FixedSizeClusterLoader\n",
    "\n",
    "train_dataloader = FixedSizeClusterLoader(\n",
    "    cluster_data,\n",
    "    batch_size=clusters_per_batch,\n",
    "    fixed_size_options=fixed_size_options,\n",
    "    over_size_strategy=OverSizeStrategy.TrimNodesAndEdges,\n",
    "    num_workers=8,\n",
    ")"
   ]
  },
  {
   "attachments": {},
   "cell_type": "markdown",
   "id": "aa8c3ef2",
   "metadata": {},
   "source": [
    "Let's now inspect a couple of mini-batches loaded by the dataloader:"
   ]
  },
  {
   "cell_type": "code",
   "execution_count": 20,
   "id": "6aae8c34",
   "metadata": {},
   "outputs": [
    {
     "name": "stdout",
     "output_type": "stream",
     "text": [
      "next(train_dataloader_iter) = DataBatch(x=[1996, 500], edge_index=[2, 14891], y=[1996], batch=[1996], edges_mask=[14891], graphs_mask=[2], nodes_mask=[1996], ptr=[3], test_mask=[1996], train_mask=[1996], val_mask=[1996], num_nodes=1996, num_edges=14891)\n",
      "next(train_dataloader_iter) = DataBatch(x=[1996, 500], edge_index=[2, 14891], y=[1996], batch=[1996], edges_mask=[14891], graphs_mask=[2], nodes_mask=[1996], ptr=[3], test_mask=[1996], train_mask=[1996], val_mask=[1996], num_nodes=1996, num_edges=14891)\n"
     ]
    }
   ],
   "source": [
    "train_dataloader_iter = iter(train_dataloader)\n",
    "print(f\"{next(train_dataloader_iter) = }\")\n",
    "print(f\"{next(train_dataloader_iter) = }\")"
   ]
  },
  {
   "attachments": {},
   "cell_type": "markdown",
   "id": "f3587482",
   "metadata": {},
   "source": [
    "As expected, we can appreciate how each mini-batch has the same number of nodes and edges that we specified earlier (610 and 3006 respectively). All the tensor shapes are consistent across mini-batches too. Now that we have clustered and loaded the data compatibly with the AOT requirements of the IPU, the next step is to train a GNN model to classify the papers in our dataset."
   ]
  },
  {
   "attachments": {},
   "cell_type": "markdown",
   "id": "10c6a0e7",
   "metadata": {},
   "source": [
    "### Training a GNN to classify papers in the PubMed dataset\n",
    "\n",
    "The first step is to define a GNN model to carry out our classification task. We can easily re-use one of the models we defined in the previous tutorials, for example a simple GCN-based one, as using clustering does not impact model definition:"
   ]
  },
  {
   "cell_type": "code",
   "execution_count": 21,
   "id": "a23bd665",
   "metadata": {},
   "outputs": [],
   "source": [
    "import torch.nn.functional as F\n",
    "from torch.nn import Linear\n",
    "from torch_geometric.nn import GCNConv\n",
    "\n",
    "\n",
    "class GCN(torch.nn.Module):\n",
    "    def __init__(self, in_channels, out_channels) -> None:\n",
    "        super(GCN, self).__init__()\n",
    "        torch.manual_seed(1234)\n",
    "        self.conv1 = GCNConv(in_channels, 64, add_self_loops=False)\n",
    "        self.conv2 = GCNConv(64, out_channels, add_self_loops=False)\n",
    "\n",
    "    def forward(self, x, edge_index, train_mask=None, y=None):\n",
    "        x = self.conv1(x, edge_index).relu()\n",
    "        x = F.dropout(x, p=0.5, training=self.training)\n",
    "        x = self.conv2(x, edge_index)\n",
    "        x = F.log_softmax(x, dim=-1)\n",
    "\n",
    "        if self.training:\n",
    "            y = torch.where(train_mask, y, -100)\n",
    "            loss = F.nll_loss(x, y)\n",
    "            return x, loss\n",
    "        return x"
   ]
  },
  {
   "attachments": {},
   "cell_type": "markdown",
   "id": "4e8c6c9e",
   "metadata": {},
   "source": [
    "We can now create the PopTorch model and train it on the IPU:"
   ]
  },
  {
   "cell_type": "code",
   "execution_count": 22,
   "id": "d8cd7d02",
   "metadata": {},
   "outputs": [
    {
     "data": {
      "text/plain": [
       "GCN(\n",
       "  (conv1): GCNConv(500, 64)\n",
       "  (conv2): GCNConv(64, 3)\n",
       ")"
      ]
     },
     "execution_count": 22,
     "metadata": {},
     "output_type": "execute_result"
    }
   ],
   "source": [
    "model = GCN(dataset.num_features, dataset.num_classes)\n",
    "model"
   ]
  },
  {
   "cell_type": "code",
   "execution_count": 24,
   "id": "55598993",
   "metadata": {},
   "outputs": [
    {
     "data": {
      "text/plain": [
       "=================================================================\n",
       "Layer (type:depth-idx)                   Param #\n",
       "=================================================================\n",
       "PoplarExecutor                           --\n",
       "├─GCNConv: 1-1                           64\n",
       "│    └─SumAggregation: 2-1               --\n",
       "│    └─Linear: 2-2                       32,000\n",
       "├─GCNConv: 1-2                           3\n",
       "│    └─SumAggregation: 2-3               --\n",
       "│    └─Linear: 2-4                       192\n",
       "=================================================================\n",
       "Total params: 32,259\n",
       "Trainable params: 32,259\n",
       "Non-trainable params: 0\n",
       "================================================================="
      ]
     },
     "execution_count": 24,
     "metadata": {},
     "output_type": "execute_result"
    }
   ],
   "source": [
    "from torchinfo import summary\n",
    "\n",
    "model.train()\n",
    "optimizer = torch.optim.AdamW(model.parameters(), lr=0.005)\n",
    "poptorch_model = poptorch.trainingModel(model, optimizer=optimizer)\n",
    "\n",
    "summary(poptorch_model)"
   ]
  },
  {
   "attachments": {},
   "cell_type": "markdown",
   "id": "4ad831c7",
   "metadata": {},
   "source": [
    "Training loop looks like this:"
   ]
  },
  {
   "cell_type": "code",
   "execution_count": 25,
   "id": "9fcc98e5",
   "metadata": {},
   "outputs": [
    {
     "name": "stderr",
     "output_type": "stream",
     "text": [
      "  0%|          | 0/10 [00:00<?, ?it/s][17:17:26.328] [poptorch:cpp] [warning] [DISPATCHER] Type coerced from Long to Int for tensor id 8\n",
      "[17:17:26.330] [poptorch:cpp] [warning] [DISPATCHER] Type coerced from Long to Int for tensor id 10\n",
      "[17:17:26.364] [poptorch:cpp] [warning] %108 : float = prim::Constant() # /tmp/ipykernel_1329306/4056117028.py:14:0: torch.float64 constant cannot be represented as a torch.float32\n",
      "[17:17:26.364] [poptorch:cpp] [warning] %234 : float = prim::Constant() # /tmp/ipykernel_1329306/4056117028.py:16:0: torch.float64 constant cannot be represented as a torch.float32\n",
      "Graph compilation: 100%|██████████| 100/100 [00:27<00:00]\n",
      "Epoch 0 training loss: 1.133840: 100%|██████████| 10/10 [00:30<00:00,  3.06s/it]\n",
      "Epoch 1 training loss: 1.121540: 100%|██████████| 10/10 [00:40<00:00,  4.02s/it]\n",
      "Epoch 2 training loss: 1.100346: 100%|██████████| 10/10 [00:00<00:00, 92.18it/s]\n",
      "Epoch 3 training loss: 1.067632: 100%|██████████| 10/10 [00:00<00:00, 98.21it/s]\n",
      "Epoch 4 training loss: 1.035020: 100%|██████████| 10/10 [00:00<00:00, 89.61it/s]\n"
     ]
    }
   ],
   "source": [
    "from tqdm import tqdm\n",
    "\n",
    "num_epochs = 5\n",
    "train_losses = torch.empty(num_epochs, len(train_dataloader))\n",
    "\n",
    "for epoch in range(num_epochs):\n",
    "    bar = tqdm(train_dataloader)\n",
    "    for i, data in enumerate(bar):\n",
    "        _, mini_batch_loss = poptorch_model(\n",
    "            data.x, data.edge_index, data.train_mask, data.y\n",
    "        )\n",
    "        train_losses[epoch, i] = float(mini_batch_loss.mean())\n",
    "        bar.set_description(\n",
    "            f\"Epoch {epoch} training loss: {train_losses[epoch, i].item():0.6f}\"\n",
    "        )"
   ]
  },
  {
   "attachments": {},
   "cell_type": "markdown",
   "id": "1990afca",
   "metadata": {},
   "source": [
    "We can now detach the training model from the IPU:"
   ]
  },
  {
   "cell_type": "code",
   "execution_count": 26,
   "id": "9f3d8714",
   "metadata": {},
   "outputs": [],
   "source": [
    "poptorch_model.detachFromDevice()"
   ]
  },
  {
   "attachments": {},
   "cell_type": "markdown",
   "id": "b03f16bc",
   "metadata": {},
   "source": [
    "Finally we can plot the mean of the loss to verify it decreases nicely:"
   ]
  },
  {
   "cell_type": "code",
   "execution_count": 27,
   "id": "5e4e88ca",
   "metadata": {},
   "outputs": [
    {
     "data": {
      "image/png": "[encoded data removed]",
      "text/plain": [
       "<Figure size 960x720 with 1 Axes>"
      ]
     },
     "metadata": {},
     "output_type": "display_data"
    }
   ],
   "source": [
    "import matplotlib.pyplot as plt\n",
    "\n",
    "plt.plot(train_losses.mean(dim=1))\n",
    "plt.xlabel(\"Epoch\")\n",
    "plt.ylabel(\"Mean loss\")\n",
    "plt.legend([\"Mean training loss per epoch\"])\n",
    "plt.xticks(torch.arange(0, num_epochs, 2))\n",
    "plt.gcf().set_dpi(150)"
   ]
  },
  {
   "attachments": {},
   "cell_type": "markdown",
   "id": "92e88f45",
   "metadata": {},
   "source": [
    "## Neighbourhood sampling the computation graph for node classification\n",
    "\n",
    "The neighbourhood sampling approach was firstly introduced in the [GraphSAGE](https://arxiv.org/abs/1706.02216v4) (SAmple and AGrEgate) paper for creating inductive node embeddings: the idea here is to learn how to aggregate node feature information from a node's K-hop neighbourhood, where K is the number of layers of our GNN and the number of iterations we want to perform. This means we need relatively small memory requirements: to generate the embeddings of a node we only need to know the K-hop neighbourhood structure around that node and the relative nodes' features, we don't need to store the rest of the graph. In this way, the mini-batches are going to be made of K-hop neighbourhoods which should fit nicely into the device's memory. \n",
    "\n",
    "### Neighbour sampling in PyG on IPUs \n",
    "\n",
    "PyG provides the `NeighborLoader`, a data loader that performs neighbour sampling as per the GraphSAGE paper, allowing for mini-batching when full-batch update is not feasible. We can select how many neighboring nodes we'd like to be sampled for each node in each iteration, as well as the number of iterations (or number of hops) we'd like to go through. In this case, the `batch_size` argument represents how many nodes we want to sample from, which we can agree to refer to as 'target' nodes. Let's take a look at how to implement this in code: "
   ]
  },
  {
   "cell_type": "code",
   "execution_count": 28,
   "id": "39b97a6c",
   "metadata": {},
   "outputs": [
    {
     "name": "stdout",
     "output_type": "stream",
     "text": [
      "next(train_sampling_iter) = DataBatch(x=[63, 500], edge_index=[2, 71], y=[63], edges_mask=[71], graphs_mask=[2], nodes_mask=[63], ptr=[3], test_mask=[63], train_mask=[63], val_mask=[63], num_nodes=63, num_edges=14891, n_id=[63], e_id=[71], input_id=[5], batch_size=5)\n",
      "next(train_sampling_iter) = DataBatch(x=[72, 500], edge_index=[2, 83], y=[72], edges_mask=[83], graphs_mask=[2], nodes_mask=[72], ptr=[3], test_mask=[72], train_mask=[72], val_mask=[72], num_nodes=72, num_edges=14891, n_id=[72], e_id=[83], input_id=[5], batch_size=5)\n",
      "Original graph node index of each target node in the mini-batch: tensor([10, 11, 12, 13, 14])\n",
      "Original graph node index of each node in the mini-batch: tensor([  10,   11,   12,   13,   14,   61,  106,   49,  163,   27,  129,    5,\n",
      "        1466,  176,   25,  125,   39, 1366,   29,  185,  190, 1968,  139, 1477,\n",
      "         122,  111,   73,   33, 1831,  201,  590, 1330,  101,   77,  412, 1723,\n",
      "        1290, 1549, 1534, 1425, 1383,  770, 1452, 1621, 1910,  124,   76,   36,\n",
      "        1639, 1100, 1092,  108])\n"
     ]
    },
    {
     "name": "stderr",
     "output_type": "stream",
     "text": [
      "/localdata/ariannas/poplar_sdk-ubuntu_20_04-3.3.0-EA.2+1378-8a800233d4/None+None_poptorch/lib/python3.8/site-packages/torch_geometric/sampler/neighbor_sampler.py:59: UserWarning: Using 'NeighborSampler' without a 'pyg-lib' installation is deprecated and will be removed soon. Please install 'pyg-lib' for accelerated neighborhood sampling\n",
      "  warnings.warn(f\"Using '{self.__class__.__name__}' without a \"\n"
     ]
    }
   ],
   "source": [
    "from torch_geometric.loader import NeighborLoader\n",
    "\n",
    "num_neighbors = 10\n",
    "num_iterations = 2\n",
    "\n",
    "kwargs = {\n",
    "    \"batch_size\": 5\n",
    "}  # TODO test additional kwargs 'num_workers': 6, 'persistent_workers': True\n",
    "\n",
    "train_loader_sampling = NeighborLoader(\n",
    "    data,\n",
    "    # shuffle = True,\n",
    "    num_neighbors=[num_neighbors] * num_iterations,\n",
    "    **kwargs,\n",
    ")\n",
    "\n",
    "train_sampling_iter = iter(train_loader_sampling)\n",
    "print(f\"{next(train_sampling_iter) = }\")\n",
    "print(f\"{next(train_sampling_iter) = }\")\n",
    "\n",
    "sampled_data = next(train_sampling_iter)\n",
    "print(\n",
    "    f\"Original graph node index of each target node in the mini-batch: {sampled_data.input_id}\"\n",
    ")\n",
    "print(\n",
    "    f\"Original graph node index of each node in the mini-batch: {sampled_data.n_id}\"\n",
    ")  # shows the target nodes are the first 5"
   ]
  },
  {
   "attachments": {},
   "cell_type": "markdown",
   "id": "c6bc2372",
   "metadata": {},
   "source": [
    "\n",
    "In PyG, sampled nodes are sorted based on the order they were sampled. In fact, from inspecting the elements in the iterator, we can see how the first `batch_size` nodes (5 in this case) in the sampled sub-graph are the target ones, in other terms they represent the set of original mini-batch nodes. Those nodes are the ones we will want to use for training later on.\n",
    "To comply with the AOT requirement in PopTorch on IPUs, we need to take action on those variable tensor sizes shown in the above cell and make them fixed size. To this purpose, we leverage the `FixedSizeNeighborLoader` in PopTorch Geometric: under the hood, this class takes the sub-graphs generated by the PyG `NeighborLoader` and then applies the PopTorch Geometric `FixedSizeCollater` to make the resulting shapes of the sub-graphs fixed size across sub-graphs."
   ]
  },
  {
   "cell_type": "code",
   "execution_count": 29,
   "id": "57a9d930",
   "metadata": {},
   "outputs": [],
   "source": [
    "from typing import Callable, Dict, List, Optional, Tuple, Union\n",
    "\n",
    "import poptorch\n",
    "import torch\n",
    "from poptorch_geometric.collate import FixedSizeCollater\n",
    "from poptorch_geometric.collate import CombinedBatchingCollater\n",
    "from torch_geometric.data import Data, FeatureStore, GraphStore, HeteroData\n",
    "from torch_geometric.loader import NeighborLoader\n",
    "from torch_geometric.loader.utils import get_input_nodes\n",
    "from torch_geometric.sampler import NeighborSampler\n",
    "from torch_geometric.typing import EdgeType, InputNodes, OptTensor\n",
    "\n",
    "# TODO: Tidy\n",
    "# TODO: Fix below issues\n",
    "# TODO: Heuristic for setting num_neighbours?\n",
    "# TODO: Verify pruning doesn't happen on the wrong bits - that the IDs still align correctly\n",
    "# TODO: Add padded node and edge to original graph and pad the e_id and n_id with ids of that padded node / edge\n",
    "\n",
    "\"\"\"\n",
    "Known issues:\n",
    " - `batch_size` must be added to `exclude_keys` as it the FixedSizeCollator doesn't handle it correctly\n",
    " - `e_id` and `n_id` not padded correctly - requires this change to upstream:https://github.com/pyg-team/pytorch_geometric/blob/master/torch_geometric/data/storage.py#L653\n",
    "    '''\n",
    "    if key in E_KEYS:\n",
    "        self._cached_attr[AttrType.EDGE].add(key)\n",
    "        return True\n",
    "    else:\n",
    "        self._cached_attr[AttrType.NODE].add(key)\n",
    "        return False\n",
    "    '''\n",
    " - Trimming needs to be input_id aware - shouldn't prune the batch ids\n",
    " - Input ids, get doubled when the call to the default collater happens, caused by: https://github.com/pyg-team/pytorch_geometric/blob/master/torch_geometric/loader/dataloader.py#L12\n",
    "    `batch = super().__call__(data_list)`\n",
    "\"\"\"\n",
    "\n",
    "\n",
    "class PyGFixedSizeNeighborLoader(torch.utils.data.DataLoader):\n",
    "    def __init__(\n",
    "        self,\n",
    "        data: Union[Data, HeteroData, Tuple[FeatureStore, GraphStore]],\n",
    "        num_neighbors: Union[List[int], Dict[EdgeType, List[int]]],\n",
    "        input_nodes: InputNodes = None,\n",
    "        input_time: OptTensor = None,\n",
    "        replace: bool = False,\n",
    "        directed: bool = True,\n",
    "        disjoint: bool = False,\n",
    "        temporal_strategy: str = \"uniform\",\n",
    "        time_attr: Optional[str] = None,\n",
    "        transform: Optional[Callable] = None,\n",
    "        transform_sampler_output: Optional[Callable] = None,\n",
    "        is_sorted: bool = False,\n",
    "        filter_per_worker: bool = False,\n",
    "        batch_size: int = 1,\n",
    "        neighbor_sampler: Optional[NeighborSampler] = None,\n",
    "        collater_args: Optional[Dict[str, Union[int, float]]] = None,\n",
    "        **kwargs,\n",
    "    ):\n",
    "        self.batch_size = batch_size\n",
    "        self.neighbour_loader = NeighborLoader(\n",
    "            data,\n",
    "            num_neighbors,\n",
    "            input_nodes=input_nodes,\n",
    "            input_time=input_time,\n",
    "            replace=replace,\n",
    "            directed=directed,\n",
    "            disjoint=disjoint,\n",
    "            temporal_strategy=temporal_strategy,\n",
    "            time_attr=time_attr,\n",
    "            transform=transform,\n",
    "            transform_sampler_output=transform_sampler_output,\n",
    "            is_sorted=is_sorted,\n",
    "            filter_per_worker=filter_per_worker,\n",
    "            neighbor_sampler=neighbor_sampler,\n",
    "        )\n",
    "        _, input_nodes = get_input_nodes(data, input_nodes)\n",
    "\n",
    "        collater_args = collater_args if collater_args else {}\n",
    "        collater = self._create_collater(**collater_args)\n",
    "        super().__init__(\n",
    "            dataset=range(input_nodes.size(0)),\n",
    "            batch_size=self.batch_size,\n",
    "            collate_fn=collater,\n",
    "            **kwargs,\n",
    "        )\n",
    "\n",
    "    def __collate__(self, index):\n",
    "        out = self.neighbour_loader.collate_fn(index)\n",
    "        out = self.fixed_size_collater([out])\n",
    "        return out\n",
    "\n",
    "    def _create_collater(self, **collater_args):\n",
    "        self.fixed_size_collater = FixedSizeCollater(**collater_args)\n",
    "        return self.__collate__\n",
    "\n",
    "\n",
    "class FixedSizeNeighborLoader(PyGFixedSizeNeighborLoader, poptorch.DataLoader):\n",
    "    def __init__(\n",
    "        self,\n",
    "        data: Union[Data, HeteroData, Tuple[FeatureStore, GraphStore]],\n",
    "        num_neighbors: Union[List[int], Dict[EdgeType, List[int]]],\n",
    "        input_nodes: InputNodes = None,\n",
    "        input_time: OptTensor = None,\n",
    "        replace: bool = False,\n",
    "        directed: bool = True,\n",
    "        disjoint: bool = False,\n",
    "        temporal_strategy: str = \"uniform\",\n",
    "        time_attr: Optional[str] = None,\n",
    "        transform: Optional[Callable] = None,\n",
    "        transform_sampler_output: Optional[Callable] = None,\n",
    "        is_sorted: bool = False,\n",
    "        filter_per_worker: bool = False,\n",
    "        batch_size: int = 1,\n",
    "        neighbor_sampler: Optional[NeighborSampler] = None,\n",
    "        collater_args: Optional[Dict[str, Union[int, float]]] = None,\n",
    "        options: Optional[poptorch.Options] = None,\n",
    "        **kwargs,\n",
    "    ):\n",
    "        self.batch_size = batch_size\n",
    "\n",
    "        if options is None:\n",
    "            # Create IPU default options\n",
    "            options = poptorch.Options()\n",
    "\n",
    "        super().__init__(\n",
    "            data,\n",
    "            num_neighbors,\n",
    "            input_nodes=input_nodes,\n",
    "            input_time=input_time,\n",
    "            replace=replace,\n",
    "            directed=directed,\n",
    "            disjoint=disjoint,\n",
    "            temporal_strategy=temporal_strategy,\n",
    "            time_attr=time_attr,\n",
    "            transform=transform,\n",
    "            transform_sampler_output=transform_sampler_output,\n",
    "            is_sorted=is_sorted,\n",
    "            filter_per_worker=True,\n",
    "            batch_size=batch_size,\n",
    "            neighbor_sampler=neighbor_sampler,\n",
    "            collater_args=collater_args,\n",
    "            options=options,\n",
    "            **kwargs,\n",
    "        )\n",
    "\n",
    "    def _create_collater(self, **collater_args):\n",
    "        collater = super()._create_collater(**collater_args)\n",
    "        return CombinedBatchingCollater(\n",
    "            mini_batch_size=self.batch_size, collater=collater\n",
    "        )"
   ]
  },
  {
   "cell_type": "code",
   "execution_count": 30,
   "id": "371e5ef6",
   "metadata": {},
   "outputs": [
    {
     "ename": "TypeError",
     "evalue": "__init__() got an unexpected keyword argument 'num_nodes'",
     "output_type": "error",
     "traceback": [
      "\u001b[0;31m---------------------------------------------------------------------------\u001b[0m",
      "\u001b[0;31mTypeError\u001b[0m                                 Traceback (most recent call last)",
      "Cell \u001b[0;32mIn[30], line 12\u001b[0m\n\u001b[1;32m      9\u001b[0m dataset \u001b[39m=\u001b[39m Planetoid(root\u001b[39m=\u001b[39mdataset_directory, name\u001b[39m=\u001b[39m\u001b[39m\"\u001b[39m\u001b[39mPubMed\u001b[39m\u001b[39m\"\u001b[39m, transform\u001b[39m=\u001b[39mtransform)\n\u001b[1;32m     10\u001b[0m data \u001b[39m=\u001b[39m dataset[\u001b[39m0\u001b[39m]  \u001b[39m# Access the graph as Data object\u001b[39;00m\n\u001b[0;32m---> 12\u001b[0m train_loader_ipu \u001b[39m=\u001b[39m FixedSizeNeighborLoader(\n\u001b[1;32m     13\u001b[0m     data,\n\u001b[1;32m     14\u001b[0m     num_neighbors\u001b[39m=\u001b[39;49m[num_neighbors] \u001b[39m*\u001b[39;49m num_iterations,\n\u001b[1;32m     15\u001b[0m     collater_args\u001b[39m=\u001b[39;49m{\n\u001b[1;32m     16\u001b[0m         \u001b[39m\"\u001b[39;49m\u001b[39mnum_nodes\u001b[39;49m\u001b[39m\"\u001b[39;49m: \u001b[39m1000\u001b[39;49m,  \u001b[39m# argument for the FixedSizeCollater to pad the sub-graph up to those sizes\u001b[39;49;00m\n\u001b[1;32m     17\u001b[0m         \u001b[39m\"\u001b[39;49m\u001b[39mnum_edges\u001b[39;49m\u001b[39m\"\u001b[39;49m: \u001b[39m50000\u001b[39;49m,  \u001b[39m# argument for the FixedSizeCollater to pad the sub-graph up to those sizes\u001b[39;49;00m\n\u001b[1;32m     18\u001b[0m         \u001b[39m\"\u001b[39;49m\u001b[39mtrim_edges\u001b[39;49m\u001b[39m\"\u001b[39;49m: \u001b[39mTrue\u001b[39;49;00m,\n\u001b[1;32m     19\u001b[0m         \u001b[39m\"\u001b[39;49m\u001b[39mtrim_nodes\u001b[39;49m\u001b[39m\"\u001b[39;49m: \u001b[39mTrue\u001b[39;49;00m,\n\u001b[1;32m     20\u001b[0m         \u001b[39m\"\u001b[39;49m\u001b[39mexclude_keys\u001b[39;49m\u001b[39m\"\u001b[39;49m: (\u001b[39m\"\u001b[39;49m\u001b[39mbatch_size\u001b[39;49m\u001b[39m\"\u001b[39;49m,),\n\u001b[1;32m     21\u001b[0m         \u001b[39m\"\u001b[39;49m\u001b[39madd_masks_to_batch\u001b[39;49m\u001b[39m\"\u001b[39;49m: \u001b[39mTrue\u001b[39;49;00m,\n\u001b[1;32m     22\u001b[0m     },\n\u001b[1;32m     23\u001b[0m     \u001b[39m*\u001b[39;49m\u001b[39m*\u001b[39;49mkwargs,\n\u001b[1;32m     24\u001b[0m )\n\u001b[1;32m     26\u001b[0m train_loader_ipu_iter \u001b[39m=\u001b[39m \u001b[39miter\u001b[39m(train_loader_ipu)\n\u001b[1;32m     27\u001b[0m \u001b[39mprint\u001b[39m(\u001b[39mf\u001b[39m\u001b[39m\"\u001b[39m\u001b[39m{\u001b[39;00m\u001b[39mnext\u001b[39m(train_loader_ipu_iter)\u001b[39m \u001b[39m\u001b[39m= }\u001b[39;00m\u001b[39m\"\u001b[39m)\n",
      "Cell \u001b[0;32mIn[29], line 124\u001b[0m, in \u001b[0;36mFixedSizeNeighborLoader.__init__\u001b[0;34m(self, data, num_neighbors, input_nodes, input_time, replace, directed, disjoint, temporal_strategy, time_attr, transform, transform_sampler_output, is_sorted, filter_per_worker, batch_size, neighbor_sampler, collater_args, options, **kwargs)\u001b[0m\n\u001b[1;32m    120\u001b[0m \u001b[39mif\u001b[39;00m options \u001b[39mis\u001b[39;00m \u001b[39mNone\u001b[39;00m:\n\u001b[1;32m    121\u001b[0m     \u001b[39m# Create IPU default options\u001b[39;00m\n\u001b[1;32m    122\u001b[0m     options \u001b[39m=\u001b[39m poptorch\u001b[39m.\u001b[39mOptions()\n\u001b[0;32m--> 124\u001b[0m \u001b[39msuper\u001b[39;49m()\u001b[39m.\u001b[39;49m\u001b[39m__init__\u001b[39;49m(\n\u001b[1;32m    125\u001b[0m     data,\n\u001b[1;32m    126\u001b[0m     num_neighbors,\n\u001b[1;32m    127\u001b[0m     input_nodes\u001b[39m=\u001b[39;49minput_nodes,\n\u001b[1;32m    128\u001b[0m     input_time\u001b[39m=\u001b[39;49minput_time,\n\u001b[1;32m    129\u001b[0m     replace\u001b[39m=\u001b[39;49mreplace,\n\u001b[1;32m    130\u001b[0m     directed\u001b[39m=\u001b[39;49mdirected,\n\u001b[1;32m    131\u001b[0m     disjoint\u001b[39m=\u001b[39;49mdisjoint,\n\u001b[1;32m    132\u001b[0m     temporal_strategy\u001b[39m=\u001b[39;49mtemporal_strategy,\n\u001b[1;32m    133\u001b[0m     time_attr\u001b[39m=\u001b[39;49mtime_attr,\n\u001b[1;32m    134\u001b[0m     transform\u001b[39m=\u001b[39;49mtransform,\n\u001b[1;32m    135\u001b[0m     transform_sampler_output\u001b[39m=\u001b[39;49mtransform_sampler_output,\n\u001b[1;32m    136\u001b[0m     is_sorted\u001b[39m=\u001b[39;49mis_sorted,\n\u001b[1;32m    137\u001b[0m     filter_per_worker\u001b[39m=\u001b[39;49m\u001b[39mTrue\u001b[39;49;00m,\n\u001b[1;32m    138\u001b[0m     batch_size\u001b[39m=\u001b[39;49mbatch_size,\n\u001b[1;32m    139\u001b[0m     neighbor_sampler\u001b[39m=\u001b[39;49mneighbor_sampler,\n\u001b[1;32m    140\u001b[0m     collater_args\u001b[39m=\u001b[39;49mcollater_args,\n\u001b[1;32m    141\u001b[0m     options\u001b[39m=\u001b[39;49moptions,\n\u001b[1;32m    142\u001b[0m     \u001b[39m*\u001b[39;49m\u001b[39m*\u001b[39;49mkwargs,\n\u001b[1;32m    143\u001b[0m )\n",
      "Cell \u001b[0;32mIn[29], line 78\u001b[0m, in \u001b[0;36mPyGFixedSizeNeighborLoader.__init__\u001b[0;34m(self, data, num_neighbors, input_nodes, input_time, replace, directed, disjoint, temporal_strategy, time_attr, transform, transform_sampler_output, is_sorted, filter_per_worker, batch_size, neighbor_sampler, collater_args, **kwargs)\u001b[0m\n\u001b[1;32m     75\u001b[0m _, input_nodes \u001b[39m=\u001b[39m get_input_nodes(data, input_nodes)\n\u001b[1;32m     77\u001b[0m collater_args \u001b[39m=\u001b[39m collater_args \u001b[39mif\u001b[39;00m collater_args \u001b[39melse\u001b[39;00m {}\n\u001b[0;32m---> 78\u001b[0m collater \u001b[39m=\u001b[39m \u001b[39mself\u001b[39;49m\u001b[39m.\u001b[39;49m_create_collater(\u001b[39m*\u001b[39;49m\u001b[39m*\u001b[39;49mcollater_args)\n\u001b[1;32m     79\u001b[0m \u001b[39msuper\u001b[39m()\u001b[39m.\u001b[39m\u001b[39m__init__\u001b[39m(\n\u001b[1;32m     80\u001b[0m     dataset\u001b[39m=\u001b[39m\u001b[39mrange\u001b[39m(input_nodes\u001b[39m.\u001b[39msize(\u001b[39m0\u001b[39m)),\n\u001b[1;32m     81\u001b[0m     batch_size\u001b[39m=\u001b[39m\u001b[39mself\u001b[39m\u001b[39m.\u001b[39mbatch_size,\n\u001b[1;32m     82\u001b[0m     collate_fn\u001b[39m=\u001b[39mcollater,\n\u001b[1;32m     83\u001b[0m     \u001b[39m*\u001b[39m\u001b[39m*\u001b[39mkwargs,\n\u001b[1;32m     84\u001b[0m )\n",
      "Cell \u001b[0;32mIn[29], line 146\u001b[0m, in \u001b[0;36mFixedSizeNeighborLoader._create_collater\u001b[0;34m(self, **collater_args)\u001b[0m\n\u001b[1;32m    145\u001b[0m \u001b[39mdef\u001b[39;00m \u001b[39m_create_collater\u001b[39m(\u001b[39mself\u001b[39m, \u001b[39m*\u001b[39m\u001b[39m*\u001b[39mcollater_args):\n\u001b[0;32m--> 146\u001b[0m     collater \u001b[39m=\u001b[39m \u001b[39msuper\u001b[39;49m()\u001b[39m.\u001b[39;49m_create_collater(\u001b[39m*\u001b[39;49m\u001b[39m*\u001b[39;49mcollater_args)\n\u001b[1;32m    147\u001b[0m     \u001b[39mreturn\u001b[39;00m CombinedBatchingCollater(\n\u001b[1;32m    148\u001b[0m         mini_batch_size\u001b[39m=\u001b[39m\u001b[39mself\u001b[39m\u001b[39m.\u001b[39mbatch_size, collater\u001b[39m=\u001b[39mcollater\n\u001b[1;32m    149\u001b[0m     )\n",
      "Cell \u001b[0;32mIn[29], line 92\u001b[0m, in \u001b[0;36mPyGFixedSizeNeighborLoader._create_collater\u001b[0;34m(self, **collater_args)\u001b[0m\n\u001b[1;32m     91\u001b[0m \u001b[39mdef\u001b[39;00m \u001b[39m_create_collater\u001b[39m(\u001b[39mself\u001b[39m, \u001b[39m*\u001b[39m\u001b[39m*\u001b[39mcollater_args):\n\u001b[0;32m---> 92\u001b[0m     \u001b[39mself\u001b[39m\u001b[39m.\u001b[39mfixed_size_collater \u001b[39m=\u001b[39m FixedSizeCollater(\u001b[39m*\u001b[39;49m\u001b[39m*\u001b[39;49mcollater_args)\n\u001b[1;32m     93\u001b[0m     \u001b[39mreturn\u001b[39;00m \u001b[39mself\u001b[39m\u001b[39m.\u001b[39m__collate__\n",
      "\u001b[0;31mTypeError\u001b[0m: __init__() got an unexpected keyword argument 'num_nodes'"
     ]
    }
   ],
   "source": [
    "import torch_geometric.data.storage\n",
    "\n",
    "import torch\n",
    "from torch_geometric.datasets import Planetoid\n",
    "import torch_geometric.transforms as T\n",
    "\n",
    "transform = T.Compose([T.NormalizeFeatures(), T.AddSelfLoops()])\n",
    "\n",
    "dataset = Planetoid(root=dataset_directory, name=\"PubMed\", transform=transform)\n",
    "data = dataset[0]  # Access the graph as Data object\n",
    "\n",
    "train_loader_ipu = FixedSizeNeighborLoader(\n",
    "    data,\n",
    "    num_neighbors=[num_neighbors] * num_iterations,\n",
    "    collater_args={\n",
    "        \"num_nodes\": 1000,  # argument for the FixedSizeCollater to pad the sub-graph up to those sizes\n",
    "        \"num_edges\": 50000,  # argument for the FixedSizeCollater to pad the sub-graph up to those sizes\n",
    "        \"trim_edges\": True,\n",
    "        \"trim_nodes\": True,\n",
    "        \"exclude_keys\": (\"batch_size\",),\n",
    "        \"add_masks_to_batch\": True,\n",
    "    },\n",
    "    **kwargs,\n",
    ")\n",
    "\n",
    "train_loader_ipu_iter = iter(train_loader_ipu)\n",
    "print(f\"{next(train_loader_ipu_iter) = }\")\n",
    "print(f\"{next(train_loader_ipu_iter) = }\")\n",
    "print(\n",
    "    f\"{next(train_loader_ipu_iter).input_id = }\"\n",
    ")  # Note, input_ids is 2*batch_size instead of batch_size."
   ]
  },
  {
   "attachments": {},
   "cell_type": "markdown",
   "id": "22d8acff",
   "metadata": {},
   "source": [
    "As we can see, the resulting sub-graphs have now fixed sizes! "
   ]
  },
  {
   "attachments": {},
   "cell_type": "markdown",
   "id": "7baa712e",
   "metadata": {},
   "source": [
    "### Training a GNN to classify papers in the PubMed dataset"
   ]
  },
  {
   "attachments": {},
   "cell_type": "markdown",
   "id": "9608df53",
   "metadata": {},
   "source": [
    "We will use a slight modification of the model we defined for the clustering approach demonstration and repeat the same steps to carry out our node classification task. We will leverage the `SAGEConv()` PyG layer to perform one iteration of the aggregate-and-update step. The selected aggregation scheme is the default one, a mean. The main aspect to be careful about is selecting which nodes we actually want to consider for training in each sub-graph. We need to make sure we train on those nodes we defined as the target ones and that we leave out of the loss calculation the padding sub-graph in each sub-graph. "
   ]
  },
  {
   "cell_type": "code",
   "execution_count": 73,
   "id": "93f319d2",
   "metadata": {},
   "outputs": [],
   "source": [
    "from torch_geometric.nn import SAGEConv\n",
    "\n",
    "batch_size = 5\n",
    "\n",
    "\n",
    "class GraphSAGE(torch.nn.Module):\n",
    "    def __init__(self, in_channels, out_channels) -> None:\n",
    "        super(GraphSAGE, self).__init__()\n",
    "        torch.manual_seed(1234)\n",
    "        self.conv1 = SAGEConv(\n",
    "            in_channels, 64, add_self_loops=False\n",
    "        )  # might not need self loops here?\n",
    "        self.conv2 = SAGEConv(64, out_channels, add_self_loops=False)\n",
    "\n",
    "    def forward(self, x, edge_index, train_mask=None, y=None):\n",
    "        x = self.conv1(x, edge_index).relu()\n",
    "        x = F.dropout(x, p=0.5, training=self.training)\n",
    "        x = self.conv2(x, edge_index)\n",
    "        x = F.log_softmax(x, dim=-1)\n",
    "\n",
    "        if self.training:\n",
    "            loss = F.nll_loss(\n",
    "                x[:batch_size], y[:batch_size]\n",
    "            )  # Select only the target nodes for loss calculation, leave out the padding sub-graph in each sub-graph\n",
    "            return x, loss\n",
    "        return x"
   ]
  },
  {
   "cell_type": "code",
   "execution_count": 74,
   "id": "dd2290b0",
   "metadata": {},
   "outputs": [
    {
     "data": {
      "text/plain": [
       "GraphSAGE(\n",
       "  (conv1): SAGEConv(500, 64, aggr=mean)\n",
       "  (conv2): SAGEConv(64, 3, aggr=mean)\n",
       ")"
      ]
     },
     "execution_count": 74,
     "metadata": {},
     "output_type": "execute_result"
    }
   ],
   "source": [
    "model_sampling = GraphSAGE(dataset.num_features, dataset.num_classes)\n",
    "model_sampling"
   ]
  },
  {
   "cell_type": "code",
   "execution_count": 75,
   "id": "7d669edc",
   "metadata": {},
   "outputs": [
    {
     "data": {
      "text/plain": [
       "=================================================================\n",
       "Layer (type:depth-idx)                   Param #\n",
       "=================================================================\n",
       "PoplarExecutor                           --\n",
       "├─SAGEConv: 1-1                          --\n",
       "│    └─MeanAggregation: 2-1              --\n",
       "│    └─Linear: 2-2                       32,064\n",
       "│    └─Linear: 2-3                       32,000\n",
       "├─SAGEConv: 1-2                          --\n",
       "│    └─MeanAggregation: 2-4              --\n",
       "│    └─Linear: 2-5                       195\n",
       "│    └─Linear: 2-6                       192\n",
       "=================================================================\n",
       "Total params: 64,451\n",
       "Trainable params: 64,451\n",
       "Non-trainable params: 0\n",
       "================================================================="
      ]
     },
     "execution_count": 75,
     "metadata": {},
     "output_type": "execute_result"
    }
   ],
   "source": [
    "from torchinfo import summary\n",
    "\n",
    "model_sampling.train()\n",
    "optimizer = poptorch.optim.Adam(model_sampling.parameters(), lr=0.001)\n",
    "poptorch_model_sampling = poptorch.trainingModel(model_sampling, optimizer=optimizer)\n",
    "\n",
    "summary(poptorch_model_sampling)"
   ]
  },
  {
   "cell_type": "code",
   "execution_count": 76,
   "id": "4dbe3ad2",
   "metadata": {},
   "outputs": [
    {
     "name": "stdout",
     "output_type": "stream",
     "text": [
      "3943\n"
     ]
    },
    {
     "name": "stderr",
     "output_type": "stream",
     "text": [
      "  0%|          | 0/3943 [00:00<?, ?it/s][15:11:23.498] [poptorch:cpp] [warning] [DISPATCHER] Type coerced from Long to Int for tensor id 401\n",
      "[15:11:23.499] [poptorch:cpp] [warning] [DISPATCHER] Type coerced from Long to Int for tensor id 403\n",
      "Graph compilation: 100%|██████████| 100/100 [00:28<00:00]\n",
      "Epoch 0 training loss: 0.065784: 100%|██████████| 3943/3943 [00:55<00:00, 70.47it/s] \n",
      "Epoch 1 training loss: 0.051238: 100%|██████████| 3943/3943 [00:24<00:00, 163.00it/s]\n",
      "Epoch 2 training loss: 0.043417: 100%|██████████| 3943/3943 [00:23<00:00, 164.48it/s]\n",
      "Epoch 3 training loss: 0.027100: 100%|██████████| 3943/3943 [01:03<00:00, 61.79it/s] \n",
      "Epoch 4 training loss: 0.018384: 100%|██████████| 3943/3943 [00:23<00:00, 168.27it/s]\n"
     ]
    }
   ],
   "source": [
    "from tqdm import tqdm\n",
    "import numpy as np\n",
    "\n",
    "num_epochs = 5\n",
    "epoch_losses = torch.empty(num_epochs, len(train_loader_ipu))\n",
    "print(len(train_loader_ipu))\n",
    "\n",
    "for epoch in range(num_epochs):\n",
    "    bar = tqdm(train_loader_ipu)\n",
    "    for i, data in enumerate(bar):\n",
    "        _, mini_batch_loss = poptorch_model_sampling(\n",
    "            data.x, data.edge_index, data.train_mask, data.y\n",
    "        )\n",
    "        epoch_losses[epoch, i] = float(mini_batch_loss.mean())\n",
    "        bar.set_description(\n",
    "            f\"Epoch {epoch} training loss: {epoch_losses[epoch, i].item():0.6f}\"\n",
    "        )"
   ]
  },
  {
   "cell_type": "code",
   "execution_count": 77,
   "id": "bae64602",
   "metadata": {},
   "outputs": [
    {
     "ename": "Error",
     "evalue": "'poptorch_py_error': Device is not attached",
     "output_type": "error",
     "traceback": [
      "\u001b[0;31m---------------------------------------------------------------------------\u001b[0m",
      "\u001b[0;31mError\u001b[0m                                     Traceback (most recent call last)",
      "Cell \u001b[0;32mIn[77], line 1\u001b[0m\n\u001b[0;32m----> 1\u001b[0m poptorch_model\u001b[39m.\u001b[39;49mdetachFromDevice()\n",
      "File \u001b[0;32m/localdata/ariannas/3.3.0+1337-EA.1/3.3.0+1337_poptorch/lib/python3.8/site-packages/poptorch/_poplar_executor.py:1533\u001b[0m, in \u001b[0;36mPoplarExecutor.detachFromDevice\u001b[0;34m(self)\u001b[0m\n\u001b[1;32m   1530\u001b[0m     \u001b[39mraise\u001b[39;00m _impl\u001b[39m.\u001b[39mcreatePoptorchError(NO_EXECUTABLE_ERR)\n\u001b[1;32m   1532\u001b[0m \u001b[39mif\u001b[39;00m \u001b[39mnot\u001b[39;00m \u001b[39mself\u001b[39m\u001b[39m.\u001b[39m_is_attached:\n\u001b[0;32m-> 1533\u001b[0m     \u001b[39mraise\u001b[39;00m _impl\u001b[39m.\u001b[39mcreatePoptorchError(\u001b[39m\"\u001b[39m\u001b[39mDevice is not attached\u001b[39m\u001b[39m\"\u001b[39m)\n\u001b[1;32m   1535\u001b[0m \u001b[39m# Read all the states back before detaching\u001b[39;00m\n\u001b[1;32m   1536\u001b[0m _ \u001b[39m=\u001b[39m \u001b[39mself\u001b[39m\u001b[39m.\u001b[39mrng_state\n",
      "\u001b[0;31mError\u001b[0m: 'poptorch_py_error': Device is not attached"
     ]
    }
   ],
   "source": [
    "# poptorch_model.detachFromDevice()"
   ]
  },
  {
   "cell_type": "code",
   "execution_count": 78,
   "id": "5584531a",
   "metadata": {},
   "outputs": [
    {
     "data": {
      "image/png": "[encoded data removed]",
      "text/plain": [
       "<Figure size 960x720 with 1 Axes>"
      ]
     },
     "metadata": {},
     "output_type": "display_data"
    }
   ],
   "source": [
    "import matplotlib.pyplot as plt\n",
    "\n",
    "plt.plot(epoch_losses.mean(dim=1))\n",
    "plt.xlabel(\"Epoch\")\n",
    "plt.ylabel(\"Mean loss\")\n",
    "plt.legend([\"Mean training loss per epoch\"])\n",
    "plt.grid(True)\n",
    "plt.xticks(torch.arange(0, num_epochs, 2))\n",
    "plt.gcf().set_dpi(150)"
   ]
  },
  {
   "cell_type": "code",
   "execution_count": null,
   "id": "2d4f685f",
   "metadata": {},
   "outputs": [
    {
     "ename": "AttributeError",
     "evalue": "'PoptorchGCN' object has no attribute 'isAttachedToDevice'",
     "output_type": "error",
     "traceback": [
      "\u001b[0;31m---------------------------------------------------------------------------\u001b[0m",
      "\u001b[0;31mAttributeError\u001b[0m                            Traceback (most recent call last)",
      "Cell \u001b[0;32mIn[42], line 1\u001b[0m\n\u001b[0;32m----> 1\u001b[0m \u001b[39mif\u001b[39;00m model\u001b[39m.\u001b[39;49misAttachedToDevice():\n\u001b[1;32m      2\u001b[0m     model\u001b[39m.\u001b[39mdetachFromDevice()\n",
      "File \u001b[0;32m/localdata/ariannas/3.3.0+1337-EA.1/3.3.0+1337_poptorch/lib/python3.8/site-packages/poptorch/_poplar_executor.py:278\u001b[0m, in \u001b[0;36mPoplarExecutor.__init__.<locals>.PoptorchModel.__getattr__\u001b[0;34m(self, name)\u001b[0m\n\u001b[1;32m    277\u001b[0m \u001b[39mdef\u001b[39;00m \u001b[39m__getattr__\u001b[39m(\u001b[39mself\u001b[39m, name):\n\u001b[0;32m--> 278\u001b[0m     attribute \u001b[39m=\u001b[39m \u001b[39msuper\u001b[39;49m()\u001b[39m.\u001b[39;49m\u001b[39m__getattr__\u001b[39;49m(name)\n\u001b[1;32m    279\u001b[0m     \u001b[39mif\u001b[39;00m \u001b[39misinstance\u001b[39m(attribute, torch\u001b[39m.\u001b[39mnn\u001b[39m.\u001b[39mparameter\u001b[39m.\u001b[39mParameter):\n\u001b[1;32m    280\u001b[0m         \u001b[39mself\u001b[39m\u001b[39m.\u001b[39mcopyWeightsToHostIfNeeded()\n",
      "File \u001b[0;32m/localdata/ariannas/3.3.0+1337-EA.1/3.3.0+1337_poptorch/lib/python3.8/site-packages/torch/nn/modules/module.py:1614\u001b[0m, in \u001b[0;36mModule.__getattr__\u001b[0;34m(self, name)\u001b[0m\n\u001b[1;32m   1612\u001b[0m     \u001b[39mif\u001b[39;00m name \u001b[39min\u001b[39;00m modules:\n\u001b[1;32m   1613\u001b[0m         \u001b[39mreturn\u001b[39;00m modules[name]\n\u001b[0;32m-> 1614\u001b[0m \u001b[39mraise\u001b[39;00m \u001b[39mAttributeError\u001b[39;00m(\u001b[39m\"\u001b[39m\u001b[39m'\u001b[39m\u001b[39m{}\u001b[39;00m\u001b[39m'\u001b[39m\u001b[39m object has no attribute \u001b[39m\u001b[39m'\u001b[39m\u001b[39m{}\u001b[39;00m\u001b[39m'\u001b[39m\u001b[39m\"\u001b[39m\u001b[39m.\u001b[39mformat(\n\u001b[1;32m   1615\u001b[0m     \u001b[39mtype\u001b[39m(\u001b[39mself\u001b[39m)\u001b[39m.\u001b[39m\u001b[39m__name__\u001b[39m, name))\n",
      "\u001b[0;31mAttributeError\u001b[0m: 'PoptorchGCN' object has no attribute 'isAttachedToDevice'"
     ]
    }
   ],
   "source": [
    "if model.isAttachedToDevice():\n",
    "    model.detachFromDevice()"
   ]
  },
  {
   "attachments": {},
   "cell_type": "markdown",
   "id": "7ece4041",
   "metadata": {},
   "source": [
    "## Conclusion\n",
    "\n",
    "In this tutorial we explored the main methods to deal with large graphs that otherwise wouldn't fit in memory, using two different sampling approaches and dedicated dataloaders to optimise performance on Graphcore IPUs. \n",
    "\n",
    "We demonstrated:\n",
    "- how to effectively cluster nodes of your input graph, leveraging the `FixedSizeClusterLoader` to do so while respecting the AOT requirements on the IPU;\n",
    "- hot to sample neighbouring nodes of your input graph, using the `FixedSizeNeighborLoader`;\n",
    "- then, for both sampling methods above, how train your GNN on IPUs to classify papers from the PubMed dataset.\n",
    "\n",
    "So far in this tutorial series we have worked with homogeneous graphs, however scaled up GNN problems are also very well suited to heterogeneous graphs: please check out our [heterogeneous graph tutorial](TODO add link) to know more about how to handle those on IPUs. More extensive node classification examples can be found in our  Gradient-Pytorch-Geometric/node-prediction repository. \n",
    "\n"
   ]
  }
 ],
 "metadata": {
  "kernelspec": {
   "display_name": "3.3.0+1326_poptorch",
   "language": "python",
   "name": "python3"
  },
  "language_info": {
   "codemirror_mode": {
    "name": "ipython",
    "version": 3
   },
   "file_extension": ".py",
   "mimetype": "text/x-python",
   "name": "python",
   "nbconvert_exporter": "python",
   "pygments_lexer": "ipython3",
   "version": "3.8.10"
  }
 },
 "nbformat": 4,
 "nbformat_minor": 5
}
