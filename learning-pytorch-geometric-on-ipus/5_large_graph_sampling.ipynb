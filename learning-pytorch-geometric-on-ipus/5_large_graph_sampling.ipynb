{
 "cells": [
  {
   "attachments": {},
   "cell_type": "markdown",
   "id": "d2b361bf",
   "metadata": {},
   "source": [
    "Copyright (c) 2023 Graphcore Ltd. All rights reserved."
   ]
  },
  {
   "attachments": {},
   "cell_type": "markdown",
   "id": "1847b0b2",
   "metadata": {},
   "source": [
    "# Sampling large graphs for IPUs using PyTorch Geometric\n",
    "\n",
    "\n",
    "[![Run on Gradient](../../gradient-badge.svg)](https://console.paperspace.com/github/<runtime-repo>?machine=Free-IPU-POD4&container=<dockerhub-image>&file=<path-to-file-in-repo>)  [![Join our Slack Community](https://img.shields.io/badge/Slack-Join%20Graphcore's%20Community-blue?style=flat-square&logo=slack)](https://www.graphcore.ai/join-community)\n",
    "\n",
    "\n",
    "In the previous tutorials we have been focusing on working with datasets comprising many small graphs. For some modern applications, however, we will need to operate on larger graphs characterised by increasing number of nodes (range 10M-10B) and edges (range 100M-100B): imagine having to build a recommendation system for a social network type of input graph, which can be constituted by a huge number of users (nodes) and relationships (edges). \n",
    "\n",
    "We might think of two routes to approach large graph problems:\n",
    "- full batch training: this is the approach we have been using in [Tutorial 2](https://ipu.dev/O2u8MZ) when working with a single, relatively small graph. The aim is to generate embeddings for all the nodes at the same time: this means keeping the entire graph in memory, as well as all the node embeddings. If the size of the computational graph increases, the amount of memory required to hold graph and embeddings becomes challenging for modern accelerators. \n",
    "- mini-batching: alternatively, we can create mini-batches by sampling from the graph. When sampling from a larger graph we need to be extra careful to reduce the chances of the sampled nodes to be isolated from each other. Should that be the case, the mini-batches would no longer be representative of the whole graph which would negatively impact our machine learning task. The need here is to engineer effective sampling methods to make sure that the message passing scheme is still effective with large graphs. \n",
    "\n",
    "In this tutorial, we will demonstrate two sampling approaches widely used in literature to cope with increasing graph size. For each we will finish with training using the Graphcore IPU, which is a great fit for GNNs applications as explained in this [blog post](https://www.graphcore.ai/posts/accelerating-pyg-on-ipus-unleash-the-power-of-graph-neural-networks), and the PyTorch Geometric (PyG) integration for IPUs. You will learn how to: \n",
    "- effectively cluster nodes of your input graph; \n",
    "- sample neighbouring nodes of your input graph; \n",
    "- then, for both sampling methods, train your GNN on IPUs to classify papers from the PubMed dataset.\n",
    "\n",
    "This notebook assumes some familiarity with PopTorch as well as PyTorch Geometric (PyG). For additional resources please consult:\n",
    "- [PopTorch Documentation](https://docs.graphcore.ai/projects/poptorch-user-guide/en/latest/index.html),\n",
    "- [PopTorch Examples and Tutorials](https://docs.graphcore.ai/en/latest/examples.html#pytorch),\n",
    "- [PyTorch Geometric](https://pytorch-geometric.readthedocs.io/en/latest/),\n",
    "- [PopTorch Geometric Documentation](https://docs.graphcore.ai/projects/poptorch-geometric-user-guide/en/latest/index.html).\n",
    "\n",
    "[![Join our Slack\n",
    "Community](https://img.shields.io/badge/Slack-Join%20Graphcore's%20Community-blue?style=flat-square&logo=slack)](https://www.graphcore.ai/join-community)"
   ]
  },
  {
   "cell_type": "code",
   "execution_count": 124,
   "id": "0279f464",
   "metadata": {},
   "outputs": [],
   "source": [
    "# Make imported python modules automatically reload when the files are changed\n",
    "# needs to be before the first import.\n",
    "%load_ext autoreload\n",
    "%autoreload 2\n",
    "# TODO: remove at the end of notebook development"
   ]
  },
  {
   "attachments": {},
   "cell_type": "markdown",
   "id": "db890f52",
   "metadata": {},
   "source": [
    "## Environment setup\n",
    "\n",
    "The best way to run this demo is on Paperspace Gradient's cloud IPUs because everything is already set up for you. To run the demo using other IPU hardware, you need to have the Poplar SDK enabled and the latest PopTorch Geometric wheel installed. Refer to the [getting started guide](https://docs.graphcore.ai/en/latest/getting-started.html#getting-started) for your system for details on how to enable the Poplar SDK and install the PopTorch wheels."
   ]
  },
  {
   "attachments": {},
   "cell_type": "markdown",
   "id": "fbe9927c",
   "metadata": {},
   "source": [
    "> You can install requirements directly from a notebook. You can:\n",
    ">\n",
    "> 1. Run commands by starting the line in a code cell with `!`, as shown in the first code block below. \n",
    "> 2. Install Python requirements with the `%pip` [magic command](https://ipython.readthedocs.io/en/stable/interactive/magics.html).\n",
    "> \n",
    "> Use these methods to make it easier for your user to set up the environment they need."
   ]
  },
  {
   "cell_type": "code",
   "execution_count": 125,
   "id": "5c72d24a",
   "metadata": {},
   "outputs": [
    {
     "name": "stdout",
     "output_type": "stream",
     "text": [
      "Note: you may need to restart the kernel to use updated packages.\n"
     ]
    }
   ],
   "source": [
    "%pip install -q -r requirements.txt"
   ]
  },
  {
   "attachments": {},
   "cell_type": "markdown",
   "id": "b33a842f",
   "metadata": {},
   "source": [
    "To make it easier for you to run this tutorial, we read in some configuration related to the environment you are running the notebook in."
   ]
  },
  {
   "cell_type": "code",
   "execution_count": 126,
   "id": "965ca0a6",
   "metadata": {},
   "outputs": [],
   "source": [
    "import os\n",
    "\n",
    "dataset_directory = os.getenv(\"DATASETS_DIR\", \"data\")"
   ]
  },
  {
   "attachments": {},
   "cell_type": "markdown",
   "id": "4ceb4f83",
   "metadata": {},
   "source": [
    "## Loading a large graph\n",
    "\n",
    "We will use the `PubMed` dataset from the `Planetoid` node classification benchmarking suite to demonstrate both the clustering and the neighborhood sampling methods. Let's load it and print some statistics about it. "
   ]
  },
  {
   "cell_type": "code",
   "execution_count": 127,
   "id": "9fe1322b",
   "metadata": {},
   "outputs": [
    {
     "name": "stdout",
     "output_type": "stream",
     "text": [
      "Dataset: PubMed() \n",
      "Number of graphs: 1: \n",
      "Number of features: 500 \n",
      "Number of classes: 3 \n",
      "Data(x=[19717, 500], edge_index=[2, 108365], y=[19717], train_mask=[19717], val_mask=[19717], test_mask=[19717])\n",
      "Total number of nodes: 19717\n",
      "Total number of edges: 108365\n"
     ]
    }
   ],
   "source": [
    "import torch\n",
    "from torch_geometric.datasets import Planetoid\n",
    "import torch_geometric.transforms as T\n",
    "\n",
    "transform = T.Compose([T.NormalizeFeatures(), T.AddSelfLoops()])\n",
    "\n",
    "dataset = Planetoid(root=dataset_directory, name=\"PubMed\", transform=transform)\n",
    "data = dataset[0]  # Access the graph as Data object\n",
    "\n",
    "print(f\"Dataset: {dataset} \")\n",
    "print(f\"Number of graphs: {len(dataset)}: \")\n",
    "print(f\"Number of features: {dataset.num_features} \")\n",
    "print(f\"Number of classes: {dataset.num_classes} \")\n",
    "\n",
    "print(data)\n",
    "\n",
    "print(f\"Total number of nodes: {data.num_nodes}\")\n",
    "print(f\"Total number of edges: {data.num_edges}\")"
   ]
  },
  {
   "attachments": {},
   "cell_type": "markdown",
   "id": "65e02a38",
   "metadata": {},
   "source": [
    "As we can see above, the dataset consists of 19717 scientific publications from the PubMed database relative to diabetes classified into one of three classes. This is not a huge dataset, but it will serve our purpose to demonstrate the sampling approaches. "
   ]
  },
  {
   "attachments": {},
   "cell_type": "markdown",
   "id": "a3efcc79",
   "metadata": {},
   "source": [
    "## Clustering to train the large graph for node classification \n",
    "\n",
    "### Clustering the graph\n",
    "\n",
    "The idea behind this method is that we can split the entire input graph into smaller sub-graph clusters. When loading the data into the model, we combine a number of clusters together, regrowing the edges removed in the clustering process. This graph of combined clusters is the mini-batch on which we can calculate layer-wise embeddings by performing message passing.\n",
    "The clusters should also retain the connectivity of the original graph to avoid information loss: to achieve that we make sure that the small communities from the original graph are mirrored in the generated clusters, by minimising the amount of edge cuts when forming the clusters\n",
    "\n",
    "A well known approach is [Cluster-GCN](https://arxiv.org/abs/1905.07953). The steps are:\n",
    "- pre-processing: given a large graph, we partition it into groups of nodes and edges we name clusters. The clusters are formed by minimising the edge cuts required to achieve clusters of a particular number of nodes.\n",
    "- mini-batch training: we load multiple clusters, re-instate the edges removed by the pre-processing clustering step, and load this reconstructed sub-graph in the device memory and apply message passing over it to compute the loss.\n",
    "\n",
    "You can also check out our dedicated [Cluster-GCN example.](https://ipu.dev/PmAtSw)\n",
    "\n",
    "Let's now proceed with the clustering. The first step is to use `torch_geometric.data.ClusterData` to partition our `Data` object into `num_clusters` clusters: under the hood it leverages the METIS algorithm to obtain the splits."
   ]
  },
  {
   "cell_type": "code",
   "execution_count": 129,
   "id": "47b5129e",
   "metadata": {},
   "outputs": [
    {
     "name": "stdout",
     "output_type": "stream",
     "text": [
      "The dataset has been split in 100 clusters\n"
     ]
    }
   ],
   "source": [
    "from torch_geometric.loader import ClusterData\n",
    "\n",
    "num_clusters = 100\n",
    "\n",
    "cluster_data = ClusterData(\n",
    "    data, num_parts=num_clusters, recursive=False, save_dir=dataset_directory\n",
    ")\n",
    "\n",
    "print(f\"The dataset has been split in {len(cluster_data)} clusters\")"
   ]
  },
  {
   "attachments": {},
   "cell_type": "markdown",
   "id": "b46fa7eb",
   "metadata": {},
   "source": [
    "We can now use the PyG `torch_geometric.loader.ClusterLoader` which merges clusters and their between-clusters links into mini-batches. "
   ]
  },
  {
   "cell_type": "code",
   "execution_count": 131,
   "id": "7b9bd05c",
   "metadata": {},
   "outputs": [
    {
     "name": "stdout",
     "output_type": "stream",
     "text": [
      "next(dynamic_dataloader_iter) = Data(x=[1948, 500], y=[1948], train_mask=[1948], val_mask=[1948], test_mask=[1948], edge_index=[2, 7104])\n",
      "next(dynamic_dataloader_iter) = Data(x=[1968, 500], y=[1968], train_mask=[1968], val_mask=[1968], test_mask=[1968], edge_index=[2, 8366])\n"
     ]
    }
   ],
   "source": [
    "from torch_geometric.loader import ClusterLoader\n",
    "\n",
    "clusters_per_batch = 10\n",
    "\n",
    "dynamic_size_dataloader = ClusterLoader(\n",
    "    cluster_data,\n",
    "    batch_size=clusters_per_batch,\n",
    ")\n",
    "\n",
    "dynamic_dataloader_iter = iter(dynamic_size_dataloader)\n",
    "print(f\"{next(dynamic_dataloader_iter) = }\")\n",
    "print(f\"{next(dynamic_dataloader_iter) = }\")"
   ]
  },
  {
   "attachments": {},
   "cell_type": "markdown",
   "id": "220a759d",
   "metadata": {},
   "source": [
    " The mini-batches have been created by combining clusters together, hence each mini-batch has a different size: you can observe how each mini-batch contains a different number of nodes and edges in the cell above. We will need to keep this in mind when preparing the mini-batches to feed into the IPU: the IPU relies on Ahead-Of-Time (AOT) compilation, hence it needs the input tensors to be fixed sizes.  Therefore we need to make sure that the mini-batches produced are fixed in size so they can be loaded correctly onto the IPU. \n",
    "\n",
    "Now we need an approach to make the mini-batches of clusters fixed size: we will use the `poptorch_geometric.FixedSizeClusterLoader` for this purpose. To use this loader we need to find the maximum number of nodes and edges in the mini-batches. The `FixedSizeClusterLoader` will then pad the mini-batches accordingly. To do so, we can use the helper method `FixedSizeOptions.from_loader` which handles this calculation by sampling the previously defined dynamic data loader, returning a `FixedSizeOption` object specifying the number of nodes and edges to pad the mini-batches to."
   ]
  },
  {
   "cell_type": "code",
   "execution_count": 132,
   "id": "a1da87a2",
   "metadata": {},
   "outputs": [
    {
     "name": "stdout",
     "output_type": "stream",
     "text": [
      "FixedSizeOptions(num_nodes=1996 (At least one node reserved for padding), num_edges=14891 (At least one edge reserved for padding), num_graphs=2 (At least one graph reserved for padding), node_pad_value=0.0, edge_pad_value=0.0, graph_pad_value=0.0, pad_graph_defaults={})\n"
     ]
    }
   ],
   "source": [
    "import poptorch\n",
    "from poptorch_geometric import FixedSizeOptions, OverSizeStrategy\n",
    "\n",
    "fixed_size_options = FixedSizeOptions.from_loader(\n",
    "    dynamic_size_dataloader, sample_limit=10\n",
    ")\n",
    "\n",
    "print(fixed_size_options)"
   ]
  },
  {
   "attachments": {},
   "cell_type": "markdown",
   "id": "2b3edafb",
   "metadata": {},
   "source": [
    "As we can see in the cell above, we now have a maximum number of nodes and edges that the `FixedSizeClusterLoader` loader from PopTorch Geometric will use to pad the mini-batches to. Let's see how:"
   ]
  },
  {
   "cell_type": "code",
   "execution_count": 133,
   "id": "4665571e",
   "metadata": {},
   "outputs": [],
   "source": [
    "from poptorch_geometric.cluster_loader import FixedSizeClusterLoader\n",
    "\n",
    "train_dataloader = FixedSizeClusterLoader(\n",
    "    cluster_data,\n",
    "    batch_size=clusters_per_batch,\n",
    "    fixed_size_options=fixed_size_options,\n",
    "    over_size_strategy=OverSizeStrategy.TrimNodesAndEdges,\n",
    ")"
   ]
  },
  {
   "attachments": {},
   "cell_type": "markdown",
   "id": "aa8c3ef2",
   "metadata": {},
   "source": [
    "Let's now inspect a couple of mini-batches loaded by the dataloader:"
   ]
  },
  {
   "cell_type": "code",
   "execution_count": 134,
   "id": "6aae8c34",
   "metadata": {},
   "outputs": [
    {
     "name": "stdout",
     "output_type": "stream",
     "text": [
      "next(train_dataloader_iter) = DataBatch(x=[1996, 500], edge_index=[2, 14891], y=[1996], batch=[1996], edges_mask=[14891], graphs_mask=[2], nodes_mask=[1996], ptr=[3], test_mask=[1996], train_mask=[1996], val_mask=[1996], num_nodes=1996, num_edges=14891)\n",
      "next(train_dataloader_iter) = DataBatch(x=[1996, 500], edge_index=[2, 14891], y=[1996], batch=[1996], edges_mask=[14891], graphs_mask=[2], nodes_mask=[1996], ptr=[3], test_mask=[1996], train_mask=[1996], val_mask=[1996], num_nodes=1996, num_edges=14891)\n"
     ]
    }
   ],
   "source": [
    "train_dataloader_iter = iter(train_dataloader)\n",
    "print(f\"{next(train_dataloader_iter) = }\")\n",
    "print(f\"{next(train_dataloader_iter) = }\")"
   ]
  },
  {
   "attachments": {},
   "cell_type": "markdown",
   "id": "f3587482",
   "metadata": {},
   "source": [
    "As expected, the loader has used the maximum number of nodes and edges contained in the `FixedSizeOptions` object and all the tensor shapes are consistent across mini-batches. Now that we have clustered and loaded the data compatibly with the AOT requirements of the IPU, the next step is to train a GNN model to classify the papers in our dataset."
   ]
  },
  {
   "attachments": {},
   "cell_type": "markdown",
   "id": "10c6a0e7",
   "metadata": {},
   "source": [
    "### Training a GNN to classify papers in the PubMed dataset\n",
    "\n",
    "The first step is to define a GNN model to carry out our classification task. We can easily re-use one of the models we defined in the previous tutorials, for example a simple GCN-based one, as using clustering does not impact model definition:"
   ]
  },
  {
   "cell_type": "code",
   "execution_count": 135,
   "id": "a23bd665",
   "metadata": {},
   "outputs": [],
   "source": [
    "import torch.nn.functional as F\n",
    "from torch.nn import Linear\n",
    "from torch_geometric.nn import GCNConv\n",
    "\n",
    "\n",
    "class GCN(torch.nn.Module):\n",
    "    def __init__(self, in_channels, out_channels) -> None:\n",
    "        super(GCN, self).__init__()\n",
    "        torch.manual_seed(1234)\n",
    "        self.conv1 = GCNConv(in_channels, 64, add_self_loops=False)\n",
    "        self.conv2 = GCNConv(64, out_channels, add_self_loops=False)\n",
    "\n",
    "    def forward(self, x, edge_index, train_mask=None, y=None):\n",
    "        x = self.conv1(x, edge_index).relu()\n",
    "        x = F.dropout(x, p=0.5, training=self.training)\n",
    "        x = self.conv2(x, edge_index)\n",
    "        x = F.log_softmax(x, dim=-1)\n",
    "\n",
    "        if self.training:\n",
    "            y = torch.where(train_mask, y, -100)\n",
    "            loss = F.nll_loss(x, y)\n",
    "            return x, loss\n",
    "        return x"
   ]
  },
  {
   "attachments": {},
   "cell_type": "markdown",
   "id": "4e8c6c9e",
   "metadata": {},
   "source": [
    "We can now create the PopTorch model and train it on the IPU:"
   ]
  },
  {
   "cell_type": "code",
   "execution_count": 136,
   "id": "d8cd7d02",
   "metadata": {},
   "outputs": [
    {
     "data": {
      "text/plain": [
       "GCN(\n",
       "  (conv1): GCNConv(500, 64)\n",
       "  (conv2): GCNConv(64, 3)\n",
       ")"
      ]
     },
     "execution_count": 136,
     "metadata": {},
     "output_type": "execute_result"
    }
   ],
   "source": [
    "model = GCN(dataset.num_features, dataset.num_classes)\n",
    "model"
   ]
  },
  {
   "cell_type": "code",
   "execution_count": 137,
   "id": "55598993",
   "metadata": {},
   "outputs": [
    {
     "data": {
      "text/plain": [
       "=================================================================\n",
       "Layer (type:depth-idx)                   Param #\n",
       "=================================================================\n",
       "PoplarExecutor                           --\n",
       "├─GCNConv: 1-1                           64\n",
       "│    └─SumAggregation: 2-1               --\n",
       "│    └─Linear: 2-2                       32,000\n",
       "├─GCNConv: 1-2                           3\n",
       "│    └─SumAggregation: 2-3               --\n",
       "│    └─Linear: 2-4                       192\n",
       "=================================================================\n",
       "Total params: 32,259\n",
       "Trainable params: 32,259\n",
       "Non-trainable params: 0\n",
       "================================================================="
      ]
     },
     "execution_count": 137,
     "metadata": {},
     "output_type": "execute_result"
    }
   ],
   "source": [
    "from torchinfo import summary\n",
    "\n",
    "model.train()\n",
    "optimizer = torch.optim.AdamW(model.parameters(), lr=0.005)\n",
    "poptorch_model = poptorch.trainingModel(model, optimizer=optimizer)\n",
    "\n",
    "summary(poptorch_model)"
   ]
  },
  {
   "attachments": {},
   "cell_type": "markdown",
   "id": "4ad831c7",
   "metadata": {},
   "source": [
    "The training loop looks like this:"
   ]
  },
  {
   "cell_type": "code",
   "execution_count": 142,
   "id": "9fcc98e5",
   "metadata": {},
   "outputs": [
    {
     "name": "stderr",
     "output_type": "stream",
     "text": [
      "Epoch 0 training loss: 1.085659: 100%|██████████| 10/10 [00:04<00:00,  2.07it/s]\n",
      "Epoch 1 training loss: 0.996741: 100%|██████████| 10/10 [00:00<00:00, 96.77it/s]\n",
      "Epoch 2 training loss: 0.962243: 100%|██████████| 10/10 [00:00<00:00, 96.36it/s]\n",
      "Epoch 3 training loss: 0.929731: 100%|██████████| 10/10 [00:00<00:00, 96.03it/s]\n",
      "Epoch 4 training loss: 0.855545: 100%|██████████| 10/10 [00:00<00:00, 95.87it/s]\n"
     ]
    }
   ],
   "source": [
    "from tqdm import tqdm\n",
    "\n",
    "num_epochs = 5\n",
    "train_losses = torch.empty(num_epochs, len(train_dataloader))\n",
    "\n",
    "for epoch in range(num_epochs):\n",
    "    bar = tqdm(train_dataloader)\n",
    "    for i, data in enumerate(bar):\n",
    "        _, mini_batch_loss = poptorch_model(\n",
    "            data.x, data.edge_index, data.train_mask, data.y\n",
    "        )\n",
    "        train_losses[epoch, i] = float(mini_batch_loss.mean())\n",
    "        bar.set_description(\n",
    "            f\"Epoch {epoch} training loss: {train_losses[epoch, i].item():0.6f}\"\n",
    "        )\n",
    "        optimizer.zero_grad() # clear gradients \n"
   ]
  },
  {
   "attachments": {},
   "cell_type": "markdown",
   "id": "1990afca",
   "metadata": {},
   "source": [
    "We can now detach the training model from the IPU:"
   ]
  },
  {
   "cell_type": "code",
   "execution_count": 143,
   "id": "9f3d8714",
   "metadata": {},
   "outputs": [],
   "source": [
    "poptorch_model.detachFromDevice()"
   ]
  },
  {
   "attachments": {},
   "cell_type": "markdown",
   "id": "b03f16bc",
   "metadata": {},
   "source": [
    "Finally we can plot the mean of the loss to verify it decreases nicely:"
   ]
  },
  {
   "cell_type": "code",
   "execution_count": 144,
   "id": "5e4e88ca",
   "metadata": {},
   "outputs": [
    {
     "data": {
      "image/png": "[encoded data removed]",
      "text/plain": [
       "<Figure size 960x720 with 1 Axes>"
      ]
     },
     "metadata": {},
     "output_type": "display_data"
    }
   ],
   "source": [
    "import matplotlib.pyplot as plt\n",
    "\n",
    "plt.plot(train_losses.mean(dim=1))\n",
    "plt.xlabel(\"Epoch\")\n",
    "plt.ylabel(\"Mean loss\")\n",
    "plt.legend([\"Mean training loss per epoch\"])\n",
    "plt.xticks(torch.arange(0, num_epochs, 2))\n",
    "plt.gcf().set_dpi(150)"
   ]
  },
  {
   "attachments": {},
   "cell_type": "markdown",
   "id": "92e88f45",
   "metadata": {},
   "source": [
    "## Neighbourhood sampling the computation graph for node classification\n",
    "\n",
    "The neighbourhood sampling approach was firstly introduced in the [GraphSAGE](https://arxiv.org/abs/1706.02216v4) (SAmple and AGrEgate) paper for creating inductive node embeddings: the idea here is to learn how to aggregate node feature information from a node's K-hop neighbourhood, where K is the number of layers of our GNN and the number of iterations we want to perform. This means we need relatively small memory requirements: to generate the embeddings of a node we only need to know the K-hop neighbourhood structure around that node and the relative nodes' features, we don't need to store the rest of the graph. In this way, the mini-batches are going to be made of K-hop neighbourhoods which should fit nicely into the device's memory. \n",
    "\n",
    "### Neighbour sampling the graph\n",
    "\n",
    "PyG provides the `torch_geometric.loader.NeighborLoader`, a data loader that performs neighbour sampling as per the GraphSAGE paper, allowing for mini-batching when full-batch update is not feasible. We can select how many neighboring nodes we'd like to be sampled for each node in each iteration, as well as the number of iterations (or number of hops) we'd like to go through. In this case, the `batch_size` argument represents how many nodes we want to sample from, which we can agree to refer to as 'target' nodes. Let's take a look at how to implement this in code: "
   ]
  },
  {
   "cell_type": "code",
   "execution_count": 145,
   "id": "39b97a6c",
   "metadata": {},
   "outputs": [
    {
     "name": "stdout",
     "output_type": "stream",
     "text": [
      "next(train_sampling_iter) = Data(x=[108, 500], edge_index=[2, 129], y=[108], train_mask=[108], val_mask=[108], test_mask=[108], n_id=[108], e_id=[129], input_id=[5], batch_size=5)\n",
      "next(train_sampling_iter) = Data(x=[93, 500], edge_index=[2, 122], y=[93], train_mask=[93], val_mask=[93], test_mask=[93], n_id=[93], e_id=[122], input_id=[5], batch_size=5)\n",
      "Original graph node index of each target node in the mini-batch: tensor([16767, 13618, 19628, 17736,  5815])\n",
      "Original graph node index of each node in the mini-batch: tensor([16767, 13618, 19628, 17736,  5815, 18252, 18351,  3713, 14218, 18058,\n",
      "         4098,  2281,  1582, 18050, 15975, 11450,  3923, 10862,  3987,  4470,\n",
      "        16264,  4930,  5051,  9882, 16532,  8856, 14875, 19689,  8784,  9113,\n",
      "        14539, 16432, 17308,  3841,  7281,  9076,  6994,   744,  1954,  5350,\n",
      "         4522, 14209, 15087, 18593,  7429,  4659, 14933,  9866,  7445, 15423,\n",
      "         4707, 13669, 14654, 12302,  9819,  5871, 19011, 11319,  9808,  6112,\n",
      "        13023,   555, 14536,    33,  3185, 15544,  2544,   654, 12380,  3876,\n",
      "         6424,  2337, 17243,  7128, 14388, 18285,  3968,  5749,   834,  1315,\n",
      "         4538, 16921,  3303, 17733,   755, 18893,  6863, 18512, 13981,  6267,\n",
      "         9322,   976, 14390, 15325, 15968,  5244])\n"
     ]
    },
    {
     "name": "stderr",
     "output_type": "stream",
     "text": [
      "/localdata/ariannas/repos/tests/venv_test/lib/python3.8/site-packages/torch_geometric/sampler/neighbor_sampler.py:59: UserWarning: Using 'NeighborSampler' without a 'pyg-lib' installation is deprecated and will be removed soon. Please install 'pyg-lib' for accelerated neighborhood sampling\n",
      "  warnings.warn(f\"Using '{self.__class__.__name__}' without a \"\n"
     ]
    }
   ],
   "source": [
    "from torch_geometric.loader import NeighborLoader\n",
    "\n",
    "data = dataset[0] # Recreate Data object\n",
    "\n",
    "num_neighbors = 10\n",
    "num_iterations = 2\n",
    "batch_size = 5\n",
    "\n",
    "train_loader_sampling = NeighborLoader(\n",
    "    data,\n",
    "    shuffle=True,\n",
    "    num_neighbors=[num_neighbors] * num_iterations,\n",
    "    batch_size=batch_size,\n",
    ")\n",
    "\n",
    "train_sampling_iter = iter(train_loader_sampling)\n",
    "print(f\"{next(train_sampling_iter) = }\")\n",
    "print(f\"{next(train_sampling_iter) = }\")\n",
    "\n",
    "sampled_data = next(train_sampling_iter)\n",
    "print(\n",
    "    f\"Original graph node index of each target node in the mini-batch: {sampled_data.input_id}\"\n",
    ")\n",
    "print(\n",
    "    f\"Original graph node index of each node in the mini-batch: {sampled_data.n_id}\"\n",
    ")  # shows the target nodes are the first 5"
   ]
  },
  {
   "attachments": {},
   "cell_type": "markdown",
   "id": "c6bc2372",
   "metadata": {},
   "source": [
    "In PyG, sampled nodes are sorted based on the order they were sampled. In fact, from inspecting the elements in the iterator, we can see how the first `batch_size` nodes (5 in this case) in the sampled sub-graph are the target ones, in other terms they represent the set of original mini-batch nodes. Those nodes are the ones we will want to use for training later on.\n",
    "\n",
    "To comply with the AOT requirement in PopTorch on IPUs, we need to take action on those variable tensor sizes shown in the above cell and make them fixed size. To this purpose, we will leverage the `poptorch_geometric.FixedSizeNeighborLoader` in PopTorch Geometric: under the hood, this class takes the sub-graphs generated by the PyG `NeighborLoader` and then applies the PopTorch Geometric `FixedSizeCollater` to make the resulting shapes of the sub-graphs fixed size across sub-graphs.\n",
    "\n",
    "Similarly to what we did in the clustering demonstration, we will first use the helper method `FixedSizeOptions.from_loader` which returns a `FixedSizeOption` object specifying the number of nodes and edges to pad the mini-batches to."
   ]
  },
  {
   "cell_type": "code",
   "execution_count": 146,
   "id": "acd299dd",
   "metadata": {},
   "outputs": [
    {
     "name": "stdout",
     "output_type": "stream",
     "text": [
      "FixedSizeOptions(num_nodes=149 (At least one node reserved for padding), num_edges=199 (At least one edge reserved for padding), num_graphs=2 (At least one graph reserved for padding), node_pad_value=0.0, edge_pad_value=0.0, graph_pad_value=0.0, pad_graph_defaults={})\n"
     ]
    }
   ],
   "source": [
    "fixed_size_options = FixedSizeOptions.from_loader(\n",
    "    train_loader_sampling, sample_limit=10\n",
    ")\n",
    "\n",
    "print(fixed_size_options)"
   ]
  },
  {
   "attachments": {},
   "cell_type": "markdown",
   "id": "395e6ab8",
   "metadata": {},
   "source": [
    "We can pass the obtained maximum number of nodes and edges to the `poptorch_geometric.FixedSizeNeighborLoader`: "
   ]
  },
  {
   "cell_type": "code",
   "execution_count": 147,
   "id": "371e5ef6",
   "metadata": {},
   "outputs": [
    {
     "name": "stdout",
     "output_type": "stream",
     "text": [
      "next(train_loader_ipu_iter) = DataBatch(x=[149, 500], edge_index=[2, 199], y=[149], batch=[149], e_id=[175], input_id=[10], n_id=[149], ptr=[3], test_mask=[149], train_mask=[149], val_mask=[149], num_nodes=149, num_edges=199)\n",
      "next(train_loader_ipu_iter) = DataBatch(x=[149, 500], edge_index=[2, 199], y=[149], batch=[149], e_id=[163], input_id=[10], n_id=[149], ptr=[3], test_mask=[149], train_mask=[149], val_mask=[149], num_nodes=149, num_edges=199)\n",
      "next(train_loader_ipu_iter).input_id = tensor([ 4646, 16108,  3038, 14756,  8319,     0,     0,     0,     0,     0])\n"
     ]
    }
   ],
   "source": [
    "from poptorch_geometric.neighbor_loader import FixedSizeNeighborLoader\n",
    "\n",
    "train_loader_ipu = FixedSizeNeighborLoader(\n",
    "    data,\n",
    "    shuffle=True,\n",
    "    num_neighbors=[num_neighbors] * num_iterations,\n",
    "    fixed_size_options=fixed_size_options,\n",
    "    over_size_strategy=OverSizeStrategy.TrimNodesAndEdges,\n",
    "    batch_size=batch_size,\n",
    ")\n",
    "\n",
    "train_loader_ipu_iter = iter(train_loader_ipu)\n",
    "print(f\"{next(train_loader_ipu_iter) = }\")\n",
    "print(f\"{next(train_loader_ipu_iter) = }\")\n",
    "print(f\"{next(train_loader_ipu_iter).input_id = }\")"
   ]
  },
  {
   "attachments": {},
   "cell_type": "markdown",
   "id": "22d8acff",
   "metadata": {},
   "source": [
    "As we can see, the resulting sub-graphs and tensor shapes have now fixed sizes using the number of nodes and edges previously determined! "
   ]
  },
  {
   "attachments": {},
   "cell_type": "markdown",
   "id": "9608df53",
   "metadata": {},
   "source": [
    "### Training using neighborhood sampling on IPUs\n",
    "\n",
    "We will use a slight modification of the model we defined for the clustering approach demonstration and repeat the same steps to carry out our node classification task. We will leverage the `SAGEConv()` PyG layer to perform one iteration of the aggregate-and-update step. The selected aggregation scheme is the default one, a mean. The main aspect to be careful about is selecting which nodes we actually want to consider for training in each sub-graph. We need to make sure we train on those nodes we defined as the target ones and that we leave out of the loss calculation the padding sub-graph in each sub-graph. "
   ]
  },
  {
   "cell_type": "code",
   "execution_count": 148,
   "id": "93f319d2",
   "metadata": {},
   "outputs": [],
   "source": [
    "from torch_geometric.nn import SAGEConv\n",
    "\n",
    "class GraphSAGE(torch.nn.Module):\n",
    "    def __init__(self, in_channels, out_channels) -> None:\n",
    "        super(GraphSAGE, self).__init__()\n",
    "        torch.manual_seed(1234)\n",
    "        self.conv1 = SAGEConv(in_channels, 64, add_self_loops=False)\n",
    "        self.conv2 = SAGEConv(64, out_channels, add_self_loops=False)\n",
    "\n",
    "    def forward(self, x, edge_index, train_mask=None, y=None):\n",
    "        x = self.conv1(x, edge_index).relu()\n",
    "        x = F.dropout(x, p=0.5, training=self.training)\n",
    "        x = self.conv2(x, edge_index)\n",
    "        x = F.log_softmax(x, dim=-1)\n",
    "\n",
    "        if self.training:\n",
    "            loss = F.nll_loss(\n",
    "                x[:batch_size], y[:batch_size]\n",
    "            )  # Select only the target nodes for loss calculation, leave out the padding sub-graph in each sub-graph\n",
    "            return x, loss\n",
    "        return x"
   ]
  },
  {
   "cell_type": "code",
   "execution_count": 149,
   "id": "dd2290b0",
   "metadata": {},
   "outputs": [
    {
     "data": {
      "text/plain": [
       "GraphSAGE(\n",
       "  (conv1): SAGEConv(500, 64, aggr=mean)\n",
       "  (conv2): SAGEConv(64, 3, aggr=mean)\n",
       ")"
      ]
     },
     "execution_count": 149,
     "metadata": {},
     "output_type": "execute_result"
    }
   ],
   "source": [
    "model_sampling = GraphSAGE(dataset.num_features, dataset.num_classes)\n",
    "model_sampling"
   ]
  },
  {
   "cell_type": "code",
   "execution_count": 150,
   "id": "7d669edc",
   "metadata": {},
   "outputs": [
    {
     "data": {
      "text/plain": [
       "=================================================================\n",
       "Layer (type:depth-idx)                   Param #\n",
       "=================================================================\n",
       "PoplarExecutor                           --\n",
       "├─SAGEConv: 1-1                          --\n",
       "│    └─MeanAggregation: 2-1              --\n",
       "│    └─Linear: 2-2                       32,064\n",
       "│    └─Linear: 2-3                       32,000\n",
       "├─SAGEConv: 1-2                          --\n",
       "│    └─MeanAggregation: 2-4              --\n",
       "│    └─Linear: 2-5                       195\n",
       "│    └─Linear: 2-6                       192\n",
       "=================================================================\n",
       "Total params: 64,451\n",
       "Trainable params: 64,451\n",
       "Non-trainable params: 0\n",
       "================================================================="
      ]
     },
     "execution_count": 150,
     "metadata": {},
     "output_type": "execute_result"
    }
   ],
   "source": [
    "from torchinfo import summary\n",
    "\n",
    "model_sampling.train()\n",
    "optimizer = poptorch.optim.Adam(model_sampling.parameters(), lr=0.001)\n",
    "poptorch_model_sampling = poptorch.trainingModel(model_sampling, optimizer=optimizer)\n",
    "\n",
    "summary(poptorch_model_sampling)"
   ]
  },
  {
   "cell_type": "code",
   "execution_count": 151,
   "id": "4dbe3ad2",
   "metadata": {},
   "outputs": [
    {
     "name": "stdout",
     "output_type": "stream",
     "text": [
      "3943\n"
     ]
    },
    {
     "name": "stderr",
     "output_type": "stream",
     "text": [
      "  0%|          | 0/3943 [00:00<?, ?it/s][13:39:22.650] [poptorch:cpp] [warning] [DISPATCHER] Type coerced from Long to Int for tensor id 765\n",
      "[13:39:22.651] [poptorch:cpp] [warning] [DISPATCHER] Type coerced from Long to Int for tensor id 767\n",
      "Graph compilation: 100%|██████████| 100/100 [00:13<00:00]\n",
      "Epoch 0 training loss: 0.626768: 100%|██████████| 3943/3943 [00:32<00:00, 120.78it/s]\n",
      "Epoch 1 training loss: 0.162970: 100%|██████████| 3943/3943 [00:15<00:00, 251.01it/s]\n",
      "Epoch 2 training loss: 1.028994: 100%|██████████| 3943/3943 [00:15<00:00, 248.32it/s]\n",
      "Epoch 3 training loss: 0.164228: 100%|██████████| 3943/3943 [00:15<00:00, 254.42it/s]\n",
      "Epoch 4 training loss: 0.110450: 100%|██████████| 3943/3943 [00:14<00:00, 265.26it/s]\n"
     ]
    }
   ],
   "source": [
    "from tqdm import tqdm\n",
    "import numpy as np\n",
    "\n",
    "num_epochs = 5\n",
    "epoch_losses = torch.empty(num_epochs, len(train_loader_ipu))\n",
    "print(len(train_loader_ipu))\n",
    "\n",
    "for epoch in range(num_epochs):\n",
    "    bar = tqdm(train_loader_ipu)\n",
    "    for i, data in enumerate(bar):\n",
    "        _, mini_batch_loss = poptorch_model_sampling(\n",
    "            data.x, data.edge_index, data.train_mask, data.y\n",
    "        )\n",
    "        epoch_losses[epoch, i] = float(mini_batch_loss.mean())\n",
    "        bar.set_description(\n",
    "            f\"Epoch {epoch} training loss: {epoch_losses[epoch, i].item():0.6f}\"\n",
    "        )"
   ]
  },
  {
   "cell_type": "code",
   "execution_count": 152,
   "id": "5584531a",
   "metadata": {},
   "outputs": [
    {
     "data": {
      "image/png": "[encoded data removed]",
      "text/plain": [
       "<Figure size 960x720 with 1 Axes>"
      ]
     },
     "metadata": {},
     "output_type": "display_data"
    }
   ],
   "source": [
    "import matplotlib.pyplot as plt\n",
    "\n",
    "plt.plot(epoch_losses.mean(dim=1))\n",
    "plt.xlabel(\"Epoch\")\n",
    "plt.ylabel(\"Mean loss\")\n",
    "plt.legend([\"Mean training loss per epoch\"])\n",
    "plt.grid(True)\n",
    "plt.xticks(torch.arange(0, num_epochs, 2))\n",
    "plt.gcf().set_dpi(150)"
   ]
  },
  {
   "attachments": {},
   "cell_type": "markdown",
   "id": "7ece4041",
   "metadata": {},
   "source": [
    "## Conclusion\n",
    "\n",
    "In this tutorial we explored the main methods to deal with large graphs that otherwise wouldn't fit in memory, using two different sampling approaches and dedicated dataloaders to optimise performance on Graphcore IPUs. \n",
    "\n",
    "We demonstrated:\n",
    "- how to effectively cluster nodes of your input graph, leveraging the `FixedSizeClusterLoader` to do so while respecting the AOT requirements on the IPU;\n",
    "- how to sample neighbouring nodes of your input graph, using the `poptorch_geometric.FixedSizeNeighborLoader`;\n",
    "- then, for both sampling methods above, how train your GNN on IPUs to classify papers from the PubMed dataset.\n",
    "\n",
    "So far in this tutorial series we have worked with homogeneous graphs, however scaled up GNN problems are also very well suited to heterogeneous graphs: please check out our [heterogeneous graph tutorial](TODO add link) to know more about how to handle those on IPUs. More extensive node classification examples can be found in our  Gradient-Pytorch-Geometric/node-prediction repository. \n",
    "\n"
   ]
  }
 ],
 "metadata": {
  "kernelspec": {
   "display_name": "3.3.0+1326_poptorch",
   "language": "python",
   "name": "python3"
  },
  "language_info": {
   "codemirror_mode": {
    "name": "ipython",
    "version": 3
   },
   "file_extension": ".py",
   "mimetype": "text/x-python",
   "name": "python",
   "nbconvert_exporter": "python",
   "pygments_lexer": "ipython3",
   "version": "3.8.10"
  }
 },
 "nbformat": 4,
 "nbformat_minor": 5
}
