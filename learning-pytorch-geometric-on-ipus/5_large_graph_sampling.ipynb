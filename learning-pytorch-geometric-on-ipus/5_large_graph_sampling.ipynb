{
 "cells": [
  {
   "attachments": {},
   "cell_type": "markdown",
   "id": "d2b361bf",
   "metadata": {},
   "source": [
    "Copyright (c) 2023 Graphcore Ltd. All rights reserved."
   ]
  },
  {
   "attachments": {},
   "cell_type": "markdown",
   "id": "1847b0b2",
   "metadata": {},
   "source": [
    "# Sampling large graphs on IPUs using PyTorch Geometric\n",
    "\n",
    "\n",
    "\n",
    "[![Run on Gradient](../../gradient-badge.svg)](https://console.paperspace.com/github/<runtime-repo>?machine=Free-IPU-POD4&container=<dockerhub-image>&file=<path-to-file-in-repo>)  [![Join our Slack Community](https://img.shields.io/badge/Slack-Join%20Graphcore's%20Community-blue?style=flat-square&logo=slack)](https://www.graphcore.ai/join-community)\n",
    "\n",
    ">### Link for the Run on Gradient button\n",
    "\n",
    "> Once the notebook is available on Paperspace Gradient we like to have a \"Run on Gradient\" button. The link for the button needs to be configured. The example above shows the convention for how to form the link. \n",
    "\n",
    "> - The SVG image file for the button should be a local file in the repo (as shown in the example above). You can also use the [image file on Paperspace](https://assets.paperspace.io/img/gradient-badge.svg) but this is not reliable as Github's caching occasionally breaks.\n",
    "> - `<runtime-repo>` represents the \"organisation/repository-name\" of the public repository that contains the notebook.\n",
    "> - `<dockerhub-image>` is the name and tag of a public Docker Hub container.\n",
    "> - `<path-to-file-in-repo>` is the location of the notebook inside the repo starting with a leading `/`.\n",
    ">\n",
    "> Note the part after the `?` in the link needs to be URL-encoded. You can use an online [URL encoder](https://www.urlencoder.org/) or you can use the [Paperspace link builder](https://docs.paperspace.com/gradient/notebooks/run-on-gradient/).\n",
    ">\n",
    "> Example of a fully-formed link for the \"Run on Gradient\" button:\n",
    "> https://console.paperspace.com/github/gradient-ai/Graphcore-Pytorch?machine=Free-IPU-POD4&container=graphcore/pytorch-jupyter:3.1.0-ubuntu-20.04-20230104&file=/temporal-graph-networks/Train_TGN.ipynb\n",
    "\n",
    "In the previous tutorials we have been focusing on working with datasets comprising many small graphs. For some modern applications, however, we will need to operate on larger graphs characterised by increasing number of nodes (range 10M-10B) and edges (range 100M-100B): imagine having to build a recommendation system for a social network type of input graph, which can be constituted by a huge number of users (nodes) and relationships (edges). \n",
    "\n",
    "We might think of two routes to approach large graph problems:\n",
    "- full batch training: this is the approach we have been using in [Tutorial 2](https://ipu.dev/O2u8MZ) when working with a single, relatively small graph. The aim is to generate embeddings for all the nodes at the same time: this entails keeping in memory the entire graph as well as all the node embeddings. If the size of the computational graph increases, the amount of memory required to hold graph and embeddings become challenging for modern accelerators. \n",
    "- mini-batching: alternatively, we can sample mini-batches from the graph similarly to what we did in [Tutorial 3](https://ipu.dev/azOCIN) or [Tutorial 4](https://ipu.dev/lDMtKe) where the dataset was a collection of many small graphs. When sampling from a larger graph, however, we need to be extra careful to reduce the chances of the sampled nodes to be isolated from each other. Should that be the case, the mini-batches would no longer be representative of the whole graph which would negatively impact our machine learning task. The need here is to engineer effective sampling methods to make sure that the message passing scheme is still effective with large graphs. \n",
    "\n",
    "In this tutorial, we will demonstrate two approaches widely used in literature to cope with increasing graph size by performing message passage over mini-batches. We will leverage the Graphcore IPU architecture, which is a great fit for GNNs applications as explained in this [blog post](https://www.graphcore.ai/posts/accelerating-pyg-on-ipus-unleash-the-power-of-graph-neural-networks), and the PyTorch Geometric (PyG) integration for IPUs. You will learn how to: \n",
    "- effectively cluster nodes of your input graph; \n",
    "- sample neighbouring nodes of your input graph; \n",
    "- then, for both sampling methods, train your GNN on IPUs to classify papers from the PubMed dataset.\n",
    "\n",
    "This notebook assumes some familiarity with PopTorch as well as PyTorch Geometric (PyG). For additional resources please consult:\n",
    "- [PopTorch Documentation](https://docs.graphcore.ai/projects/poptorch-user-guide/en/latest/index.html),\n",
    "- [PopTorch Examples and Tutorials](https://docs.graphcore.ai/en/latest/examples.html#pytorch),\n",
    "- [PyTorch Geometric](https://pytorch-geometric.readthedocs.io/en/latest/),\n",
    "- [PopTorch Geometric Documentation](https://docs.graphcore.ai/projects/poptorch-geometric-user-guide/en/latest/index.html).\n",
    "\n",
    "[![Join our Slack\n",
    "Community](https://img.shields.io/badge/Slack-Join%20Graphcore's%20Community-blue?style=flat-square&logo=slack)](https://www.graphcore.ai/join-community)"
   ]
  },
  {
   "cell_type": "code",
   "execution_count": 2,
   "id": "0279f464",
   "metadata": {},
   "outputs": [],
   "source": [
    "# Make imported python modules automatically reload when the files are changed\n",
    "# needs to be before the first import.\n",
    "%load_ext autoreload\n",
    "%autoreload 2\n",
    "# TODO: remove at the end of notebook development"
   ]
  },
  {
   "attachments": {},
   "cell_type": "markdown",
   "id": "db890f52",
   "metadata": {},
   "source": [
    "## Environment setup\n",
    "\n",
    "The best way to run this demo is on Paperspace Gradient's cloud IPUs because everything is already set up for you. To run the demo using other IPU hardware, you need to have the Poplar SDK enabled and the latest PopTorch Geometric wheel installed. Refer to the [getting started guide](https://docs.graphcore.ai/en/latest/getting-started.html#getting-started) for your system for details on how to enable the Poplar SDK and install the PopTorch wheels."
   ]
  },
  {
   "attachments": {},
   "cell_type": "markdown",
   "id": "fbe9927c",
   "metadata": {},
   "source": [
    "> You can install requirements directly from a notebook. You can:\n",
    ">\n",
    "> 1. Run commands by starting the line in a code cell with `!`, as shown in the first code block below. \n",
    "> 2. Install Python requirements with the `%pip` [magic command](https://ipython.readthedocs.io/en/stable/interactive/magics.html).\n",
    "> \n",
    "> Use these methods to make it easier for your user to set up the environment they need."
   ]
  },
  {
   "cell_type": "code",
   "execution_count": 29,
   "id": "5c72d24a",
   "metadata": {},
   "outputs": [
    {
     "name": "stdout",
     "output_type": "stream",
     "text": [
      "Note: you may need to restart the kernel to use updated packages.\n"
     ]
    }
   ],
   "source": [
    "%pip install -q -r requirements.txt"
   ]
  },
  {
   "attachments": {},
   "cell_type": "markdown",
   "id": "b33a842f",
   "metadata": {},
   "source": [
    "To make it easier for you to run this tutorial, we read in some configuration related to the environment you are running the notebook in."
   ]
  },
  {
   "cell_type": "code",
   "execution_count": 4,
   "id": "965ca0a6",
   "metadata": {},
   "outputs": [],
   "source": [
    "import os\n",
    "\n",
    "dataset_directory = os.getenv(\"DATASETS_DIR\", \"data\")"
   ]
  },
  {
   "attachments": {},
   "cell_type": "markdown",
   "id": "3da127aa",
   "metadata": {},
   "source": [
    "## Clustering the computation graph for node classification\n",
    "\n",
    "The idea behind this method is that we can sample the entire input graph in smaller sub-graphs that individually fit in memory and on which we can calculate layer-wise embeddings, performing message passing on one sub-graph at the time.\n",
    "The sub-graph should also retain the connectivity of the original graph to avoid information loss: to achieve that we make sure that the small communities the original graph is made up of are mirrored in the generated sub-graphs.\n",
    "\n",
    "A well known approach is [Cluster-GCN](https://arxiv.org/abs/1905.07953). The steps are:\n",
    "- pre-processing: given a large graph, we partition it into group of nodes we name sub-graphs.\n",
    "- mini-batch training: we load one sub-graph at the time in the device memory and apply message passing over it to compute the loss.\n",
    "\n",
    "You can also check out our dedicated [Cluster-GCN example.](https://ipu.dev/PmAtSw)"
   ]
  },
  {
   "attachments": {},
   "cell_type": "markdown",
   "id": "a3efcc79",
   "metadata": {},
   "source": [
    "### Cluster-GCN in PyG on IPUs\n",
    "\n",
    "First, let's load the `PubMed` dataset from the `Planetoid` node classification benchmarking suite and print some statistics about it."
   ]
  },
  {
   "cell_type": "code",
   "execution_count": 5,
   "id": "ed8b9c02",
   "metadata": {},
   "outputs": [
    {
     "name": "stdout",
     "output_type": "stream",
     "text": [
      "Dataset: PubMed() \n",
      "Number of graphs: 1: \n",
      "Number of features: 500 \n",
      "Number of classes: 3 \n",
      "Data(x=[19717, 500], edge_index=[2, 108365], y=[19717], train_mask=[19717], val_mask=[19717], test_mask=[19717])\n",
      "Total number of nodes: 19717\n",
      "Total number of edges: 108365\n"
     ]
    }
   ],
   "source": [
    "import torch\n",
    "from torch_geometric.datasets import Planetoid\n",
    "import torch_geometric.transforms as T\n",
    "\n",
    "transform = T.Compose([T.NormalizeFeatures(), T.AddSelfLoops()])\n",
    "\n",
    "dataset = Planetoid(root=dataset_directory, name=\"PubMed\", transform=transform)\n",
    "data = dataset[0]  # Access the graph as Data object\n",
    "\n",
    "print(f\"Dataset: {dataset} \")\n",
    "print(f\"Number of graphs: {len(dataset)}: \")\n",
    "print(f\"Number of features: {dataset.num_features} \")\n",
    "print(f\"Number of classes: {dataset.num_classes} \")\n",
    "\n",
    "print(data)\n",
    "\n",
    "print(f\"Total number of nodes: {data.num_nodes}\")\n",
    "print(f\"Total number of edges: {data.num_edges}\")"
   ]
  },
  {
   "attachments": {},
   "cell_type": "markdown",
   "id": "72793ce7",
   "metadata": {},
   "source": [
    "The dataset consists of 19717 scientific publications from the PubMed database relative to diabetes classified into one of three classes. This is not a huge dataset, but it will serve our purpose to demonstrate the sampling approaches. \n",
    "Let's now proceed with the clustering. The first step is to use `ClusterData` to partition our `Data` object into `num_clusters` clusters: under the hood it leverages the METIS algorithm to obtain the split."
   ]
  },
  {
   "cell_type": "code",
   "execution_count": 6,
   "id": "47b5129e",
   "metadata": {},
   "outputs": [
    {
     "name": "stdout",
     "output_type": "stream",
     "text": [
      "The dataset has been split in 100 clusters\n"
     ]
    }
   ],
   "source": [
    "from torch_geometric.loader import ClusterData, ClusterLoader\n",
    "\n",
    "num_clusters = 100\n",
    "clusters_per_batch = 10\n",
    "\n",
    "cluster_data = ClusterData(\n",
    "    data, num_parts=num_clusters, recursive=False, save_dir=dataset_directory\n",
    ")\n",
    "\n",
    "print(f\"The dataset has been split in {len(cluster_data)} clusters\")"
   ]
  },
  {
   "attachments": {},
   "cell_type": "markdown",
   "id": "c6730e63",
   "metadata": {},
   "source": [
    "We can now inspect the composition of a couple of clusters, for example:"
   ]
  },
  {
   "cell_type": "code",
   "execution_count": 7,
   "id": "a555d17c",
   "metadata": {},
   "outputs": [
    {
     "data": {
      "text/plain": [
       "(Data(x=[196, 500], y=[196], train_mask=[196], val_mask=[196], test_mask=[196], edge_index=[2, 626]),\n",
       " Data(x=[202, 500], y=[202], train_mask=[202], val_mask=[202], test_mask=[202], edge_index=[2, 706]))"
      ]
     },
     "execution_count": 7,
     "metadata": {},
     "output_type": "execute_result"
    }
   ],
   "source": [
    "cluster_data[50], cluster_data[60]"
   ]
  },
  {
   "attachments": {},
   "cell_type": "markdown",
   "id": "f13cbeae",
   "metadata": {},
   "source": [
    "You will observe how each cluster contains a different number of nodes and edges, which we will need to keep in mind when preparing the mini-batches to feed into the IPU. The IPU relies on Ahead-Of-Time (AOT) compilation hence it needs the input tensors to be fixed sizes. The mini-batches that we will load onto the IPU will be the result of combining clusters together, hence each mini-batch will have a different size.  We need to make sure that the mini-batches are fixed in size so they can be loaded correctly into the IPU. \n",
    "\n",
    "As first step to achieve fixed sizes for the IPU we can use the PyG `ClusterLoader` which implements the stochastic partitioning scheme in CLuster-GCN. "
   ]
  },
  {
   "cell_type": "code",
   "execution_count": 8,
   "id": "7b9bd05c",
   "metadata": {},
   "outputs": [
    {
     "name": "stdout",
     "output_type": "stream",
     "text": [
      "next(dynamic_dataloader_iter) = Data(x=[1948, 500], y=[1948], train_mask=[1948], val_mask=[1948], test_mask=[1948], edge_index=[2, 7104])\n",
      "next(dynamic_dataloader_iter) = Data(x=[1968, 500], y=[1968], train_mask=[1968], val_mask=[1968], test_mask=[1968], edge_index=[2, 8366])\n"
     ]
    }
   ],
   "source": [
    "dynamic_size_dataloader = ClusterLoader(\n",
    "    cluster_data,\n",
    "    batch_size=clusters_per_batch,\n",
    ")\n",
    "\n",
    "dynamic_dataloader_iter = iter(dynamic_size_dataloader)\n",
    "print(f\"{next(dynamic_dataloader_iter) = }\")\n",
    "print(f\"{next(dynamic_dataloader_iter) = }\")"
   ]
  },
  {
   "attachments": {},
   "cell_type": "markdown",
   "id": "220a759d",
   "metadata": {},
   "source": [
    "Next, we leverage the information contained in our mini-batches to calculate an approximation of the maximum number of nodes and edges in our dataset, to be applied to our fixed size mini-batches for the IPU. To do so, we can use the helper method `FixedSizeOptions.from_loader` which handles this calculation by sampling the previously defined dynamic data loader under the hood for us. Then, it will initialise a `FixedSizeOption` object that we can use at a later stage to pad our mini-batches up to the calculated fixed size. "
   ]
  },
  {
   "cell_type": "code",
   "execution_count": 9,
   "id": "a1da87a2",
   "metadata": {},
   "outputs": [],
   "source": [
    "import poptorch\n",
    "from poptorch_geometric import FixedSizeOptions, OverSizeStrategy\n",
    "\n",
    "fixed_size_options = FixedSizeOptions.from_loader(\n",
    "    dynamic_size_dataloader, sample_limit=10\n",
    ")"
   ]
  },
  {
   "attachments": {},
   "cell_type": "markdown",
   "id": "2b3edafb",
   "metadata": {},
   "source": [
    "To comply with the AOT compilation requirement on IPUs we will use `FixedSizeClusterLoader` from PopTorch Geometric: it will produce fixed size mini-batches by padding to the previously calculated approximate maximum number of nodes and edges. "
   ]
  },
  {
   "cell_type": "code",
   "execution_count": 10,
   "id": "4665571e",
   "metadata": {},
   "outputs": [],
   "source": [
    "from poptorch_geometric.cluster_loader import FixedSizeClusterLoader\n",
    "\n",
    "train_dataloader = FixedSizeClusterLoader(\n",
    "    cluster_data,\n",
    "    batch_size=clusters_per_batch,\n",
    "    fixed_size_options=fixed_size_options,\n",
    "    over_size_strategy=OverSizeStrategy.TrimNodesAndEdges,\n",
    "    num_workers=8,\n",
    ")"
   ]
  },
  {
   "attachments": {},
   "cell_type": "markdown",
   "id": "aa8c3ef2",
   "metadata": {},
   "source": [
    "Let's now inspect a couple of mini-batches loaded by the dataloader:"
   ]
  },
  {
   "cell_type": "code",
   "execution_count": 11,
   "id": "6aae8c34",
   "metadata": {},
   "outputs": [
    {
     "name": "stdout",
     "output_type": "stream",
     "text": [
      "next(train_dataloader_iter) = DataBatch(x=[1996, 500], edge_index=[2, 14891], y=[1996], batch=[1996], edges_mask=[14891], graphs_mask=[2], nodes_mask=[1996], ptr=[3], test_mask=[1996], train_mask=[1996], val_mask=[1996], num_nodes=1996, num_edges=14891)\n",
      "next(train_dataloader_iter) = DataBatch(x=[1996, 500], edge_index=[2, 14891], y=[1996], batch=[1996], edges_mask=[14891], graphs_mask=[2], nodes_mask=[1996], ptr=[3], test_mask=[1996], train_mask=[1996], val_mask=[1996], num_nodes=1996, num_edges=14891)\n"
     ]
    }
   ],
   "source": [
    "train_dataloader_iter = iter(train_dataloader)\n",
    "print(f\"{next(train_dataloader_iter) = }\")\n",
    "print(f\"{next(train_dataloader_iter) = }\")"
   ]
  },
  {
   "attachments": {},
   "cell_type": "markdown",
   "id": "f3587482",
   "metadata": {},
   "source": [
    "As expected, all the tensor shapes are consistent across mini-batches. Now that we have clustered and loaded the data compatibly with the AOT requirements of the IPU, the next step is to train a GNN model to classify the papers in our dataset."
   ]
  },
  {
   "attachments": {},
   "cell_type": "markdown",
   "id": "10c6a0e7",
   "metadata": {},
   "source": [
    "### Training a GNN to classify papers in the PubMed dataset\n",
    "\n",
    "The first step is to define a GNN model to carry out our classification task. We can easily re-use one of the models we defined in the previous tutorials, for example a simple GCN-based one, as using clustering does not impact model definition:"
   ]
  },
  {
   "cell_type": "code",
   "execution_count": 13,
   "id": "a23bd665",
   "metadata": {},
   "outputs": [],
   "source": [
    "import torch.nn.functional as F\n",
    "from torch.nn import Linear\n",
    "from torch_geometric.nn import GCNConv\n",
    "\n",
    "\n",
    "class GCN(torch.nn.Module):\n",
    "    def __init__(self, in_channels, out_channels) -> None:\n",
    "        super(GCN, self).__init__()\n",
    "        torch.manual_seed(1234)\n",
    "        self.conv1 = GCNConv(in_channels, 64, add_self_loops=False)\n",
    "        self.conv2 = GCNConv(64, out_channels, add_self_loops=False)\n",
    "\n",
    "    def forward(self, x, edge_index, train_mask=None, y=None):\n",
    "        x = self.conv1(x, edge_index).relu()\n",
    "        x = F.dropout(x, p=0.5, training=self.training)\n",
    "        x = self.conv2(x, edge_index)\n",
    "        x = F.log_softmax(x, dim=-1)\n",
    "\n",
    "        if self.training:\n",
    "            y = torch.where(train_mask, y, -100)\n",
    "            loss = F.nll_loss(x, y)\n",
    "            return x, loss\n",
    "        return x"
   ]
  },
  {
   "attachments": {},
   "cell_type": "markdown",
   "id": "4e8c6c9e",
   "metadata": {},
   "source": [
    "We can now create the PopTorch model and train it on the IPU:"
   ]
  },
  {
   "cell_type": "code",
   "execution_count": 14,
   "id": "d8cd7d02",
   "metadata": {},
   "outputs": [
    {
     "data": {
      "text/plain": [
       "GCN(\n",
       "  (conv1): GCNConv(500, 64)\n",
       "  (conv2): GCNConv(64, 3)\n",
       ")"
      ]
     },
     "execution_count": 14,
     "metadata": {},
     "output_type": "execute_result"
    }
   ],
   "source": [
    "model = GCN(dataset.num_features, dataset.num_classes)\n",
    "model"
   ]
  },
  {
   "cell_type": "code",
   "execution_count": 15,
   "id": "55598993",
   "metadata": {},
   "outputs": [
    {
     "data": {
      "text/plain": [
       "=================================================================\n",
       "Layer (type:depth-idx)                   Param #\n",
       "=================================================================\n",
       "PoplarExecutor                           --\n",
       "├─GCNConv: 1-1                           64\n",
       "│    └─SumAggregation: 2-1               --\n",
       "│    └─Linear: 2-2                       32,000\n",
       "├─GCNConv: 1-2                           3\n",
       "│    └─SumAggregation: 2-3               --\n",
       "│    └─Linear: 2-4                       192\n",
       "=================================================================\n",
       "Total params: 32,259\n",
       "Trainable params: 32,259\n",
       "Non-trainable params: 0\n",
       "================================================================="
      ]
     },
     "execution_count": 15,
     "metadata": {},
     "output_type": "execute_result"
    }
   ],
   "source": [
    "from torchinfo import summary\n",
    "\n",
    "model.train()\n",
    "optimizer = torch.optim.AdamW(model.parameters(), lr=0.005)\n",
    "poptorch_model = poptorch.trainingModel(model, optimizer=optimizer)\n",
    "\n",
    "summary(poptorch_model)"
   ]
  },
  {
   "attachments": {},
   "cell_type": "markdown",
   "id": "4ad831c7",
   "metadata": {},
   "source": [
    "Training loop looks like this:"
   ]
  },
  {
   "cell_type": "code",
   "execution_count": 16,
   "id": "9fcc98e5",
   "metadata": {},
   "outputs": [
    {
     "name": "stderr",
     "output_type": "stream",
     "text": [
      "  0%|          | 0/10 [00:00<?, ?it/s][16:12:51.362] [poptorch:cpp] [warning] [DISPATCHER] Type coerced from Long to Int for tensor id 8\n",
      "[16:12:51.364] [poptorch:cpp] [warning] [DISPATCHER] Type coerced from Long to Int for tensor id 10\n",
      "[16:12:51.405] [poptorch:cpp] [warning] %108 : float = prim::Constant() # /tmp/ipykernel_2212910/4056117028.py:14:0: torch.float64 constant cannot be represented as a torch.float32\n",
      "[16:12:51.405] [poptorch:cpp] [warning] %234 : float = prim::Constant() # /tmp/ipykernel_2212910/4056117028.py:16:0: torch.float64 constant cannot be represented as a torch.float32\n",
      "Graph compilation: 100%|██████████| 100/100 [00:28<00:00]\n",
      "Epoch 0 training loss: 1.150153: 100%|██████████| 10/10 [00:30<00:00,  3.10s/it]\n",
      "Epoch 1 training loss: 1.146302: 100%|██████████| 10/10 [00:00<00:00, 123.03it/s]\n",
      "Epoch 2 training loss: 1.100974: 100%|██████████| 10/10 [00:00<00:00, 124.32it/s]\n",
      "Epoch 3 training loss: 1.082338: 100%|██████████| 10/10 [00:00<00:00, 129.76it/s]\n",
      "Epoch 4 training loss: 1.046458: 100%|██████████| 10/10 [00:00<00:00, 120.75it/s]\n"
     ]
    }
   ],
   "source": [
    "from tqdm import tqdm\n",
    "\n",
    "num_epochs = 5\n",
    "train_losses = torch.empty(num_epochs, len(train_dataloader))\n",
    "\n",
    "for epoch in range(num_epochs):\n",
    "    bar = tqdm(train_dataloader)\n",
    "    for i, data in enumerate(bar):\n",
    "        _, mini_batch_loss = poptorch_model(\n",
    "            data.x, data.edge_index, data.train_mask, data.y\n",
    "        )\n",
    "        train_losses[epoch, i] = float(mini_batch_loss.mean())\n",
    "        bar.set_description(\n",
    "            f\"Epoch {epoch} training loss: {train_losses[epoch, i].item():0.6f}\"\n",
    "        )"
   ]
  },
  {
   "attachments": {},
   "cell_type": "markdown",
   "id": "1990afca",
   "metadata": {},
   "source": [
    "We can now detach the training model from the IPU:"
   ]
  },
  {
   "cell_type": "code",
   "execution_count": 17,
   "id": "9f3d8714",
   "metadata": {},
   "outputs": [],
   "source": [
    "poptorch_model.detachFromDevice()"
   ]
  },
  {
   "attachments": {},
   "cell_type": "markdown",
   "id": "b03f16bc",
   "metadata": {},
   "source": [
    "Finally we can plot the mean of the loss to verify it decreases nicely:"
   ]
  },
  {
   "cell_type": "code",
   "execution_count": 18,
   "id": "5e4e88ca",
   "metadata": {},
   "outputs": [
    {
     "data": {
      "image/png": "[encoded data removed]",
      "text/plain": [
       "<Figure size 960x720 with 1 Axes>"
      ]
     },
     "metadata": {},
     "output_type": "display_data"
    }
   ],
   "source": [
    "import matplotlib.pyplot as plt\n",
    "\n",
    "plt.plot(train_losses.mean(dim=1))\n",
    "plt.xlabel(\"Epoch\")\n",
    "plt.ylabel(\"Mean loss\")\n",
    "plt.legend([\"Mean training loss per epoch\"])\n",
    "plt.xticks(torch.arange(0, num_epochs, 2))\n",
    "plt.gcf().set_dpi(150)"
   ]
  },
  {
   "attachments": {},
   "cell_type": "markdown",
   "id": "92e88f45",
   "metadata": {},
   "source": [
    "## Neighbourhood sampling the computation graph for node classification\n",
    "\n",
    "The neighbourhood sampling approach was firstly introduced in the [GraphSAGE](https://arxiv.org/abs/1706.02216v4) (SAmple and AGrEgate) paper for creating inductive node embeddings: the idea here is to learn how to aggregate node feature information from a node's K-hop neighbourhood, where K is the number of layers of our GNN and the number of iterations we want to perform. This means we need relatively small memory requirements: to generate the embeddings of a node we only need to know the K-hop neighbourhood structure around that node and the relative nodes' features, we don't need to store the rest of the graph. In this way, the mini-batches are going to be made of K-hop neighbourhoods which should fit nicely into the device's memory. \n",
    "\n",
    "### Neighbour sampling in PyG on IPUs \n",
    "\n",
    "PyG provides the `NeighborLoader`, a data loader that performs neighbour sampling as per the GraphSAGE paper, allowing for mini-batching when full-batch update is not feasible. We can select how many neighboring nodes we'd like to be sampled for each node in each iteration, as well as the number of iterations (or number of hops) we'd like to go through. In this case, the `batch_size` argument represents how many nodes we want to sample from, which we can agree to refer to as 'target' nodes. Let's take a look at how to implement this in code: "
   ]
  },
  {
   "cell_type": "code",
   "execution_count": 19,
   "id": "39b97a6c",
   "metadata": {},
   "outputs": [
    {
     "name": "stdout",
     "output_type": "stream",
     "text": [
      "next(train_sampling_iter) = DataBatch(x=[63, 500], edge_index=[2, 71], y=[63], edges_mask=[71], graphs_mask=[2], nodes_mask=[63], ptr=[3], test_mask=[63], train_mask=[63], val_mask=[63], num_nodes=63, num_edges=14891, n_id=[63], e_id=[71], input_id=[5], batch_size=5)\n",
      "next(train_sampling_iter) = DataBatch(x=[72, 500], edge_index=[2, 83], y=[72], edges_mask=[83], graphs_mask=[2], nodes_mask=[72], ptr=[3], test_mask=[72], train_mask=[72], val_mask=[72], num_nodes=72, num_edges=14891, n_id=[72], e_id=[83], input_id=[5], batch_size=5)\n",
      "Original graph node index of each target node in the mini-batch: tensor([10, 11, 12, 13, 14])\n",
      "Original graph node index of each node in the mini-batch: tensor([  10,   11,   12,   13,   14,   61,  106,   49,  163,   27,  129,    5,\n",
      "        1466,  176,   25,  125,   39, 1366,   29,  185,  190, 1968,  139, 1477,\n",
      "         122,  111,   73,   33, 1831,  201,  590, 1330,  101,   77,  412, 1723,\n",
      "        1290, 1549, 1534, 1425, 1383,  770, 1452, 1621, 1910,  124,   76,   36,\n",
      "        1639, 1100, 1092,  108])\n"
     ]
    },
    {
     "name": "stderr",
     "output_type": "stream",
     "text": [
      "/localdata/ariannas/repos/tests/venv_test/lib/python3.8/site-packages/torch_geometric/sampler/neighbor_sampler.py:59: UserWarning: Using 'NeighborSampler' without a 'pyg-lib' installation is deprecated and will be removed soon. Please install 'pyg-lib' for accelerated neighborhood sampling\n",
      "  warnings.warn(f\"Using '{self.__class__.__name__}' without a \"\n"
     ]
    }
   ],
   "source": [
    "from torch_geometric.loader import NeighborLoader\n",
    "\n",
    "num_neighbors = 10\n",
    "num_iterations = 2\n",
    "batch_size = 5\n",
    "\n",
    "train_loader_sampling = NeighborLoader(\n",
    "    data,\n",
    "    # shuffle = True,\n",
    "    num_neighbors=[num_neighbors] * num_iterations,\n",
    "    batch_size=batch_size,\n",
    ")\n",
    "\n",
    "train_sampling_iter = iter(train_loader_sampling)\n",
    "print(f\"{next(train_sampling_iter) = }\")\n",
    "print(f\"{next(train_sampling_iter) = }\")\n",
    "\n",
    "sampled_data = next(train_sampling_iter)\n",
    "print(\n",
    "    f\"Original graph node index of each target node in the mini-batch: {sampled_data.input_id}\"\n",
    ")\n",
    "print(\n",
    "    f\"Original graph node index of each node in the mini-batch: {sampled_data.n_id}\"\n",
    ")  # shows the target nodes are the first 5"
   ]
  },
  {
   "attachments": {},
   "cell_type": "markdown",
   "id": "c6bc2372",
   "metadata": {},
   "source": [
    "\n",
    "In PyG, sampled nodes are sorted based on the order they were sampled. In fact, from inspecting the elements in the iterator, we can see how the first `batch_size` nodes (5 in this case) in the sampled sub-graph are the target ones, in other terms they represent the set of original mini-batch nodes. Those nodes are the ones we will want to use for training later on.\n",
    "To comply with the AOT requirement in PopTorch on IPUs, we need to take action on those variable tensor sizes shown in the above cell and make them fixed size. To this purpose, we leverage the `FixedSizeNeighborLoader` in PopTorch Geometric: under the hood, this class takes the sub-graphs generated by the PyG `NeighborLoader` and then applies the PopTorch Geometric `FixedSizeCollater` to make the resulting shapes of the sub-graphs fixed size across sub-graphs."
   ]
  },
  {
   "cell_type": "code",
   "execution_count": 28,
   "id": "371e5ef6",
   "metadata": {},
   "outputs": [
    {
     "name": "stdout",
     "output_type": "stream",
     "text": [
      "next(train_loader_ipu_iter) = DataBatch(x=[94, 500], edge_index=[2, 14892], y=[94], batch=[94], e_id=[87], input_id=[15], n_id=[94], ptr=[4], test_mask=[94], train_mask=[94], val_mask=[94], num_nodes=94, num_edges=14892)\n",
      "next(train_loader_ipu_iter) = DataBatch(x=[94, 500], edge_index=[2, 14892], y=[94], batch=[94], e_id=[89], input_id=[15], n_id=[94], ptr=[4], test_mask=[94], train_mask=[94], val_mask=[94], num_nodes=94, num_edges=14892)\n",
      "next(train_loader_ipu_iter).input_id = tensor([10, 11, 12, 13, 14,  0,  0,  0,  0,  0,  0,  0,  0,  0,  0])\n"
     ]
    },
    {
     "name": "stderr",
     "output_type": "stream",
     "text": [
      "/localdata/ariannas/repos/tests/venv_test/lib/python3.8/site-packages/torch_geometric/sampler/neighbor_sampler.py:59: UserWarning: Using 'NeighborSampler' without a 'pyg-lib' installation is deprecated and will be removed soon. Please install 'pyg-lib' for accelerated neighborhood sampling\n",
      "  warnings.warn(f\"Using '{self.__class__.__name__}' without a \"\n"
     ]
    }
   ],
   "source": [
    "import torch_geometric.data.storage\n",
    "\n",
    "import torch\n",
    "from torch_geometric.datasets import Planetoid\n",
    "from poptorch_geometric.neighbor_loader import FixedSizeNeighborLoader\n",
    "import torch_geometric.transforms as T\n",
    "\n",
    "transform = T.Compose([T.NormalizeFeatures(), T.AddSelfLoops()])\n",
    "\n",
    "dataset = Planetoid(root=dataset_directory, name=\"PubMed\", transform=transform)\n",
    "data = dataset[0]  # Access the graph as Data object\n",
    "\n",
    "fixed_size_options = FixedSizeOptions.from_loader(\n",
    "    train_loader_sampling, sample_limit=10\n",
    ")\n",
    "\n",
    "# TO DO remove when done testing the FixedSizeNeighborLoader\n",
    "# fixed_size_options = FixedSizeOptions(\n",
    "#    num_nodes = 1000,\n",
    "#    num_edges = 50000,\n",
    "# )\n",
    "\n",
    "train_loader_ipu = FixedSizeNeighborLoader(\n",
    "    data,\n",
    "    num_neighbors=[num_neighbors] * num_iterations,\n",
    "    fixed_size_options=fixed_size_options,\n",
    "    over_size_strategy=OverSizeStrategy.TrimNodesAndEdges,\n",
    "    batch_size=batch_size,\n",
    ")\n",
    "\n",
    "train_loader_ipu_iter = iter(train_loader_ipu)\n",
    "print(f\"{next(train_loader_ipu_iter) = }\")\n",
    "print(f\"{next(train_loader_ipu_iter) = }\")\n",
    "print(f\"{next(train_loader_ipu_iter).input_id = }\")"
   ]
  },
  {
   "attachments": {},
   "cell_type": "markdown",
   "id": "22d8acff",
   "metadata": {},
   "source": [
    "As we can see, the resulting sub-graphs and tensor shapes have now fixed sizes! "
   ]
  },
  {
   "attachments": {},
   "cell_type": "markdown",
   "id": "7baa712e",
   "metadata": {},
   "source": [
    "### Training a GNN to classify papers in the PubMed dataset"
   ]
  },
  {
   "attachments": {},
   "cell_type": "markdown",
   "id": "9608df53",
   "metadata": {},
   "source": [
    "We will use a slight modification of the model we defined for the clustering approach demonstration and repeat the same steps to carry out our node classification task. We will leverage the `SAGEConv()` PyG layer to perform one iteration of the aggregate-and-update step. The selected aggregation scheme is the default one, a mean. The main aspect to be careful about is selecting which nodes we actually want to consider for training in each sub-graph. We need to make sure we train on those nodes we defined as the target ones and that we leave out of the loss calculation the padding sub-graph in each sub-graph. "
   ]
  },
  {
   "cell_type": "code",
   "execution_count": 21,
   "id": "93f319d2",
   "metadata": {},
   "outputs": [],
   "source": [
    "from torch_geometric.nn import SAGEConv\n",
    "\n",
    "\n",
    "class GraphSAGE(torch.nn.Module):\n",
    "    def __init__(self, in_channels, out_channels) -> None:\n",
    "        super(GraphSAGE, self).__init__()\n",
    "        torch.manual_seed(1234)\n",
    "        self.conv1 = SAGEConv(in_channels, 64, add_self_loops=False)\n",
    "        self.conv2 = SAGEConv(64, out_channels, add_self_loops=False)\n",
    "\n",
    "    def forward(self, x, edge_index, train_mask=None, y=None):\n",
    "        x = self.conv1(x, edge_index).relu()\n",
    "        x = F.dropout(x, p=0.5, training=self.training)\n",
    "        x = self.conv2(x, edge_index)\n",
    "        x = F.log_softmax(x, dim=-1)\n",
    "\n",
    "        if self.training:\n",
    "            loss = F.nll_loss(\n",
    "                x[:batch_size], y[:batch_size]\n",
    "            )  # Select only the target nodes for loss calculation, leave out the padding sub-graph in each sub-graph\n",
    "            return x, loss\n",
    "        return x"
   ]
  },
  {
   "cell_type": "code",
   "execution_count": 22,
   "id": "dd2290b0",
   "metadata": {},
   "outputs": [
    {
     "data": {
      "text/plain": [
       "GraphSAGE(\n",
       "  (conv1): SAGEConv(500, 64, aggr=mean)\n",
       "  (conv2): SAGEConv(64, 3, aggr=mean)\n",
       ")"
      ]
     },
     "execution_count": 22,
     "metadata": {},
     "output_type": "execute_result"
    }
   ],
   "source": [
    "model_sampling = GraphSAGE(dataset.num_features, dataset.num_classes)\n",
    "model_sampling"
   ]
  },
  {
   "cell_type": "code",
   "execution_count": 23,
   "id": "7d669edc",
   "metadata": {},
   "outputs": [
    {
     "data": {
      "text/plain": [
       "=================================================================\n",
       "Layer (type:depth-idx)                   Param #\n",
       "=================================================================\n",
       "PoplarExecutor                           --\n",
       "├─SAGEConv: 1-1                          --\n",
       "│    └─MeanAggregation: 2-1              --\n",
       "│    └─Linear: 2-2                       32,064\n",
       "│    └─Linear: 2-3                       32,000\n",
       "├─SAGEConv: 1-2                          --\n",
       "│    └─MeanAggregation: 2-4              --\n",
       "│    └─Linear: 2-5                       195\n",
       "│    └─Linear: 2-6                       192\n",
       "=================================================================\n",
       "Total params: 64,451\n",
       "Trainable params: 64,451\n",
       "Non-trainable params: 0\n",
       "================================================================="
      ]
     },
     "execution_count": 23,
     "metadata": {},
     "output_type": "execute_result"
    }
   ],
   "source": [
    "from torchinfo import summary\n",
    "\n",
    "model_sampling.train()\n",
    "optimizer = poptorch.optim.Adam(model_sampling.parameters(), lr=0.001)\n",
    "poptorch_model_sampling = poptorch.trainingModel(model_sampling, optimizer=optimizer)\n",
    "\n",
    "summary(poptorch_model_sampling)"
   ]
  },
  {
   "cell_type": "code",
   "execution_count": 24,
   "id": "4dbe3ad2",
   "metadata": {},
   "outputs": [
    {
     "name": "stdout",
     "output_type": "stream",
     "text": [
      "3943\n"
     ]
    },
    {
     "name": "stderr",
     "output_type": "stream",
     "text": [
      "  0%|          | 0/3943 [00:00<?, ?it/s][16:20:32.159] [poptorch:cpp] [warning] [DISPATCHER] Type coerced from Long to Int for tensor id 105\n",
      "[16:20:32.160] [poptorch:cpp] [warning] [DISPATCHER] Type coerced from Long to Int for tensor id 107\n",
      "Graph compilation: 100%|██████████| 100/100 [00:27<00:00]\n",
      "Epoch 0 training loss: 0.142220: 100%|██████████| 3943/3943 [00:51<00:00, 76.37it/s] \n",
      "Epoch 1 training loss: 0.042345: 100%|██████████| 3943/3943 [00:22<00:00, 173.71it/s]\n",
      "Epoch 2 training loss: 0.034611: 100%|██████████| 3943/3943 [00:23<00:00, 170.07it/s]\n",
      "Epoch 3 training loss: 0.034328: 100%|██████████| 3943/3943 [00:23<00:00, 167.03it/s]\n",
      "Epoch 4 training loss: 0.034063: 100%|██████████| 3943/3943 [00:22<00:00, 173.69it/s]\n"
     ]
    }
   ],
   "source": [
    "from tqdm import tqdm\n",
    "import numpy as np\n",
    "\n",
    "num_epochs = 5\n",
    "epoch_losses = torch.empty(num_epochs, len(train_loader_ipu))\n",
    "print(len(train_loader_ipu))\n",
    "\n",
    "for epoch in range(num_epochs):\n",
    "    bar = tqdm(train_loader_ipu)\n",
    "    for i, data in enumerate(bar):\n",
    "        _, mini_batch_loss = poptorch_model_sampling(\n",
    "            data.x, data.edge_index, data.train_mask, data.y\n",
    "        )\n",
    "        epoch_losses[epoch, i] = float(mini_batch_loss.mean())\n",
    "        bar.set_description(\n",
    "            f\"Epoch {epoch} training loss: {epoch_losses[epoch, i].item():0.6f}\"\n",
    "        )"
   ]
  },
  {
   "cell_type": "code",
   "execution_count": 26,
   "id": "5584531a",
   "metadata": {},
   "outputs": [
    {
     "data": {
      "image/png": "[encoded data removed]",
      "text/plain": [
       "<Figure size 960x720 with 1 Axes>"
      ]
     },
     "metadata": {},
     "output_type": "display_data"
    }
   ],
   "source": [
    "import matplotlib.pyplot as plt\n",
    "\n",
    "plt.plot(epoch_losses.mean(dim=1))\n",
    "plt.xlabel(\"Epoch\")\n",
    "plt.ylabel(\"Mean loss\")\n",
    "plt.legend([\"Mean training loss per epoch\"])\n",
    "plt.grid(True)\n",
    "plt.xticks(torch.arange(0, num_epochs, 2))\n",
    "plt.gcf().set_dpi(150)"
   ]
  },
  {
   "attachments": {},
   "cell_type": "markdown",
   "id": "7ece4041",
   "metadata": {},
   "source": [
    "## Conclusion\n",
    "\n",
    "In this tutorial we explored the main methods to deal with large graphs that otherwise wouldn't fit in memory, using two different sampling approaches and dedicated dataloaders to optimise performance on Graphcore IPUs. \n",
    "\n",
    "We demonstrated:\n",
    "- how to effectively cluster nodes of your input graph, leveraging the `FixedSizeClusterLoader` to do so while respecting the AOT requirements on the IPU;\n",
    "- hot to sample neighbouring nodes of your input graph, using the `FixedSizeNeighborLoader`;\n",
    "- then, for both sampling methods above, how train your GNN on IPUs to classify papers from the PubMed dataset.\n",
    "\n",
    "So far in this tutorial series we have worked with homogeneous graphs, however scaled up GNN problems are also very well suited to heterogeneous graphs: please check out our [heterogeneous graph tutorial](TODO add link) to know more about how to handle those on IPUs. More extensive node classification examples can be found in our  Gradient-Pytorch-Geometric/node-prediction repository. \n",
    "\n"
   ]
  }
 ],
 "metadata": {
  "kernelspec": {
   "display_name": "3.3.0+1326_poptorch",
   "language": "python",
   "name": "python3"
  },
  "language_info": {
   "codemirror_mode": {
    "name": "ipython",
    "version": 3
   },
   "file_extension": ".py",
   "mimetype": "text/x-python",
   "name": "python",
   "nbconvert_exporter": "python",
   "pygments_lexer": "ipython3",
   "version": "3.8.10"
  }
 },
 "nbformat": 4,
 "nbformat_minor": 5
}
