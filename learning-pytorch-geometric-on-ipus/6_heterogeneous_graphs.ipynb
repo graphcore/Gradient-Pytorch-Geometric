{
 "cells": [
  {
   "attachments": {},
   "cell_type": "markdown",
   "id": "cb8cb082",
   "metadata": {},
   "source": [
    "Copyright (c) 2023 Graphcore Ltd. All rights reserved."
   ]
  },
  {
   "attachments": {},
   "cell_type": "markdown",
   "id": "3d4de237",
   "metadata": {},
   "source": [
    "# Heterogeneous Graph Learning on IPUs\n",
    "\n",
    "Many real-world graphs are heterogeneous, meaning single node types and edge types are insufficient to capture all the information in the graph, leading to graphs which have different node types and different edge types between those nodes. This comes with a few considerations, for example how do we construct a model suitable for training with heterogeneous graph data and how do we create mini-batches from this data. We will answer both of those questions, focussing on using Graphcore IPUs to enable accelerating heterogeneous graph learning workloads.\n",
    "\n",
    "In this tutorial you will:\n",
    "\n",
    "- Look at three approaches PyTorch Geometric (PyG) takes with heterogeneous graph learning and learn how to run each on the IPU.\n",
    "- Understand how to sample heterogeneous graphs with a fixed size suitable for the IPU.\n",
    "\n",
    "While this tutorial will cover enough of the basics of GNNs, PyTorch Geometric and PopTorch\n",
    "for you to start developing and porting your GNN applications to the IPU;\n",
    "the following resources can be used to complement your understanding:\n",
    "\n",
    "- [Tutorial introducing PopTorch that runs a simple model](https://github.com/graphcore/tutorials/tree/master/tutorials/pytorch/basics);\n",
    "- [A Gentle Introduction to Graph Neural Networks](https://distill.pub/2021/gnn-intro/)\n",
    "- [PyG Heterogeneous Graph Learning documentation](https://pytorch-geometric.readthedocs.io/en/latest/tutorial/heterogeneous.html)\n",
    "\n",
    "## Running on Paperspace\n",
    "\n",
    "The Paperspace environment lets you run this notebook with no set up. To improve your experience we preload datasets and pre-install packages, this can take a few minutes, if you experience errors immediately after starting a session please try restarting the kernel before contacting support. If a problem persists or you want to give us feedback on the content of this notebook, please reach out to through our community of developers using [Slack](https://www.graphcore.ai/join-community) or raise a [GitHub issue](https://github.com/graphcore/examples).\n",
    "\n",
    "Requirements:\n",
    "\n",
    "* Python packages installed with `pip install -r ./requirements.txt`"
   ]
  },
  {
   "attachments": {},
   "cell_type": "markdown",
   "id": "ed6dc842",
   "metadata": {},
   "source": [
    "In order to improve usability and support for future users, Graphcore would like to collect information about the\n",
    "applications and code being run in this notebook. The following information will be anonymised before being sent to Graphcore:\n",
    "\n",
    "- User progression through the notebook\n",
    "- Notebook details: number of cells, code being run and the output of the cells\n",
    "- Environment details\n",
    "\n",
    "You can disable logging at any time by running `%unload_ext graphcore_cloud_tools.notebook_logging.gc_logger` from any cell."
   ]
  },
  {
   "cell_type": "code",
   "execution_count": null,
   "id": "577ce78a",
   "metadata": {},
   "outputs": [],
   "source": [
    "%pip install -r ./requirements.txt\n",
    "%load_ext graphcore_cloud_tools.notebook_logging.gc_logger"
   ]
  },
  {
   "attachments": {},
   "cell_type": "markdown",
   "id": "72934ae0",
   "metadata": {},
   "source": [
    "For compatibility with the Paperspace environment variables we need the following:"
   ]
  },
  {
   "cell_type": "code",
   "execution_count": null,
   "id": "2c5c527f",
   "metadata": {},
   "outputs": [],
   "source": [
    "import os\n",
    "\n",
    "executable_cache_dir = (\n",
    "    os.getenv(\"POPLAR_EXECUTABLE_CACHE_DIR\", \"/tmp/exe_cache/\") + \"/pyg-heterogeneous\"\n",
    ")\n",
    "dataset_directory = os.getenv(\"DATASETS_DIR\", \"data\")"
   ]
  },
  {
   "attachments": {},
   "cell_type": "markdown",
   "id": "2bb625ab",
   "metadata": {},
   "source": [
    "Now we are ready to start!"
   ]
  },
  {
   "attachments": {},
   "cell_type": "markdown",
   "id": "05c1dcdf",
   "metadata": {},
   "source": [
    "## Introduction to heterogeneous graphs\n",
    "\n",
    "Heterogeneous graphs are graphs with different types of nodes and edges. Such graphs are appropriate when having a single node or edge feature for the whole graph doesn't capture all the information of the graph, for example because different nodes have a different number of features. Let's first load a heterogeneous graph dataset from PyTorch Geometric and then you will see how the construction of the model differs when dealing with heterogeneous graph data."
   ]
  },
  {
   "attachments": {},
   "cell_type": "markdown",
   "id": "a68630e2",
   "metadata": {},
   "source": [
    "### Loading a heterogeneous graph dataset\n",
    "\n",
    "In this tutorial we will use the [IMDB dataset](https://pytorch-geometric.readthedocs.io/en/latest/generated/torch_geometric.datasets.IMDB.html) from PyG:"
   ]
  },
  {
   "cell_type": "code",
   "execution_count": null,
   "id": "3e965838",
   "metadata": {},
   "outputs": [],
   "source": [
    "from torch_geometric.datasets import IMDB\n",
    "\n",
    "dataset = IMDB(root=f\"{dataset_directory}/IMDB\")"
   ]
  },
  {
   "attachments": {},
   "cell_type": "markdown",
   "id": "5853c5ae",
   "metadata": {},
   "source": [
    "This dataset is a single large heterogeneous graph, made up of three node types **movie**, **director** and **actor**, each with their own sets of features (`x`). These nodes are connected by two edge types, **movie to director** and **movie to actor**, with the reverse of these edges also present.\n",
    "\n",
    "![IMDB_dataset.jpg](static/IMDB_dataset.jpg)\n",
    "\n",
    "Let's look at it in PyG:"
   ]
  },
  {
   "cell_type": "code",
   "execution_count": null,
   "id": "faa28984",
   "metadata": {},
   "outputs": [],
   "source": [
    "data = dataset[0]\n",
    "data"
   ]
  },
  {
   "attachments": {},
   "cell_type": "markdown",
   "id": "84a02306",
   "metadata": {},
   "source": [
    "The **movie** node type is the target for any training we will do. Looking at the labels, you can see they are one of three classes corresponding to the genre of the movie: action, comedy or drama."
   ]
  },
  {
   "cell_type": "code",
   "execution_count": null,
   "id": "8023595c",
   "metadata": {},
   "outputs": [],
   "source": [
    "import torch\n",
    "\n",
    "classes = torch.unique(data[\"movie\"].y)\n",
    "num_classes = len(classes)\n",
    "classes, num_classes"
   ]
  },
  {
   "attachments": {},
   "cell_type": "markdown",
   "id": "ce412801",
   "metadata": {},
   "source": [
    "For the purposes of this tutorial, we will select only a fraction of this dataset. We will cover proper sampling approaches in the [Fixed size heterogeneous data loading](#fixed-size-heterogeneous-data-loading) section."
   ]
  },
  {
   "cell_type": "code",
   "execution_count": null,
   "id": "a922c039",
   "metadata": {},
   "outputs": [],
   "source": [
    "from torch_geometric.transforms import RemoveIsolatedNodes\n",
    "\n",
    "data = data.subgraph({\"movie\": torch.arange(0, 1000)})\n",
    "data = RemoveIsolatedNodes()(data)\n",
    "data"
   ]
  },
  {
   "attachments": {},
   "cell_type": "markdown",
   "id": "b460953a",
   "metadata": {},
   "source": [
    "Now that you have some understanding of what a heterogeneous graph looks like in PyG, you are ready to look at how to would construct a model to be able to learn from a heterogeneous graph."
   ]
  },
  {
   "attachments": {},
   "cell_type": "markdown",
   "id": "84c4267a",
   "metadata": {},
   "source": [
    "## Creating heterogeneous GNNs\n",
    "\n",
    "PyTorch Geometric provides three ways to create a model for heterogeneous graph data:\n",
    "\n",
    "- [Automatically converting a GNN model](#automatically-converting-a-gnn-model)\n",
    "- [Using the heterogeneous convolution wrapper](#using-the-heterogeneous-convolution-wrapper)\n",
    "- [Using heterogeneous operators](#using-heterogeneous-operators)\n",
    "\n",
    "For more detail on the approaches themselves we recommend reading the [PyG documentation](https://pytorch-geometric.readthedocs.io/en/latest/tutorial/heterogeneous.html#creating-heterogeneous-gnns).\n",
    "\n",
    "For each method, we will focus on the modifications we need to make to enable these models to run on the IPU. In summary, these modifications are:\n",
    "\n",
    "- moving the loss inside the model\n",
    "- wrapping the model in `poptorch.trainingModel`\n",
    "- removing the call to the backward pass and optimizer step.\n",
    "\n",
    "### Automatically converting a GNN model\n",
    "\n",
    "The first approach we will look at is converting a PyG GNN model to a model for heterogeneous graphs using the `torch_geometric.nn.to_hetero()` transformation.\n",
    "\n",
    "For more details about this approach, see the [PyG documentation](https://pytorch-geometric.readthedocs.io/en/latest/tutorial/heterogeneous.html#automatically-converting-gnn-models).\n",
    "\n",
    "To begin with let's create a PyG GNN model, comprising of two convolution layers:"
   ]
  },
  {
   "cell_type": "code",
   "execution_count": null,
   "id": "d3d79ade",
   "metadata": {},
   "outputs": [],
   "source": [
    "import torch\n",
    "from torch_geometric.nn import SAGEConv\n",
    "\n",
    "\n",
    "class Model(torch.nn.Module):\n",
    "    def __init__(self):\n",
    "        super().__init__()\n",
    "        self.conv1 = SAGEConv((-1, -1), 64)\n",
    "        self.conv2 = SAGEConv((-1, -1), 64)\n",
    "\n",
    "    def forward(self, x, edge_index):\n",
    "        x = self.conv1(x, edge_index).relu()\n",
    "        x = self.conv2(x, edge_index)\n",
    "        return x"
   ]
  },
  {
   "attachments": {},
   "cell_type": "markdown",
   "id": "746a369f",
   "metadata": {},
   "source": [
    "Now we can use the `to_hetero()` transformation to transform this GNN model into a heterogeneous model:"
   ]
  },
  {
   "cell_type": "code",
   "execution_count": null,
   "id": "af91fb5d",
   "metadata": {},
   "outputs": [],
   "source": [
    "from torch_geometric.nn import to_hetero\n",
    "\n",
    "# Initialize the model\n",
    "model = Model()\n",
    "# Convert the model to a heterogeneous model\n",
    "model = to_hetero(model, data.metadata(), aggr=\"sum\")\n",
    "model"
   ]
  },
  {
   "attachments": {},
   "cell_type": "markdown",
   "id": "84420921",
   "metadata": {},
   "source": [
    "You can now see that we have a convolution layer for each edge type, which has enabled this model to do message passing on a heterogeneous graph. The model will now expect a dictionary of node and edge types as inputs, instead of the individual tensors used in homogeneous graphs.\n",
    "\n",
    "Notice how we set the convolution layer `in_channels` to `-1`. This allows PyG to use lazy initialization based on the input dimensions, which means we don't need to manually specify the dimensions for each node type. We can perform this lazy initialization on the CPU as follows:"
   ]
  },
  {
   "cell_type": "code",
   "execution_count": null,
   "id": "eb7f22de",
   "metadata": {},
   "outputs": [],
   "source": [
    "# Initialize lazy modules.\n",
    "with torch.no_grad():\n",
    "    out = model(data.x_dict, data.edge_index_dict)"
   ]
  },
  {
   "attachments": {},
   "cell_type": "markdown",
   "id": "03356395",
   "metadata": {},
   "source": [
    "To run your model using PyG on the IPU, the model will need to target PopTorch and will require a number of changes.\n",
    "\n",
    "The first change is to move the loss function inside the `forward` method of the model. We can do this by creating a simple module that wraps the transformed heterogeneous model that includes the loss calculation:"
   ]
  },
  {
   "cell_type": "code",
   "execution_count": null,
   "id": "738ce8db",
   "metadata": {},
   "outputs": [],
   "source": [
    "import torch.nn.functional as F\n",
    "\n",
    "\n",
    "class ModelWithLoss(torch.nn.Module):\n",
    "    def __init__(self, model):\n",
    "        super().__init__()\n",
    "        self.model = model\n",
    "\n",
    "    def forward(self, x_dict, edge_index_dict, target=None, train_mask=None):\n",
    "        out = self.model(x_dict, edge_index_dict)\n",
    "        if self.training:\n",
    "            target = torch.where(train_mask, target, -100)\n",
    "            loss = F.cross_entropy(out[\"movie\"], target)\n",
    "            return out, loss\n",
    "        return out\n",
    "\n",
    "\n",
    "# Include loss in model\n",
    "model = ModelWithLoss(model)"
   ]
  },
  {
   "attachments": {},
   "cell_type": "markdown",
   "id": "1cf35399",
   "metadata": {},
   "source": [
    "Now our model is ready for training with PopTorch on IPUs.\n",
    "\n",
    "In the normal way for PopTorch we can wrap our model in `poptorch.trainingModel`:"
   ]
  },
  {
   "cell_type": "code",
   "execution_count": null,
   "id": "112ed7ec",
   "metadata": {},
   "outputs": [],
   "source": [
    "import poptorch\n",
    "\n",
    "# Set up training\n",
    "model.train()\n",
    "\n",
    "# Initialise model and convert the model to a PopTorch model\n",
    "opts = poptorch.Options().enableExecutableCaching(executable_cache_dir)\n",
    "optim = poptorch.optim.Adam(model.parameters(), lr=0.01)\n",
    "poptorch_model = poptorch.trainingModel(model, options=opts, optimizer=optim)"
   ]
  },
  {
   "attachments": {},
   "cell_type": "markdown",
   "id": "f150bb52",
   "metadata": {},
   "source": [
    "Now we can run the training loop. Note the backward pass and the optimizer step are handled by PopTorch automatically, so they do not need to be included in the loop."
   ]
  },
  {
   "cell_type": "code",
   "execution_count": null,
   "id": "dccceaed",
   "metadata": {},
   "outputs": [],
   "source": [
    "# Train\n",
    "for _ in range(3):\n",
    "    out, loss = poptorch_model(\n",
    "        data.x_dict,\n",
    "        data.edge_index_dict,\n",
    "        target=data[\"movie\"].y,\n",
    "        train_mask=data[\"movie\"].train_mask,\n",
    "    )\n",
    "    print(f\"{loss = }\")"
   ]
  },
  {
   "attachments": {},
   "cell_type": "markdown",
   "id": "040245ce",
   "metadata": {},
   "source": [
    "Here we have seen how to create a heterogeneous GNN using the `to_hetero()` transformation and how to start training on the IPU.\n",
    "\n",
    "### Using the heterogeneous convolution wrapper"
   ]
  },
  {
   "attachments": {},
   "cell_type": "markdown",
   "id": "6a4759a3",
   "metadata": {},
   "source": [
    "### Using the Heterogeneous Convolution Wrapper\n",
    "\n",
    "Another approach to implementing heterogeneous graphs with PyG is to use the `torch_geometric.nn.HeteroConv` layer. This gives more flexibility than using the [`torch_geometric.nn.to_hetero()` transformation](#automatically-converting-a-gnn-model) and allows each edge type to use a different message passing layer.\n",
    "\n",
    "For more details on this approach, see the [PyG documentation](https://pytorch-geometric.readthedocs.io/en/latest/tutorial/heterogeneous.html#using-the-heterogeneous-convolution-wrapper).\n",
    "\n",
    "Now let's make the modifications needed to be able to use this approach for the IPU. We first move the loss function within the model, passing the mask and labels to the `forward` method. Below you can see a simple model using the `HeteroConv` layer with the loss function moved inside the `forward` method, ready for running on the IPU."
   ]
  },
  {
   "cell_type": "code",
   "execution_count": null,
   "id": "0efdff1f",
   "metadata": {},
   "outputs": [],
   "source": [
    "from torch_geometric.nn import HeteroConv, SAGEConv, GATConv, Linear\n",
    "\n",
    "\n",
    "class HeteroGNN(torch.nn.Module):\n",
    "    def __init__(self, hidden_channels, out_channels, num_layers):\n",
    "        super().__init__()\n",
    "\n",
    "        self.convs = torch.nn.ModuleList()\n",
    "        for _ in range(num_layers):\n",
    "            conv = HeteroConv(\n",
    "                {\n",
    "                    (\"movie\", \"to\", \"director\"): SAGEConv((-1, -1), hidden_channels),\n",
    "                    (\"director\", \"to\", \"movie\"): SAGEConv((-1, -1), hidden_channels),\n",
    "                    (\"movie\", \"to\", \"actor\"): GATConv(\n",
    "                        (-1, -1), hidden_channels, add_self_loops=False\n",
    "                    ),\n",
    "                    (\"actor\", \"to\", \"movie\"): GATConv(\n",
    "                        (-1, -1), hidden_channels, add_self_loops=False\n",
    "                    ),\n",
    "                },\n",
    "                aggr=\"sum\",\n",
    "            )\n",
    "            self.convs.append(conv)\n",
    "\n",
    "        self.lin = Linear(hidden_channels, out_channels)\n",
    "\n",
    "    def forward(self, x_dict, edge_index_dict, target=None, train_mask=None):\n",
    "        for conv in self.convs:\n",
    "            x_dict = conv(x_dict, edge_index_dict)\n",
    "            x_dict = {key: x.relu() for key, x in x_dict.items()}\n",
    "        out = self.lin(x_dict[\"movie\"])\n",
    "\n",
    "        if self.training:\n",
    "            target = torch.where(train_mask, target, -100)\n",
    "            loss = F.cross_entropy(out, target)\n",
    "            return out, loss\n",
    "        return out\n",
    "\n",
    "\n",
    "model = HeteroGNN(hidden_channels=64, out_channels=num_classes, num_layers=2)"
   ]
  },
  {
   "attachments": {},
   "cell_type": "markdown",
   "id": "efdf2cbf",
   "metadata": {},
   "source": [
    "We set the convolution layer `in_channels` to `-1`. We can then perform the lazy initialization on the CPU as follows:"
   ]
  },
  {
   "cell_type": "code",
   "execution_count": null,
   "id": "acc066d0",
   "metadata": {},
   "outputs": [],
   "source": [
    "# Initialize lazy modules.\n",
    "with torch.no_grad():\n",
    "    out = model(\n",
    "        data.x_dict,\n",
    "        data.edge_index_dict,\n",
    "        target=data[\"movie\"].y,\n",
    "        train_mask=data[\"movie\"].train_mask,\n",
    "    )"
   ]
  },
  {
   "attachments": {},
   "cell_type": "markdown",
   "id": "f106e75a",
   "metadata": {},
   "source": [
    "We wrap the model in `poptorch.trainingModel`:"
   ]
  },
  {
   "cell_type": "code",
   "execution_count": null,
   "id": "bd22ef4f",
   "metadata": {},
   "outputs": [],
   "source": [
    "# Set up training\n",
    "model.train()\n",
    "\n",
    "# Initialise model and convert the model to a PopTorch model\n",
    "opts = poptorch.Options().enableExecutableCaching(executable_cache_dir)\n",
    "optim = poptorch.optim.Adam(model.parameters(), lr=0.01)\n",
    "poptorch_model = poptorch.trainingModel(model, options=opts, optimizer=optim)"
   ]
  },
  {
   "attachments": {},
   "cell_type": "markdown",
   "id": "c7938978",
   "metadata": {},
   "source": [
    "Then, we run the training loop:"
   ]
  },
  {
   "cell_type": "code",
   "execution_count": null,
   "id": "b0d2ed4b",
   "metadata": {},
   "outputs": [],
   "source": [
    "# Train\n",
    "for _ in range(3):\n",
    "    out, loss = poptorch_model(\n",
    "        data.x_dict,\n",
    "        data.edge_index_dict,\n",
    "        target=data[\"movie\"].y,\n",
    "        train_mask=data[\"movie\"].train_mask,\n",
    "    )\n",
    "    print(f\"{loss = }\")"
   ]
  },
  {
   "attachments": {},
   "cell_type": "markdown",
   "id": "988c409f",
   "metadata": {},
   "source": [
    "We have now seen two approaches to creating heterogeneous GNNs ready for the IPU using PyTorch Geometric. We will next look at the final approach, using heterogeneous operators."
   ]
  },
  {
   "attachments": {},
   "cell_type": "markdown",
   "id": "dcff8701",
   "metadata": {},
   "source": [
    "### Using heterogeneous operators\n",
    "\n",
    "The final approach PyG provides to create a heterogeneous GNN model is to use operators specifically designed for heterogeneous graphs. An example of such an operator is the [HGTConv layer](https://pytorch-geometric.readthedocs.io/en/latest/generated/torch_geometric.nn.conv.HGTConv.html#torch_geometric.nn.conv.HGTConv). These operators can be used as normal, taking care to make the modifications to enable running on IPUs.\n",
    "\n",
    "See the [PyG documentation](https://pytorch-geometric.readthedocs.io/en/latest/tutorial/heterogeneous.html#deploy-existing-heterogeneous-operators) for more information on this approach."
   ]
  },
  {
   "attachments": {},
   "cell_type": "markdown",
   "id": "b1d31077",
   "metadata": {},
   "source": [
    "## Fixed size heterogeneous data loading\n",
    "\n",
    "As real-world heterogeneous graphs can be quite large, it may often be appropriate to move from full-batch training to mini-batch training using some form of sampling. PyTorch Geometric provides a range of samplers suitable for heterogeneous graphs, for example `NeighborLoader` which we will look at.\n",
    "\n",
    "When moving from full-batch to mini-batch on the IPU, one must consider the sizes of the mini-batches. The IPU uses ahead-of-time compilation, which means all mini-batches must be the same size. In the homogeneous graph case, making our mini-batches a fixed size is relatively trivial, adding padding to make the nodes and edges up to a fixed size. This becomes more complex with heterogeneous graphs when there are different node and edge types.\n",
    "\n",
    "Let's create an instance of the PyG `NeighborLoader` sampler with our dataset, and see what the first mini-batch looks like:"
   ]
  },
  {
   "cell_type": "code",
   "execution_count": null,
   "id": "c4df214e",
   "metadata": {},
   "outputs": [],
   "source": [
    "from torch_geometric.loader import NeighborLoader\n",
    "\n",
    "train_loader = NeighborLoader(\n",
    "    data,\n",
    "    num_neighbors=[5] * 2,\n",
    "    batch_size=5,\n",
    "    input_nodes=(\"movie\", data[\"movie\"].train_mask),\n",
    ")\n",
    "\n",
    "next(iter(train_loader))"
   ]
  },
  {
   "attachments": {},
   "cell_type": "markdown",
   "id": "49d0b1af",
   "metadata": {},
   "source": [
    "To make up this mini-batch to a fixed size, we could simply pad the nodes and edges of each node and edge type to a particular value. We have seen in other tutorials how we can make a mini-batch fixed size for homogeneous graphs, for example in the case of neighbour loading see the tutorial [../5_large_graph_sampling](../5_large_graph_sampling). For heterogeneous graphs we must extend this idea and think about how to make each node and edge type a fixed size. The simplest approach would be to pad all node and edge types to the same value. To do this first we will create `FixedSizeOptions` specifying `num_nodes` and `num_edges` as in the homogeneous case."
   ]
  },
  {
   "cell_type": "code",
   "execution_count": null,
   "id": "d4a21ef4",
   "metadata": {},
   "outputs": [],
   "source": [
    "from poptorch_geometric import FixedSizeOptions\n",
    "\n",
    "fixed_size_options = FixedSizeOptions(\n",
    "    num_nodes=1000,\n",
    "    num_edges=1000,\n",
    ")\n",
    "fixed_size_options"
   ]
  },
  {
   "attachments": {},
   "cell_type": "markdown",
   "id": "a90b5f44",
   "metadata": {},
   "source": [
    "Here you can see the fixed sizes that will be appropriate for the neighbour loading. Now we can use these sizes to create a fixed size version of `NeighborLoader` namely `poptorch_geometric.FixedSizeNeighborLoader` that will do the same sampling but produce fixed size mini-batches."
   ]
  },
  {
   "cell_type": "code",
   "execution_count": null,
   "id": "37fb0079",
   "metadata": {},
   "outputs": [],
   "source": [
    "from poptorch_geometric import OverSizeStrategy\n",
    "from poptorch_geometric.neighbor_loader import FixedSizeNeighborLoader\n",
    "\n",
    "\n",
    "fixed_size_train_loader = FixedSizeNeighborLoader(\n",
    "    data,\n",
    "    num_neighbors=[5] * 2,\n",
    "    batch_size=5,\n",
    "    input_nodes=(\"movie\", data[\"movie\"].train_mask),\n",
    "    fixed_size_options=fixed_size_options,\n",
    "    over_size_strategy=OverSizeStrategy.TrimNodesAndEdges,\n",
    ")\n",
    "\n",
    "next(iter(fixed_size_train_loader))"
   ]
  },
  {
   "attachments": {},
   "cell_type": "markdown",
   "id": "b7ed21cb",
   "metadata": {},
   "source": [
    "You can see that now the nodes and edges of each node and edge type are the same size and so are suitable for using on the IPU.\n",
    "\n",
    "Note that we have set `over_size_behaviour=OverSizeBehaviour.TRIM_NODES_AND_EDGES`. In some cases, we don't know ahead of time whether we have allocated enough space for the padding. Therefore, we can enable trimming of any excess nodes and edges from our samples if the mini-batches are greater than our specified sizes.\n",
    "\n",
    "There may be a lot of wasted space in this mini-batch as we have set the same number of nodes and edges to pad to for all node and edge types, respectively. We can be more specific and set a different number for each type."
   ]
  },
  {
   "cell_type": "code",
   "execution_count": null,
   "id": "8d42b433",
   "metadata": {},
   "outputs": [],
   "source": [
    "fixed_size_options = FixedSizeOptions(\n",
    "    num_nodes={\"movie\": 500, \"director\": 100, \"actor\": 300},\n",
    "    num_edges={\n",
    "        (\"movie\", \"to\", \"director\"): 100,\n",
    "        (\"movie\", \"to\", \"actor\"): 200,\n",
    "        (\"director\", \"to\", \"movie\"): 100,\n",
    "        (\"actor\", \"to\", \"movie\"): 200,\n",
    "    },\n",
    ")\n",
    "fixed_size_options"
   ]
  },
  {
   "attachments": {},
   "cell_type": "markdown",
   "id": "1c7832e5",
   "metadata": {},
   "source": [
    "This can become quite complex so instead we can use the original non-fixed-size neighbour loader to give us an estimate of the fixed size options suitable for this fixed-size loader. This will sample from the non-fixed-size loader, and produce fixed-size options which will have different numbers of nodes and edges to pad to for each node and edge type. This can help reduce the number of padded nodes and edges in the mini-batches."
   ]
  },
  {
   "cell_type": "code",
   "execution_count": null,
   "id": "7518d49c",
   "metadata": {},
   "outputs": [],
   "source": [
    "fixed_size_options = FixedSizeOptions.from_loader(train_loader)\n",
    "fixed_size_options"
   ]
  },
  {
   "attachments": {},
   "cell_type": "markdown",
   "id": "c6bb0811",
   "metadata": {},
   "source": [
    "Then, use this to create the `FixedSizeNeighborLoader`:"
   ]
  },
  {
   "cell_type": "code",
   "execution_count": null,
   "id": "d34ee0e5",
   "metadata": {},
   "outputs": [],
   "source": [
    "fixed_size_train_loader = FixedSizeNeighborLoader(\n",
    "    data,\n",
    "    num_neighbors=[5] * 2,\n",
    "    batch_size=5,\n",
    "    input_nodes=(\"movie\", data[\"movie\"].train_mask),\n",
    "    fixed_size_options=fixed_size_options,\n",
    "    over_size_strategy=OverSizeStrategy.TrimNodesAndEdges,\n",
    ")\n",
    "\n",
    "next(iter(fixed_size_train_loader))"
   ]
  },
  {
   "attachments": {},
   "cell_type": "markdown",
   "id": "5252f3b1",
   "metadata": {},
   "source": [
    "Again, you can see the mini-batches produced are of a fixed size and so are suitable for using on the IPU."
   ]
  },
  {
   "attachments": {},
   "cell_type": "markdown",
   "id": "c67cb689",
   "metadata": {},
   "source": [
    "## Conclusion\n",
    "\n",
    "In this tutorial we have learnt how to train heterogeneous GNNs on the IPU using PyTorch Geometric.\n",
    "\n",
    "You should now have a good understanding of:\n",
    " - the approaches PyTorch Geometric provides to create heterogeneous GNN models\n",
    " - how to run the model produced by each approach on the IPU\n",
    " - how to achieve fixed size mini-batches of heterogeneous graphs suitable for the IPU.\n",
    "\n",
    "Additional resources which may help you further understand heterogeneous graph learning can be found in the [PyTorch Geometric documentation](https://pytorch-geometric.readthedocs.io/en/latest/tutorial/heterogeneous.html)"
   ]
  }
 ],
 "metadata": {
  "language_info": {
   "name": "python"
  }
 },
 "nbformat": 4,
 "nbformat_minor": 5
}
