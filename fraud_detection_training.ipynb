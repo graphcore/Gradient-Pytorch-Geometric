{
 "cells": [
  {
   "attachments": {},
   "cell_type": "markdown",
   "id": "d2b361bf",
   "metadata": {},
   "source": [
    "Copyright (c) 2023 Graphcore Ltd. All rights reserved."
   ]
  },
  {
   "attachments": {},
   "cell_type": "markdown",
   "id": "af14ce5a",
   "metadata": {},
   "source": [
    "# Training a GNN to do Fraud Detection on Graphcore IPUs using your own dataset with PyTorch Geometric\n",
    "\n",
    "TODO: Everything in this section\n",
    "\n",
    "TODO: Update links:\n",
    "\n",
    "[![Run on Gradient](../../gradient-badge.svg)](https://console.paperspace.com/github/<runtime-repo>?machine=Free-IPU-POD4&container=<dockerhub-image>&file=<path-to-file-in-repo>)  [![Join our Slack Community](https://img.shields.io/badge/Slack-Join%20Graphcore's%20Community-blue?style=flat-square&logo=slack)](https://www.graphcore.ai/join-community)\n",
    "\n",
    ">\n",
    "> We aim to have our notebook app demos to be focused on what the user is trying to\n",
    "> do. To help you do this correctly please read [our user personnas](https://graphcore.atlassian.net/wiki/spaces/PM/pages/3157131517/Notebook+personas#Ellie%3A-The-Data-Scientist%2C-Business-Analysis%2C-Consultant),\n",
    "and when in doubt ask yourself \"does that person care about this?\".\n",
    "> To support that the first paragraph will contain all the key information, to\n",
    "> help users rapidly identify if this is the right notebook for them to go\n",
    "> though, based on:\n",
    ">\n",
    "> - The task/business problem they are trying to solve,\n",
    "> - The features that are used (Focus on big picture Deep learning features - e.g.\n",
    ">  Distributed training, not I/O overlap).\n",
    ">\n",
    "> To achieve this, each notebook should start with the following 3 paragraphs\n",
    "> (detailed in the next three comments):\n",
    ">\n",
    "> - a table highlighting what we are going to do\n",
    "> - a very short intro (3-5 sentences)\n",
    "> - clear \"steps to resolution\" (bullet points stating what the user will have\n",
    ">    to do to tackle their problem on the IPU - these need to reflect the notebook,\n",
    ">    and be as simple as possible)\n",
    "> - links to additional related resources.\n",
    ">\n",
    "\n",
    "|  Domain | Tasks | Model | Datasets | Workflow |   Number of IPUs   | Execution time |\n",
    "|---------|-------|-------|----------|----------|--------------|--------------|\n",
    "|   GNNs   |  Fraud detection  | ? | ? | Training, evaluation | recommended: 16XX (min: 4X) | 20Xmn (X1h20mn)   |\n",
    "\n",
    ">\n",
    ">\n",
    "> Start with a short introduction to the notebook. [suggested 3-5 sentences]\n",
    ">\n",
    "> This intro should focus on the problem you are fixing, and not on any IPU specific\n",
    "> or framework specific features. The mindset is that anything that is non-standard\n",
    "> is a barrier to entry, and will risk the user giving up.\n",
    ">\n",
    "> This short introduction should be followed by a clear bullet point summary of\n",
    "> the steps of the demo. Each outcome should be of the form:\n",
    "> - what the user will do (active verb) [and (optionally) how they do\n",
    ">   it]. Jargon, if any, goes to the end of the bullet point.\n",
    "\n",
    "In this demo, you will learn how to:\n",
    "\n",
    "- Turn tabular transaction data into a PyTorch Geometric dataset\n",
    "- Select a model suitable for the task of predicting fraudulent transactions\n",
    "- Train the model on Graphcore IPUs\n",
    "- Run validation on the trained model\n",
    "\n",
    "This notebook assumes some familiarity with PopTorch as well as PyTorch Geometric (PyG). For additional resources please consult:\n",
    "* [PopTorch Documentation](https://docs.graphcore.ai/projects/poptorch-user-guide/en/latest/index.html)\n",
    "* [PopTorch Examples and Tutorials](https://docs.graphcore.ai/en/latest/examples.html#pytorch)\n",
    "* [PyTorch Geometric](https://pytorch-geometric.readthedocs.io/en/latest/)\n",
    "* [PopTorch Geometric Documentation](https://docs.graphcore.ai/projects/poptorch-geometric-user-guide/en/latest/index.html)\n",
    "\n",
    "[![Join our Slack Community](https://img.shields.io/badge/Slack-Join%20Graphcore's%20Community-blue?style=flat-square&logo=slack)](https://www.graphcore.ai/join-community)"
   ]
  },
  {
   "cell_type": "code",
   "execution_count": null,
   "id": "0279f464",
   "metadata": {},
   "outputs": [],
   "source": [
    "# Make imported python modules automatically reload when the files are changed\n",
    "# needs to be before the first import.\n",
    "%load_ext autoreload\n",
    "%autoreload 2\n",
    "# TODO: remove at the end of notebook development"
   ]
  },
  {
   "attachments": {},
   "cell_type": "markdown",
   "id": "db890f52",
   "metadata": {},
   "source": [
    "## Environment setup\n",
    "\n",
    "[![Run on Gradient](../../gradient-badge.svg)](TODO)\n",
    "\n",
    "The best way to try this demo is on Paperspace Gradient's cloud IPUs. To use on other hardware\n",
    "make sure that you have the Poplar SDK enabled with the latest PopTorch Geometric installed."
   ]
  },
  {
   "cell_type": "code",
   "execution_count": null,
   "id": "5c72d24a",
   "metadata": {},
   "outputs": [],
   "source": [
    "%pip install -q -r requirements.txt"
   ]
  },
  {
   "attachments": {},
   "cell_type": "markdown",
   "id": "b33a842f",
   "metadata": {},
   "source": [
    "To improve your experience we read some configuration related to the environment you are running the notebook in."
   ]
  },
  {
   "cell_type": "code",
   "execution_count": null,
   "id": "965ca0a6",
   "metadata": {},
   "outputs": [],
   "source": [
    "import os\n",
    "\n",
    "number_of_ipus = int(os.getenv(\"NUM_AVAILABLE_IPU\", 16))\n",
    "pod_type = os.getenv(\"GRAPHCORE_POD_TYPE\", \"pod16\")\n",
    "executable_cache_dir = os.getenv(\"POPLAR_EXECUTABLE_CACHE_DIR\", \"/tmp/exe_cache/\")\n",
    "dataset_directory = os.getenv(\"DATASETS_DIR\")\n",
    "checkpoint_directory = os.getenv(\"CHECKPOINT_DIR\")"
   ]
  },
  {
   "attachments": {},
   "cell_type": "markdown",
   "id": "0a32779d",
   "metadata": {},
   "source": [
    "## Loading tabular data into PyTorch Geometric"
   ]
  },
  {
   "attachments": {},
   "cell_type": "markdown",
   "id": "32152d7e",
   "metadata": {},
   "source": [
    "### Getting the dataset\n",
    "\n",
    "TODO: Using https://www.kaggle.com/c/ieee-fraud-detection/data\n",
    "\n",
    "TODO: Run a script to download and tidy data?"
   ]
  },
  {
   "attachments": {},
   "cell_type": "markdown",
   "id": "41830d04",
   "metadata": {},
   "source": [
    "### Inspecting the dataset\n",
    "\n",
    "TODO: Look at a few of the columns - call out important ones we will use for features and labels"
   ]
  },
  {
   "attachments": {},
   "cell_type": "markdown",
   "id": "e0b7e7a9",
   "metadata": {},
   "source": [
    "### Creating a PyTorch Geometric dataset\n",
    "\n",
    "TODO: Create PyTorch Geometric dataset from above - maybe move to a separate script\n",
    "\n",
    "TODO: Create validation / test split"
   ]
  },
  {
   "attachments": {},
   "cell_type": "markdown",
   "id": "3ae4b014",
   "metadata": {},
   "source": [
    "## Picking the right model\n",
    "\n",
    "TODO: Describe the task\n",
    "\n",
    "TODO: Describe different relations type - want something that can do different relations (heterogeneous graph) - RGCN could be a sensible choice\n",
    "    - but requires lots of memory\n",
    "\n",
    "TODO: Try CompGCN"
   ]
  },
  {
   "attachments": {},
   "cell_type": "markdown",
   "id": "f4ee6edb",
   "metadata": {},
   "source": [
    "## Training the model\n",
    "\n",
    "TODO: Train the model in the normal way"
   ]
  },
  {
   "attachments": {},
   "cell_type": "markdown",
   "id": "0c127b86",
   "metadata": {},
   "source": [
    "## Validating our trained model\n",
    "\n",
    "TODO: Validate the model in the normal way"
   ]
  },
  {
   "cell_type": "markdown",
   "id": "7ece4041",
   "metadata": {},
   "source": [
    "## Conclusion\n",
    "\n",
    "> The conclusion to your demo should:\n",
    ">\n",
    "> - summarise the main steps that were taken in the demo making clear what\n",
    ">  your user got to do (similar to steps at the start but more\n",
    ">  specific, you can link a specific feature/method/class to achieving a specific\n",
    ">  outcome). (short paragraph: 3-6 sentences)\n",
    "> - provide resources to go further: these can be links to other tutorials, to\n",
    ">  documentation, to code examples in the public_examples repo, tech notes, deployments,\n",
    ">  etc... (2-4 suggestions)\n",
    ">\n",
    "> For pointing users to notebooks in the same runtime, point the user to where the file is rather than a link. For example: please see our tutorial, `<folder_name>/<notebook_name>.ipynb`. For relative links the paperspace platform will download the file locally if the machine is running and if the machine is not running will 404. For full path links a new window is opened."
   ]
  }
 ],
 "metadata": {
  "kernelspec": {
   "display_name": "Python 3",
   "language": "python",
   "name": "python3"
  },
  "language_info": {
   "name": "python",
   "version": "3.8.10 (default, Mar 13 2023, 10:26:41) \n[GCC 9.4.0]"
  },
  "vscode": {
   "interpreter": {
    "hash": "e7370f93d1d0cde622a1f8e1c04877d8463912d04d973331ad4851f04de6915a"
   }
  }
 },
 "nbformat": 4,
 "nbformat_minor": 5
}
