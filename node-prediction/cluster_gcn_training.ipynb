{
 "cells": [
  {
   "attachments": {},
   "cell_type": "markdown",
   "id": "c27560a9",
   "metadata": {},
   "source": [
    "Copyright (c) 2023 Graphcore Ltd. All rights reserved."
   ]
  },
  {
   "attachments": {},
   "cell_type": "markdown",
   "id": "361b1074",
   "metadata": {},
   "source": [
    "Node Classification on IPU using Cluster-GCN - Training with PyTorch Geometric\n",
    "==================\n",
    "\n",
    "This notebook demonstrates training a Cluster GCN model presented in [Cluster-GCN: An Efficient Algorithm for Training Deep and Large Graph Convolutional Networks](https://arxiv.org/pdf/1905.07953.pdf) with PyTorch Geometric on the Graphcore IPU. We will use the Reddit dataset from [Inductive Representation Learning on Large Graphs](https://arxiv.org/abs/1706.02216) and train the model to predict the community a post belongs to.\n",
    "\n",
    "|  Domain | Tasks | Model | Datasets | Workflow |   Number of IPUs   | Execution time |\n",
    "|---------|-------|-------|----------|----------|--------------------|----------------|\n",
    "|   GNNs   |  Node Classification  | CGCN | Reddit | Training, evaluation | recommended: 4 | ~6 minutes |\n",
    "\n",
    "This notebook assumes some familiarity with PopTorch as well as PyTorch Geometric (PyG). For additional resources please consult:\n",
    "\n",
    "* [PopTorch Documentation](https://docs.graphcore.ai/projects/poptorch-user-guide/en/latest/index.html),\n",
    "* [PopTorch Examples and Tutorials](https://docs.graphcore.ai/en/latest/examples.html#pytorch),\n",
    "* [PyTorch Geometric](https://pytorch-geometric.readthedocs.io/en/latest/)\n",
    "* [PopTorch Geometric Documentation](https://docs.graphcore.ai/projects/poptorch-geometric-user-guide/en/latest/index.html)\n",
    "\n",
    "Requirements:\n",
    "\n",
    "A Poplar SDK environment enabled (see the Getting Started guide for your IPU system Python packages installed with `pip install -r ../requirements.txt`"
   ]
  },
  {
   "cell_type": "markdown",
   "id": "820d5186",
   "metadata": {},
   "source": [
    "### Running on Paperspace\n",
    "\n",
    "The Paperspace environment lets you run this notebook with no set up. To improve your experience we preload datasets and pre-install packages, this can take a few minutes, if you experience errors immediately after starting a session please try restarting the kernel before contacting support. If a problem persists or you want to give us feedback on the content of this notebook, please reach out to through our community of developers using our [slack channel](https://www.graphcore.ai/join-community) or raise a [GitHub issue](https://github.com/graphcore/examples).\n",
    "\n",
    "Requirements:\n",
    "\n",
    "* Python packages installed with `pip install -r requirements.txt`"
   ]
  },
  {
   "cell_type": "code",
   "execution_count": null,
   "id": "cd28ca48",
   "metadata": {},
   "outputs": [],
   "source": [
    "%pip install -q -r requirements.txt"
   ]
  },
  {
   "cell_type": "markdown",
   "id": "0b17943b",
   "metadata": {},
   "source": [
    "Lets import the required packages:"
   ]
  },
  {
   "cell_type": "code",
   "execution_count": null,
   "id": "b3235bc7",
   "metadata": {},
   "outputs": [],
   "source": [
    "import os\n",
    "import os.path as osp\n",
    "\n",
    "import matplotlib.pyplot as plt\n",
    "import numpy as np\n",
    "import poptorch\n",
    "import torch\n",
    "import torch.nn.functional as F\n",
    "from poptorch_geometric.cluster_loader import FixedSizeClusterLoader\n",
    "from torch_geometric.loader import ClusterData\n",
    "from torch_geometric.data.summary import Summary\n",
    "from torch_geometric.datasets import Reddit\n",
    "from torch_geometric.nn import SAGEConv\n",
    "from tqdm import tqdm\n",
    "\n",
    "%matplotlib inline"
   ]
  },
  {
   "cell_type": "markdown",
   "id": "a628ebb6",
   "metadata": {},
   "source": [
    "And for compatibility with the Paperspace environment variables we will do the following:"
   ]
  },
  {
   "cell_type": "code",
   "execution_count": null,
   "id": "ac1c0595",
   "metadata": {},
   "outputs": [],
   "source": [
    "poptorch.setLogLevel(\"ERR\")\n",
    "executable_cache_dir = (\n",
    "    os.getenv(\"POPLAR_EXECUTABLE_CACHE_DIR\", \"/tmp/exe_cache/\") + \"/pyg-clustergcn\"\n",
    ")\n",
    "dataset_directory = os.getenv(\"DATASET_DIR\", \"data\")"
   ]
  },
  {
   "cell_type": "markdown",
   "id": "15a2353c",
   "metadata": {},
   "source": [
    "Now we are ready to start!"
   ]
  },
  {
   "cell_type": "markdown",
   "id": "293ae677",
   "metadata": {},
   "source": [
    "### Reddit Dataset\n",
    "\n",
    "PyG provides a convenient dataset class that manages downloading the Reddit dataset to local storage. The Reddit dataset contains one single graph which contains 232,965 Reddit posts. The graph is homogeneous and undirected."
   ]
  },
  {
   "cell_type": "code",
   "execution_count": null,
   "id": "c18e3990",
   "metadata": {},
   "outputs": [],
   "source": [
    "reddit_root = osp.join(dataset_directory, \"Reddit\")\n",
    "dataset = Reddit(reddit_root)"
   ]
  },
  {
   "cell_type": "markdown",
   "id": "230e84ea",
   "metadata": {},
   "source": [
    "We can check the `len` on the dataset to see this is one single large graph."
   ]
  },
  {
   "cell_type": "code",
   "execution_count": null,
   "id": "08762526",
   "metadata": {},
   "outputs": [],
   "source": [
    "len(dataset)"
   ]
  },
  {
   "cell_type": "markdown",
   "id": "f4d136bc",
   "metadata": {},
   "source": [
    "And we can view the data within the graph. We can see there are 232965 nodes each with a feature size of 602. The dataset contains masks for training, validation and test which we will apply during those stages."
   ]
  },
  {
   "cell_type": "code",
   "execution_count": null,
   "id": "fd667db4",
   "metadata": {},
   "outputs": [],
   "source": [
    "dataset[0]"
   ]
  },
  {
   "attachments": {},
   "cell_type": "markdown",
   "id": "7fa4fd73",
   "metadata": {},
   "source": [
    "### Clustering\n",
    "\n",
    "As this dataset is a single large graph the computational cost grows exponentially as the layers increase. There is also a large memory requirement to keep the entire graph and node embeddings in memory. It is therefore useful to consider a sampling approach to mitigate these problems. In this example we use cluster sampling, which attempts to group the nodes into clusters of a similar size which minimises edge cuts.\n",
    "\n",
    "The following code clusters the original dataset into 1500 clusters using [METIS](https://epubs.siam.org/doi/10.1137/S1064827595287997)."
   ]
  },
  {
   "cell_type": "code",
   "execution_count": null,
   "id": "1d921bee",
   "metadata": {},
   "outputs": [],
   "source": [
    "total_num_clusters = 1500\n",
    "\n",
    "cluster_data = ClusterData(\n",
    "    dataset[0], num_parts=total_num_clusters, recursive=False, save_dir=reddit_root\n",
    ")"
   ]
  },
  {
   "cell_type": "markdown",
   "id": "69a10eb2",
   "metadata": {},
   "source": [
    "We can now see we now have multiple items in the dataset:"
   ]
  },
  {
   "cell_type": "code",
   "execution_count": null,
   "id": "d0bfb08c",
   "metadata": {},
   "outputs": [],
   "source": [
    "len(cluster_data)"
   ]
  },
  {
   "cell_type": "markdown",
   "id": "0cc9c64e",
   "metadata": {},
   "source": [
    "Each with a reduced set of the original data."
   ]
  },
  {
   "cell_type": "code",
   "execution_count": null,
   "id": "1d400060",
   "metadata": {},
   "outputs": [],
   "source": [
    "cluster_data[0]"
   ]
  },
  {
   "cell_type": "markdown",
   "id": "22041436",
   "metadata": {},
   "source": [
    "It can be useful to plot the distribution of nodes in each cluster."
   ]
  },
  {
   "cell_type": "code",
   "execution_count": null,
   "id": "e80c7aba",
   "metadata": {},
   "outputs": [],
   "source": [
    "num_nodes_per_cluster = []\n",
    "num_edges_per_cluster = []\n",
    "\n",
    "for cluster in cluster_data:\n",
    "    num_nodes_per_cluster.append(cluster.y.shape[0])\n",
    "    num_edges_per_cluster.append(cluster.edge_index.shape[1])"
   ]
  },
  {
   "cell_type": "markdown",
   "id": "138228c1",
   "metadata": {},
   "source": [
    " As you can see the number of nodes per cluster is relatively balanced."
   ]
  },
  {
   "cell_type": "code",
   "execution_count": null,
   "id": "b5a036f9",
   "metadata": {},
   "outputs": [],
   "source": [
    "plt.hist(np.array(num_nodes_per_cluster), 20)\n",
    "plt.xlabel(\"Number of nodes per cluster\")\n",
    "plt.ylabel(\"Counts\")\n",
    "plt.title(\"Histogram of nodes in each cluster\")\n",
    "plt.show()"
   ]
  },
  {
   "cell_type": "markdown",
   "id": "c58bfb6e",
   "metadata": {},
   "source": [
    "But the number of edges per cluster is not."
   ]
  },
  {
   "cell_type": "code",
   "execution_count": null,
   "id": "5c3191f4",
   "metadata": {},
   "outputs": [],
   "source": [
    "plt.hist(np.array(num_edges_per_cluster), 20)\n",
    "plt.xlabel(\"Number of edges per cluster\")\n",
    "plt.ylabel(\"Counts\")\n",
    "plt.title(\"Histogram of edges in each cluster\")\n",
    "plt.show()"
   ]
  },
  {
   "cell_type": "markdown",
   "id": "9b55bc6e",
   "metadata": {},
   "source": [
    "We will have to take this into consideration when loading our data for the IPU. Next we will look at how to load our clusters."
   ]
  },
  {
   "cell_type": "markdown",
   "id": "b889ac5d",
   "metadata": {},
   "source": [
    "## Data Loading and Batching\n",
    "\n",
    "A batch in the cluster GCN algorithm is created by:\n",
    "* Randomly select a number of clusters\n",
    "* Combine the clusters into a single graph and add the edges between the nodes in this new graph that were removed in clustering\n",
    "* This is our batch, a single graph that is a selection of clusters\n",
    "\n",
    "When using the IPU we need our inputs to be fixed size. Combining the clusters will result in a graph of a different size each batch and so we need the result of our combined clusters to be fixed size. Lets see how to do that."
   ]
  },
  {
   "cell_type": "markdown",
   "id": "b1ee876e",
   "metadata": {},
   "source": [
    "Firstly, we can use `Summary` from `torch_geometric` to obtain information on each of our clusters."
   ]
  },
  {
   "cell_type": "code",
   "execution_count": null,
   "id": "40491660",
   "metadata": {},
   "outputs": [],
   "source": [
    "dataset_summary = Summary.from_dataset(cluster_data)\n",
    "dataset_summary"
   ]
  },
  {
   "cell_type": "markdown",
   "id": "148d7422",
   "metadata": {},
   "source": [
    "Here you can see the maximum number of nodes and edges in each cluster. From this we can calculate the maximum number of nodes that will be in each batch. Lets set the number of clusters we will sample each batch to 3 and calculate the maximum number of nodes per batch."
   ]
  },
  {
   "cell_type": "code",
   "execution_count": null,
   "id": "e6b70f4a",
   "metadata": {},
   "outputs": [],
   "source": [
    "clusters_per_batch = 6\n",
    "\n",
    "max_num_nodes_per_cluster = int(dataset_summary.num_nodes.max)\n",
    "max_nodes_per_batch = max_num_nodes_per_cluster * clusters_per_batch + 1\n",
    "\n",
    "max_nodes_per_batch"
   ]
  },
  {
   "attachments": {},
   "cell_type": "markdown",
   "id": "f32df854",
   "metadata": {},
   "source": [
    "You can see we add an extra node to our batch, this is required so that we can add any padded edges (which are required for our batch to be fixed size) to the padded node as self loops.\n",
    "\n",
    "We also need to calculate the maximum number of edges in a batch. As the number of edges for our combined clusters cannot be known ahead of time we approximate the number of edges required. Here we will allow a standard deviation above the mean extra for each cluster."
   ]
  },
  {
   "cell_type": "code",
   "execution_count": null,
   "id": "e8471d78",
   "metadata": {},
   "outputs": [],
   "source": [
    "max_edges_per_batch = int(dataset_summary.num_edges.mean) + int(\n",
    "    dataset_summary.num_edges.std\n",
    ")\n",
    "max_edges_per_batch *= clusters_per_batch\n",
    "max_edges_per_batch"
   ]
  },
  {
   "attachments": {},
   "cell_type": "markdown",
   "id": "048f1284",
   "metadata": {},
   "source": [
    "Now we can use these with a fixed size dataloader from PyTorch Geometric to create a dataloader that produces batches of fixed size. Notice how we set `trim_edges` to True. This is to ensure that if our combined clusters have a number of edges greater than the number of edges we have set, then the edges will be randomly removed to achieve the requested size."
   ]
  },
  {
   "cell_type": "code",
   "execution_count": null,
   "id": "992a8aad",
   "metadata": {},
   "outputs": [],
   "source": [
    "train_dataloader = FixedSizeClusterLoader(\n",
    "    cluster_data,\n",
    "    batch_size=clusters_per_batch,\n",
    "    num_nodes=max_nodes_per_batch,\n",
    "    collater_args=dict(num_edges=max_edges_per_batch, trim_edges=True),\n",
    "    num_workers=8,\n",
    ")"
   ]
  },
  {
   "cell_type": "markdown",
   "id": "35ab9f6a",
   "metadata": {},
   "source": [
    "Lets take a look at the first few items in the dataloader:"
   ]
  },
  {
   "cell_type": "code",
   "execution_count": null,
   "id": "66ed3117",
   "metadata": {},
   "outputs": [],
   "source": [
    "train_dataloader_iter = iter(train_dataloader)\n",
    "\n",
    "print(f\"{next(train_dataloader_iter) = }\")\n",
    "print(f\"{next(train_dataloader_iter) = }\")"
   ]
  },
  {
   "cell_type": "markdown",
   "id": "06445b8a",
   "metadata": {},
   "source": [
    "You can see that these two samples have the same sizes corresponding to our specified maximum nodes and edges per batch. Now we have our dataloader set up, we can start training our model. We will do this in the next section."
   ]
  },
  {
   "attachments": {},
   "cell_type": "markdown",
   "id": "ead2294a",
   "metadata": {},
   "source": [
    "## Training\n",
    "\n",
    "Now we are in the position to start creating and training our cluster GCN model.\n",
    "\n",
    "### Model Architecture\n",
    "\n",
    "We take a very simple model to demonstrate the Cluster GCN approach, this is shown below. One key thing to note is we mask out the labels by setting the target at the mask locations to `-100`, which will be ignored by default in the loss function."
   ]
  },
  {
   "cell_type": "code",
   "execution_count": null,
   "id": "1e4b04e3",
   "metadata": {},
   "outputs": [],
   "source": [
    "class Net(torch.nn.Module):\n",
    "    def __init__(self, in_channels, out_channels):\n",
    "        super().__init__()\n",
    "        self.conv_1 = SAGEConv(in_channels, 128)\n",
    "        self.conv_2 = SAGEConv(128, out_channels)\n",
    "\n",
    "    def forward(self, x, edge_index, mask=None, target=None):\n",
    "        x = self.conv_1(x, edge_index)\n",
    "        x = F.relu(x)\n",
    "        x = F.dropout(x, p=0.5, training=self.training)\n",
    "        x = self.conv_2(x, edge_index)\n",
    "        out = F.log_softmax(x, dim=-1)\n",
    "\n",
    "        if self.training:\n",
    "            # Mask out the nodes we don't care about\n",
    "            target = torch.where(~mask, target, -100)\n",
    "            return out, F.nll_loss(out, target)\n",
    "        return out"
   ]
  },
  {
   "attachments": {},
   "cell_type": "markdown",
   "id": "a528bb87",
   "metadata": {},
   "source": [
    "Lets create the `poptorch.Options` object with device iterations set to 4. Device iterations will increase the number of loops our model runs before returning to the host and can have a positive affect on our models throughput performance. For more information refer to the following resources for additional background:\n",
    "* PopTorch documentation [Efficient data batching](https://docs.graphcore.ai/projects/poptorch-user-guide/en/latest/batching.html?highlight=efficient-data-batching#efficient-data-batching),\n",
    "* PopTorch tutorial: [Efficient data loading](https://github.com/graphcore/tutorials/tree/sdk-release-2.5/tutorials/pytorch/tut2_efficient_data_loading),\n",
    "\n",
    "We also enable outputting the results for each iteration as well as allowing the executable to be cached to avoid recompilation."
   ]
  },
  {
   "cell_type": "code",
   "execution_count": null,
   "id": "6a41bbfe",
   "metadata": {},
   "outputs": [],
   "source": [
    "options = poptorch.Options()\n",
    "options.deviceIterations(4)\n",
    "options.outputMode(poptorch.OutputMode.All)\n",
    "options.enableExecutableCaching(executable_cache_dir)"
   ]
  },
  {
   "cell_type": "markdown",
   "id": "043f98ce",
   "metadata": {},
   "source": [
    "We can now use those options to instantiate our dataloader again."
   ]
  },
  {
   "cell_type": "code",
   "execution_count": null,
   "id": "d3223dee",
   "metadata": {},
   "outputs": [],
   "source": [
    "train_dataloader = FixedSizeClusterLoader(\n",
    "    cluster_data,\n",
    "    batch_size=clusters_per_batch,\n",
    "    num_nodes=max_nodes_per_batch,\n",
    "    collater_args=dict(num_edges=max_edges_per_batch, trim_edges=True),\n",
    "    num_workers=8,\n",
    "    options=options,\n",
    ")"
   ]
  },
  {
   "attachments": {},
   "cell_type": "markdown",
   "id": "33ea80b1",
   "metadata": {},
   "source": [
    "Now inspecting our first two batches you can see that the items are larger than previously. This is because we have increased the device iterations to 4. PopTorch will slice this batch for us and distribute it over each of the device iterations."
   ]
  },
  {
   "cell_type": "code",
   "execution_count": null,
   "id": "ccd8c1ff",
   "metadata": {},
   "outputs": [],
   "source": [
    "train_dataloader_iter = iter(train_dataloader)\n",
    "\n",
    "print(f\"{next(train_dataloader_iter) = }\")\n",
    "print(f\"{next(train_dataloader_iter) = }\")"
   ]
  },
  {
   "cell_type": "markdown",
   "id": "6e091cc3",
   "metadata": {},
   "source": [
    "Lets create the model and prepare for training with PopTorch."
   ]
  },
  {
   "cell_type": "code",
   "execution_count": null,
   "id": "fa7ce73a",
   "metadata": {},
   "outputs": [],
   "source": [
    "model = Net(dataset.num_features, dataset.num_classes)\n",
    "model.train()\n",
    "optimizer = torch.optim.AdamW(model.parameters(), lr=0.005)\n",
    "poptorch_model = poptorch.trainingModel(model, optimizer=optimizer, options=options)"
   ]
  },
  {
   "cell_type": "markdown",
   "id": "9bc35acf",
   "metadata": {},
   "source": [
    "Now we can run the training loop:"
   ]
  },
  {
   "cell_type": "code",
   "execution_count": null,
   "id": "e1244c95",
   "metadata": {},
   "outputs": [],
   "source": [
    "num_epochs = 10\n",
    "train_losses = torch.empty(num_epochs, len(train_dataloader))\n",
    "\n",
    "for epoch in range(num_epochs):\n",
    "    bar = tqdm(train_dataloader)\n",
    "    for i, data in enumerate(bar):\n",
    "        # Performs forward pass, loss function evaluation,\n",
    "        # backward pass and weight update in one go on the device.\n",
    "        _, mini_batch_loss = poptorch_model(\n",
    "            data.x, data.edge_index, data.train_mask, data.y\n",
    "        )\n",
    "        train_losses[epoch, i] = float(mini_batch_loss.mean())\n",
    "        bar.set_description(\n",
    "            f\"Epoch {epoch} training loss: {train_losses[epoch, i].item():0.6f}\"\n",
    "        )"
   ]
  },
  {
   "cell_type": "markdown",
   "id": "0403dbbf",
   "metadata": {},
   "source": [
    "Finally we can detach the training model from the IPU:"
   ]
  },
  {
   "cell_type": "code",
   "execution_count": null,
   "id": "b3ab4ee9",
   "metadata": {},
   "outputs": [],
   "source": [
    "poptorch_model.detachFromDevice()"
   ]
  },
  {
   "cell_type": "markdown",
   "id": "4d2f931d",
   "metadata": {},
   "source": [
    "And finally lets take a look at the loss curve:"
   ]
  },
  {
   "cell_type": "code",
   "execution_count": null,
   "id": "46434448",
   "metadata": {},
   "outputs": [],
   "source": [
    "plt.plot(train_losses.mean(dim=1))\n",
    "plt.xlabel(\"Epoch\")\n",
    "plt.ylabel(\"Mean loss\")\n",
    "plt.legend([\"Training loss\"])\n",
    "plt.grid(True)\n",
    "plt.xticks(torch.arange(0, num_epochs, 2))\n",
    "plt.gcf().set_dpi(150)"
   ]
  },
  {
   "cell_type": "markdown",
   "id": "d4cc4436",
   "metadata": {},
   "source": [
    "We have successfully trained our simple model to do node classification on the Reddit dataset. In the next section we will see how we can run validation and test on our trained model."
   ]
  },
  {
   "cell_type": "markdown",
   "id": "2f5ed4ae",
   "metadata": {},
   "source": [
    "## Optional - Validation and Test"
   ]
  },
  {
   "cell_type": "markdown",
   "id": "20a91b39",
   "metadata": {},
   "source": [
    "Now we can run validation and test on our trained model. For this we will need to do a single execution on the full graph on the CPU. This can take a while so we have left this section commented, feel free to uncomment and run validation and test."
   ]
  },
  {
   "cell_type": "code",
   "execution_count": null,
   "id": "4aec4e88",
   "metadata": {},
   "outputs": [],
   "source": [
    "\"\"\"\n",
    "data = dataset[0]\n",
    "\n",
    "model = Net(dataset.num_features, dataset.num_classes)\n",
    "model.load_state_dict(poptorch_model.state_dict())\n",
    "model.eval()\n",
    "out = model.forward(data.x, data.edge_index)\n",
    "y_pred = out.argmax(dim=-1)\n",
    "\n",
    "accs = []\n",
    "for mask in [data.val_mask, data.test_mask]:\n",
    "    correct = y_pred[mask].eq(data.y[mask]).sum().item()\n",
    "    accs.append(correct / mask.sum().item())\n",
    "\n",
    "print(\"Validation accuracy: {accs[0]}\")\n",
    "print(\"Test accuracy: {accs[1]}\")\n",
    "\"\"\""
   ]
  },
  {
   "cell_type": "markdown",
   "id": "d62c0a35",
   "metadata": {},
   "source": [
    "## Follow up\n",
    "\n",
    "We have successfully trained a simple model to do node classification on a large graph, using sampling to reduce the size of our batch.\n",
    "\n",
    "Next you could try:\n",
    "* Experiment with the dataloading to achieve higher throughput.\n",
    "* Try other sampling approaches with our PopTorch Geometric tools to achieve fixed size outputs."
   ]
  }
 ],
 "metadata": {
  "kernelspec": {
   "display_name": "3.2.0+1262_poptorch",
   "language": "python",
   "name": "python3"
  },
  "language_info": {
   "codemirror_mode": {
    "name": "ipython",
    "version": 3
   },
   "file_extension": ".py",
   "mimetype": "text/x-python",
   "name": "python",
   "nbconvert_exporter": "python",
   "pygments_lexer": "ipython3",
   "version": "3.8.10 (default, Nov 14 2022, 12:59:47) \n[GCC 9.4.0]"
  },
  "traceability": {
   "sdk_version": "3.2.0-EA.1+1249",
   "source_file": "node_classification_with_cluster_gcn.py",
   "sst_version": "0.0.10",
   "timestamp": "2023-02-27T17:30"
  },
  "vscode": {
   "interpreter": {
    "hash": "4b7133ac454a965c7b25bf17fb22ff5a4b1e3a6d812b3e17a861b05f76606f09"
   }
  }
 },
 "nbformat": 4,
 "nbformat_minor": 5
}
