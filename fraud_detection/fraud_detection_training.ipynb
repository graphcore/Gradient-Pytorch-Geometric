{
 "cells": [
  {
   "attachments": {},
   "cell_type": "markdown",
   "id": "d2b361bf",
   "metadata": {},
   "source": [
    "Copyright (c) 2023 Graphcore Ltd. All rights reserved."
   ]
  },
  {
   "attachments": {},
   "cell_type": "markdown",
   "id": "af14ce5a",
   "metadata": {},
   "source": [
    "# Training a GNN to do Fraud Detection on Graphcore IPUs using your own dataset with PyTorch Geometric\n",
    "\n",
    "TODO: Everything in this section\n",
    "\n",
    "TODO: Update links:\n",
    "\n",
    "[![Run on Gradient](../../gradient-badge.svg)](https://console.paperspace.com/github/<runtime-repo>?machine=Free-IPU-POD4&container=<dockerhub-image>&file=<path-to-file-in-repo>)  [![Join our Slack Community](https://img.shields.io/badge/Slack-Join%20Graphcore's%20Community-blue?style=flat-square&logo=slack)](https://www.graphcore.ai/join-community)\n",
    "\n",
    ">\n",
    "> We aim to have our notebook app demos to be focused on what the user is trying to\n",
    "> do. To help you do this correctly please read [our user personnas](https://graphcore.atlassian.net/wiki/spaces/PM/pages/3157131517/Notebook+personas#Ellie%3A-The-Data-Scientist%2C-Business-Analysis%2C-Consultant),\n",
    "and when in doubt ask yourself \"does that person care about this?\".\n",
    "> To support that the first paragraph will contain all the key information, to\n",
    "> help users rapidly identify if this is the right notebook for them to go\n",
    "> though, based on:\n",
    ">\n",
    "> - The task/business problem they are trying to solve,\n",
    "> - The features that are used (Focus on big picture Deep learning features - e.g.\n",
    ">  Distributed training, not I/O overlap).\n",
    ">\n",
    "> To achieve this, each notebook should start with the following 3 paragraphs\n",
    "> (detailed in the next three comments):\n",
    ">\n",
    "> - a table highlighting what we are going to do\n",
    "> - a very short intro (3-5 sentences)\n",
    "> - clear \"steps to resolution\" (bullet points stating what the user will have\n",
    ">    to do to tackle their problem on the IPU - these need to reflect the notebook,\n",
    ">    and be as simple as possible)\n",
    "> - links to additional related resources.\n",
    ">\n",
    "\n",
    "|  Domain | Tasks | Model | Datasets | Workflow |   Number of IPUs   | Execution time |\n",
    "|---------|-------|-------|----------|----------|--------------|--------------|\n",
    "|   GNNs   |  Fraud detection  | ? | ? | Training, evaluation | recommended: 16XX (min: 4X) | 20Xmn (X1h20mn)   |\n",
    "\n",
    ">\n",
    ">\n",
    "> Start with a short introduction to the notebook. [suggested 3-5 sentences]\n",
    ">\n",
    "> This intro should focus on the problem you are fixing, and not on any IPU specific\n",
    "> or framework specific features. The mindset is that anything that is non-standard\n",
    "> is a barrier to entry, and will risk the user giving up.\n",
    ">\n",
    "> This short introduction should be followed by a clear bullet point summary of\n",
    "> the steps of the demo. Each outcome should be of the form:\n",
    "> - what the user will do (active verb) [and (optionally) how they do\n",
    ">   it]. Jargon, if any, goes to the end of the bullet point.\n",
    "\n",
    "In this demo, you will learn how to:\n",
    "\n",
    "- Turn tabular transaction data into a PyTorch Geometric dataset\n",
    "- Select a model suitable for the task of predicting fraudulent transactions\n",
    "- Train the model on Graphcore IPUs\n",
    "- Run validation on the trained model\n",
    "\n",
    "This notebook assumes some familiarity with PopTorch as well as PyTorch Geometric (PyG). For additional resources please consult:\n",
    "* [PopTorch Documentation](https://docs.graphcore.ai/projects/poptorch-user-guide/en/latest/index.html)\n",
    "* [PopTorch Examples and Tutorials](https://docs.graphcore.ai/en/latest/examples.html#pytorch)\n",
    "* [PyTorch Geometric](https://pytorch-geometric.readthedocs.io/en/latest/)\n",
    "* [PopTorch Geometric Documentation](https://docs.graphcore.ai/projects/poptorch-geometric-user-guide/en/latest/index.html)\n",
    "\n",
    "[![Join our Slack Community](https://img.shields.io/badge/Slack-Join%20Graphcore's%20Community-blue?style=flat-square&logo=slack)](https://www.graphcore.ai/join-community)"
   ]
  },
  {
   "cell_type": "code",
   "execution_count": 1,
   "id": "0279f464",
   "metadata": {},
   "outputs": [],
   "source": [
    "# Make imported python modules automatically reload when the files are changed\n",
    "# needs to be before the first import.\n",
    "%load_ext autoreload\n",
    "%autoreload 2\n",
    "# TODO: remove at the end of notebook development"
   ]
  },
  {
   "attachments": {},
   "cell_type": "markdown",
   "id": "db890f52",
   "metadata": {},
   "source": [
    "## Environment setup\n",
    "\n",
    "[![Run on Gradient](../../gradient-badge.svg)](TODO)\n",
    "\n",
    "The best way to try this demo is on Paperspace Gradient's cloud IPUs. To use on other hardware\n",
    "make sure that you have the Poplar SDK enabled with the latest PopTorch Geometric installed."
   ]
  },
  {
   "cell_type": "code",
   "execution_count": 2,
   "id": "5c72d24a",
   "metadata": {},
   "outputs": [
    {
     "name": "stdout",
     "output_type": "stream",
     "text": [
      "\n",
      "\u001b[1m[\u001b[0m\u001b[34;49mnotice\u001b[0m\u001b[1;39;49m]\u001b[0m\u001b[39;49m A new release of pip is available: \u001b[0m\u001b[31;49m23.0.1\u001b[0m\u001b[39;49m -> \u001b[0m\u001b[32;49m23.1\u001b[0m\n",
      "\u001b[1m[\u001b[0m\u001b[34;49mnotice\u001b[0m\u001b[1;39;49m]\u001b[0m\u001b[39;49m To update, run: \u001b[0m\u001b[32;49mpip install --upgrade pip\u001b[0m\n",
      "Note: you may need to restart the kernel to use updated packages.\n"
     ]
    }
   ],
   "source": [
    "%pip install -q -r requirements.txt"
   ]
  },
  {
   "attachments": {},
   "cell_type": "markdown",
   "id": "b33a842f",
   "metadata": {},
   "source": [
    "To improve your experience we read some configuration related to the environment you are running the notebook in."
   ]
  },
  {
   "cell_type": "code",
   "execution_count": 3,
   "id": "965ca0a6",
   "metadata": {},
   "outputs": [],
   "source": [
    "import os\n",
    "\n",
    "number_of_ipus = int(os.getenv(\"NUM_AVAILABLE_IPU\", 16))\n",
    "pod_type = os.getenv(\"GRAPHCORE_POD_TYPE\", \"pod16\")\n",
    "executable_cache_dir = os.getenv(\"POPLAR_EXECUTABLE_CACHE_DIR\", \"/tmp/exe_cache/\")\n",
    "\n",
    "# TODO Remove default\n",
    "dataset_directory = os.getenv(\"DATASETS_DIR\", \"~\")\n",
    "checkpoint_directory = os.getenv(\"CHECKPOINT_DIR\")"
   ]
  },
  {
   "attachments": {},
   "cell_type": "markdown",
   "id": "0a32779d",
   "metadata": {},
   "source": [
    "## Loading tabular data into PyTorch Geometric"
   ]
  },
  {
   "cell_type": "code",
   "execution_count": 4,
   "id": "974fbb7c",
   "metadata": {},
   "outputs": [],
   "source": [
    "import torch"
   ]
  },
  {
   "attachments": {},
   "cell_type": "markdown",
   "id": "32152d7e",
   "metadata": {},
   "source": [
    "### Getting the dataset\n",
    "\n",
    "TODO: Using https://www.kaggle.com/c/ieee-fraud-detection/data\n",
    "\n",
    "TODO: Run a script to download and tidy data?"
   ]
  },
  {
   "cell_type": "code",
   "execution_count": 5,
   "id": "8a97bde6",
   "metadata": {},
   "outputs": [],
   "source": [
    "import os.path as osp\n",
    "import pandas as pd\n",
    "\n",
    "raw_dataset_path = osp.join(dataset_directory, \"ieee-fraud-detection\", \"raw\")\n",
    "\n",
    "train_transaction_path = osp.join(raw_dataset_path, \"train_transaction.csv\")\n",
    "train_identity_path = osp.join(raw_dataset_path, \"train_identity.csv\")\n",
    "train_transaction_df = pd.read_csv(train_transaction_path)\n",
    "train_identity_df = pd.read_csv(train_identity_path)\n",
    "\n",
    "test_transaction_path = osp.join(raw_dataset_path, \"test_transaction.csv\")\n",
    "test_identity_path = osp.join(raw_dataset_path, \"test_identity.csv\")\n",
    "test_transaction_df = pd.read_csv(test_transaction_path)\n",
    "test_identity_df = pd.read_csv(test_identity_path)"
   ]
  },
  {
   "cell_type": "code",
   "execution_count": 6,
   "id": "28b1d5ec",
   "metadata": {},
   "outputs": [],
   "source": [
    "transaction_df = pd.concat([train_transaction_df, test_transaction_df], axis=0)\n",
    "identity_df = pd.concat([train_identity_df, test_identity_df], axis=0)"
   ]
  },
  {
   "cell_type": "code",
   "execution_count": 7,
   "id": "4f3aaddd",
   "metadata": {},
   "outputs": [
    {
     "data": {
      "text/html": [
       "<div>\n",
       "<style scoped>\n",
       "    .dataframe tbody tr th:only-of-type {\n",
       "        vertical-align: middle;\n",
       "    }\n",
       "\n",
       "    .dataframe tbody tr th {\n",
       "        vertical-align: top;\n",
       "    }\n",
       "\n",
       "    .dataframe thead th {\n",
       "        text-align: right;\n",
       "    }\n",
       "</style>\n",
       "<table border=\"1\" class=\"dataframe\">\n",
       "  <thead>\n",
       "    <tr style=\"text-align: right;\">\n",
       "      <th></th>\n",
       "      <th>TransactionID</th>\n",
       "      <th>isFraud</th>\n",
       "      <th>TransactionDT</th>\n",
       "      <th>TransactionAmt</th>\n",
       "      <th>ProductCD</th>\n",
       "      <th>card1</th>\n",
       "      <th>card2</th>\n",
       "      <th>card3</th>\n",
       "      <th>card4</th>\n",
       "      <th>card5</th>\n",
       "      <th>...</th>\n",
       "      <th>V330</th>\n",
       "      <th>V331</th>\n",
       "      <th>V332</th>\n",
       "      <th>V333</th>\n",
       "      <th>V334</th>\n",
       "      <th>V335</th>\n",
       "      <th>V336</th>\n",
       "      <th>V337</th>\n",
       "      <th>V338</th>\n",
       "      <th>V339</th>\n",
       "    </tr>\n",
       "  </thead>\n",
       "  <tbody>\n",
       "    <tr>\n",
       "      <th>0</th>\n",
       "      <td>2987000</td>\n",
       "      <td>0.0</td>\n",
       "      <td>86400</td>\n",
       "      <td>68.5</td>\n",
       "      <td>W</td>\n",
       "      <td>13926</td>\n",
       "      <td>NaN</td>\n",
       "      <td>150.0</td>\n",
       "      <td>discover</td>\n",
       "      <td>142.0</td>\n",
       "      <td>...</td>\n",
       "      <td>NaN</td>\n",
       "      <td>NaN</td>\n",
       "      <td>NaN</td>\n",
       "      <td>NaN</td>\n",
       "      <td>NaN</td>\n",
       "      <td>NaN</td>\n",
       "      <td>NaN</td>\n",
       "      <td>NaN</td>\n",
       "      <td>NaN</td>\n",
       "      <td>NaN</td>\n",
       "    </tr>\n",
       "    <tr>\n",
       "      <th>1</th>\n",
       "      <td>2987001</td>\n",
       "      <td>0.0</td>\n",
       "      <td>86401</td>\n",
       "      <td>29.0</td>\n",
       "      <td>W</td>\n",
       "      <td>2755</td>\n",
       "      <td>404.0</td>\n",
       "      <td>150.0</td>\n",
       "      <td>mastercard</td>\n",
       "      <td>102.0</td>\n",
       "      <td>...</td>\n",
       "      <td>NaN</td>\n",
       "      <td>NaN</td>\n",
       "      <td>NaN</td>\n",
       "      <td>NaN</td>\n",
       "      <td>NaN</td>\n",
       "      <td>NaN</td>\n",
       "      <td>NaN</td>\n",
       "      <td>NaN</td>\n",
       "      <td>NaN</td>\n",
       "      <td>NaN</td>\n",
       "    </tr>\n",
       "    <tr>\n",
       "      <th>2</th>\n",
       "      <td>2987002</td>\n",
       "      <td>0.0</td>\n",
       "      <td>86469</td>\n",
       "      <td>59.0</td>\n",
       "      <td>W</td>\n",
       "      <td>4663</td>\n",
       "      <td>490.0</td>\n",
       "      <td>150.0</td>\n",
       "      <td>visa</td>\n",
       "      <td>166.0</td>\n",
       "      <td>...</td>\n",
       "      <td>NaN</td>\n",
       "      <td>NaN</td>\n",
       "      <td>NaN</td>\n",
       "      <td>NaN</td>\n",
       "      <td>NaN</td>\n",
       "      <td>NaN</td>\n",
       "      <td>NaN</td>\n",
       "      <td>NaN</td>\n",
       "      <td>NaN</td>\n",
       "      <td>NaN</td>\n",
       "    </tr>\n",
       "    <tr>\n",
       "      <th>3</th>\n",
       "      <td>2987003</td>\n",
       "      <td>0.0</td>\n",
       "      <td>86499</td>\n",
       "      <td>50.0</td>\n",
       "      <td>W</td>\n",
       "      <td>18132</td>\n",
       "      <td>567.0</td>\n",
       "      <td>150.0</td>\n",
       "      <td>mastercard</td>\n",
       "      <td>117.0</td>\n",
       "      <td>...</td>\n",
       "      <td>NaN</td>\n",
       "      <td>NaN</td>\n",
       "      <td>NaN</td>\n",
       "      <td>NaN</td>\n",
       "      <td>NaN</td>\n",
       "      <td>NaN</td>\n",
       "      <td>NaN</td>\n",
       "      <td>NaN</td>\n",
       "      <td>NaN</td>\n",
       "      <td>NaN</td>\n",
       "    </tr>\n",
       "    <tr>\n",
       "      <th>4</th>\n",
       "      <td>2987004</td>\n",
       "      <td>0.0</td>\n",
       "      <td>86506</td>\n",
       "      <td>50.0</td>\n",
       "      <td>H</td>\n",
       "      <td>4497</td>\n",
       "      <td>514.0</td>\n",
       "      <td>150.0</td>\n",
       "      <td>mastercard</td>\n",
       "      <td>102.0</td>\n",
       "      <td>...</td>\n",
       "      <td>0.0</td>\n",
       "      <td>0.0</td>\n",
       "      <td>0.0</td>\n",
       "      <td>0.0</td>\n",
       "      <td>0.0</td>\n",
       "      <td>0.0</td>\n",
       "      <td>0.0</td>\n",
       "      <td>0.0</td>\n",
       "      <td>0.0</td>\n",
       "      <td>0.0</td>\n",
       "    </tr>\n",
       "  </tbody>\n",
       "</table>\n",
       "<p>5 rows × 394 columns</p>\n",
       "</div>"
      ],
      "text/plain": [
       "   TransactionID  isFraud  TransactionDT  TransactionAmt ProductCD  card1  \\\n",
       "0        2987000      0.0          86400            68.5         W  13926   \n",
       "1        2987001      0.0          86401            29.0         W   2755   \n",
       "2        2987002      0.0          86469            59.0         W   4663   \n",
       "3        2987003      0.0          86499            50.0         W  18132   \n",
       "4        2987004      0.0          86506            50.0         H   4497   \n",
       "\n",
       "   card2  card3       card4  card5  ... V330  V331  V332  V333  V334 V335  \\\n",
       "0    NaN  150.0    discover  142.0  ...  NaN   NaN   NaN   NaN   NaN  NaN   \n",
       "1  404.0  150.0  mastercard  102.0  ...  NaN   NaN   NaN   NaN   NaN  NaN   \n",
       "2  490.0  150.0        visa  166.0  ...  NaN   NaN   NaN   NaN   NaN  NaN   \n",
       "3  567.0  150.0  mastercard  117.0  ...  NaN   NaN   NaN   NaN   NaN  NaN   \n",
       "4  514.0  150.0  mastercard  102.0  ...  0.0   0.0   0.0   0.0   0.0  0.0   \n",
       "\n",
       "  V336  V337  V338  V339  \n",
       "0  NaN   NaN   NaN   NaN  \n",
       "1  NaN   NaN   NaN   NaN  \n",
       "2  NaN   NaN   NaN   NaN  \n",
       "3  NaN   NaN   NaN   NaN  \n",
       "4  0.0   0.0   0.0   0.0  \n",
       "\n",
       "[5 rows x 394 columns]"
      ]
     },
     "execution_count": 7,
     "metadata": {},
     "output_type": "execute_result"
    }
   ],
   "source": [
    "transaction_df.head()"
   ]
  },
  {
   "cell_type": "code",
   "execution_count": 8,
   "id": "9476115e",
   "metadata": {},
   "outputs": [
    {
     "data": {
      "text/html": [
       "<div>\n",
       "<style scoped>\n",
       "    .dataframe tbody tr th:only-of-type {\n",
       "        vertical-align: middle;\n",
       "    }\n",
       "\n",
       "    .dataframe tbody tr th {\n",
       "        vertical-align: top;\n",
       "    }\n",
       "\n",
       "    .dataframe thead th {\n",
       "        text-align: right;\n",
       "    }\n",
       "</style>\n",
       "<table border=\"1\" class=\"dataframe\">\n",
       "  <thead>\n",
       "    <tr style=\"text-align: right;\">\n",
       "      <th></th>\n",
       "      <th>TransactionID</th>\n",
       "      <th>id_01</th>\n",
       "      <th>id_02</th>\n",
       "      <th>id_03</th>\n",
       "      <th>id_04</th>\n",
       "      <th>id_05</th>\n",
       "      <th>id_06</th>\n",
       "      <th>id_07</th>\n",
       "      <th>id_08</th>\n",
       "      <th>id_09</th>\n",
       "      <th>...</th>\n",
       "      <th>id-29</th>\n",
       "      <th>id-30</th>\n",
       "      <th>id-31</th>\n",
       "      <th>id-32</th>\n",
       "      <th>id-33</th>\n",
       "      <th>id-34</th>\n",
       "      <th>id-35</th>\n",
       "      <th>id-36</th>\n",
       "      <th>id-37</th>\n",
       "      <th>id-38</th>\n",
       "    </tr>\n",
       "  </thead>\n",
       "  <tbody>\n",
       "    <tr>\n",
       "      <th>0</th>\n",
       "      <td>2987004</td>\n",
       "      <td>0.0</td>\n",
       "      <td>70787.0</td>\n",
       "      <td>NaN</td>\n",
       "      <td>NaN</td>\n",
       "      <td>NaN</td>\n",
       "      <td>NaN</td>\n",
       "      <td>NaN</td>\n",
       "      <td>NaN</td>\n",
       "      <td>NaN</td>\n",
       "      <td>...</td>\n",
       "      <td>NaN</td>\n",
       "      <td>NaN</td>\n",
       "      <td>NaN</td>\n",
       "      <td>NaN</td>\n",
       "      <td>NaN</td>\n",
       "      <td>NaN</td>\n",
       "      <td>NaN</td>\n",
       "      <td>NaN</td>\n",
       "      <td>NaN</td>\n",
       "      <td>NaN</td>\n",
       "    </tr>\n",
       "    <tr>\n",
       "      <th>1</th>\n",
       "      <td>2987008</td>\n",
       "      <td>-5.0</td>\n",
       "      <td>98945.0</td>\n",
       "      <td>NaN</td>\n",
       "      <td>NaN</td>\n",
       "      <td>0.0</td>\n",
       "      <td>-5.0</td>\n",
       "      <td>NaN</td>\n",
       "      <td>NaN</td>\n",
       "      <td>NaN</td>\n",
       "      <td>...</td>\n",
       "      <td>NaN</td>\n",
       "      <td>NaN</td>\n",
       "      <td>NaN</td>\n",
       "      <td>NaN</td>\n",
       "      <td>NaN</td>\n",
       "      <td>NaN</td>\n",
       "      <td>NaN</td>\n",
       "      <td>NaN</td>\n",
       "      <td>NaN</td>\n",
       "      <td>NaN</td>\n",
       "    </tr>\n",
       "    <tr>\n",
       "      <th>2</th>\n",
       "      <td>2987010</td>\n",
       "      <td>-5.0</td>\n",
       "      <td>191631.0</td>\n",
       "      <td>0.0</td>\n",
       "      <td>0.0</td>\n",
       "      <td>0.0</td>\n",
       "      <td>0.0</td>\n",
       "      <td>NaN</td>\n",
       "      <td>NaN</td>\n",
       "      <td>0.0</td>\n",
       "      <td>...</td>\n",
       "      <td>NaN</td>\n",
       "      <td>NaN</td>\n",
       "      <td>NaN</td>\n",
       "      <td>NaN</td>\n",
       "      <td>NaN</td>\n",
       "      <td>NaN</td>\n",
       "      <td>NaN</td>\n",
       "      <td>NaN</td>\n",
       "      <td>NaN</td>\n",
       "      <td>NaN</td>\n",
       "    </tr>\n",
       "    <tr>\n",
       "      <th>3</th>\n",
       "      <td>2987011</td>\n",
       "      <td>-5.0</td>\n",
       "      <td>221832.0</td>\n",
       "      <td>NaN</td>\n",
       "      <td>NaN</td>\n",
       "      <td>0.0</td>\n",
       "      <td>-6.0</td>\n",
       "      <td>NaN</td>\n",
       "      <td>NaN</td>\n",
       "      <td>NaN</td>\n",
       "      <td>...</td>\n",
       "      <td>NaN</td>\n",
       "      <td>NaN</td>\n",
       "      <td>NaN</td>\n",
       "      <td>NaN</td>\n",
       "      <td>NaN</td>\n",
       "      <td>NaN</td>\n",
       "      <td>NaN</td>\n",
       "      <td>NaN</td>\n",
       "      <td>NaN</td>\n",
       "      <td>NaN</td>\n",
       "    </tr>\n",
       "    <tr>\n",
       "      <th>4</th>\n",
       "      <td>2987016</td>\n",
       "      <td>0.0</td>\n",
       "      <td>7460.0</td>\n",
       "      <td>0.0</td>\n",
       "      <td>0.0</td>\n",
       "      <td>1.0</td>\n",
       "      <td>0.0</td>\n",
       "      <td>NaN</td>\n",
       "      <td>NaN</td>\n",
       "      <td>0.0</td>\n",
       "      <td>...</td>\n",
       "      <td>NaN</td>\n",
       "      <td>NaN</td>\n",
       "      <td>NaN</td>\n",
       "      <td>NaN</td>\n",
       "      <td>NaN</td>\n",
       "      <td>NaN</td>\n",
       "      <td>NaN</td>\n",
       "      <td>NaN</td>\n",
       "      <td>NaN</td>\n",
       "      <td>NaN</td>\n",
       "    </tr>\n",
       "  </tbody>\n",
       "</table>\n",
       "<p>5 rows × 79 columns</p>\n",
       "</div>"
      ],
      "text/plain": [
       "   TransactionID  id_01     id_02  id_03  id_04  id_05  id_06  id_07  id_08  \\\n",
       "0        2987004    0.0   70787.0    NaN    NaN    NaN    NaN    NaN    NaN   \n",
       "1        2987008   -5.0   98945.0    NaN    NaN    0.0   -5.0    NaN    NaN   \n",
       "2        2987010   -5.0  191631.0    0.0    0.0    0.0    0.0    NaN    NaN   \n",
       "3        2987011   -5.0  221832.0    NaN    NaN    0.0   -6.0    NaN    NaN   \n",
       "4        2987016    0.0    7460.0    0.0    0.0    1.0    0.0    NaN    NaN   \n",
       "\n",
       "   id_09  ...  id-29  id-30 id-31  id-32  id-33 id-34 id-35  id-36  id-37  \\\n",
       "0    NaN  ...    NaN    NaN   NaN    NaN    NaN   NaN   NaN    NaN    NaN   \n",
       "1    NaN  ...    NaN    NaN   NaN    NaN    NaN   NaN   NaN    NaN    NaN   \n",
       "2    0.0  ...    NaN    NaN   NaN    NaN    NaN   NaN   NaN    NaN    NaN   \n",
       "3    NaN  ...    NaN    NaN   NaN    NaN    NaN   NaN   NaN    NaN    NaN   \n",
       "4    0.0  ...    NaN    NaN   NaN    NaN    NaN   NaN   NaN    NaN    NaN   \n",
       "\n",
       "   id-38  \n",
       "0    NaN  \n",
       "1    NaN  \n",
       "2    NaN  \n",
       "3    NaN  \n",
       "4    NaN  \n",
       "\n",
       "[5 rows x 79 columns]"
      ]
     },
     "execution_count": 8,
     "metadata": {},
     "output_type": "execute_result"
    }
   ],
   "source": [
    "identity_df.head()"
   ]
  },
  {
   "cell_type": "code",
   "execution_count": 9,
   "id": "f77ae1b1",
   "metadata": {},
   "outputs": [],
   "source": [
    "# TODO: Remove this\n",
    "transaction_df = transaction_df.head()\n",
    "identity_df = identity_df.head()"
   ]
  },
  {
   "cell_type": "code",
   "execution_count": 10,
   "id": "72b49a5c",
   "metadata": {},
   "outputs": [
    {
     "data": {
      "text/html": [
       "<div>\n",
       "<style scoped>\n",
       "    .dataframe tbody tr th:only-of-type {\n",
       "        vertical-align: middle;\n",
       "    }\n",
       "\n",
       "    .dataframe tbody tr th {\n",
       "        vertical-align: top;\n",
       "    }\n",
       "\n",
       "    .dataframe thead th {\n",
       "        text-align: right;\n",
       "    }\n",
       "</style>\n",
       "<table border=\"1\" class=\"dataframe\">\n",
       "  <thead>\n",
       "    <tr style=\"text-align: right;\">\n",
       "      <th></th>\n",
       "      <th>TransactionID</th>\n",
       "      <th>isFraud</th>\n",
       "      <th>TransactionDT</th>\n",
       "      <th>TransactionAmt</th>\n",
       "      <th>ProductCD</th>\n",
       "      <th>card1</th>\n",
       "      <th>card2</th>\n",
       "      <th>card3</th>\n",
       "      <th>card4</th>\n",
       "      <th>card5</th>\n",
       "      <th>...</th>\n",
       "      <th>V330</th>\n",
       "      <th>V331</th>\n",
       "      <th>V332</th>\n",
       "      <th>V333</th>\n",
       "      <th>V334</th>\n",
       "      <th>V335</th>\n",
       "      <th>V336</th>\n",
       "      <th>V337</th>\n",
       "      <th>V338</th>\n",
       "      <th>V339</th>\n",
       "    </tr>\n",
       "  </thead>\n",
       "  <tbody>\n",
       "    <tr>\n",
       "      <th>0</th>\n",
       "      <td>2987000</td>\n",
       "      <td>0.0</td>\n",
       "      <td>86400</td>\n",
       "      <td>68.5</td>\n",
       "      <td>W</td>\n",
       "      <td>13926</td>\n",
       "      <td>NaN</td>\n",
       "      <td>150.0</td>\n",
       "      <td>discover</td>\n",
       "      <td>142.0</td>\n",
       "      <td>...</td>\n",
       "      <td>NaN</td>\n",
       "      <td>NaN</td>\n",
       "      <td>NaN</td>\n",
       "      <td>NaN</td>\n",
       "      <td>NaN</td>\n",
       "      <td>NaN</td>\n",
       "      <td>NaN</td>\n",
       "      <td>NaN</td>\n",
       "      <td>NaN</td>\n",
       "      <td>NaN</td>\n",
       "    </tr>\n",
       "    <tr>\n",
       "      <th>1</th>\n",
       "      <td>2987001</td>\n",
       "      <td>0.0</td>\n",
       "      <td>86401</td>\n",
       "      <td>29.0</td>\n",
       "      <td>W</td>\n",
       "      <td>2755</td>\n",
       "      <td>404.0</td>\n",
       "      <td>150.0</td>\n",
       "      <td>mastercard</td>\n",
       "      <td>102.0</td>\n",
       "      <td>...</td>\n",
       "      <td>NaN</td>\n",
       "      <td>NaN</td>\n",
       "      <td>NaN</td>\n",
       "      <td>NaN</td>\n",
       "      <td>NaN</td>\n",
       "      <td>NaN</td>\n",
       "      <td>NaN</td>\n",
       "      <td>NaN</td>\n",
       "      <td>NaN</td>\n",
       "      <td>NaN</td>\n",
       "    </tr>\n",
       "    <tr>\n",
       "      <th>2</th>\n",
       "      <td>2987002</td>\n",
       "      <td>0.0</td>\n",
       "      <td>86469</td>\n",
       "      <td>59.0</td>\n",
       "      <td>W</td>\n",
       "      <td>4663</td>\n",
       "      <td>490.0</td>\n",
       "      <td>150.0</td>\n",
       "      <td>visa</td>\n",
       "      <td>166.0</td>\n",
       "      <td>...</td>\n",
       "      <td>NaN</td>\n",
       "      <td>NaN</td>\n",
       "      <td>NaN</td>\n",
       "      <td>NaN</td>\n",
       "      <td>NaN</td>\n",
       "      <td>NaN</td>\n",
       "      <td>NaN</td>\n",
       "      <td>NaN</td>\n",
       "      <td>NaN</td>\n",
       "      <td>NaN</td>\n",
       "    </tr>\n",
       "    <tr>\n",
       "      <th>3</th>\n",
       "      <td>2987003</td>\n",
       "      <td>0.0</td>\n",
       "      <td>86499</td>\n",
       "      <td>50.0</td>\n",
       "      <td>W</td>\n",
       "      <td>18132</td>\n",
       "      <td>567.0</td>\n",
       "      <td>150.0</td>\n",
       "      <td>mastercard</td>\n",
       "      <td>117.0</td>\n",
       "      <td>...</td>\n",
       "      <td>NaN</td>\n",
       "      <td>NaN</td>\n",
       "      <td>NaN</td>\n",
       "      <td>NaN</td>\n",
       "      <td>NaN</td>\n",
       "      <td>NaN</td>\n",
       "      <td>NaN</td>\n",
       "      <td>NaN</td>\n",
       "      <td>NaN</td>\n",
       "      <td>NaN</td>\n",
       "    </tr>\n",
       "    <tr>\n",
       "      <th>4</th>\n",
       "      <td>2987004</td>\n",
       "      <td>0.0</td>\n",
       "      <td>86506</td>\n",
       "      <td>50.0</td>\n",
       "      <td>H</td>\n",
       "      <td>4497</td>\n",
       "      <td>514.0</td>\n",
       "      <td>150.0</td>\n",
       "      <td>mastercard</td>\n",
       "      <td>102.0</td>\n",
       "      <td>...</td>\n",
       "      <td>0.0</td>\n",
       "      <td>0.0</td>\n",
       "      <td>0.0</td>\n",
       "      <td>0.0</td>\n",
       "      <td>0.0</td>\n",
       "      <td>0.0</td>\n",
       "      <td>0.0</td>\n",
       "      <td>0.0</td>\n",
       "      <td>0.0</td>\n",
       "      <td>0.0</td>\n",
       "    </tr>\n",
       "  </tbody>\n",
       "</table>\n",
       "<p>5 rows × 394 columns</p>\n",
       "</div>"
      ],
      "text/plain": [
       "   TransactionID  isFraud  TransactionDT  TransactionAmt ProductCD  card1  \\\n",
       "0        2987000      0.0          86400            68.5         W  13926   \n",
       "1        2987001      0.0          86401            29.0         W   2755   \n",
       "2        2987002      0.0          86469            59.0         W   4663   \n",
       "3        2987003      0.0          86499            50.0         W  18132   \n",
       "4        2987004      0.0          86506            50.0         H   4497   \n",
       "\n",
       "   card2  card3       card4  card5  ... V330  V331  V332  V333  V334 V335  \\\n",
       "0    NaN  150.0    discover  142.0  ...  NaN   NaN   NaN   NaN   NaN  NaN   \n",
       "1  404.0  150.0  mastercard  102.0  ...  NaN   NaN   NaN   NaN   NaN  NaN   \n",
       "2  490.0  150.0        visa  166.0  ...  NaN   NaN   NaN   NaN   NaN  NaN   \n",
       "3  567.0  150.0  mastercard  117.0  ...  NaN   NaN   NaN   NaN   NaN  NaN   \n",
       "4  514.0  150.0  mastercard  102.0  ...  0.0   0.0   0.0   0.0   0.0  0.0   \n",
       "\n",
       "  V336  V337  V338  V339  \n",
       "0  NaN   NaN   NaN   NaN  \n",
       "1  NaN   NaN   NaN   NaN  \n",
       "2  NaN   NaN   NaN   NaN  \n",
       "3  NaN   NaN   NaN   NaN  \n",
       "4  0.0   0.0   0.0   0.0  \n",
       "\n",
       "[5 rows x 394 columns]"
      ]
     },
     "execution_count": 10,
     "metadata": {},
     "output_type": "execute_result"
    }
   ],
   "source": [
    "transaction_df.head()"
   ]
  },
  {
   "cell_type": "code",
   "execution_count": 11,
   "id": "5cc58637",
   "metadata": {},
   "outputs": [
    {
     "data": {
      "text/html": [
       "<div>\n",
       "<style scoped>\n",
       "    .dataframe tbody tr th:only-of-type {\n",
       "        vertical-align: middle;\n",
       "    }\n",
       "\n",
       "    .dataframe tbody tr th {\n",
       "        vertical-align: top;\n",
       "    }\n",
       "\n",
       "    .dataframe thead th {\n",
       "        text-align: right;\n",
       "    }\n",
       "</style>\n",
       "<table border=\"1\" class=\"dataframe\">\n",
       "  <thead>\n",
       "    <tr style=\"text-align: right;\">\n",
       "      <th></th>\n",
       "      <th>TransactionID</th>\n",
       "      <th>isFraud</th>\n",
       "      <th>TransactionDT</th>\n",
       "      <th>TransactionAmt</th>\n",
       "      <th>ProductCD</th>\n",
       "      <th>card1</th>\n",
       "      <th>card2</th>\n",
       "      <th>card3</th>\n",
       "      <th>card4</th>\n",
       "      <th>card5</th>\n",
       "      <th>...</th>\n",
       "      <th>V330</th>\n",
       "      <th>V331</th>\n",
       "      <th>V332</th>\n",
       "      <th>V333</th>\n",
       "      <th>V334</th>\n",
       "      <th>V335</th>\n",
       "      <th>V336</th>\n",
       "      <th>V337</th>\n",
       "      <th>V338</th>\n",
       "      <th>V339</th>\n",
       "    </tr>\n",
       "  </thead>\n",
       "  <tbody>\n",
       "    <tr>\n",
       "      <th>0</th>\n",
       "      <td>2987000</td>\n",
       "      <td>0.0</td>\n",
       "      <td>86400</td>\n",
       "      <td>68.5</td>\n",
       "      <td>W</td>\n",
       "      <td>13926</td>\n",
       "      <td>NaN</td>\n",
       "      <td>150.0</td>\n",
       "      <td>discover</td>\n",
       "      <td>142.0</td>\n",
       "      <td>...</td>\n",
       "      <td>NaN</td>\n",
       "      <td>NaN</td>\n",
       "      <td>NaN</td>\n",
       "      <td>NaN</td>\n",
       "      <td>NaN</td>\n",
       "      <td>NaN</td>\n",
       "      <td>NaN</td>\n",
       "      <td>NaN</td>\n",
       "      <td>NaN</td>\n",
       "      <td>NaN</td>\n",
       "    </tr>\n",
       "    <tr>\n",
       "      <th>1</th>\n",
       "      <td>2987001</td>\n",
       "      <td>0.0</td>\n",
       "      <td>86401</td>\n",
       "      <td>29.0</td>\n",
       "      <td>W</td>\n",
       "      <td>2755</td>\n",
       "      <td>404.0</td>\n",
       "      <td>150.0</td>\n",
       "      <td>mastercard</td>\n",
       "      <td>102.0</td>\n",
       "      <td>...</td>\n",
       "      <td>NaN</td>\n",
       "      <td>NaN</td>\n",
       "      <td>NaN</td>\n",
       "      <td>NaN</td>\n",
       "      <td>NaN</td>\n",
       "      <td>NaN</td>\n",
       "      <td>NaN</td>\n",
       "      <td>NaN</td>\n",
       "      <td>NaN</td>\n",
       "      <td>NaN</td>\n",
       "    </tr>\n",
       "    <tr>\n",
       "      <th>2</th>\n",
       "      <td>2987002</td>\n",
       "      <td>0.0</td>\n",
       "      <td>86469</td>\n",
       "      <td>59.0</td>\n",
       "      <td>W</td>\n",
       "      <td>4663</td>\n",
       "      <td>490.0</td>\n",
       "      <td>150.0</td>\n",
       "      <td>visa</td>\n",
       "      <td>166.0</td>\n",
       "      <td>...</td>\n",
       "      <td>NaN</td>\n",
       "      <td>NaN</td>\n",
       "      <td>NaN</td>\n",
       "      <td>NaN</td>\n",
       "      <td>NaN</td>\n",
       "      <td>NaN</td>\n",
       "      <td>NaN</td>\n",
       "      <td>NaN</td>\n",
       "      <td>NaN</td>\n",
       "      <td>NaN</td>\n",
       "    </tr>\n",
       "    <tr>\n",
       "      <th>3</th>\n",
       "      <td>2987003</td>\n",
       "      <td>0.0</td>\n",
       "      <td>86499</td>\n",
       "      <td>50.0</td>\n",
       "      <td>W</td>\n",
       "      <td>18132</td>\n",
       "      <td>567.0</td>\n",
       "      <td>150.0</td>\n",
       "      <td>mastercard</td>\n",
       "      <td>117.0</td>\n",
       "      <td>...</td>\n",
       "      <td>NaN</td>\n",
       "      <td>NaN</td>\n",
       "      <td>NaN</td>\n",
       "      <td>NaN</td>\n",
       "      <td>NaN</td>\n",
       "      <td>NaN</td>\n",
       "      <td>NaN</td>\n",
       "      <td>NaN</td>\n",
       "      <td>NaN</td>\n",
       "      <td>NaN</td>\n",
       "    </tr>\n",
       "    <tr>\n",
       "      <th>4</th>\n",
       "      <td>2987004</td>\n",
       "      <td>0.0</td>\n",
       "      <td>86506</td>\n",
       "      <td>50.0</td>\n",
       "      <td>H</td>\n",
       "      <td>4497</td>\n",
       "      <td>514.0</td>\n",
       "      <td>150.0</td>\n",
       "      <td>mastercard</td>\n",
       "      <td>102.0</td>\n",
       "      <td>...</td>\n",
       "      <td>0.0</td>\n",
       "      <td>0.0</td>\n",
       "      <td>0.0</td>\n",
       "      <td>0.0</td>\n",
       "      <td>0.0</td>\n",
       "      <td>0.0</td>\n",
       "      <td>0.0</td>\n",
       "      <td>0.0</td>\n",
       "      <td>0.0</td>\n",
       "      <td>0.0</td>\n",
       "    </tr>\n",
       "  </tbody>\n",
       "</table>\n",
       "<p>5 rows × 394 columns</p>\n",
       "</div>"
      ],
      "text/plain": [
       "   TransactionID  isFraud  TransactionDT  TransactionAmt ProductCD  card1  \\\n",
       "0        2987000      0.0          86400            68.5         W  13926   \n",
       "1        2987001      0.0          86401            29.0         W   2755   \n",
       "2        2987002      0.0          86469            59.0         W   4663   \n",
       "3        2987003      0.0          86499            50.0         W  18132   \n",
       "4        2987004      0.0          86506            50.0         H   4497   \n",
       "\n",
       "   card2  card3       card4  card5  ... V330  V331  V332  V333  V334 V335  \\\n",
       "0    NaN  150.0    discover  142.0  ...  NaN   NaN   NaN   NaN   NaN  NaN   \n",
       "1  404.0  150.0  mastercard  102.0  ...  NaN   NaN   NaN   NaN   NaN  NaN   \n",
       "2  490.0  150.0        visa  166.0  ...  NaN   NaN   NaN   NaN   NaN  NaN   \n",
       "3  567.0  150.0  mastercard  117.0  ...  NaN   NaN   NaN   NaN   NaN  NaN   \n",
       "4  514.0  150.0  mastercard  102.0  ...  0.0   0.0   0.0   0.0   0.0  0.0   \n",
       "\n",
       "  V336  V337  V338  V339  \n",
       "0  NaN   NaN   NaN   NaN  \n",
       "1  NaN   NaN   NaN   NaN  \n",
       "2  NaN   NaN   NaN   NaN  \n",
       "3  NaN   NaN   NaN   NaN  \n",
       "4  0.0   0.0   0.0   0.0  \n",
       "\n",
       "[5 rows x 394 columns]"
      ]
     },
     "execution_count": 11,
     "metadata": {},
     "output_type": "execute_result"
    }
   ],
   "source": [
    "# Sort by datetime, later we will use this to make a training and validation split\n",
    "transaction_df.sort_values(\"TransactionDT\")"
   ]
  },
  {
   "attachments": {},
   "cell_type": "markdown",
   "id": "41830d04",
   "metadata": {},
   "source": [
    "### Inspecting the dataset\n",
    "\n",
    "TODO: Look at a few of the columns - call out important ones we will use for features and labels\n",
    "\n",
    "TODO: Create validation / test split"
   ]
  },
  {
   "attachments": {},
   "cell_type": "markdown",
   "id": "d0277acb",
   "metadata": {},
   "source": [
    "NOTES: TODO: Remove\n",
    "\n",
    "- Nodes are transaction IDs\n",
    "-"
   ]
  },
  {
   "attachments": {},
   "cell_type": "markdown",
   "id": "e0b7e7a9",
   "metadata": {},
   "source": [
    "### Creating a PyTorch Geometric dataset\n",
    "\n",
    "TODO: Create PyTorch Geometric dataset from above - maybe move to a separate script"
   ]
  },
  {
   "cell_type": "code",
   "execution_count": 12,
   "id": "58f8b858",
   "metadata": {},
   "outputs": [],
   "source": [
    "get_cat_map = lambda vals: {val: idx for idx, val in enumerate(vals)}"
   ]
  },
  {
   "cell_type": "code",
   "execution_count": 13,
   "id": "a5065ec6",
   "metadata": {},
   "outputs": [],
   "source": [
    "def get_edge_list(transaction_df, to_key, cat_map):\n",
    "    edge_list = torch.zeros((2, len(transaction_df)), dtype=torch.long)\n",
    "\n",
    "    for idx, transaction in transaction_df.iterrows():\n",
    "        edge_list[0][idx] = idx\n",
    "        edge_list[1][idx] = cat_map[transaction[to_key]]\n",
    "    \n",
    "    return edge_list"
   ]
  },
  {
   "cell_type": "code",
   "execution_count": 14,
   "id": "6dc0ded5",
   "metadata": {},
   "outputs": [],
   "source": [
    "# TODO: This takes ages\n",
    "# TODO: Doesn't work if all data is used\n",
    "# TODO: Tidy this -> make encoders\n",
    "\n",
    "\n",
    "def get_nodes_and_edges(df, identifier):\n",
    "    # Find number of unique categories for this node type\n",
    "    unique_entries = df[identifier].drop_duplicates()\n",
    "    # Create a map of category to value\n",
    "    entry_map = get_cat_map(unique_entries)\n",
    "    # Create node features from map\n",
    "    node_features = torch.zeros((len(entry_map), len(unique_entries)), dtype=torch.float32)\n",
    "    for val in entry_map.values():\n",
    "        node_features[val][val] = 1.0\n",
    "    # Create edge list mapping transaction to node type\n",
    "    edges = get_edge_list(df, identifier, entry_map)\n",
    "    return node_features, edges\n"
   ]
  },
  {
   "cell_type": "code",
   "execution_count": 15,
   "id": "c5ba0553",
   "metadata": {},
   "outputs": [
    {
     "data": {
      "text/plain": [
       "(tensor([[1., 0.],\n",
       "         [0., 1.]]),\n",
       " tensor([[0, 1, 2, 3, 4],\n",
       "         [0, 0, 0, 0, 1]]))"
      ]
     },
     "execution_count": 15,
     "metadata": {},
     "output_type": "execute_result"
    }
   ],
   "source": [
    "product_code_node_feats, product_code_edges = get_nodes_and_edges(transaction_df, \"ProductCD\")\n",
    "product_code_node_feats, product_code_edges"
   ]
  },
  {
   "cell_type": "code",
   "execution_count": 16,
   "id": "ca922f92",
   "metadata": {},
   "outputs": [
    {
     "data": {
      "text/plain": [
       "(tensor([[1., 0., 0., 0.],\n",
       "         [0., 1., 0., 0.],\n",
       "         [0., 0., 1., 0.],\n",
       "         [0., 0., 0., 1.]]),\n",
       " tensor([[0, 1, 2, 3, 4],\n",
       "         [0, 1, 2, 3, 1]]))"
      ]
     },
     "execution_count": 16,
     "metadata": {},
     "output_type": "execute_result"
    }
   ],
   "source": [
    "pur_email_domain_node_feats, pur_email_domain_edges = get_nodes_and_edges(transaction_df, \"P_emaildomain\")\n",
    "pur_email_domain_node_feats, pur_email_domain_edges"
   ]
  },
  {
   "cell_type": "code",
   "execution_count": 17,
   "id": "b0b87b6e",
   "metadata": {},
   "outputs": [
    {
     "data": {
      "text/plain": [
       "(tensor([[1.]]),\n",
       " tensor([[0, 1, 2, 3, 4],\n",
       "         [0, 0, 0, 0, 0]]))"
      ]
     },
     "execution_count": 17,
     "metadata": {},
     "output_type": "execute_result"
    }
   ],
   "source": [
    "rec_email_domain_node_feats, rec_email_domain_edges = get_nodes_and_edges(transaction_df, \"R_emaildomain\")\n",
    "rec_email_domain_node_feats, rec_email_domain_edges"
   ]
  },
  {
   "cell_type": "code",
   "execution_count": 18,
   "id": "893bf317",
   "metadata": {},
   "outputs": [],
   "source": [
    "# TODO: Create node features"
   ]
  },
  {
   "cell_type": "code",
   "execution_count": 19,
   "id": "26959614",
   "metadata": {},
   "outputs": [],
   "source": [
    "import torch\n",
    "\n",
    "from torch_geometric.data import HeteroData\n",
    "\n",
    "data = HeteroData()"
   ]
  },
  {
   "cell_type": "code",
   "execution_count": 20,
   "id": "689db7c4",
   "metadata": {},
   "outputs": [
    {
     "name": "stderr",
     "output_type": "stream",
     "text": [
      "/tmp/ipykernel_79554/2096791581.py:5: DeprecationWarning: an integer is required (got type float).  Implicit conversion to integers using __int__ is deprecated, and may be removed in a future version of Python.\n",
      "  data[\"transaction\"].y = torch.tensor(transaction_df['isFraud'], dtype=int)\n"
     ]
    }
   ],
   "source": [
    "# TODO: Update this with real features\n",
    "data[\"transaction\"].num_nodes = len(transaction_df)\n",
    "data[\"transaction\"].x = torch.arange(data[\"transaction\"].num_nodes, dtype=torch.float32).unsqueeze(-1)\n",
    "# TODO: Labels\n",
    "data[\"transaction\"].y = torch.tensor(transaction_df['isFraud'], dtype=int)\n",
    "\n",
    "data[\"product_code\"].x = product_code_node_feats\n",
    "data[\"transaction\", \"to\", \"product_code\"].edge_index = product_code_edges\n",
    "\n",
    "data[\"purchaser_email_domain\"].x = pur_email_domain_node_feats\n",
    "data[\"transaction\", \"to\", \"purchaser_email_domain\"].edge_index = pur_email_domain_edges\n",
    "\n",
    "data[\"recipient_email_domain\"].x = rec_email_domain_node_feats\n",
    "data[\"transaction\", \"to\", \"recipient_email_domain\"].edge_index = rec_email_domain_edges"
   ]
  },
  {
   "cell_type": "code",
   "execution_count": 21,
   "id": "cdeb9b1a",
   "metadata": {},
   "outputs": [
    {
     "data": {
      "text/plain": [
       "HeteroData(\n",
       "  \u001b[1mtransaction\u001b[0m={\n",
       "    num_nodes=5,\n",
       "    x=[5, 1],\n",
       "    y=[5]\n",
       "  },\n",
       "  \u001b[1mproduct_code\u001b[0m={ x=[2, 2] },\n",
       "  \u001b[1mpurchaser_email_domain\u001b[0m={ x=[4, 4] },\n",
       "  \u001b[1mrecipient_email_domain\u001b[0m={ x=[1, 1] },\n",
       "  \u001b[1m(transaction, to, product_code)\u001b[0m={ edge_index=[2, 5] },\n",
       "  \u001b[1m(transaction, to, purchaser_email_domain)\u001b[0m={ edge_index=[2, 5] },\n",
       "  \u001b[1m(transaction, to, recipient_email_domain)\u001b[0m={ edge_index=[2, 5] }\n",
       ")"
      ]
     },
     "execution_count": 21,
     "metadata": {},
     "output_type": "execute_result"
    }
   ],
   "source": [
    "data"
   ]
  },
  {
   "attachments": {},
   "cell_type": "markdown",
   "id": "da65cc9d",
   "metadata": {},
   "source": [
    "```python\n",
    "data = HeteroData(\n",
    "    transaction={\n",
    "        x=[],\n",
    "        y=[],\n",
    "        train_mask=[],\n",
    "        val_mask=[],\n",
    "        test_mask=[]\n",
    "    },\n",
    "    card_info_1={},\n",
    "    card_info_2={},\n",
    "    card_info_3={},\n",
    "    card_info_4={},\n",
    "    card_info_5={},\n",
    "    card_info_6={},\n",
    "    product_code={},\n",
    "    purchaser_billing_addr={},\n",
    "    purchaser_billing_country={},\n",
    "    purchaser_email_domain={},\n",
    "    recipient_email_domain={}\n",
    "    (transaction, to, card_info_1)={edge_index=[2, ]},\n",
    "    (transaction, to, card_info_2)={edge_index=[2, ]},\n",
    "    (transaction, to, card_info_3)={edge_index=[2, ]},\n",
    "    (transaction, to, card_info_4)={edge_index=[2, ]},\n",
    "    (transaction, to, card_info_5)={edge_index=[2, ]},\n",
    "    (transaction, to, card_info_6)={edge_index=[2, ]},\n",
    "    (transaction, to, product_code)={edge_index=[2, ]},\n",
    "    (transaction, to, purchaser_billing_addr)={edge_index=[2, ]},\n",
    "    (transaction, to, purchaser_billing_country)={edge_index=[2, ]},\n",
    "    (transaction, to, purchaser_email_domain)={edge_index=[2, ]},\n",
    "    (transaction, to, recipient_email_domain)={edge_index=[2, ]},\n",
    ")\n",
    "```"
   ]
  },
  {
   "attachments": {},
   "cell_type": "markdown",
   "id": "307a6822",
   "metadata": {},
   "source": [
    "## Preprocess"
   ]
  },
  {
   "cell_type": "code",
   "execution_count": 22,
   "id": "703d35ed",
   "metadata": {},
   "outputs": [
    {
     "data": {
      "text/plain": [
       "HeteroData(\n",
       "  \u001b[1mtransaction\u001b[0m={\n",
       "    num_nodes=5,\n",
       "    x=[5, 1],\n",
       "    y=[5]\n",
       "  },\n",
       "  \u001b[1mproduct_code\u001b[0m={ x=[2, 2] },\n",
       "  \u001b[1mpurchaser_email_domain\u001b[0m={ x=[4, 4] },\n",
       "  \u001b[1mrecipient_email_domain\u001b[0m={ x=[1, 1] },\n",
       "  \u001b[1m(transaction, to, product_code)\u001b[0m={ edge_index=[2, 5] },\n",
       "  \u001b[1m(transaction, to, purchaser_email_domain)\u001b[0m={ edge_index=[2, 5] },\n",
       "  \u001b[1m(transaction, to, recipient_email_domain)\u001b[0m={ edge_index=[2, 5] },\n",
       "  \u001b[1m(product_code, rev_to, transaction)\u001b[0m={ edge_index=[2, 5] },\n",
       "  \u001b[1m(purchaser_email_domain, rev_to, transaction)\u001b[0m={ edge_index=[2, 5] },\n",
       "  \u001b[1m(recipient_email_domain, rev_to, transaction)\u001b[0m={ edge_index=[2, 5] }\n",
       ")"
      ]
     },
     "execution_count": 22,
     "metadata": {},
     "output_type": "execute_result"
    }
   ],
   "source": [
    "import torch_geometric.transforms as T\n",
    "\n",
    "data = T.ToUndirected()(data)\n",
    "data = T.AddSelfLoops()(data)\n",
    "data = T.NormalizeFeatures()(data)\n",
    "\n",
    "data"
   ]
  },
  {
   "cell_type": "code",
   "execution_count": 23,
   "id": "9b41b364",
   "metadata": {},
   "outputs": [],
   "source": [
    "# TODO: Has self loops worked?"
   ]
  },
  {
   "attachments": {},
   "cell_type": "markdown",
   "id": "98db4ad9",
   "metadata": {},
   "source": [
    "### Visualize"
   ]
  },
  {
   "cell_type": "code",
   "execution_count": 24,
   "id": "35096262",
   "metadata": {},
   "outputs": [
    {
     "data": {
      "image/png": "[encoded data removed]",
      "text/plain": [
       "<Figure size 640x480 with 1 Axes>"
      ]
     },
     "metadata": {},
     "output_type": "display_data"
    }
   ],
   "source": [
    "import networkx as nx\n",
    "from matplotlib import pyplot as plt\n",
    "from torch_geometric.utils import to_networkx\n",
    "\n",
    "# Convert to homogeneous\n",
    "data_homogeneous = data.to_homogeneous()\n",
    "g = to_networkx(data_homogeneous)\n",
    "# Use node types as colour map\n",
    "colour_map = data_homogeneous.node_type\n",
    "\n",
    "# TODO: This maybe?\n",
    "## Get labels\n",
    "#labels = {str(idx): val for idx, val in enumerate(data_homogeneous.y)}\n",
    "\n",
    "# Plot the graph\n",
    "nx.draw(g, node_color=colour_map, with_labels=True)\n",
    "plt.show()"
   ]
  },
  {
   "attachments": {},
   "cell_type": "markdown",
   "id": "013f715f",
   "metadata": {},
   "source": [
    "### Create dataset splits\n",
    "\n",
    "TODO: We sort by time above and then select those from more recent as the validation and test"
   ]
  },
  {
   "cell_type": "code",
   "execution_count": 25,
   "id": "6da2debf",
   "metadata": {},
   "outputs": [
    {
     "name": "stdout",
     "output_type": "stream",
     "text": [
      "Number of training nodes: 4\n",
      "Number of validation nodes: 1\n"
     ]
    }
   ],
   "source": [
    "num_nodes_train = int(0.8 * data[\"transaction\"].num_nodes)\n",
    "data[\"transaction\"].train_mask = torch.zeros(data[\"transaction\"].num_nodes, dtype=bool)\n",
    "data[\"transaction\"].train_mask[:num_nodes_train] = True\n",
    "data[\"transaction\"].val_mask = torch.zeros(data[\"transaction\"].num_nodes, dtype=bool)\n",
    "data[\"transaction\"].val_mask[num_nodes_train:] = True\n",
    "\n",
    "print(f\"Number of training nodes: {data['transaction'].train_mask.sum()}\")\n",
    "print(f\"Number of validation nodes: {data['transaction'].val_mask.sum()}\")"
   ]
  },
  {
   "attachments": {},
   "cell_type": "markdown",
   "id": "dcda1f0b",
   "metadata": {},
   "source": [
    "## Dataloading\n",
    "\n",
    "TODO: Is graph too large that need to do some sampling - neighbour sampling"
   ]
  },
  {
   "cell_type": "code",
   "execution_count": 59,
   "id": "59150a4e",
   "metadata": {},
   "outputs": [],
   "source": [
    "from draft_fixed_size_neighbour_loader import FixedSizeNeighborLoader\n",
    "\n",
    "batch_size = 2\n",
    "num_layers = 2\n",
    "\n",
    "train_loader_ipu = FixedSizeNeighborLoader(\n",
    "    data,\n",
    "    num_neighbors=[15] * num_layers,\n",
    "    batch_size=batch_size,\n",
    "    input_nodes=('transaction', data['transaction'].train_mask),\n",
    "    collater_args={\"num_nodes\": 10,\n",
    "                   \"num_edges\": 50,\n",
    "                   \"exclude_keys\": (\"batch_size\",),\n",
    "                   \"add_masks_to_batch\": True},\n",
    ")"
   ]
  },
  {
   "cell_type": "code",
   "execution_count": 51,
   "id": "255e188b",
   "metadata": {},
   "outputs": [],
   "source": [
    "sample = next(iter(train_loader_ipu))"
   ]
  },
  {
   "cell_type": "code",
   "execution_count": 58,
   "id": "4930abc8",
   "metadata": {},
   "outputs": [
    {
     "name": "stdout",
     "output_type": "stream",
     "text": [
      "tensor([0., 1., 0., 0., 0., 0., 0.])\n",
      "tensor([ True,  True,  True,  True,  True, False, False, False, False, False])\n",
      "tensor([0, 0, 0, 0, 0, 1, 1, 1, 1, 1])\n",
      "tensor([ True, False])\n"
     ]
    }
   ],
   "source": [
    "print(sample['transaction']['input_id'])\n",
    "print(sample['transaction']['nodes_mask'])\n",
    "print(sample['transaction']['batch'])\n",
    "print(sample['graphs_mask'])"
   ]
  },
  {
   "cell_type": "code",
   "execution_count": 28,
   "id": "aba68441",
   "metadata": {},
   "outputs": [],
   "source": [
    "# TODO: Verify model with padded and unpadded"
   ]
  },
  {
   "attachments": {},
   "cell_type": "markdown",
   "id": "3ae4b014",
   "metadata": {},
   "source": [
    "## Picking the right model\n",
    "\n",
    "TODO: Describe the task\n",
    "\n",
    "TODO: Describe different relations type - want something that can do different relations (heterogeneous graph) - RGCN could be a sensible choice\n",
    "    - but requires weights for every relation type - we have 11 relation types so might be ok\n",
    "\n",
    "TODO: Try CompGCN\n",
    "    - Only requires 3 weights - in, out, self loops"
   ]
  },
  {
   "cell_type": "code",
   "execution_count": 33,
   "id": "b037f361",
   "metadata": {},
   "outputs": [
    {
     "data": {
      "text/plain": [
       "GraphModule(\n",
       "  (conv1): ModuleDict(\n",
       "    (transaction__to__product_code): SAGEConv((-1, -1), 64, aggr=mean)\n",
       "    (transaction__to__purchaser_email_domain): SAGEConv((-1, -1), 64, aggr=mean)\n",
       "    (transaction__to__recipient_email_domain): SAGEConv((-1, -1), 64, aggr=mean)\n",
       "    (product_code__rev_to__transaction): SAGEConv((-1, -1), 64, aggr=mean)\n",
       "    (purchaser_email_domain__rev_to__transaction): SAGEConv((-1, -1), 64, aggr=mean)\n",
       "    (recipient_email_domain__rev_to__transaction): SAGEConv((-1, -1), 64, aggr=mean)\n",
       "  )\n",
       "  (conv2): ModuleDict(\n",
       "    (transaction__to__product_code): SAGEConv((-1, -1), 2, aggr=mean)\n",
       "    (transaction__to__purchaser_email_domain): SAGEConv((-1, -1), 2, aggr=mean)\n",
       "    (transaction__to__recipient_email_domain): SAGEConv((-1, -1), 2, aggr=mean)\n",
       "    (product_code__rev_to__transaction): SAGEConv((-1, -1), 2, aggr=mean)\n",
       "    (purchaser_email_domain__rev_to__transaction): SAGEConv((-1, -1), 2, aggr=mean)\n",
       "    (recipient_email_domain__rev_to__transaction): SAGEConv((-1, -1), 2, aggr=mean)\n",
       "  )\n",
       ")"
      ]
     },
     "execution_count": 33,
     "metadata": {},
     "output_type": "execute_result"
    }
   ],
   "source": [
    "from torch_geometric.nn import SAGEConv, to_hetero\n",
    "\n",
    "\n",
    "class GNN(torch.nn.Module):\n",
    "    def __init__(self, hidden_channels, out_channels):\n",
    "        super().__init__()\n",
    "        self.conv1 = SAGEConv((-1, -1), hidden_channels)\n",
    "        self.conv2 = SAGEConv((-1, -1), out_channels)\n",
    "\n",
    "    def forward(self, x, edge_index, node_mask=None, target=None):\n",
    "        x = self.conv1(x, edge_index).relu()\n",
    "        x = self.conv2(x, edge_index)\n",
    "\n",
    "        if self.training:\n",
    "            target = torch.where(node_mask, target, -100)\n",
    "            loss = nn.functional.cross_entropy(x, target)\n",
    "            return x, loss\n",
    "\n",
    "        return x\n",
    "\n",
    "\n",
    "model = GNN(hidden_channels=64, out_channels=2)\n",
    "model = to_hetero(model, data.metadata(), aggr=\"sum\")\n",
    "model"
   ]
  },
  {
   "cell_type": "code",
   "execution_count": 85,
   "id": "9722f423",
   "metadata": {},
   "outputs": [
    {
     "data": {
      "text/plain": [
       "HeteroGNN(\n",
       "  (convs): ModuleList(\n",
       "    (0): HeteroConv(num_relations=6)\n",
       "    (1): HeteroConv(num_relations=6)\n",
       "  )\n",
       "  (lin): Linear(64, 2, bias=True)\n",
       ")"
      ]
     },
     "execution_count": 85,
     "metadata": {},
     "output_type": "execute_result"
    }
   ],
   "source": [
    "from torch_geometric.nn import HeteroConv, SAGEConv, Linear\n",
    "\n",
    "\n",
    "# TODO: Do I need to add reverse edges\n",
    "# TODO: It is ugly not doing lazy initialization - check if lazy initialization works\n",
    "\n",
    "\n",
    "class HeteroGNN(torch.nn.Module):\n",
    "    def __init__(self, hidden_channels, out_channels, num_layers, batch_size):\n",
    "        super().__init__()\n",
    "        self.batch_size = batch_size\n",
    "\n",
    "        self.convs = torch.nn.ModuleList()\n",
    "        self.convs.append(\n",
    "            HeteroConv({\n",
    "                ('transaction', 'to', 'product_code'): SAGEConv((1, 2), hidden_channels),\n",
    "                ('transaction', 'to', 'purchaser_email_domain'): SAGEConv((1, 4), hidden_channels),\n",
    "                ('transaction', 'to', 'recipient_email_domain'): SAGEConv((1, 1), hidden_channels),\n",
    "                ('product_code', \"rev_to\", \"transaction\"): SAGEConv((2, 1), hidden_channels),\n",
    "                ('purchaser_email_domain', \"rev_to\", \"transaction\"): SAGEConv((4, 1), hidden_channels),\n",
    "                ('recipient_email_domain', \"rev_to\", \"transaction\"): SAGEConv((1, 1), hidden_channels),\n",
    "            }, aggr='sum'))\n",
    "        self.convs.append(\n",
    "            HeteroConv({\n",
    "                ('transaction', 'to', 'product_code'): SAGEConv(hidden_channels, hidden_channels),\n",
    "                ('transaction', 'to', 'purchaser_email_domain'): SAGEConv(hidden_channels, hidden_channels),\n",
    "                ('transaction', 'to', 'recipient_email_domain'): SAGEConv(hidden_channels, hidden_channels),\n",
    "                ('product_code', \"rev_to\", \"transaction\"): SAGEConv(hidden_channels, hidden_channels),\n",
    "                ('purchaser_email_domain', \"rev_to\", \"transaction\"): SAGEConv(hidden_channels, hidden_channels),\n",
    "                ('recipient_email_domain', \"rev_to\", \"transaction\"): SAGEConv(hidden_channels, hidden_channels),\n",
    "            }, aggr='sum'))\n",
    "\n",
    "        self.lin = Linear(hidden_channels, out_channels)\n",
    "\n",
    "    def forward(self, x_dict, edge_index_dict, target=None):\n",
    "        for conv in self.convs:\n",
    "            x_dict = conv(x_dict, edge_index_dict)\n",
    "            x_dict = {key: x.relu() for key, x in x_dict.items()}\n",
    "        out = self.lin(x_dict['transaction'])\n",
    "        if self.training:\n",
    "            loss = F.cross_entropy(out[:self.batch_size],\n",
    "                                   target[:self.batch_size])\n",
    "            return out, loss\n",
    "\n",
    "        return out\n",
    "\n",
    "\n",
    "model = HeteroGNN(hidden_channels=64,\n",
    "                  out_channels=2,\n",
    "                  num_layers=num_layers,\n",
    "                  batch_size=batch_size)\n",
    "model"
   ]
  },
  {
   "cell_type": "code",
   "execution_count": 87,
   "id": "e173b63e",
   "metadata": {},
   "outputs": [],
   "source": [
    "with torch.no_grad():  # Initialize lazy modules.\n",
    "    out_cpu = model(data.x_dict,\n",
    "                    data.edge_index_dict,\n",
    "                    target=data[\"transaction\"].y)"
   ]
  },
  {
   "cell_type": "code",
   "execution_count": 88,
   "id": "1360f0c0",
   "metadata": {},
   "outputs": [
    {
     "data": {
      "text/plain": [
       "(tensor([[ 0.5536, -0.1145],\n",
       "         [ 0.2672, -0.4001],\n",
       "         [ 0.2380, -0.3742],\n",
       "         [ 0.1779, -0.2423],\n",
       "         [ 0.5195, -0.4146]]),\n",
       " tensor(0.4140))"
      ]
     },
     "execution_count": 88,
     "metadata": {},
     "output_type": "execute_result"
    }
   ],
   "source": [
    "out_cpu"
   ]
  },
  {
   "cell_type": "code",
   "execution_count": 89,
   "id": "6f7e0398",
   "metadata": {},
   "outputs": [
    {
     "data": {
      "text/plain": [
       "HeteroGNN(\n",
       "  (convs): ModuleList(\n",
       "    (0): HeteroConv(num_relations=6)\n",
       "    (1): HeteroConv(num_relations=6)\n",
       "  )\n",
       "  (lin): Linear(64, 2, bias=True)\n",
       ")"
      ]
     },
     "execution_count": 89,
     "metadata": {},
     "output_type": "execute_result"
    }
   ],
   "source": [
    "model"
   ]
  },
  {
   "cell_type": "code",
   "execution_count": 90,
   "id": "a9b7a329",
   "metadata": {},
   "outputs": [
    {
     "name": "stdout",
     "output_type": "stream",
     "text": [
      "Linear(1, 64, bias=True)\n",
      "Linear(2, 64, bias=False)\n",
      "Linear(64, 64, bias=True)\n",
      "Linear(64, 64, bias=False)\n",
      "Linear(2, 64, bias=True)\n",
      "Linear(1, 64, bias=False)\n"
     ]
    }
   ],
   "source": [
    "print(model.convs[0].convs[\"transaction__to__product_code\"].lin_l)\n",
    "print(model.convs[0].convs[\"transaction__to__product_code\"].lin_r)\n",
    "print(model.convs[1].convs[\"transaction__to__product_code\"].lin_l)\n",
    "print(model.convs[1].convs[\"transaction__to__product_code\"].lin_r)\n",
    "print(model.convs[0].convs[\"product_code__rev_to__transaction\"].lin_l)\n",
    "print(model.convs[0].convs[\"product_code__rev_to__transaction\"].lin_r)"
   ]
  },
  {
   "cell_type": "code",
   "execution_count": 91,
   "id": "34228a2a",
   "metadata": {},
   "outputs": [
    {
     "data": {
      "text/plain": [
       "MeanAggregation()"
      ]
     },
     "execution_count": 91,
     "metadata": {},
     "output_type": "execute_result"
    }
   ],
   "source": [
    "model.convs[0].convs[\"recipient_email_domain__rev_to__transaction\"].aggr_module"
   ]
  },
  {
   "cell_type": "code",
   "execution_count": 92,
   "id": "3c1af6a0",
   "metadata": {},
   "outputs": [
    {
     "data": {
      "text/plain": [
       "ModuleDict(\n",
       "  (transaction__to__product_code): SAGEConv((1, 2), 64, aggr=mean)\n",
       "  (transaction__to__purchaser_email_domain): SAGEConv((1, 4), 64, aggr=mean)\n",
       "  (transaction__to__recipient_email_domain): SAGEConv((1, 1), 64, aggr=mean)\n",
       "  (product_code__rev_to__transaction): SAGEConv((2, 1), 64, aggr=mean)\n",
       "  (purchaser_email_domain__rev_to__transaction): SAGEConv((4, 1), 64, aggr=mean)\n",
       "  (recipient_email_domain__rev_to__transaction): SAGEConv((1, 1), 64, aggr=mean)\n",
       ")"
      ]
     },
     "execution_count": 92,
     "metadata": {},
     "output_type": "execute_result"
    }
   ],
   "source": [
    "model.convs[0].convs"
   ]
  },
  {
   "cell_type": "code",
   "execution_count": 93,
   "id": "24af8cb1",
   "metadata": {},
   "outputs": [
    {
     "data": {
      "text/plain": [
       "(tensor([[ 0.5536, -0.1145],\n",
       "         [ 0.2672, -0.4001],\n",
       "         [ 0.2380, -0.3742],\n",
       "         [ 0.1779, -0.2423],\n",
       "         [ 0.5195, -0.4146]], grad_fn=<AddmmBackward0>),\n",
       " tensor(0.4140, grad_fn=<NllLossBackward0>))"
      ]
     },
     "execution_count": 93,
     "metadata": {},
     "output_type": "execute_result"
    }
   ],
   "source": [
    "out_cpu_grad = model(data.x_dict,\n",
    "                     data.edge_index_dict,\n",
    "                     target=data[\"transaction\"].y)\n",
    "out_cpu_grad"
   ]
  },
  {
   "cell_type": "code",
   "execution_count": 94,
   "id": "0705f699",
   "metadata": {},
   "outputs": [
    {
     "name": "stderr",
     "output_type": "stream",
     "text": [
      "[17:04:19.808] [poptorch::python] [warning] Dicts as inputs only have partial support, they can be accessed using literal keys, but full Python functionality is not enabled. Consider changing dict inputs to tuple.\n",
      "[17:04:19.809] [poptorch::python] [warning] Dicts as inputs only have partial support, they can be accessed using literal keys, but full Python functionality is not enabled. Consider changing dict inputs to tuple.\n",
      "[17:04:19.828] [poptorch:cpp] [warning] [DISPATCHER] Type coerced from Long to Int for tensor id 1867\n",
      "[17:04:19.828] [poptorch:cpp] [warning] [DISPATCHER] Type coerced from Long to Int for tensor id 1868\n",
      "[17:04:19.828] [poptorch:cpp] [warning] [DISPATCHER] Type coerced from Long to Int for tensor id 1869\n",
      "[17:04:19.828] [poptorch:cpp] [warning] [DISPATCHER] Type coerced from Long to Int for tensor id 1870\n",
      "[17:04:19.829] [poptorch:cpp] [warning] [DISPATCHER] Type coerced from Long to Int for tensor id 1871\n",
      "[17:04:19.829] [poptorch:cpp] [warning] [DISPATCHER] Type coerced from Long to Int for tensor id 1872\n",
      "[17:04:19.829] [poptorch:cpp] [warning] [DISPATCHER] Type coerced from Long to Int for tensor id 1873\n",
      "Graph compilation:   0%|          | 0/100 [00:00<?]2023-04-24T17:04:20.418814Z popart:popart 79554.79554 E: Failure in ReshapeOp::setup() for Op(1/recipient_email_domain__rev_to__transaction/aggr_module/Reshape (ai.onnx.Reshape:5), inputs=[1/recipient_email_domain__rev_to__transaction/aggr_module/Max:0], outputs=[1/recipient_email_domain__rev_to__transaction/aggr_module/Reshape:0]). Trying to reshape from [5] to [2 1]. The number of elements of the input is 5, while the number of elements of the output is 2. The number of elements cannot change for a ReshapeOp\n",
      "\n",
      "[0] popart::Graph::constructFromOnnxGraph(onnx::GraphProto const&)\n",
      "[1] popart::Ir::constructFromOnnxGraph(onnx::GraphProto const&, popart::Scope const&)\n",
      "[2] popart::Ir::constructForwards()\n",
      "[3] popart::Ir::prepareImpl(popart::IrBundle const&, std::map<unsigned long, std::__cxx11::basic_string<char, std::char_traits<char>, std::allocator<char> >, std::less<unsigned long>, std::allocator<std::pair<unsigned long const, std::__cxx11::basic_string<char, std::char_traits<char>, std::allocator<char> > > > > const&, unsigned long)\n",
      "[4] popart::Ir::prepare(popart::IrBundle const&, std::map<unsigned long, std::__cxx11::basic_string<char, std::char_traits<char>, std::allocator<char> >, std::less<unsigned long>, std::allocator<std::pair<unsigned long const, std::__cxx11::basic_string<char, std::char_traits<char>, std::allocator<char> > > > > const&, unsigned long)\n",
      "[5] popart::Session::configureFromOnnx(std::__cxx11::basic_string<char, std::char_traits<char>, std::allocator<char> > const&, popart::DataFlow const&, std::__cxx11::basic_string<char, std::char_traits<char>, std::allocator<char> > const&, popart::Optimizer const*, popart::InputShapeInfo const&, std::shared_ptr<popart::DeviceInfo>, popart::SessionOptions const&, popart::Patterns const&)\n",
      "[6] popart::InferenceSession::createFromOnnxModel(std::__cxx11::basic_string<char, std::char_traits<char>, std::allocator<char> > const&, popart::DataFlow const&, std::shared_ptr<popart::DeviceInfo>, popart::InputShapeInfo const&, popart::SessionOptions const&, popart::Patterns const&, std::__cxx11::basic_string<char, std::char_traits<char>, std::allocator<char> >)\n",
      "[7] poptorch::popart_compiler::Compiler::initSession(std::vector<poptorch::popart_compiler::Optimizer, std::allocator<poptorch::popart_compiler::Optimizer> > const&, char const*)\n",
      "\n",
      "\n",
      "\n",
      "Graph compilation:   0%|          | 0/100 [00:00<?]\n"
     ]
    },
    {
     "ename": "Error",
     "evalue": "In unknown:0: 'popart_exception': Failure in ReshapeOp::setup() for Op(1/recipient_email_domain__rev_to__transaction/aggr_module/Reshape (ai.onnx.Reshape:5), inputs=[1/recipient_email_domain__rev_to__transaction/aggr_module/Max:0], outputs=[1/recipient_email_domain__rev_to__transaction/aggr_module/Reshape:0]). Trying to reshape from [5] to [2 1]. The number of elements of the input is 5, while the number of elements of the output is 2. The number of elements cannot change for a ReshapeOp\nError raised in:\n  [0] popart::InferenceSession::createFromOnnxModel\n  [1] Compiler::initSession\n  [2] LowerToPopart::compile\n  [3] compileWithManualTracing\n",
     "output_type": "error",
     "traceback": [
      "\u001b[0;31m---------------------------------------------------------------------------\u001b[0m",
      "\u001b[0;31mError\u001b[0m                                     Traceback (most recent call last)",
      "Cell \u001b[0;32mIn[94], line 5\u001b[0m\n\u001b[1;32m      3\u001b[0m model\u001b[39m.\u001b[39meval()\n\u001b[1;32m      4\u001b[0m inf_model \u001b[39m=\u001b[39m poptorch\u001b[39m.\u001b[39minferenceModel(model)\n\u001b[0;32m----> 5\u001b[0m out_ipu \u001b[39m=\u001b[39m inf_model(data\u001b[39m.\u001b[39;49mx_dict,\n\u001b[1;32m      6\u001b[0m                     data\u001b[39m.\u001b[39;49medge_index_dict,\n\u001b[1;32m      7\u001b[0m                     target\u001b[39m=\u001b[39;49mdata[\u001b[39m\"\u001b[39;49m\u001b[39mtransaction\u001b[39;49m\u001b[39m\"\u001b[39;49m]\u001b[39m.\u001b[39;49my)\n\u001b[1;32m      8\u001b[0m out_ipu\n",
      "File \u001b[0;32m~/venvs/3.2.0+1277/3.2.0+1277_poptorch/lib/python3.8/site-packages/poptorch/_poplar_executor.py:1162\u001b[0m, in \u001b[0;36mPoplarExecutor.__call__\u001b[0;34m(self, *args, **kwargs)\u001b[0m\n\u001b[1;32m   1159\u001b[0m in_tensors \u001b[39m=\u001b[39m \u001b[39mself\u001b[39m\u001b[39m.\u001b[39m_args_parser(args, kwargs, \u001b[39mself\u001b[39m\u001b[39m.\u001b[39misCompiled())\n\u001b[1;32m   1161\u001b[0m \u001b[39mif\u001b[39;00m \u001b[39mnot\u001b[39;00m \u001b[39mself\u001b[39m\u001b[39m.\u001b[39misCompiled():\n\u001b[0;32m-> 1162\u001b[0m     \u001b[39mself\u001b[39;49m\u001b[39m.\u001b[39;49m_compile(in_tensors)\n\u001b[1;32m   1164\u001b[0m \u001b[39mif\u001b[39;00m \u001b[39mnot\u001b[39;00m \u001b[39mself\u001b[39m\u001b[39m.\u001b[39m_is_attached:\n\u001b[1;32m   1165\u001b[0m     \u001b[39mself\u001b[39m\u001b[39m.\u001b[39mattachToDevice()\n",
      "File \u001b[0;32m~/venvs/3.2.0+1277/3.2.0+1277_poptorch/lib/python3.8/site-packages/poptorch/_impl.py:358\u001b[0m, in \u001b[0;36mtraceMethod.<locals>.decorator.<locals>.wrapper\u001b[0;34m(self, *args, **kwargs)\u001b[0m\n\u001b[1;32m    355\u001b[0m \u001b[39m@wraps\u001b[39m(func)\n\u001b[1;32m    356\u001b[0m \u001b[39mdef\u001b[39;00m \u001b[39mwrapper\u001b[39m(\u001b[39mself\u001b[39m, \u001b[39m*\u001b[39margs, \u001b[39m*\u001b[39m\u001b[39m*\u001b[39mkwargs):\n\u001b[1;32m    357\u001b[0m     \u001b[39mwith\u001b[39;00m \u001b[39mself\u001b[39m\u001b[39m.\u001b[39m_profiling\u001b[39m.\u001b[39mtracepoint(label):  \u001b[39m# pylint: disable=protected-access\u001b[39;00m\n\u001b[0;32m--> 358\u001b[0m         \u001b[39mreturn\u001b[39;00m func(\u001b[39mself\u001b[39;49m, \u001b[39m*\u001b[39;49margs, \u001b[39m*\u001b[39;49m\u001b[39m*\u001b[39;49mkwargs)\n",
      "File \u001b[0;32m~/venvs/3.2.0+1277/3.2.0+1277_poptorch/lib/python3.8/site-packages/poptorch/_poplar_executor.py:922\u001b[0m, in \u001b[0;36mPoplarExecutor._compile\u001b[0;34m(self, in_tensors)\u001b[0m\n\u001b[1;32m    918\u001b[0m \u001b[39m# In distributed execution mode:\u001b[39;00m\n\u001b[1;32m    919\u001b[0m \u001b[39m# At that point only the first process will have a compiled executable:\u001b[39;00m\n\u001b[1;32m    920\u001b[0m \u001b[39m# trigger the compilation process in all the other processes.\u001b[39;00m\n\u001b[1;32m    921\u001b[0m \u001b[39mif\u001b[39;00m \u001b[39mnot\u001b[39;00m \u001b[39mself\u001b[39m\u001b[39m.\u001b[39misCompiled():\n\u001b[0;32m--> 922\u001b[0m     \u001b[39mself\u001b[39m\u001b[39m.\u001b[39m_executable \u001b[39m=\u001b[39m \u001b[39mself\u001b[39;49m\u001b[39m.\u001b[39;49m_compileWithDispatch(in_tensors_trace_view)\n\u001b[1;32m    924\u001b[0m \u001b[39m# Load the engine and connect the streams in all the processes.\u001b[39;00m\n\u001b[1;32m    925\u001b[0m \u001b[39m#\u001b[39;00m\n\u001b[1;32m    926\u001b[0m \u001b[39m# Note: no sync point was added because we expect the above\u001b[39;00m\n\u001b[0;32m   (...)\u001b[0m\n\u001b[1;32m    934\u001b[0m \u001b[39m# to enable executable caching to avoid out of memory issues due\u001b[39;00m\n\u001b[1;32m    935\u001b[0m \u001b[39m# to concurrent compilation processes.\u001b[39;00m\n\u001b[1;32m    936\u001b[0m \u001b[39mif\u001b[39;00m \u001b[39mself\u001b[39m\u001b[39m.\u001b[39m_options\u001b[39m.\u001b[39mconnection_type \u001b[39m!=\u001b[39m enums\u001b[39m.\u001b[39mConnectionType\u001b[39m.\u001b[39mNever:\n",
      "File \u001b[0;32m~/venvs/3.2.0+1277/3.2.0+1277_poptorch/lib/python3.8/site-packages/poptorch/_impl.py:164\u001b[0m, in \u001b[0;36mdestroyDispatcherOnExit.<locals>.wrapper\u001b[0;34m(*args, **kwargs)\u001b[0m\n\u001b[1;32m    161\u001b[0m \u001b[39m@wraps\u001b[39m(func)\n\u001b[1;32m    162\u001b[0m \u001b[39mdef\u001b[39;00m \u001b[39mwrapper\u001b[39m(\u001b[39m*\u001b[39margs, \u001b[39m*\u001b[39m\u001b[39m*\u001b[39mkwargs):\n\u001b[1;32m    163\u001b[0m     \u001b[39mwith\u001b[39;00m OnExit():\n\u001b[0;32m--> 164\u001b[0m         \u001b[39mreturn\u001b[39;00m func(\u001b[39m*\u001b[39;49margs, \u001b[39m*\u001b[39;49m\u001b[39m*\u001b[39;49mkwargs)\n",
      "File \u001b[0;32m~/venvs/3.2.0+1277/3.2.0+1277_poptorch/lib/python3.8/site-packages/poptorch/_poplar_executor.py:883\u001b[0m, in \u001b[0;36mPoplarExecutor._compileWithDispatch\u001b[0;34m(self, in_tensors, executable_filename)\u001b[0m\n\u001b[1;32m    876\u001b[0m         executable \u001b[39m=\u001b[39m poptorch_core\u001b[39m.\u001b[39mprocessDispatchAndImportExecutable(\n\u001b[1;32m    877\u001b[0m             \u001b[39mself\u001b[39m\u001b[39m.\u001b[39m_options\u001b[39m.\u001b[39mtoDict(), accessAttributes, \u001b[39mself\u001b[39m\u001b[39m.\u001b[39m_training,\n\u001b[1;32m    878\u001b[0m             \u001b[39mself\u001b[39m\u001b[39m.\u001b[39m_dict_optimizer,\n\u001b[1;32m    879\u001b[0m             \u001b[39mlist\u001b[39m(\u001b[39mself\u001b[39m\u001b[39m.\u001b[39m_options\u001b[39m.\u001b[39manchored_tensors\u001b[39m.\u001b[39mvalues()),\n\u001b[1;32m    880\u001b[0m             executable_filename)\n\u001b[1;32m    881\u001b[0m     \u001b[39melse\u001b[39;00m:\n\u001b[1;32m    882\u001b[0m         \u001b[39m# Compile the captured graph using PopART.\u001b[39;00m\n\u001b[0;32m--> 883\u001b[0m         executable \u001b[39m=\u001b[39m poptorch_core\u001b[39m.\u001b[39;49mcompileWithManualTracing(\n\u001b[1;32m    884\u001b[0m             \u001b[39mself\u001b[39;49m\u001b[39m.\u001b[39;49m_options\u001b[39m.\u001b[39;49mtoDict(), accessAttributes, \u001b[39mself\u001b[39;49m\u001b[39m.\u001b[39;49m_training,\n\u001b[1;32m    885\u001b[0m             \u001b[39mself\u001b[39;49m\u001b[39m.\u001b[39;49m_dict_optimizer,\n\u001b[1;32m    886\u001b[0m             \u001b[39mlist\u001b[39;49m(\u001b[39mself\u001b[39;49m\u001b[39m.\u001b[39;49m_options\u001b[39m.\u001b[39;49manchored_tensors\u001b[39m.\u001b[39;49mvalues()))\n\u001b[1;32m    888\u001b[0m \u001b[39mreturn\u001b[39;00m executable\n",
      "\u001b[0;31mError\u001b[0m: In unknown:0: 'popart_exception': Failure in ReshapeOp::setup() for Op(1/recipient_email_domain__rev_to__transaction/aggr_module/Reshape (ai.onnx.Reshape:5), inputs=[1/recipient_email_domain__rev_to__transaction/aggr_module/Max:0], outputs=[1/recipient_email_domain__rev_to__transaction/aggr_module/Reshape:0]). Trying to reshape from [5] to [2 1]. The number of elements of the input is 5, while the number of elements of the output is 2. The number of elements cannot change for a ReshapeOp\nError raised in:\n  [0] popart::InferenceSession::createFromOnnxModel\n  [1] Compiler::initSession\n  [2] LowerToPopart::compile\n  [3] compileWithManualTracing\n"
     ]
    }
   ],
   "source": [
    "import poptorch\n",
    "\n",
    "model.eval()\n",
    "inf_model = poptorch.inferenceModel(model)\n",
    "out_ipu = inf_model(data.x_dict,\n",
    "                    data.edge_index_dict,\n",
    "                    target=data[\"transaction\"].y)\n",
    "out_ipu"
   ]
  },
  {
   "cell_type": "code",
   "execution_count": null,
   "id": "ac73ba59",
   "metadata": {},
   "outputs": [
    {
     "ename": "AssertionError",
     "evalue": "",
     "output_type": "error",
     "traceback": [
      "\u001b[0;31m---------------------------------------------------------------------------\u001b[0m",
      "\u001b[0;31mAssertionError\u001b[0m                            Traceback (most recent call last)",
      "Cell \u001b[0;32mIn[49], line 1\u001b[0m\n\u001b[0;32m----> 1\u001b[0m \u001b[39massert\u001b[39;00m torch\u001b[39m.\u001b[39mallclose(out_cpu[\u001b[39m0\u001b[39m], out_ipu[\u001b[39m0\u001b[39m])\n",
      "\u001b[0;31mAssertionError\u001b[0m: "
     ]
    }
   ],
   "source": [
    "assert torch.allclose(out_cpu[0], out_ipu[0])"
   ]
  },
  {
   "cell_type": "code",
   "execution_count": null,
   "id": "eae73378",
   "metadata": {},
   "outputs": [],
   "source": [
    "# TODO: CompGCN?"
   ]
  },
  {
   "attachments": {},
   "cell_type": "markdown",
   "id": "f4ee6edb",
   "metadata": {},
   "source": [
    "## Training the model\n",
    "\n",
    "TODO: Train the model in the normal way"
   ]
  },
  {
   "cell_type": "code",
   "execution_count": 95,
   "id": "98b652dc",
   "metadata": {},
   "outputs": [],
   "source": [
    "learning_rate = 0.001\n",
    "num_epochs = 1"
   ]
  },
  {
   "cell_type": "code",
   "execution_count": 96,
   "id": "c1e4520a",
   "metadata": {},
   "outputs": [],
   "source": [
    "import poptorch\n",
    "\n",
    "model.train()\n",
    "optimizer = poptorch.optim.Adam(model.parameters(), lr=learning_rate)\n",
    "training_model = poptorch.trainingModel(model, optimizer=optimizer)"
   ]
  },
  {
   "cell_type": "code",
   "execution_count": 97,
   "id": "59232f56",
   "metadata": {},
   "outputs": [
    {
     "name": "stderr",
     "output_type": "stream",
     "text": [
      "[17:04:34.024] [poptorch::python] [warning] Dicts as inputs only have partial support, they can be accessed using literal keys, but full Python functionality is not enabled. Consider changing dict inputs to tuple.\n",
      "[17:04:34.025] [poptorch::python] [warning] Dicts as inputs only have partial support, they can be accessed using literal keys, but full Python functionality is not enabled. Consider changing dict inputs to tuple.\n",
      "[17:04:34.045] [poptorch:cpp] [warning] [DISPATCHER] Type coerced from Long to Int for tensor id 2311\n",
      "[17:04:34.046] [poptorch:cpp] [warning] [DISPATCHER] Type coerced from Long to Int for tensor id 2312\n",
      "[17:04:34.046] [poptorch:cpp] [warning] [DISPATCHER] Type coerced from Long to Int for tensor id 2313\n",
      "[17:04:34.046] [poptorch:cpp] [warning] [DISPATCHER] Type coerced from Long to Int for tensor id 2314\n",
      "[17:04:34.046] [poptorch:cpp] [warning] [DISPATCHER] Type coerced from Long to Int for tensor id 2315\n",
      "[17:04:34.046] [poptorch:cpp] [warning] [DISPATCHER] Type coerced from Long to Int for tensor id 2316\n",
      "[17:04:34.046] [poptorch:cpp] [warning] [DISPATCHER] Type coerced from Long to Int for tensor id 2317\n",
      "Graph compilation:   0%|          | 0/100 [00:00<?]2023-04-24T17:04:34.666366Z popart:popart 79554.79554 E: Failure in ReshapeOp::setup() for Op(1/recipient_email_domain__rev_to__transaction/aggr_module/Reshape (ai.onnx.Reshape:5), inputs=[1/recipient_email_domain__rev_to__transaction/aggr_module/Max:0], outputs=[1/recipient_email_domain__rev_to__transaction/aggr_module/Reshape:0]). Trying to reshape from [5] to [2 1]. The number of elements of the input is 5, while the number of elements of the output is 2. The number of elements cannot change for a ReshapeOp\n",
      "\n",
      "[0] popart::Graph::constructFromOnnxGraph(onnx::GraphProto const&)\n",
      "[1] popart::Ir::constructFromOnnxGraph(onnx::GraphProto const&, popart::Scope const&)\n",
      "[2] popart::Ir::constructForwards()\n",
      "[3] popart::Ir::prepareImpl(popart::IrBundle const&, std::map<unsigned long, std::__cxx11::basic_string<char, std::char_traits<char>, std::allocator<char> >, std::less<unsigned long>, std::allocator<std::pair<unsigned long const, std::__cxx11::basic_string<char, std::char_traits<char>, std::allocator<char> > > > > const&, unsigned long)\n",
      "[4] popart::Ir::prepare(popart::IrBundle const&, std::map<unsigned long, std::__cxx11::basic_string<char, std::char_traits<char>, std::allocator<char> >, std::less<unsigned long>, std::allocator<std::pair<unsigned long const, std::__cxx11::basic_string<char, std::char_traits<char>, std::allocator<char> > > > > const&, unsigned long)\n",
      "[5] popart::Session::configureFromOnnx(std::__cxx11::basic_string<char, std::char_traits<char>, std::allocator<char> > const&, popart::DataFlow const&, std::__cxx11::basic_string<char, std::char_traits<char>, std::allocator<char> > const&, popart::Optimizer const*, popart::InputShapeInfo const&, std::shared_ptr<popart::DeviceInfo>, popart::SessionOptions const&, popart::Patterns const&)\n",
      "[6] popart::TrainingSession::createFromOnnxModel(std::__cxx11::basic_string<char, std::char_traits<char>, std::allocator<char> > const&, popart::DataFlow const&, std::__cxx11::basic_string<char, std::char_traits<char>, std::allocator<char> > const&, popart::Optimizer const&, std::shared_ptr<popart::DeviceInfo>, popart::InputShapeInfo const&, popart::SessionOptions const&, popart::Patterns const&, std::__cxx11::basic_string<char, std::char_traits<char>, std::allocator<char> >)\n",
      "[7] poptorch::popart_compiler::Compiler::initSession(std::vector<poptorch::popart_compiler::Optimizer, std::allocator<poptorch::popart_compiler::Optimizer> > const&, char const*)\n",
      "\n",
      "\n",
      "\n",
      "Graph compilation:   0%|          | 0/100 [00:00<?]\n"
     ]
    },
    {
     "ename": "Error",
     "evalue": "In unknown:0: 'popart_exception': Failure in ReshapeOp::setup() for Op(1/recipient_email_domain__rev_to__transaction/aggr_module/Reshape (ai.onnx.Reshape:5), inputs=[1/recipient_email_domain__rev_to__transaction/aggr_module/Max:0], outputs=[1/recipient_email_domain__rev_to__transaction/aggr_module/Reshape:0]). Trying to reshape from [5] to [2 1]. The number of elements of the input is 5, while the number of elements of the output is 2. The number of elements cannot change for a ReshapeOp\nError raised in:\n  [0] popart::TrainingSession::createFromOnnxModel\n  [1] Compiler::initSession\n  [2] LowerToPopart::compile\n  [3] compileWithManualTracing\n  [4] popart::Graph::constructFromOnnxGraph(onnx::GraphProto const&)\n  [5] popart::Ir::constructFromOnnxGraph(onnx::GraphProto const&, popart::Scope const&)\n  [6] popart::Ir::constructForwards()\n  [7] popart::Ir::prepareImpl(popart::IrBundle const&, std::map<unsigned long, std::__cxx11::basic_string<char, std::char_traits<char>, std::allocator<char> >, std::less<unsigned long>, std::allocator<std::pair<unsigned long const, std::__cxx11::basic_string<char, std::char_traits<char>, std::allocator<char> > > > > const&, unsigned long)\n  [8] popart::Ir::prepare(popart::IrBundle const&, std::map<unsigned long, std::__cxx11::basic_string<char, std::char_traits<char>, std::allocator<char> >, std::less<unsigned long>, std::allocator<std::pair<unsigned long const, std::__cxx11::basic_string<char, std::char_traits<char>, std::allocator<char> > > > > const&, unsigned long)\n  [9] popart::Session::configureFromOnnx(std::__cxx11::basic_string<char, std::char_traits<char>, std::allocator<char> > const&, popart::DataFlow const&, std::__cxx11::basic_string<char, std::char_traits<char>, std::allocator<char> > const&, popart::Optimizer const*, popart::InputShapeInfo const&, std::shared_ptr<popart::DeviceInfo>, popart::SessionOptions const&, popart::Patterns const&)\n  [10] popart::InferenceSession::createFromOnnxModel(std::__cxx11::basic_string<char, std::char_traits<char>, std::allocator<char> > const&, popart::DataFlow const&, std::shared_ptr<popart::DeviceInfo>, popart::InputShapeInfo const&, popart::SessionOptions const&, popart::Patterns const&, std::__cxx11::basic_string<char, std::char_traits<char>, std::allocator<char> >)\n  [11] poptorch::popart_compiler::Compiler::initSession(std::vector<poptorch::popart_compiler::Optimizer, std::allocator<poptorch::popart_compiler::Optimizer> > const&, char const*)\n",
     "output_type": "error",
     "traceback": [
      "\u001b[0;31m---------------------------------------------------------------------------\u001b[0m",
      "\u001b[0;31mError\u001b[0m                                     Traceback (most recent call last)",
      "Cell \u001b[0;32mIn[97], line 2\u001b[0m\n\u001b[1;32m      1\u001b[0m \u001b[39mfor\u001b[39;00m epoch \u001b[39min\u001b[39;00m \u001b[39mrange\u001b[39m(num_epochs):\n\u001b[0;32m----> 2\u001b[0m     _, loss \u001b[39m=\u001b[39m training_model(data\u001b[39m.\u001b[39;49mx_dict,\n\u001b[1;32m      3\u001b[0m                              data\u001b[39m.\u001b[39;49medge_index_dict,\n\u001b[1;32m      4\u001b[0m                              target\u001b[39m=\u001b[39;49mdata[\u001b[39m'\u001b[39;49m\u001b[39mtransaction\u001b[39;49m\u001b[39m'\u001b[39;49m]\u001b[39m.\u001b[39;49my)\n\u001b[1;32m      5\u001b[0m     \u001b[39mprint\u001b[39m(loss)\n",
      "File \u001b[0;32m~/venvs/3.2.0+1277/3.2.0+1277_poptorch/lib/python3.8/site-packages/poptorch/_poplar_executor.py:1162\u001b[0m, in \u001b[0;36mPoplarExecutor.__call__\u001b[0;34m(self, *args, **kwargs)\u001b[0m\n\u001b[1;32m   1159\u001b[0m in_tensors \u001b[39m=\u001b[39m \u001b[39mself\u001b[39m\u001b[39m.\u001b[39m_args_parser(args, kwargs, \u001b[39mself\u001b[39m\u001b[39m.\u001b[39misCompiled())\n\u001b[1;32m   1161\u001b[0m \u001b[39mif\u001b[39;00m \u001b[39mnot\u001b[39;00m \u001b[39mself\u001b[39m\u001b[39m.\u001b[39misCompiled():\n\u001b[0;32m-> 1162\u001b[0m     \u001b[39mself\u001b[39;49m\u001b[39m.\u001b[39;49m_compile(in_tensors)\n\u001b[1;32m   1164\u001b[0m \u001b[39mif\u001b[39;00m \u001b[39mnot\u001b[39;00m \u001b[39mself\u001b[39m\u001b[39m.\u001b[39m_is_attached:\n\u001b[1;32m   1165\u001b[0m     \u001b[39mself\u001b[39m\u001b[39m.\u001b[39mattachToDevice()\n",
      "File \u001b[0;32m~/venvs/3.2.0+1277/3.2.0+1277_poptorch/lib/python3.8/site-packages/poptorch/_impl.py:358\u001b[0m, in \u001b[0;36mtraceMethod.<locals>.decorator.<locals>.wrapper\u001b[0;34m(self, *args, **kwargs)\u001b[0m\n\u001b[1;32m    355\u001b[0m \u001b[39m@wraps\u001b[39m(func)\n\u001b[1;32m    356\u001b[0m \u001b[39mdef\u001b[39;00m \u001b[39mwrapper\u001b[39m(\u001b[39mself\u001b[39m, \u001b[39m*\u001b[39margs, \u001b[39m*\u001b[39m\u001b[39m*\u001b[39mkwargs):\n\u001b[1;32m    357\u001b[0m     \u001b[39mwith\u001b[39;00m \u001b[39mself\u001b[39m\u001b[39m.\u001b[39m_profiling\u001b[39m.\u001b[39mtracepoint(label):  \u001b[39m# pylint: disable=protected-access\u001b[39;00m\n\u001b[0;32m--> 358\u001b[0m         \u001b[39mreturn\u001b[39;00m func(\u001b[39mself\u001b[39;49m, \u001b[39m*\u001b[39;49margs, \u001b[39m*\u001b[39;49m\u001b[39m*\u001b[39;49mkwargs)\n",
      "File \u001b[0;32m~/venvs/3.2.0+1277/3.2.0+1277_poptorch/lib/python3.8/site-packages/poptorch/_poplar_executor.py:922\u001b[0m, in \u001b[0;36mPoplarExecutor._compile\u001b[0;34m(self, in_tensors)\u001b[0m\n\u001b[1;32m    918\u001b[0m \u001b[39m# In distributed execution mode:\u001b[39;00m\n\u001b[1;32m    919\u001b[0m \u001b[39m# At that point only the first process will have a compiled executable:\u001b[39;00m\n\u001b[1;32m    920\u001b[0m \u001b[39m# trigger the compilation process in all the other processes.\u001b[39;00m\n\u001b[1;32m    921\u001b[0m \u001b[39mif\u001b[39;00m \u001b[39mnot\u001b[39;00m \u001b[39mself\u001b[39m\u001b[39m.\u001b[39misCompiled():\n\u001b[0;32m--> 922\u001b[0m     \u001b[39mself\u001b[39m\u001b[39m.\u001b[39m_executable \u001b[39m=\u001b[39m \u001b[39mself\u001b[39;49m\u001b[39m.\u001b[39;49m_compileWithDispatch(in_tensors_trace_view)\n\u001b[1;32m    924\u001b[0m \u001b[39m# Load the engine and connect the streams in all the processes.\u001b[39;00m\n\u001b[1;32m    925\u001b[0m \u001b[39m#\u001b[39;00m\n\u001b[1;32m    926\u001b[0m \u001b[39m# Note: no sync point was added because we expect the above\u001b[39;00m\n\u001b[0;32m   (...)\u001b[0m\n\u001b[1;32m    934\u001b[0m \u001b[39m# to enable executable caching to avoid out of memory issues due\u001b[39;00m\n\u001b[1;32m    935\u001b[0m \u001b[39m# to concurrent compilation processes.\u001b[39;00m\n\u001b[1;32m    936\u001b[0m \u001b[39mif\u001b[39;00m \u001b[39mself\u001b[39m\u001b[39m.\u001b[39m_options\u001b[39m.\u001b[39mconnection_type \u001b[39m!=\u001b[39m enums\u001b[39m.\u001b[39mConnectionType\u001b[39m.\u001b[39mNever:\n",
      "File \u001b[0;32m~/venvs/3.2.0+1277/3.2.0+1277_poptorch/lib/python3.8/site-packages/poptorch/_impl.py:164\u001b[0m, in \u001b[0;36mdestroyDispatcherOnExit.<locals>.wrapper\u001b[0;34m(*args, **kwargs)\u001b[0m\n\u001b[1;32m    161\u001b[0m \u001b[39m@wraps\u001b[39m(func)\n\u001b[1;32m    162\u001b[0m \u001b[39mdef\u001b[39;00m \u001b[39mwrapper\u001b[39m(\u001b[39m*\u001b[39margs, \u001b[39m*\u001b[39m\u001b[39m*\u001b[39mkwargs):\n\u001b[1;32m    163\u001b[0m     \u001b[39mwith\u001b[39;00m OnExit():\n\u001b[0;32m--> 164\u001b[0m         \u001b[39mreturn\u001b[39;00m func(\u001b[39m*\u001b[39;49margs, \u001b[39m*\u001b[39;49m\u001b[39m*\u001b[39;49mkwargs)\n",
      "File \u001b[0;32m~/venvs/3.2.0+1277/3.2.0+1277_poptorch/lib/python3.8/site-packages/poptorch/_poplar_executor.py:883\u001b[0m, in \u001b[0;36mPoplarExecutor._compileWithDispatch\u001b[0;34m(self, in_tensors, executable_filename)\u001b[0m\n\u001b[1;32m    876\u001b[0m         executable \u001b[39m=\u001b[39m poptorch_core\u001b[39m.\u001b[39mprocessDispatchAndImportExecutable(\n\u001b[1;32m    877\u001b[0m             \u001b[39mself\u001b[39m\u001b[39m.\u001b[39m_options\u001b[39m.\u001b[39mtoDict(), accessAttributes, \u001b[39mself\u001b[39m\u001b[39m.\u001b[39m_training,\n\u001b[1;32m    878\u001b[0m             \u001b[39mself\u001b[39m\u001b[39m.\u001b[39m_dict_optimizer,\n\u001b[1;32m    879\u001b[0m             \u001b[39mlist\u001b[39m(\u001b[39mself\u001b[39m\u001b[39m.\u001b[39m_options\u001b[39m.\u001b[39manchored_tensors\u001b[39m.\u001b[39mvalues()),\n\u001b[1;32m    880\u001b[0m             executable_filename)\n\u001b[1;32m    881\u001b[0m     \u001b[39melse\u001b[39;00m:\n\u001b[1;32m    882\u001b[0m         \u001b[39m# Compile the captured graph using PopART.\u001b[39;00m\n\u001b[0;32m--> 883\u001b[0m         executable \u001b[39m=\u001b[39m poptorch_core\u001b[39m.\u001b[39;49mcompileWithManualTracing(\n\u001b[1;32m    884\u001b[0m             \u001b[39mself\u001b[39;49m\u001b[39m.\u001b[39;49m_options\u001b[39m.\u001b[39;49mtoDict(), accessAttributes, \u001b[39mself\u001b[39;49m\u001b[39m.\u001b[39;49m_training,\n\u001b[1;32m    885\u001b[0m             \u001b[39mself\u001b[39;49m\u001b[39m.\u001b[39;49m_dict_optimizer,\n\u001b[1;32m    886\u001b[0m             \u001b[39mlist\u001b[39;49m(\u001b[39mself\u001b[39;49m\u001b[39m.\u001b[39;49m_options\u001b[39m.\u001b[39;49manchored_tensors\u001b[39m.\u001b[39;49mvalues()))\n\u001b[1;32m    888\u001b[0m \u001b[39mreturn\u001b[39;00m executable\n",
      "\u001b[0;31mError\u001b[0m: In unknown:0: 'popart_exception': Failure in ReshapeOp::setup() for Op(1/recipient_email_domain__rev_to__transaction/aggr_module/Reshape (ai.onnx.Reshape:5), inputs=[1/recipient_email_domain__rev_to__transaction/aggr_module/Max:0], outputs=[1/recipient_email_domain__rev_to__transaction/aggr_module/Reshape:0]). Trying to reshape from [5] to [2 1]. The number of elements of the input is 5, while the number of elements of the output is 2. The number of elements cannot change for a ReshapeOp\nError raised in:\n  [0] popart::TrainingSession::createFromOnnxModel\n  [1] Compiler::initSession\n  [2] LowerToPopart::compile\n  [3] compileWithManualTracing\n  [4] popart::Graph::constructFromOnnxGraph(onnx::GraphProto const&)\n  [5] popart::Ir::constructFromOnnxGraph(onnx::GraphProto const&, popart::Scope const&)\n  [6] popart::Ir::constructForwards()\n  [7] popart::Ir::prepareImpl(popart::IrBundle const&, std::map<unsigned long, std::__cxx11::basic_string<char, std::char_traits<char>, std::allocator<char> >, std::less<unsigned long>, std::allocator<std::pair<unsigned long const, std::__cxx11::basic_string<char, std::char_traits<char>, std::allocator<char> > > > > const&, unsigned long)\n  [8] popart::Ir::prepare(popart::IrBundle const&, std::map<unsigned long, std::__cxx11::basic_string<char, std::char_traits<char>, std::allocator<char> >, std::less<unsigned long>, std::allocator<std::pair<unsigned long const, std::__cxx11::basic_string<char, std::char_traits<char>, std::allocator<char> > > > > const&, unsigned long)\n  [9] popart::Session::configureFromOnnx(std::__cxx11::basic_string<char, std::char_traits<char>, std::allocator<char> > const&, popart::DataFlow const&, std::__cxx11::basic_string<char, std::char_traits<char>, std::allocator<char> > const&, popart::Optimizer const*, popart::InputShapeInfo const&, std::shared_ptr<popart::DeviceInfo>, popart::SessionOptions const&, popart::Patterns const&)\n  [10] popart::InferenceSession::createFromOnnxModel(std::__cxx11::basic_string<char, std::char_traits<char>, std::allocator<char> > const&, popart::DataFlow const&, std::shared_ptr<popart::DeviceInfo>, popart::InputShapeInfo const&, popart::SessionOptions const&, popart::Patterns const&, std::__cxx11::basic_string<char, std::char_traits<char>, std::allocator<char> >)\n  [11] poptorch::popart_compiler::Compiler::initSession(std::vector<poptorch::popart_compiler::Optimizer, std::allocator<poptorch::popart_compiler::Optimizer> > const&, char const*)\n"
     ]
    }
   ],
   "source": [
    "for epoch in range(num_epochs):\n",
    "    _, loss = training_model(data.x_dict,\n",
    "                             data.edge_index_dict,\n",
    "                             target=data['transaction'].y)\n",
    "    print(loss)"
   ]
  },
  {
   "cell_type": "code",
   "execution_count": 98,
   "id": "45cecaf3",
   "metadata": {},
   "outputs": [
    {
     "name": "stderr",
     "output_type": "stream",
     "text": [
      "[17:04:35.771] [poptorch::python] [warning] Dicts as inputs only have partial support, they can be accessed using literal keys, but full Python functionality is not enabled. Consider changing dict inputs to tuple.\n",
      "[17:04:35.772] [poptorch::python] [warning] Dicts as inputs only have partial support, they can be accessed using literal keys, but full Python functionality is not enabled. Consider changing dict inputs to tuple.\n",
      "[17:04:35.791] [poptorch:cpp] [warning] [DISPATCHER] Type coerced from Long to Int for tensor id 2761\n",
      "[17:04:35.792] [poptorch:cpp] [warning] [DISPATCHER] Type coerced from Long to Int for tensor id 2762\n",
      "[17:04:35.792] [poptorch:cpp] [warning] [DISPATCHER] Type coerced from Long to Int for tensor id 2763\n",
      "[17:04:35.792] [poptorch:cpp] [warning] [DISPATCHER] Type coerced from Long to Int for tensor id 2764\n",
      "[17:04:35.792] [poptorch:cpp] [warning] [DISPATCHER] Type coerced from Long to Int for tensor id 2765\n",
      "[17:04:35.792] [poptorch:cpp] [warning] [DISPATCHER] Type coerced from Long to Int for tensor id 2766\n",
      "[17:04:35.793] [poptorch:cpp] [warning] [DISPATCHER] Type coerced from Long to Int for tensor id 2767\n",
      "Graph compilation:   0%|          | 0/100 [00:00<?]2023-04-24T17:04:36.396206Z popart:popart 79554.79554 E: Failure in ReshapeOp::setup() for Op(1/recipient_email_domain__rev_to__transaction/aggr_module/Reshape (ai.onnx.Reshape:5), inputs=[1/recipient_email_domain__rev_to__transaction/aggr_module/Max:0], outputs=[1/recipient_email_domain__rev_to__transaction/aggr_module/Reshape:0]). Trying to reshape from [5] to [2 1]. The number of elements of the input is 5, while the number of elements of the output is 2. The number of elements cannot change for a ReshapeOp\n",
      "\n",
      "[0] popart::Graph::constructFromOnnxGraph(onnx::GraphProto const&)\n",
      "[1] popart::Ir::constructFromOnnxGraph(onnx::GraphProto const&, popart::Scope const&)\n",
      "[2] popart::Ir::constructForwards()\n",
      "[3] popart::Ir::prepareImpl(popart::IrBundle const&, std::map<unsigned long, std::__cxx11::basic_string<char, std::char_traits<char>, std::allocator<char> >, std::less<unsigned long>, std::allocator<std::pair<unsigned long const, std::__cxx11::basic_string<char, std::char_traits<char>, std::allocator<char> > > > > const&, unsigned long)\n",
      "[4] popart::Ir::prepare(popart::IrBundle const&, std::map<unsigned long, std::__cxx11::basic_string<char, std::char_traits<char>, std::allocator<char> >, std::less<unsigned long>, std::allocator<std::pair<unsigned long const, std::__cxx11::basic_string<char, std::char_traits<char>, std::allocator<char> > > > > const&, unsigned long)\n",
      "[5] popart::Session::configureFromOnnx(std::__cxx11::basic_string<char, std::char_traits<char>, std::allocator<char> > const&, popart::DataFlow const&, std::__cxx11::basic_string<char, std::char_traits<char>, std::allocator<char> > const&, popart::Optimizer const*, popart::InputShapeInfo const&, std::shared_ptr<popart::DeviceInfo>, popart::SessionOptions const&, popart::Patterns const&)\n",
      "[6] popart::TrainingSession::createFromOnnxModel(std::__cxx11::basic_string<char, std::char_traits<char>, std::allocator<char> > const&, popart::DataFlow const&, std::__cxx11::basic_string<char, std::char_traits<char>, std::allocator<char> > const&, popart::Optimizer const&, std::shared_ptr<popart::DeviceInfo>, popart::InputShapeInfo const&, popart::SessionOptions const&, popart::Patterns const&, std::__cxx11::basic_string<char, std::char_traits<char>, std::allocator<char> >)\n",
      "[7] poptorch::popart_compiler::Compiler::initSession(std::vector<poptorch::popart_compiler::Optimizer, std::allocator<poptorch::popart_compiler::Optimizer> > const&, char const*)\n",
      "\n",
      "\n",
      "\n",
      "Graph compilation:   0%|          | 0/100 [00:00<?]\n"
     ]
    },
    {
     "ename": "Error",
     "evalue": "In unknown:0: 'popart_exception': Failure in ReshapeOp::setup() for Op(1/recipient_email_domain__rev_to__transaction/aggr_module/Reshape (ai.onnx.Reshape:5), inputs=[1/recipient_email_domain__rev_to__transaction/aggr_module/Max:0], outputs=[1/recipient_email_domain__rev_to__transaction/aggr_module/Reshape:0]). Trying to reshape from [5] to [2 1]. The number of elements of the input is 5, while the number of elements of the output is 2. The number of elements cannot change for a ReshapeOp\nError raised in:\n  [0] popart::TrainingSession::createFromOnnxModel\n  [1] Compiler::initSession\n  [2] LowerToPopart::compile\n  [3] compileWithManualTracing\n  [4] popart::Graph::constructFromOnnxGraph(onnx::GraphProto const&)\n  [5] popart::Ir::constructFromOnnxGraph(onnx::GraphProto const&, popart::Scope const&)\n  [6] popart::Ir::constructForwards()\n  [7] popart::Ir::prepareImpl(popart::IrBundle const&, std::map<unsigned long, std::__cxx11::basic_string<char, std::char_traits<char>, std::allocator<char> >, std::less<unsigned long>, std::allocator<std::pair<unsigned long const, std::__cxx11::basic_string<char, std::char_traits<char>, std::allocator<char> > > > > const&, unsigned long)\n  [8] popart::Ir::prepare(popart::IrBundle const&, std::map<unsigned long, std::__cxx11::basic_string<char, std::char_traits<char>, std::allocator<char> >, std::less<unsigned long>, std::allocator<std::pair<unsigned long const, std::__cxx11::basic_string<char, std::char_traits<char>, std::allocator<char> > > > > const&, unsigned long)\n  [9] popart::Session::configureFromOnnx(std::__cxx11::basic_string<char, std::char_traits<char>, std::allocator<char> > const&, popart::DataFlow const&, std::__cxx11::basic_string<char, std::char_traits<char>, std::allocator<char> > const&, popart::Optimizer const*, popart::InputShapeInfo const&, std::shared_ptr<popart::DeviceInfo>, popart::SessionOptions const&, popart::Patterns const&)\n  [10] popart::TrainingSession::createFromOnnxModel(std::__cxx11::basic_string<char, std::char_traits<char>, std::allocator<char> > const&, popart::DataFlow const&, std::__cxx11::basic_string<char, std::char_traits<char>, std::allocator<char> > const&, popart::Optimizer const&, std::shared_ptr<popart::DeviceInfo>, popart::InputShapeInfo const&, popart::SessionOptions const&, popart::Patterns const&, std::__cxx11::basic_string<char, std::char_traits<char>, std::allocator<char> >)\n  [11] poptorch::popart_compiler::Compiler::initSession(std::vector<poptorch::popart_compiler::Optimizer, std::allocator<poptorch::popart_compiler::Optimizer> > const&, char const*)\n",
     "output_type": "error",
     "traceback": [
      "\u001b[0;31m---------------------------------------------------------------------------\u001b[0m",
      "\u001b[0;31mError\u001b[0m                                     Traceback (most recent call last)",
      "Cell \u001b[0;32mIn[98], line 5\u001b[0m\n\u001b[1;32m      3\u001b[0m total_examples \u001b[39m=\u001b[39m total_loss \u001b[39m=\u001b[39m \u001b[39m0\u001b[39m\n\u001b[1;32m      4\u001b[0m \u001b[39mfor\u001b[39;00m batch \u001b[39min\u001b[39;00m train_loader_ipu:\n\u001b[0;32m----> 5\u001b[0m     out \u001b[39m=\u001b[39m training_model(data\u001b[39m.\u001b[39;49mx_dict,\n\u001b[1;32m      6\u001b[0m                          data\u001b[39m.\u001b[39;49medge_index_dict,\n\u001b[1;32m      7\u001b[0m                          target\u001b[39m=\u001b[39;49mdata[\u001b[39m'\u001b[39;49m\u001b[39mtransaction\u001b[39;49m\u001b[39m'\u001b[39;49m]\u001b[39m.\u001b[39;49my)\n\u001b[1;32m      8\u001b[0m     total_examples \u001b[39m+\u001b[39m\u001b[39m=\u001b[39m batch_size\n\u001b[1;32m      9\u001b[0m     total_loss \u001b[39m+\u001b[39m\u001b[39m=\u001b[39m \u001b[39mfloat\u001b[39m(loss) \u001b[39m*\u001b[39m batch_size\n",
      "File \u001b[0;32m~/venvs/3.2.0+1277/3.2.0+1277_poptorch/lib/python3.8/site-packages/poptorch/_poplar_executor.py:1162\u001b[0m, in \u001b[0;36mPoplarExecutor.__call__\u001b[0;34m(self, *args, **kwargs)\u001b[0m\n\u001b[1;32m   1159\u001b[0m in_tensors \u001b[39m=\u001b[39m \u001b[39mself\u001b[39m\u001b[39m.\u001b[39m_args_parser(args, kwargs, \u001b[39mself\u001b[39m\u001b[39m.\u001b[39misCompiled())\n\u001b[1;32m   1161\u001b[0m \u001b[39mif\u001b[39;00m \u001b[39mnot\u001b[39;00m \u001b[39mself\u001b[39m\u001b[39m.\u001b[39misCompiled():\n\u001b[0;32m-> 1162\u001b[0m     \u001b[39mself\u001b[39;49m\u001b[39m.\u001b[39;49m_compile(in_tensors)\n\u001b[1;32m   1164\u001b[0m \u001b[39mif\u001b[39;00m \u001b[39mnot\u001b[39;00m \u001b[39mself\u001b[39m\u001b[39m.\u001b[39m_is_attached:\n\u001b[1;32m   1165\u001b[0m     \u001b[39mself\u001b[39m\u001b[39m.\u001b[39mattachToDevice()\n",
      "File \u001b[0;32m~/venvs/3.2.0+1277/3.2.0+1277_poptorch/lib/python3.8/site-packages/poptorch/_impl.py:358\u001b[0m, in \u001b[0;36mtraceMethod.<locals>.decorator.<locals>.wrapper\u001b[0;34m(self, *args, **kwargs)\u001b[0m\n\u001b[1;32m    355\u001b[0m \u001b[39m@wraps\u001b[39m(func)\n\u001b[1;32m    356\u001b[0m \u001b[39mdef\u001b[39;00m \u001b[39mwrapper\u001b[39m(\u001b[39mself\u001b[39m, \u001b[39m*\u001b[39margs, \u001b[39m*\u001b[39m\u001b[39m*\u001b[39mkwargs):\n\u001b[1;32m    357\u001b[0m     \u001b[39mwith\u001b[39;00m \u001b[39mself\u001b[39m\u001b[39m.\u001b[39m_profiling\u001b[39m.\u001b[39mtracepoint(label):  \u001b[39m# pylint: disable=protected-access\u001b[39;00m\n\u001b[0;32m--> 358\u001b[0m         \u001b[39mreturn\u001b[39;00m func(\u001b[39mself\u001b[39;49m, \u001b[39m*\u001b[39;49margs, \u001b[39m*\u001b[39;49m\u001b[39m*\u001b[39;49mkwargs)\n",
      "File \u001b[0;32m~/venvs/3.2.0+1277/3.2.0+1277_poptorch/lib/python3.8/site-packages/poptorch/_poplar_executor.py:922\u001b[0m, in \u001b[0;36mPoplarExecutor._compile\u001b[0;34m(self, in_tensors)\u001b[0m\n\u001b[1;32m    918\u001b[0m \u001b[39m# In distributed execution mode:\u001b[39;00m\n\u001b[1;32m    919\u001b[0m \u001b[39m# At that point only the first process will have a compiled executable:\u001b[39;00m\n\u001b[1;32m    920\u001b[0m \u001b[39m# trigger the compilation process in all the other processes.\u001b[39;00m\n\u001b[1;32m    921\u001b[0m \u001b[39mif\u001b[39;00m \u001b[39mnot\u001b[39;00m \u001b[39mself\u001b[39m\u001b[39m.\u001b[39misCompiled():\n\u001b[0;32m--> 922\u001b[0m     \u001b[39mself\u001b[39m\u001b[39m.\u001b[39m_executable \u001b[39m=\u001b[39m \u001b[39mself\u001b[39;49m\u001b[39m.\u001b[39;49m_compileWithDispatch(in_tensors_trace_view)\n\u001b[1;32m    924\u001b[0m \u001b[39m# Load the engine and connect the streams in all the processes.\u001b[39;00m\n\u001b[1;32m    925\u001b[0m \u001b[39m#\u001b[39;00m\n\u001b[1;32m    926\u001b[0m \u001b[39m# Note: no sync point was added because we expect the above\u001b[39;00m\n\u001b[0;32m   (...)\u001b[0m\n\u001b[1;32m    934\u001b[0m \u001b[39m# to enable executable caching to avoid out of memory issues due\u001b[39;00m\n\u001b[1;32m    935\u001b[0m \u001b[39m# to concurrent compilation processes.\u001b[39;00m\n\u001b[1;32m    936\u001b[0m \u001b[39mif\u001b[39;00m \u001b[39mself\u001b[39m\u001b[39m.\u001b[39m_options\u001b[39m.\u001b[39mconnection_type \u001b[39m!=\u001b[39m enums\u001b[39m.\u001b[39mConnectionType\u001b[39m.\u001b[39mNever:\n",
      "File \u001b[0;32m~/venvs/3.2.0+1277/3.2.0+1277_poptorch/lib/python3.8/site-packages/poptorch/_impl.py:164\u001b[0m, in \u001b[0;36mdestroyDispatcherOnExit.<locals>.wrapper\u001b[0;34m(*args, **kwargs)\u001b[0m\n\u001b[1;32m    161\u001b[0m \u001b[39m@wraps\u001b[39m(func)\n\u001b[1;32m    162\u001b[0m \u001b[39mdef\u001b[39;00m \u001b[39mwrapper\u001b[39m(\u001b[39m*\u001b[39margs, \u001b[39m*\u001b[39m\u001b[39m*\u001b[39mkwargs):\n\u001b[1;32m    163\u001b[0m     \u001b[39mwith\u001b[39;00m OnExit():\n\u001b[0;32m--> 164\u001b[0m         \u001b[39mreturn\u001b[39;00m func(\u001b[39m*\u001b[39;49margs, \u001b[39m*\u001b[39;49m\u001b[39m*\u001b[39;49mkwargs)\n",
      "File \u001b[0;32m~/venvs/3.2.0+1277/3.2.0+1277_poptorch/lib/python3.8/site-packages/poptorch/_poplar_executor.py:883\u001b[0m, in \u001b[0;36mPoplarExecutor._compileWithDispatch\u001b[0;34m(self, in_tensors, executable_filename)\u001b[0m\n\u001b[1;32m    876\u001b[0m         executable \u001b[39m=\u001b[39m poptorch_core\u001b[39m.\u001b[39mprocessDispatchAndImportExecutable(\n\u001b[1;32m    877\u001b[0m             \u001b[39mself\u001b[39m\u001b[39m.\u001b[39m_options\u001b[39m.\u001b[39mtoDict(), accessAttributes, \u001b[39mself\u001b[39m\u001b[39m.\u001b[39m_training,\n\u001b[1;32m    878\u001b[0m             \u001b[39mself\u001b[39m\u001b[39m.\u001b[39m_dict_optimizer,\n\u001b[1;32m    879\u001b[0m             \u001b[39mlist\u001b[39m(\u001b[39mself\u001b[39m\u001b[39m.\u001b[39m_options\u001b[39m.\u001b[39manchored_tensors\u001b[39m.\u001b[39mvalues()),\n\u001b[1;32m    880\u001b[0m             executable_filename)\n\u001b[1;32m    881\u001b[0m     \u001b[39melse\u001b[39;00m:\n\u001b[1;32m    882\u001b[0m         \u001b[39m# Compile the captured graph using PopART.\u001b[39;00m\n\u001b[0;32m--> 883\u001b[0m         executable \u001b[39m=\u001b[39m poptorch_core\u001b[39m.\u001b[39;49mcompileWithManualTracing(\n\u001b[1;32m    884\u001b[0m             \u001b[39mself\u001b[39;49m\u001b[39m.\u001b[39;49m_options\u001b[39m.\u001b[39;49mtoDict(), accessAttributes, \u001b[39mself\u001b[39;49m\u001b[39m.\u001b[39;49m_training,\n\u001b[1;32m    885\u001b[0m             \u001b[39mself\u001b[39;49m\u001b[39m.\u001b[39;49m_dict_optimizer,\n\u001b[1;32m    886\u001b[0m             \u001b[39mlist\u001b[39;49m(\u001b[39mself\u001b[39;49m\u001b[39m.\u001b[39;49m_options\u001b[39m.\u001b[39;49manchored_tensors\u001b[39m.\u001b[39;49mvalues()))\n\u001b[1;32m    888\u001b[0m \u001b[39mreturn\u001b[39;00m executable\n",
      "\u001b[0;31mError\u001b[0m: In unknown:0: 'popart_exception': Failure in ReshapeOp::setup() for Op(1/recipient_email_domain__rev_to__transaction/aggr_module/Reshape (ai.onnx.Reshape:5), inputs=[1/recipient_email_domain__rev_to__transaction/aggr_module/Max:0], outputs=[1/recipient_email_domain__rev_to__transaction/aggr_module/Reshape:0]). Trying to reshape from [5] to [2 1]. The number of elements of the input is 5, while the number of elements of the output is 2. The number of elements cannot change for a ReshapeOp\nError raised in:\n  [0] popart::TrainingSession::createFromOnnxModel\n  [1] Compiler::initSession\n  [2] LowerToPopart::compile\n  [3] compileWithManualTracing\n  [4] popart::Graph::constructFromOnnxGraph(onnx::GraphProto const&)\n  [5] popart::Ir::constructFromOnnxGraph(onnx::GraphProto const&, popart::Scope const&)\n  [6] popart::Ir::constructForwards()\n  [7] popart::Ir::prepareImpl(popart::IrBundle const&, std::map<unsigned long, std::__cxx11::basic_string<char, std::char_traits<char>, std::allocator<char> >, std::less<unsigned long>, std::allocator<std::pair<unsigned long const, std::__cxx11::basic_string<char, std::char_traits<char>, std::allocator<char> > > > > const&, unsigned long)\n  [8] popart::Ir::prepare(popart::IrBundle const&, std::map<unsigned long, std::__cxx11::basic_string<char, std::char_traits<char>, std::allocator<char> >, std::less<unsigned long>, std::allocator<std::pair<unsigned long const, std::__cxx11::basic_string<char, std::char_traits<char>, std::allocator<char> > > > > const&, unsigned long)\n  [9] popart::Session::configureFromOnnx(std::__cxx11::basic_string<char, std::char_traits<char>, std::allocator<char> > const&, popart::DataFlow const&, std::__cxx11::basic_string<char, std::char_traits<char>, std::allocator<char> > const&, popart::Optimizer const*, popart::InputShapeInfo const&, std::shared_ptr<popart::DeviceInfo>, popart::SessionOptions const&, popart::Patterns const&)\n  [10] popart::TrainingSession::createFromOnnxModel(std::__cxx11::basic_string<char, std::char_traits<char>, std::allocator<char> > const&, popart::DataFlow const&, std::__cxx11::basic_string<char, std::char_traits<char>, std::allocator<char> > const&, popart::Optimizer const&, std::shared_ptr<popart::DeviceInfo>, popart::InputShapeInfo const&, popart::SessionOptions const&, popart::Patterns const&, std::__cxx11::basic_string<char, std::char_traits<char>, std::allocator<char> >)\n  [11] poptorch::popart_compiler::Compiler::initSession(std::vector<poptorch::popart_compiler::Optimizer, std::allocator<poptorch::popart_compiler::Optimizer> > const&, char const*)\n"
     ]
    }
   ],
   "source": [
    "# TODO: With sampling\n",
    "\n",
    "total_examples = total_loss = 0\n",
    "for batch in train_loader_ipu:\n",
    "    out, loss = training_model(data.x_dict,\n",
    "                               data.edge_index_dict,\n",
    "                               target=data['transaction'].y)\n",
    "    total_examples += batch_size\n",
    "    total_loss += float(loss) * batch_size\n"
   ]
  },
  {
   "attachments": {},
   "cell_type": "markdown",
   "id": "0c127b86",
   "metadata": {},
   "source": [
    "## Validating our trained model\n",
    "\n",
    "TODO: Validate the model in the normal way"
   ]
  },
  {
   "cell_type": "markdown",
   "id": "7ece4041",
   "metadata": {},
   "source": [
    "## Conclusion\n",
    "\n",
    "> The conclusion to your demo should:\n",
    ">\n",
    "> - summarise the main steps that were taken in the demo making clear what\n",
    ">  your user got to do (similar to steps at the start but more\n",
    ">  specific, you can link a specific feature/method/class to achieving a specific\n",
    ">  outcome). (short paragraph: 3-6 sentences)\n",
    "> - provide resources to go further: these can be links to other tutorials, to\n",
    ">  documentation, to code examples in the public_examples repo, tech notes, deployments,\n",
    ">  etc... (2-4 suggestions)\n",
    ">\n",
    "> For pointing users to notebooks in the same runtime, point the user to where the file is rather than a link. For example: please see our tutorial, `<folder_name>/<notebook_name>.ipynb`. For relative links the paperspace platform will download the file locally if the machine is running and if the machine is not running will 404. For full path links a new window is opened."
   ]
  }
 ],
 "metadata": {
  "kernelspec": {
   "display_name": "3.2.0+1277_poptorch",
   "language": "python",
   "name": "python3"
  },
  "language_info": {
   "codemirror_mode": {
    "name": "ipython",
    "version": 3
   },
   "file_extension": ".py",
   "mimetype": "text/x-python",
   "name": "python",
   "nbconvert_exporter": "python",
   "pygments_lexer": "ipython3",
   "version": "3.8.10 (default, Mar 13 2023, 10:26:41) \n[GCC 9.4.0]"
  },
  "vscode": {
   "interpreter": {
    "hash": "14ed74787bcb3a85d33b99e2a461605961fba8ba6d9ddfcf06c9973f1378dba0"
   }
  }
 },
 "nbformat": 4,
 "nbformat_minor": 5
}
