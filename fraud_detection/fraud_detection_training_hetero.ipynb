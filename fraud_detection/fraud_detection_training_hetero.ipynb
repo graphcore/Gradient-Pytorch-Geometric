{
 "cells": [
  {
   "attachments": {},
   "cell_type": "markdown",
   "id": "d2b361bf",
   "metadata": {},
   "source": [
    "Copyright (c) 2023 Graphcore Ltd. All rights reserved."
   ]
  },
  {
   "attachments": {},
   "cell_type": "markdown",
   "id": "af14ce5a",
   "metadata": {},
   "source": [
    "# Training a GNN to do Fraud Detection on Graphcore IPUs using your own dataset with PyTorch Geometric\n",
    "\n",
    "TODO: Everything in this section\n",
    "\n",
    "TODO: Update links:\n",
    "\n",
    "[![Run on Gradient](../../gradient-badge.svg)](https://console.paperspace.com/github/<runtime-repo>?machine=Free-IPU-POD4&container=<dockerhub-image>&file=<path-to-file-in-repo>)  [![Join our Slack Community](https://img.shields.io/badge/Slack-Join%20Graphcore's%20Community-blue?style=flat-square&logo=slack)](https://www.graphcore.ai/join-community)\n",
    "\n",
    ">\n",
    "> We aim to have our notebook app demos to be focused on what the user is trying to\n",
    "> do. To help you do this correctly please read [our user personnas](https://graphcore.atlassian.net/wiki/spaces/PM/pages/3157131517/Notebook+personas#Ellie%3A-The-Data-Scientist%2C-Business-Analysis%2C-Consultant),\n",
    "and when in doubt ask yourself \"does that person care about this?\".\n",
    "> To support that the first paragraph will contain all the key information, to\n",
    "> help users rapidly identify if this is the right notebook for them to go\n",
    "> though, based on:\n",
    ">\n",
    "> - The task/business problem they are trying to solve,\n",
    "> - The features that are used (Focus on big picture Deep learning features - e.g.\n",
    ">  Distributed training, not I/O overlap).\n",
    ">\n",
    "> To achieve this, each notebook should start with the following 3 paragraphs\n",
    "> (detailed in the next three comments):\n",
    ">\n",
    "> - a table highlighting what we are going to do\n",
    "> - a very short intro (3-5 sentences)\n",
    "> - clear \"steps to resolution\" (bullet points stating what the user will have\n",
    ">    to do to tackle their problem on the IPU - these need to reflect the notebook,\n",
    ">    and be as simple as possible)\n",
    "> - links to additional related resources.\n",
    ">\n",
    "\n",
    "|  Domain | Tasks | Model | Datasets | Workflow |   Number of IPUs   | Execution time |\n",
    "|---------|-------|-------|----------|----------|--------------|--------------|\n",
    "|   GNNs   |  Fraud detection  | ? | ? | Training, evaluation | recommended: 16XX (min: 4X) | 20Xmn (X1h20mn)   |\n",
    "\n",
    ">\n",
    ">\n",
    "> Start with a short introduction to the notebook. [suggested 3-5 sentences]\n",
    ">\n",
    "> This intro should focus on the problem you are fixing, and not on any IPU specific\n",
    "> or framework specific features. The mindset is that anything that is non-standard\n",
    "> is a barrier to entry, and will risk the user giving up.\n",
    ">\n",
    "> This short introduction should be followed by a clear bullet point summary of\n",
    "> the steps of the demo. Each outcome should be of the form:\n",
    "> - what the user will do (active verb) [and (optionally) how they do\n",
    ">   it]. Jargon, if any, goes to the end of the bullet point.\n",
    "\n",
    "In this demo, you will learn how to:\n",
    "\n",
    "- Turn tabular transaction data into a PyTorch Geometric dataset\n",
    "- Select a model suitable for the task of predicting fraudulent transactions\n",
    "- Train the model on Graphcore IPUs\n",
    "- Run validation on the trained model\n",
    "\n",
    "This notebook assumes some familiarity with PopTorch as well as PyTorch Geometric (PyG). For additional resources please consult:\n",
    "* [PopTorch Documentation](https://docs.graphcore.ai/projects/poptorch-user-guide/en/latest/index.html)\n",
    "* [PopTorch Examples and Tutorials](https://docs.graphcore.ai/en/latest/examples.html#pytorch)\n",
    "* [PyTorch Geometric](https://pytorch-geometric.readthedocs.io/en/latest/)\n",
    "* [PopTorch Geometric Documentation](https://docs.graphcore.ai/projects/poptorch-geometric-user-guide/en/latest/index.html)\n",
    "\n",
    "[![Join our Slack Community](https://img.shields.io/badge/Slack-Join%20Graphcore's%20Community-blue?style=flat-square&logo=slack)](https://www.graphcore.ai/join-community)"
   ]
  },
  {
   "cell_type": "code",
   "execution_count": 57,
   "id": "0279f464",
   "metadata": {},
   "outputs": [
    {
     "name": "stdout",
     "output_type": "stream",
     "text": [
      "The autoreload extension is already loaded. To reload it, use:\n",
      "  %reload_ext autoreload\n"
     ]
    }
   ],
   "source": [
    "# Make imported python modules automatically reload when the files are changed\n",
    "# needs to be before the first import.\n",
    "%load_ext autoreload\n",
    "%autoreload 2\n",
    "# TODO: remove at the end of notebook development"
   ]
  },
  {
   "attachments": {},
   "cell_type": "markdown",
   "id": "db890f52",
   "metadata": {},
   "source": [
    "## Environment setup\n",
    "\n",
    "[![Run on Gradient](../../gradient-badge.svg)](TODO)\n",
    "\n",
    "The best way to try this demo is on Paperspace Gradient's cloud IPUs. To use on other hardware\n",
    "make sure that you have the Poplar SDK enabled with the latest PopTorch Geometric installed."
   ]
  },
  {
   "cell_type": "code",
   "execution_count": 58,
   "id": "5c72d24a",
   "metadata": {},
   "outputs": [
    {
     "name": "stdout",
     "output_type": "stream",
     "text": [
      "\n",
      "\u001b[1m[\u001b[0m\u001b[34;49mnotice\u001b[0m\u001b[1;39;49m]\u001b[0m\u001b[39;49m A new release of pip is available: \u001b[0m\u001b[31;49m23.0.1\u001b[0m\u001b[39;49m -> \u001b[0m\u001b[32;49m23.1.2\u001b[0m\n",
      "\u001b[1m[\u001b[0m\u001b[34;49mnotice\u001b[0m\u001b[1;39;49m]\u001b[0m\u001b[39;49m To update, run: \u001b[0m\u001b[32;49mpip install --upgrade pip\u001b[0m\n",
      "Note: you may need to restart the kernel to use updated packages.\n"
     ]
    }
   ],
   "source": [
    "%pip install -q -r requirements.txt"
   ]
  },
  {
   "attachments": {},
   "cell_type": "markdown",
   "id": "b33a842f",
   "metadata": {},
   "source": [
    "To improve your experience we read some configuration related to the environment you are running the notebook in."
   ]
  },
  {
   "cell_type": "code",
   "execution_count": 59,
   "id": "965ca0a6",
   "metadata": {},
   "outputs": [],
   "source": [
    "import os\n",
    "\n",
    "number_of_ipus = int(os.getenv(\"NUM_AVAILABLE_IPU\", 16))\n",
    "pod_type = os.getenv(\"GRAPHCORE_POD_TYPE\", \"pod16\")\n",
    "executable_cache_dir = os.getenv(\"POPLAR_EXECUTABLE_CACHE_DIR\", \"/tmp/exe_cache/\")\n",
    "\n",
    "# TODO Remove default\n",
    "dataset_directory = os.getenv(\"DATASETS_DIR\", \"~\")\n",
    "checkpoint_directory = os.getenv(\"CHECKPOINT_DIR\")"
   ]
  },
  {
   "attachments": {},
   "cell_type": "markdown",
   "id": "0a32779d",
   "metadata": {},
   "source": [
    "## Loading tabular data into PyTorch Geometric"
   ]
  },
  {
   "cell_type": "code",
   "execution_count": 60,
   "id": "974fbb7c",
   "metadata": {},
   "outputs": [],
   "source": [
    "import torch"
   ]
  },
  {
   "attachments": {},
   "cell_type": "markdown",
   "id": "32152d7e",
   "metadata": {},
   "source": [
    "### Getting the dataset\n",
    "\n",
    "TODO: Using https://www.kaggle.com/c/ieee-fraud-detection/data\n",
    "\n",
    "TODO: Run a script to download and tidy data?"
   ]
  },
  {
   "cell_type": "code",
   "execution_count": 61,
   "id": "8a97bde6",
   "metadata": {},
   "outputs": [],
   "source": [
    "import os.path as osp\n",
    "import pandas as pd\n",
    "\n",
    "raw_dataset_path = osp.join(dataset_directory, \"ieee-fraud-detection\", \"raw\")\n",
    "\n",
    "train_transaction_path = osp.join(raw_dataset_path, \"train_transaction.csv\")\n",
    "train_identity_path = osp.join(raw_dataset_path, \"train_identity.csv\")\n",
    "train_transaction_df = pd.read_csv(train_transaction_path)\n",
    "train_identity_df = pd.read_csv(train_identity_path)\n",
    "\n",
    "test_transaction_path = osp.join(raw_dataset_path, \"test_transaction.csv\")\n",
    "test_identity_path = osp.join(raw_dataset_path, \"test_identity.csv\")\n",
    "test_transaction_df = pd.read_csv(test_transaction_path)\n",
    "test_identity_df = pd.read_csv(test_identity_path)"
   ]
  },
  {
   "cell_type": "code",
   "execution_count": 62,
   "id": "28b1d5ec",
   "metadata": {},
   "outputs": [],
   "source": [
    "transaction_df = pd.concat([train_transaction_df, test_transaction_df], axis=0)\n",
    "identity_df = pd.concat([train_identity_df, test_identity_df], axis=0)"
   ]
  },
  {
   "cell_type": "code",
   "execution_count": 63,
   "id": "4f3aaddd",
   "metadata": {},
   "outputs": [
    {
     "data": {
      "text/html": [
       "<div>\n",
       "<style scoped>\n",
       "    .dataframe tbody tr th:only-of-type {\n",
       "        vertical-align: middle;\n",
       "    }\n",
       "\n",
       "    .dataframe tbody tr th {\n",
       "        vertical-align: top;\n",
       "    }\n",
       "\n",
       "    .dataframe thead th {\n",
       "        text-align: right;\n",
       "    }\n",
       "</style>\n",
       "<table border=\"1\" class=\"dataframe\">\n",
       "  <thead>\n",
       "    <tr style=\"text-align: right;\">\n",
       "      <th></th>\n",
       "      <th>TransactionID</th>\n",
       "      <th>isFraud</th>\n",
       "      <th>TransactionDT</th>\n",
       "      <th>TransactionAmt</th>\n",
       "      <th>ProductCD</th>\n",
       "      <th>card1</th>\n",
       "      <th>card2</th>\n",
       "      <th>card3</th>\n",
       "      <th>card4</th>\n",
       "      <th>card5</th>\n",
       "      <th>...</th>\n",
       "      <th>V330</th>\n",
       "      <th>V331</th>\n",
       "      <th>V332</th>\n",
       "      <th>V333</th>\n",
       "      <th>V334</th>\n",
       "      <th>V335</th>\n",
       "      <th>V336</th>\n",
       "      <th>V337</th>\n",
       "      <th>V338</th>\n",
       "      <th>V339</th>\n",
       "    </tr>\n",
       "  </thead>\n",
       "  <tbody>\n",
       "    <tr>\n",
       "      <th>0</th>\n",
       "      <td>2987000</td>\n",
       "      <td>0.0</td>\n",
       "      <td>86400</td>\n",
       "      <td>68.5</td>\n",
       "      <td>W</td>\n",
       "      <td>13926</td>\n",
       "      <td>NaN</td>\n",
       "      <td>150.0</td>\n",
       "      <td>discover</td>\n",
       "      <td>142.0</td>\n",
       "      <td>...</td>\n",
       "      <td>NaN</td>\n",
       "      <td>NaN</td>\n",
       "      <td>NaN</td>\n",
       "      <td>NaN</td>\n",
       "      <td>NaN</td>\n",
       "      <td>NaN</td>\n",
       "      <td>NaN</td>\n",
       "      <td>NaN</td>\n",
       "      <td>NaN</td>\n",
       "      <td>NaN</td>\n",
       "    </tr>\n",
       "    <tr>\n",
       "      <th>1</th>\n",
       "      <td>2987001</td>\n",
       "      <td>0.0</td>\n",
       "      <td>86401</td>\n",
       "      <td>29.0</td>\n",
       "      <td>W</td>\n",
       "      <td>2755</td>\n",
       "      <td>404.0</td>\n",
       "      <td>150.0</td>\n",
       "      <td>mastercard</td>\n",
       "      <td>102.0</td>\n",
       "      <td>...</td>\n",
       "      <td>NaN</td>\n",
       "      <td>NaN</td>\n",
       "      <td>NaN</td>\n",
       "      <td>NaN</td>\n",
       "      <td>NaN</td>\n",
       "      <td>NaN</td>\n",
       "      <td>NaN</td>\n",
       "      <td>NaN</td>\n",
       "      <td>NaN</td>\n",
       "      <td>NaN</td>\n",
       "    </tr>\n",
       "    <tr>\n",
       "      <th>2</th>\n",
       "      <td>2987002</td>\n",
       "      <td>0.0</td>\n",
       "      <td>86469</td>\n",
       "      <td>59.0</td>\n",
       "      <td>W</td>\n",
       "      <td>4663</td>\n",
       "      <td>490.0</td>\n",
       "      <td>150.0</td>\n",
       "      <td>visa</td>\n",
       "      <td>166.0</td>\n",
       "      <td>...</td>\n",
       "      <td>NaN</td>\n",
       "      <td>NaN</td>\n",
       "      <td>NaN</td>\n",
       "      <td>NaN</td>\n",
       "      <td>NaN</td>\n",
       "      <td>NaN</td>\n",
       "      <td>NaN</td>\n",
       "      <td>NaN</td>\n",
       "      <td>NaN</td>\n",
       "      <td>NaN</td>\n",
       "    </tr>\n",
       "    <tr>\n",
       "      <th>3</th>\n",
       "      <td>2987003</td>\n",
       "      <td>0.0</td>\n",
       "      <td>86499</td>\n",
       "      <td>50.0</td>\n",
       "      <td>W</td>\n",
       "      <td>18132</td>\n",
       "      <td>567.0</td>\n",
       "      <td>150.0</td>\n",
       "      <td>mastercard</td>\n",
       "      <td>117.0</td>\n",
       "      <td>...</td>\n",
       "      <td>NaN</td>\n",
       "      <td>NaN</td>\n",
       "      <td>NaN</td>\n",
       "      <td>NaN</td>\n",
       "      <td>NaN</td>\n",
       "      <td>NaN</td>\n",
       "      <td>NaN</td>\n",
       "      <td>NaN</td>\n",
       "      <td>NaN</td>\n",
       "      <td>NaN</td>\n",
       "    </tr>\n",
       "    <tr>\n",
       "      <th>4</th>\n",
       "      <td>2987004</td>\n",
       "      <td>0.0</td>\n",
       "      <td>86506</td>\n",
       "      <td>50.0</td>\n",
       "      <td>H</td>\n",
       "      <td>4497</td>\n",
       "      <td>514.0</td>\n",
       "      <td>150.0</td>\n",
       "      <td>mastercard</td>\n",
       "      <td>102.0</td>\n",
       "      <td>...</td>\n",
       "      <td>0.0</td>\n",
       "      <td>0.0</td>\n",
       "      <td>0.0</td>\n",
       "      <td>0.0</td>\n",
       "      <td>0.0</td>\n",
       "      <td>0.0</td>\n",
       "      <td>0.0</td>\n",
       "      <td>0.0</td>\n",
       "      <td>0.0</td>\n",
       "      <td>0.0</td>\n",
       "    </tr>\n",
       "  </tbody>\n",
       "</table>\n",
       "<p>5 rows × 394 columns</p>\n",
       "</div>"
      ],
      "text/plain": [
       "   TransactionID  isFraud  TransactionDT  TransactionAmt ProductCD  card1  \\\n",
       "0        2987000      0.0          86400            68.5         W  13926   \n",
       "1        2987001      0.0          86401            29.0         W   2755   \n",
       "2        2987002      0.0          86469            59.0         W   4663   \n",
       "3        2987003      0.0          86499            50.0         W  18132   \n",
       "4        2987004      0.0          86506            50.0         H   4497   \n",
       "\n",
       "   card2  card3       card4  card5  ... V330  V331  V332  V333  V334 V335  \\\n",
       "0    NaN  150.0    discover  142.0  ...  NaN   NaN   NaN   NaN   NaN  NaN   \n",
       "1  404.0  150.0  mastercard  102.0  ...  NaN   NaN   NaN   NaN   NaN  NaN   \n",
       "2  490.0  150.0        visa  166.0  ...  NaN   NaN   NaN   NaN   NaN  NaN   \n",
       "3  567.0  150.0  mastercard  117.0  ...  NaN   NaN   NaN   NaN   NaN  NaN   \n",
       "4  514.0  150.0  mastercard  102.0  ...  0.0   0.0   0.0   0.0   0.0  0.0   \n",
       "\n",
       "  V336  V337  V338  V339  \n",
       "0  NaN   NaN   NaN   NaN  \n",
       "1  NaN   NaN   NaN   NaN  \n",
       "2  NaN   NaN   NaN   NaN  \n",
       "3  NaN   NaN   NaN   NaN  \n",
       "4  0.0   0.0   0.0   0.0  \n",
       "\n",
       "[5 rows x 394 columns]"
      ]
     },
     "execution_count": 63,
     "metadata": {},
     "output_type": "execute_result"
    }
   ],
   "source": [
    "transaction_df.head()"
   ]
  },
  {
   "cell_type": "code",
   "execution_count": 64,
   "id": "9476115e",
   "metadata": {},
   "outputs": [
    {
     "data": {
      "text/html": [
       "<div>\n",
       "<style scoped>\n",
       "    .dataframe tbody tr th:only-of-type {\n",
       "        vertical-align: middle;\n",
       "    }\n",
       "\n",
       "    .dataframe tbody tr th {\n",
       "        vertical-align: top;\n",
       "    }\n",
       "\n",
       "    .dataframe thead th {\n",
       "        text-align: right;\n",
       "    }\n",
       "</style>\n",
       "<table border=\"1\" class=\"dataframe\">\n",
       "  <thead>\n",
       "    <tr style=\"text-align: right;\">\n",
       "      <th></th>\n",
       "      <th>TransactionID</th>\n",
       "      <th>id_01</th>\n",
       "      <th>id_02</th>\n",
       "      <th>id_03</th>\n",
       "      <th>id_04</th>\n",
       "      <th>id_05</th>\n",
       "      <th>id_06</th>\n",
       "      <th>id_07</th>\n",
       "      <th>id_08</th>\n",
       "      <th>id_09</th>\n",
       "      <th>...</th>\n",
       "      <th>id-29</th>\n",
       "      <th>id-30</th>\n",
       "      <th>id-31</th>\n",
       "      <th>id-32</th>\n",
       "      <th>id-33</th>\n",
       "      <th>id-34</th>\n",
       "      <th>id-35</th>\n",
       "      <th>id-36</th>\n",
       "      <th>id-37</th>\n",
       "      <th>id-38</th>\n",
       "    </tr>\n",
       "  </thead>\n",
       "  <tbody>\n",
       "    <tr>\n",
       "      <th>0</th>\n",
       "      <td>2987004</td>\n",
       "      <td>0.0</td>\n",
       "      <td>70787.0</td>\n",
       "      <td>NaN</td>\n",
       "      <td>NaN</td>\n",
       "      <td>NaN</td>\n",
       "      <td>NaN</td>\n",
       "      <td>NaN</td>\n",
       "      <td>NaN</td>\n",
       "      <td>NaN</td>\n",
       "      <td>...</td>\n",
       "      <td>NaN</td>\n",
       "      <td>NaN</td>\n",
       "      <td>NaN</td>\n",
       "      <td>NaN</td>\n",
       "      <td>NaN</td>\n",
       "      <td>NaN</td>\n",
       "      <td>NaN</td>\n",
       "      <td>NaN</td>\n",
       "      <td>NaN</td>\n",
       "      <td>NaN</td>\n",
       "    </tr>\n",
       "    <tr>\n",
       "      <th>1</th>\n",
       "      <td>2987008</td>\n",
       "      <td>-5.0</td>\n",
       "      <td>98945.0</td>\n",
       "      <td>NaN</td>\n",
       "      <td>NaN</td>\n",
       "      <td>0.0</td>\n",
       "      <td>-5.0</td>\n",
       "      <td>NaN</td>\n",
       "      <td>NaN</td>\n",
       "      <td>NaN</td>\n",
       "      <td>...</td>\n",
       "      <td>NaN</td>\n",
       "      <td>NaN</td>\n",
       "      <td>NaN</td>\n",
       "      <td>NaN</td>\n",
       "      <td>NaN</td>\n",
       "      <td>NaN</td>\n",
       "      <td>NaN</td>\n",
       "      <td>NaN</td>\n",
       "      <td>NaN</td>\n",
       "      <td>NaN</td>\n",
       "    </tr>\n",
       "    <tr>\n",
       "      <th>2</th>\n",
       "      <td>2987010</td>\n",
       "      <td>-5.0</td>\n",
       "      <td>191631.0</td>\n",
       "      <td>0.0</td>\n",
       "      <td>0.0</td>\n",
       "      <td>0.0</td>\n",
       "      <td>0.0</td>\n",
       "      <td>NaN</td>\n",
       "      <td>NaN</td>\n",
       "      <td>0.0</td>\n",
       "      <td>...</td>\n",
       "      <td>NaN</td>\n",
       "      <td>NaN</td>\n",
       "      <td>NaN</td>\n",
       "      <td>NaN</td>\n",
       "      <td>NaN</td>\n",
       "      <td>NaN</td>\n",
       "      <td>NaN</td>\n",
       "      <td>NaN</td>\n",
       "      <td>NaN</td>\n",
       "      <td>NaN</td>\n",
       "    </tr>\n",
       "    <tr>\n",
       "      <th>3</th>\n",
       "      <td>2987011</td>\n",
       "      <td>-5.0</td>\n",
       "      <td>221832.0</td>\n",
       "      <td>NaN</td>\n",
       "      <td>NaN</td>\n",
       "      <td>0.0</td>\n",
       "      <td>-6.0</td>\n",
       "      <td>NaN</td>\n",
       "      <td>NaN</td>\n",
       "      <td>NaN</td>\n",
       "      <td>...</td>\n",
       "      <td>NaN</td>\n",
       "      <td>NaN</td>\n",
       "      <td>NaN</td>\n",
       "      <td>NaN</td>\n",
       "      <td>NaN</td>\n",
       "      <td>NaN</td>\n",
       "      <td>NaN</td>\n",
       "      <td>NaN</td>\n",
       "      <td>NaN</td>\n",
       "      <td>NaN</td>\n",
       "    </tr>\n",
       "    <tr>\n",
       "      <th>4</th>\n",
       "      <td>2987016</td>\n",
       "      <td>0.0</td>\n",
       "      <td>7460.0</td>\n",
       "      <td>0.0</td>\n",
       "      <td>0.0</td>\n",
       "      <td>1.0</td>\n",
       "      <td>0.0</td>\n",
       "      <td>NaN</td>\n",
       "      <td>NaN</td>\n",
       "      <td>0.0</td>\n",
       "      <td>...</td>\n",
       "      <td>NaN</td>\n",
       "      <td>NaN</td>\n",
       "      <td>NaN</td>\n",
       "      <td>NaN</td>\n",
       "      <td>NaN</td>\n",
       "      <td>NaN</td>\n",
       "      <td>NaN</td>\n",
       "      <td>NaN</td>\n",
       "      <td>NaN</td>\n",
       "      <td>NaN</td>\n",
       "    </tr>\n",
       "  </tbody>\n",
       "</table>\n",
       "<p>5 rows × 79 columns</p>\n",
       "</div>"
      ],
      "text/plain": [
       "   TransactionID  id_01     id_02  id_03  id_04  id_05  id_06  id_07  id_08  \\\n",
       "0        2987004    0.0   70787.0    NaN    NaN    NaN    NaN    NaN    NaN   \n",
       "1        2987008   -5.0   98945.0    NaN    NaN    0.0   -5.0    NaN    NaN   \n",
       "2        2987010   -5.0  191631.0    0.0    0.0    0.0    0.0    NaN    NaN   \n",
       "3        2987011   -5.0  221832.0    NaN    NaN    0.0   -6.0    NaN    NaN   \n",
       "4        2987016    0.0    7460.0    0.0    0.0    1.0    0.0    NaN    NaN   \n",
       "\n",
       "   id_09  ...  id-29  id-30 id-31  id-32  id-33 id-34 id-35  id-36  id-37  \\\n",
       "0    NaN  ...    NaN    NaN   NaN    NaN    NaN   NaN   NaN    NaN    NaN   \n",
       "1    NaN  ...    NaN    NaN   NaN    NaN    NaN   NaN   NaN    NaN    NaN   \n",
       "2    0.0  ...    NaN    NaN   NaN    NaN    NaN   NaN   NaN    NaN    NaN   \n",
       "3    NaN  ...    NaN    NaN   NaN    NaN    NaN   NaN   NaN    NaN    NaN   \n",
       "4    0.0  ...    NaN    NaN   NaN    NaN    NaN   NaN   NaN    NaN    NaN   \n",
       "\n",
       "   id-38  \n",
       "0    NaN  \n",
       "1    NaN  \n",
       "2    NaN  \n",
       "3    NaN  \n",
       "4    NaN  \n",
       "\n",
       "[5 rows x 79 columns]"
      ]
     },
     "execution_count": 64,
     "metadata": {},
     "output_type": "execute_result"
    }
   ],
   "source": [
    "identity_df.head()"
   ]
  },
  {
   "cell_type": "code",
   "execution_count": 65,
   "id": "f77ae1b1",
   "metadata": {},
   "outputs": [],
   "source": [
    "# TODO: Remove this\n",
    "transaction_df = transaction_df.head()\n",
    "identity_df = identity_df.head()"
   ]
  },
  {
   "cell_type": "code",
   "execution_count": 66,
   "id": "72b49a5c",
   "metadata": {},
   "outputs": [
    {
     "data": {
      "text/html": [
       "<div>\n",
       "<style scoped>\n",
       "    .dataframe tbody tr th:only-of-type {\n",
       "        vertical-align: middle;\n",
       "    }\n",
       "\n",
       "    .dataframe tbody tr th {\n",
       "        vertical-align: top;\n",
       "    }\n",
       "\n",
       "    .dataframe thead th {\n",
       "        text-align: right;\n",
       "    }\n",
       "</style>\n",
       "<table border=\"1\" class=\"dataframe\">\n",
       "  <thead>\n",
       "    <tr style=\"text-align: right;\">\n",
       "      <th></th>\n",
       "      <th>TransactionID</th>\n",
       "      <th>isFraud</th>\n",
       "      <th>TransactionDT</th>\n",
       "      <th>TransactionAmt</th>\n",
       "      <th>ProductCD</th>\n",
       "      <th>card1</th>\n",
       "      <th>card2</th>\n",
       "      <th>card3</th>\n",
       "      <th>card4</th>\n",
       "      <th>card5</th>\n",
       "      <th>...</th>\n",
       "      <th>V330</th>\n",
       "      <th>V331</th>\n",
       "      <th>V332</th>\n",
       "      <th>V333</th>\n",
       "      <th>V334</th>\n",
       "      <th>V335</th>\n",
       "      <th>V336</th>\n",
       "      <th>V337</th>\n",
       "      <th>V338</th>\n",
       "      <th>V339</th>\n",
       "    </tr>\n",
       "  </thead>\n",
       "  <tbody>\n",
       "    <tr>\n",
       "      <th>0</th>\n",
       "      <td>2987000</td>\n",
       "      <td>0.0</td>\n",
       "      <td>86400</td>\n",
       "      <td>68.5</td>\n",
       "      <td>W</td>\n",
       "      <td>13926</td>\n",
       "      <td>NaN</td>\n",
       "      <td>150.0</td>\n",
       "      <td>discover</td>\n",
       "      <td>142.0</td>\n",
       "      <td>...</td>\n",
       "      <td>NaN</td>\n",
       "      <td>NaN</td>\n",
       "      <td>NaN</td>\n",
       "      <td>NaN</td>\n",
       "      <td>NaN</td>\n",
       "      <td>NaN</td>\n",
       "      <td>NaN</td>\n",
       "      <td>NaN</td>\n",
       "      <td>NaN</td>\n",
       "      <td>NaN</td>\n",
       "    </tr>\n",
       "    <tr>\n",
       "      <th>1</th>\n",
       "      <td>2987001</td>\n",
       "      <td>0.0</td>\n",
       "      <td>86401</td>\n",
       "      <td>29.0</td>\n",
       "      <td>W</td>\n",
       "      <td>2755</td>\n",
       "      <td>404.0</td>\n",
       "      <td>150.0</td>\n",
       "      <td>mastercard</td>\n",
       "      <td>102.0</td>\n",
       "      <td>...</td>\n",
       "      <td>NaN</td>\n",
       "      <td>NaN</td>\n",
       "      <td>NaN</td>\n",
       "      <td>NaN</td>\n",
       "      <td>NaN</td>\n",
       "      <td>NaN</td>\n",
       "      <td>NaN</td>\n",
       "      <td>NaN</td>\n",
       "      <td>NaN</td>\n",
       "      <td>NaN</td>\n",
       "    </tr>\n",
       "    <tr>\n",
       "      <th>2</th>\n",
       "      <td>2987002</td>\n",
       "      <td>0.0</td>\n",
       "      <td>86469</td>\n",
       "      <td>59.0</td>\n",
       "      <td>W</td>\n",
       "      <td>4663</td>\n",
       "      <td>490.0</td>\n",
       "      <td>150.0</td>\n",
       "      <td>visa</td>\n",
       "      <td>166.0</td>\n",
       "      <td>...</td>\n",
       "      <td>NaN</td>\n",
       "      <td>NaN</td>\n",
       "      <td>NaN</td>\n",
       "      <td>NaN</td>\n",
       "      <td>NaN</td>\n",
       "      <td>NaN</td>\n",
       "      <td>NaN</td>\n",
       "      <td>NaN</td>\n",
       "      <td>NaN</td>\n",
       "      <td>NaN</td>\n",
       "    </tr>\n",
       "    <tr>\n",
       "      <th>3</th>\n",
       "      <td>2987003</td>\n",
       "      <td>0.0</td>\n",
       "      <td>86499</td>\n",
       "      <td>50.0</td>\n",
       "      <td>W</td>\n",
       "      <td>18132</td>\n",
       "      <td>567.0</td>\n",
       "      <td>150.0</td>\n",
       "      <td>mastercard</td>\n",
       "      <td>117.0</td>\n",
       "      <td>...</td>\n",
       "      <td>NaN</td>\n",
       "      <td>NaN</td>\n",
       "      <td>NaN</td>\n",
       "      <td>NaN</td>\n",
       "      <td>NaN</td>\n",
       "      <td>NaN</td>\n",
       "      <td>NaN</td>\n",
       "      <td>NaN</td>\n",
       "      <td>NaN</td>\n",
       "      <td>NaN</td>\n",
       "    </tr>\n",
       "    <tr>\n",
       "      <th>4</th>\n",
       "      <td>2987004</td>\n",
       "      <td>0.0</td>\n",
       "      <td>86506</td>\n",
       "      <td>50.0</td>\n",
       "      <td>H</td>\n",
       "      <td>4497</td>\n",
       "      <td>514.0</td>\n",
       "      <td>150.0</td>\n",
       "      <td>mastercard</td>\n",
       "      <td>102.0</td>\n",
       "      <td>...</td>\n",
       "      <td>0.0</td>\n",
       "      <td>0.0</td>\n",
       "      <td>0.0</td>\n",
       "      <td>0.0</td>\n",
       "      <td>0.0</td>\n",
       "      <td>0.0</td>\n",
       "      <td>0.0</td>\n",
       "      <td>0.0</td>\n",
       "      <td>0.0</td>\n",
       "      <td>0.0</td>\n",
       "    </tr>\n",
       "  </tbody>\n",
       "</table>\n",
       "<p>5 rows × 394 columns</p>\n",
       "</div>"
      ],
      "text/plain": [
       "   TransactionID  isFraud  TransactionDT  TransactionAmt ProductCD  card1  \\\n",
       "0        2987000      0.0          86400            68.5         W  13926   \n",
       "1        2987001      0.0          86401            29.0         W   2755   \n",
       "2        2987002      0.0          86469            59.0         W   4663   \n",
       "3        2987003      0.0          86499            50.0         W  18132   \n",
       "4        2987004      0.0          86506            50.0         H   4497   \n",
       "\n",
       "   card2  card3       card4  card5  ... V330  V331  V332  V333  V334 V335  \\\n",
       "0    NaN  150.0    discover  142.0  ...  NaN   NaN   NaN   NaN   NaN  NaN   \n",
       "1  404.0  150.0  mastercard  102.0  ...  NaN   NaN   NaN   NaN   NaN  NaN   \n",
       "2  490.0  150.0        visa  166.0  ...  NaN   NaN   NaN   NaN   NaN  NaN   \n",
       "3  567.0  150.0  mastercard  117.0  ...  NaN   NaN   NaN   NaN   NaN  NaN   \n",
       "4  514.0  150.0  mastercard  102.0  ...  0.0   0.0   0.0   0.0   0.0  0.0   \n",
       "\n",
       "  V336  V337  V338  V339  \n",
       "0  NaN   NaN   NaN   NaN  \n",
       "1  NaN   NaN   NaN   NaN  \n",
       "2  NaN   NaN   NaN   NaN  \n",
       "3  NaN   NaN   NaN   NaN  \n",
       "4  0.0   0.0   0.0   0.0  \n",
       "\n",
       "[5 rows x 394 columns]"
      ]
     },
     "execution_count": 66,
     "metadata": {},
     "output_type": "execute_result"
    }
   ],
   "source": [
    "transaction_df.head()"
   ]
  },
  {
   "cell_type": "code",
   "execution_count": 67,
   "id": "5cc58637",
   "metadata": {},
   "outputs": [
    {
     "data": {
      "text/html": [
       "<div>\n",
       "<style scoped>\n",
       "    .dataframe tbody tr th:only-of-type {\n",
       "        vertical-align: middle;\n",
       "    }\n",
       "\n",
       "    .dataframe tbody tr th {\n",
       "        vertical-align: top;\n",
       "    }\n",
       "\n",
       "    .dataframe thead th {\n",
       "        text-align: right;\n",
       "    }\n",
       "</style>\n",
       "<table border=\"1\" class=\"dataframe\">\n",
       "  <thead>\n",
       "    <tr style=\"text-align: right;\">\n",
       "      <th></th>\n",
       "      <th>TransactionID</th>\n",
       "      <th>isFraud</th>\n",
       "      <th>TransactionDT</th>\n",
       "      <th>TransactionAmt</th>\n",
       "      <th>ProductCD</th>\n",
       "      <th>card1</th>\n",
       "      <th>card2</th>\n",
       "      <th>card3</th>\n",
       "      <th>card4</th>\n",
       "      <th>card5</th>\n",
       "      <th>...</th>\n",
       "      <th>V330</th>\n",
       "      <th>V331</th>\n",
       "      <th>V332</th>\n",
       "      <th>V333</th>\n",
       "      <th>V334</th>\n",
       "      <th>V335</th>\n",
       "      <th>V336</th>\n",
       "      <th>V337</th>\n",
       "      <th>V338</th>\n",
       "      <th>V339</th>\n",
       "    </tr>\n",
       "  </thead>\n",
       "  <tbody>\n",
       "    <tr>\n",
       "      <th>0</th>\n",
       "      <td>2987000</td>\n",
       "      <td>0.0</td>\n",
       "      <td>86400</td>\n",
       "      <td>68.5</td>\n",
       "      <td>W</td>\n",
       "      <td>13926</td>\n",
       "      <td>NaN</td>\n",
       "      <td>150.0</td>\n",
       "      <td>discover</td>\n",
       "      <td>142.0</td>\n",
       "      <td>...</td>\n",
       "      <td>NaN</td>\n",
       "      <td>NaN</td>\n",
       "      <td>NaN</td>\n",
       "      <td>NaN</td>\n",
       "      <td>NaN</td>\n",
       "      <td>NaN</td>\n",
       "      <td>NaN</td>\n",
       "      <td>NaN</td>\n",
       "      <td>NaN</td>\n",
       "      <td>NaN</td>\n",
       "    </tr>\n",
       "    <tr>\n",
       "      <th>1</th>\n",
       "      <td>2987001</td>\n",
       "      <td>0.0</td>\n",
       "      <td>86401</td>\n",
       "      <td>29.0</td>\n",
       "      <td>W</td>\n",
       "      <td>2755</td>\n",
       "      <td>404.0</td>\n",
       "      <td>150.0</td>\n",
       "      <td>mastercard</td>\n",
       "      <td>102.0</td>\n",
       "      <td>...</td>\n",
       "      <td>NaN</td>\n",
       "      <td>NaN</td>\n",
       "      <td>NaN</td>\n",
       "      <td>NaN</td>\n",
       "      <td>NaN</td>\n",
       "      <td>NaN</td>\n",
       "      <td>NaN</td>\n",
       "      <td>NaN</td>\n",
       "      <td>NaN</td>\n",
       "      <td>NaN</td>\n",
       "    </tr>\n",
       "    <tr>\n",
       "      <th>2</th>\n",
       "      <td>2987002</td>\n",
       "      <td>0.0</td>\n",
       "      <td>86469</td>\n",
       "      <td>59.0</td>\n",
       "      <td>W</td>\n",
       "      <td>4663</td>\n",
       "      <td>490.0</td>\n",
       "      <td>150.0</td>\n",
       "      <td>visa</td>\n",
       "      <td>166.0</td>\n",
       "      <td>...</td>\n",
       "      <td>NaN</td>\n",
       "      <td>NaN</td>\n",
       "      <td>NaN</td>\n",
       "      <td>NaN</td>\n",
       "      <td>NaN</td>\n",
       "      <td>NaN</td>\n",
       "      <td>NaN</td>\n",
       "      <td>NaN</td>\n",
       "      <td>NaN</td>\n",
       "      <td>NaN</td>\n",
       "    </tr>\n",
       "    <tr>\n",
       "      <th>3</th>\n",
       "      <td>2987003</td>\n",
       "      <td>0.0</td>\n",
       "      <td>86499</td>\n",
       "      <td>50.0</td>\n",
       "      <td>W</td>\n",
       "      <td>18132</td>\n",
       "      <td>567.0</td>\n",
       "      <td>150.0</td>\n",
       "      <td>mastercard</td>\n",
       "      <td>117.0</td>\n",
       "      <td>...</td>\n",
       "      <td>NaN</td>\n",
       "      <td>NaN</td>\n",
       "      <td>NaN</td>\n",
       "      <td>NaN</td>\n",
       "      <td>NaN</td>\n",
       "      <td>NaN</td>\n",
       "      <td>NaN</td>\n",
       "      <td>NaN</td>\n",
       "      <td>NaN</td>\n",
       "      <td>NaN</td>\n",
       "    </tr>\n",
       "    <tr>\n",
       "      <th>4</th>\n",
       "      <td>2987004</td>\n",
       "      <td>0.0</td>\n",
       "      <td>86506</td>\n",
       "      <td>50.0</td>\n",
       "      <td>H</td>\n",
       "      <td>4497</td>\n",
       "      <td>514.0</td>\n",
       "      <td>150.0</td>\n",
       "      <td>mastercard</td>\n",
       "      <td>102.0</td>\n",
       "      <td>...</td>\n",
       "      <td>0.0</td>\n",
       "      <td>0.0</td>\n",
       "      <td>0.0</td>\n",
       "      <td>0.0</td>\n",
       "      <td>0.0</td>\n",
       "      <td>0.0</td>\n",
       "      <td>0.0</td>\n",
       "      <td>0.0</td>\n",
       "      <td>0.0</td>\n",
       "      <td>0.0</td>\n",
       "    </tr>\n",
       "  </tbody>\n",
       "</table>\n",
       "<p>5 rows × 394 columns</p>\n",
       "</div>"
      ],
      "text/plain": [
       "   TransactionID  isFraud  TransactionDT  TransactionAmt ProductCD  card1  \\\n",
       "0        2987000      0.0          86400            68.5         W  13926   \n",
       "1        2987001      0.0          86401            29.0         W   2755   \n",
       "2        2987002      0.0          86469            59.0         W   4663   \n",
       "3        2987003      0.0          86499            50.0         W  18132   \n",
       "4        2987004      0.0          86506            50.0         H   4497   \n",
       "\n",
       "   card2  card3       card4  card5  ... V330  V331  V332  V333  V334 V335  \\\n",
       "0    NaN  150.0    discover  142.0  ...  NaN   NaN   NaN   NaN   NaN  NaN   \n",
       "1  404.0  150.0  mastercard  102.0  ...  NaN   NaN   NaN   NaN   NaN  NaN   \n",
       "2  490.0  150.0        visa  166.0  ...  NaN   NaN   NaN   NaN   NaN  NaN   \n",
       "3  567.0  150.0  mastercard  117.0  ...  NaN   NaN   NaN   NaN   NaN  NaN   \n",
       "4  514.0  150.0  mastercard  102.0  ...  0.0   0.0   0.0   0.0   0.0  0.0   \n",
       "\n",
       "  V336  V337  V338  V339  \n",
       "0  NaN   NaN   NaN   NaN  \n",
       "1  NaN   NaN   NaN   NaN  \n",
       "2  NaN   NaN   NaN   NaN  \n",
       "3  NaN   NaN   NaN   NaN  \n",
       "4  0.0   0.0   0.0   0.0  \n",
       "\n",
       "[5 rows x 394 columns]"
      ]
     },
     "execution_count": 67,
     "metadata": {},
     "output_type": "execute_result"
    }
   ],
   "source": [
    "# Sort by datetime, later we will use this to make a training and validation split\n",
    "transaction_df.sort_values(\"TransactionDT\")"
   ]
  },
  {
   "cell_type": "code",
   "execution_count": 68,
   "id": "921517f5",
   "metadata": {},
   "outputs": [],
   "source": [
    "# TODO: Merge tables"
   ]
  },
  {
   "attachments": {},
   "cell_type": "markdown",
   "id": "41830d04",
   "metadata": {},
   "source": [
    "### Inspecting the dataset\n",
    "\n",
    "TODO: Look at a few of the columns - call out important ones we will use for features and labels\n",
    "\n",
    "TODO: Create validation / test split"
   ]
  },
  {
   "attachments": {},
   "cell_type": "markdown",
   "id": "d0277acb",
   "metadata": {},
   "source": [
    "NOTES: TODO: Remove\n",
    "\n",
    "- Nodes are transaction IDs\n",
    "-"
   ]
  },
  {
   "attachments": {},
   "cell_type": "markdown",
   "id": "e0b7e7a9",
   "metadata": {},
   "source": [
    "### Creating a PyTorch Geometric dataset\n",
    "\n",
    "TODO: Create PyTorch Geometric dataset from above - maybe move to a separate script"
   ]
  },
  {
   "cell_type": "code",
   "execution_count": 69,
   "id": "58f8b858",
   "metadata": {},
   "outputs": [],
   "source": [
    "get_cat_map = lambda vals: {val: idx for idx, val in enumerate(vals)}"
   ]
  },
  {
   "cell_type": "code",
   "execution_count": 70,
   "id": "a5065ec6",
   "metadata": {},
   "outputs": [],
   "source": [
    "def get_edge_list(transaction_df, to_key, cat_map):\n",
    "    edge_list = torch.zeros((2, len(transaction_df)), dtype=torch.long)\n",
    "\n",
    "    for idx, transaction in transaction_df.iterrows():\n",
    "        edge_list[0][idx] = idx\n",
    "        edge_list[1][idx] = cat_map[transaction[to_key]]\n",
    "    \n",
    "    return edge_list"
   ]
  },
  {
   "cell_type": "code",
   "execution_count": 71,
   "id": "6dc0ded5",
   "metadata": {},
   "outputs": [],
   "source": [
    "# TODO: This takes ages\n",
    "# TODO: Doesn't work if all data is used\n",
    "# TODO: Tidy this -> make encoders\n",
    "\n",
    "\n",
    "def get_nodes_and_edges(df, identifier):\n",
    "    # Find number of unique categories for this node type\n",
    "    unique_entries = df[identifier].drop_duplicates()\n",
    "    # Create a map of category to value\n",
    "    entry_map = get_cat_map(unique_entries)\n",
    "    # Create node features from map\n",
    "    node_features = torch.zeros((len(entry_map), len(unique_entries)), dtype=torch.float32)\n",
    "    for val in entry_map.values():\n",
    "        node_features[val][val] = 1.0\n",
    "    # Create edge list mapping transaction to node type\n",
    "    edges = get_edge_list(df, identifier, entry_map)\n",
    "    return node_features, edges\n"
   ]
  },
  {
   "cell_type": "code",
   "execution_count": 138,
   "id": "727544b8",
   "metadata": {},
   "outputs": [
    {
     "data": {
      "text/plain": [
       "0    NaN\n",
       "1    NaN\n",
       "2      F\n",
       "3    NaN\n",
       "4    NaN\n",
       "Name: M9, dtype: object"
      ]
     },
     "execution_count": 138,
     "metadata": {},
     "output_type": "execute_result"
    }
   ],
   "source": [
    "transaction_df[\"M9\"]"
   ]
  },
  {
   "attachments": {},
   "cell_type": "markdown",
   "id": "fada0ac0",
   "metadata": {},
   "source": [
    "Encoders\n",
    "\n",
    "! python ./data-preprocessing/graph_data_preprocessor.py --data-dir $dest_dir --output-dir $output_dir --id-cols 'card1,card2,card3,card4,card5,card6,ProductCD,addr1,addr2,P_emaildomain,R_emaildomain' '--cat-cols' 'M1,M2,M3,M4,M5,M6,M7,M8,M9'\n",
    "\n",
    "\n",
    "- Convert all NaN to 0\n",
    "\n",
    "Transaction\n",
    " - from col TransactionAmt - apply(np.log10)? - normalize?\n",
    " - M1 - 9 - categorical?\n",
    "\n",
    "Product Code\n",
    " - from col ProductCD - Categorical\n",
    " - If NaN drop edge\n",
    "\n",
    "Purchaser email domain\n",
    " - from col P_emaildomain - Categorical\n",
    " - If NaN drop edge\n",
    "\n",
    "Recipient email domain\n",
    " - from col R_emaildomain - Categorical\n",
    " - If NaN drop edge\n",
    "\n",
    "Purchaser billing address\n",
    " - from col addr1 - Categorical\n",
    " - from col addr2 - Categorical\n",
    " - If NaN drop edge\n",
    "\n",
    "Card details\n",
    " - from col card1\n",
    " - from col card2\n",
    " - from col card3\n",
    " - from col card4\n",
    " - from col card5\n",
    " - from col card6\n",
    " - If NaN drop edge"
   ]
  },
  {
   "cell_type": "code",
   "execution_count": 72,
   "id": "c5ba0553",
   "metadata": {},
   "outputs": [
    {
     "data": {
      "text/plain": [
       "(tensor([[1., 0.],\n",
       "         [0., 1.]]),\n",
       " tensor([[0, 1, 2, 3, 4],\n",
       "         [0, 0, 0, 0, 1]]))"
      ]
     },
     "execution_count": 72,
     "metadata": {},
     "output_type": "execute_result"
    }
   ],
   "source": [
    "product_code_node_feats, product_code_edges = get_nodes_and_edges(transaction_df, \"ProductCD\")\n",
    "product_code_node_feats, product_code_edges"
   ]
  },
  {
   "cell_type": "code",
   "execution_count": 73,
   "id": "ca922f92",
   "metadata": {},
   "outputs": [
    {
     "data": {
      "text/plain": [
       "(tensor([[1., 0., 0., 0.],\n",
       "         [0., 1., 0., 0.],\n",
       "         [0., 0., 1., 0.],\n",
       "         [0., 0., 0., 1.]]),\n",
       " tensor([[0, 1, 2, 3, 4],\n",
       "         [0, 1, 2, 3, 1]]))"
      ]
     },
     "execution_count": 73,
     "metadata": {},
     "output_type": "execute_result"
    }
   ],
   "source": [
    "pur_email_domain_node_feats, pur_email_domain_edges = get_nodes_and_edges(transaction_df, \"P_emaildomain\")\n",
    "pur_email_domain_node_feats, pur_email_domain_edges"
   ]
  },
  {
   "cell_type": "code",
   "execution_count": 74,
   "id": "b0b87b6e",
   "metadata": {},
   "outputs": [
    {
     "data": {
      "text/plain": [
       "(tensor([[1.]]),\n",
       " tensor([[0, 1, 2, 3, 4],\n",
       "         [0, 0, 0, 0, 0]]))"
      ]
     },
     "execution_count": 74,
     "metadata": {},
     "output_type": "execute_result"
    }
   ],
   "source": [
    "rec_email_domain_node_feats, rec_email_domain_edges = get_nodes_and_edges(transaction_df, \"R_emaildomain\")\n",
    "rec_email_domain_node_feats, rec_email_domain_edges"
   ]
  },
  {
   "cell_type": "code",
   "execution_count": 75,
   "id": "893bf317",
   "metadata": {},
   "outputs": [],
   "source": [
    "# TODO: Create node features"
   ]
  },
  {
   "cell_type": "code",
   "execution_count": 76,
   "id": "26959614",
   "metadata": {},
   "outputs": [],
   "source": [
    "import torch\n",
    "\n",
    "from torch_geometric.data import HeteroData\n",
    "\n",
    "data = HeteroData()"
   ]
  },
  {
   "cell_type": "code",
   "execution_count": 77,
   "id": "689db7c4",
   "metadata": {},
   "outputs": [
    {
     "name": "stderr",
     "output_type": "stream",
     "text": [
      "/tmp/ipykernel_21404/2096791581.py:5: DeprecationWarning: an integer is required (got type float).  Implicit conversion to integers using __int__ is deprecated, and may be removed in a future version of Python.\n",
      "  data[\"transaction\"].y = torch.tensor(transaction_df['isFraud'], dtype=int)\n"
     ]
    }
   ],
   "source": [
    "# TODO: Update this with real features\n",
    "data[\"transaction\"].num_nodes = len(transaction_df)\n",
    "data[\"transaction\"].x = torch.arange(data[\"transaction\"].num_nodes, dtype=torch.float32).unsqueeze(-1)\n",
    "# TODO: Labels\n",
    "data[\"transaction\"].y = torch.tensor(transaction_df['isFraud'], dtype=int)\n",
    "\n",
    "data[\"product_code\"].x = product_code_node_feats\n",
    "data[\"transaction\", \"to\", \"product_code\"].edge_index = product_code_edges\n",
    "\n",
    "data[\"purchaser_email_domain\"].x = pur_email_domain_node_feats\n",
    "data[\"transaction\", \"to\", \"purchaser_email_domain\"].edge_index = pur_email_domain_edges\n",
    "\n",
    "data[\"recipient_email_domain\"].x = rec_email_domain_node_feats\n",
    "data[\"transaction\", \"to\", \"recipient_email_domain\"].edge_index = rec_email_domain_edges"
   ]
  },
  {
   "cell_type": "code",
   "execution_count": 78,
   "id": "cdeb9b1a",
   "metadata": {},
   "outputs": [
    {
     "data": {
      "text/plain": [
       "HeteroData(\n",
       "  \u001b[1mtransaction\u001b[0m={\n",
       "    num_nodes=5,\n",
       "    x=[5, 1],\n",
       "    y=[5]\n",
       "  },\n",
       "  \u001b[1mproduct_code\u001b[0m={ x=[2, 2] },\n",
       "  \u001b[1mpurchaser_email_domain\u001b[0m={ x=[4, 4] },\n",
       "  \u001b[1mrecipient_email_domain\u001b[0m={ x=[1, 1] },\n",
       "  \u001b[1m(transaction, to, product_code)\u001b[0m={ edge_index=[2, 5] },\n",
       "  \u001b[1m(transaction, to, purchaser_email_domain)\u001b[0m={ edge_index=[2, 5] },\n",
       "  \u001b[1m(transaction, to, recipient_email_domain)\u001b[0m={ edge_index=[2, 5] }\n",
       ")"
      ]
     },
     "execution_count": 78,
     "metadata": {},
     "output_type": "execute_result"
    }
   ],
   "source": [
    "data"
   ]
  },
  {
   "attachments": {},
   "cell_type": "markdown",
   "id": "da65cc9d",
   "metadata": {},
   "source": [
    "```python\n",
    "data = HeteroData(\n",
    "    transaction={\n",
    "        x=[],\n",
    "        y=[],\n",
    "        train_mask=[],\n",
    "        val_mask=[],\n",
    "        test_mask=[]\n",
    "    },\n",
    "    card_info={},\n",
    "    product_code={},\n",
    "    purchaser_billing_addr={},\n",
    "    purchaser_billing_country={},\n",
    "    purchaser_email_domain={},\n",
    "    recipient_email_domain={}\n",
    "    (transaction, to, card_info)={edge_index=[2, ]},\n",
    "    (transaction, to, product_code)={edge_index=[2, ]},\n",
    "    (transaction, to, purchaser_billing_addr)={edge_index=[2, ]},\n",
    "    (transaction, to, purchaser_billing_country)={edge_index=[2, ]},\n",
    "    (transaction, to, purchaser_email_domain)={edge_index=[2, ]},\n",
    "    (transaction, to, recipient_email_domain)={edge_index=[2, ]},\n",
    ")\n",
    "```"
   ]
  },
  {
   "attachments": {},
   "cell_type": "markdown",
   "id": "307a6822",
   "metadata": {},
   "source": [
    "## Preprocess"
   ]
  },
  {
   "cell_type": "code",
   "execution_count": 79,
   "id": "703d35ed",
   "metadata": {},
   "outputs": [
    {
     "data": {
      "text/plain": [
       "HeteroData(\n",
       "  \u001b[1mtransaction\u001b[0m={\n",
       "    num_nodes=5,\n",
       "    x=[5, 1],\n",
       "    y=[5]\n",
       "  },\n",
       "  \u001b[1mproduct_code\u001b[0m={ x=[2, 2] },\n",
       "  \u001b[1mpurchaser_email_domain\u001b[0m={ x=[4, 4] },\n",
       "  \u001b[1mrecipient_email_domain\u001b[0m={ x=[1, 1] },\n",
       "  \u001b[1m(transaction, to, product_code)\u001b[0m={ edge_index=[2, 5] },\n",
       "  \u001b[1m(transaction, to, purchaser_email_domain)\u001b[0m={ edge_index=[2, 5] },\n",
       "  \u001b[1m(transaction, to, recipient_email_domain)\u001b[0m={ edge_index=[2, 5] },\n",
       "  \u001b[1m(product_code, rev_to, transaction)\u001b[0m={ edge_index=[2, 5] },\n",
       "  \u001b[1m(purchaser_email_domain, rev_to, transaction)\u001b[0m={ edge_index=[2, 5] },\n",
       "  \u001b[1m(recipient_email_domain, rev_to, transaction)\u001b[0m={ edge_index=[2, 5] }\n",
       ")"
      ]
     },
     "execution_count": 79,
     "metadata": {},
     "output_type": "execute_result"
    }
   ],
   "source": [
    "import torch_geometric.transforms as T\n",
    "\n",
    "data = T.ToUndirected()(data)\n",
    "data = T.AddSelfLoops()(data)\n",
    "data = T.NormalizeFeatures()(data)\n",
    "\n",
    "data"
   ]
  },
  {
   "cell_type": "code",
   "execution_count": 80,
   "id": "9b41b364",
   "metadata": {},
   "outputs": [],
   "source": [
    "# TODO: Has self loops worked?"
   ]
  },
  {
   "attachments": {},
   "cell_type": "markdown",
   "id": "98db4ad9",
   "metadata": {},
   "source": [
    "### Visualize"
   ]
  },
  {
   "cell_type": "code",
   "execution_count": 81,
   "id": "35096262",
   "metadata": {},
   "outputs": [
    {
     "data": {
      "image/png": "[encoded data removed]",
      "text/plain": [
       "<Figure size 640x480 with 1 Axes>"
      ]
     },
     "metadata": {},
     "output_type": "display_data"
    }
   ],
   "source": [
    "import networkx as nx\n",
    "from matplotlib import pyplot as plt\n",
    "from torch_geometric.utils import to_networkx\n",
    "\n",
    "# Convert to homogeneous\n",
    "data_homogeneous = data.to_homogeneous()\n",
    "g = to_networkx(data_homogeneous)\n",
    "# Use node types as colour map\n",
    "colour_map = data_homogeneous.node_type\n",
    "\n",
    "# TODO: This maybe?\n",
    "## Get labels\n",
    "#labels = {str(idx): val for idx, val in enumerate(data_homogeneous.y)}\n",
    "\n",
    "# Plot the graph\n",
    "nx.draw(g, node_color=colour_map, with_labels=True)\n",
    "plt.show()"
   ]
  },
  {
   "attachments": {},
   "cell_type": "markdown",
   "id": "013f715f",
   "metadata": {},
   "source": [
    "### Create dataset splits\n",
    "\n",
    "TODO: We sort by time above and then select those from more recent as the validation and test"
   ]
  },
  {
   "cell_type": "code",
   "execution_count": 82,
   "id": "6da2debf",
   "metadata": {},
   "outputs": [
    {
     "name": "stdout",
     "output_type": "stream",
     "text": [
      "Number of training nodes: 4\n",
      "Number of validation nodes: 1\n"
     ]
    }
   ],
   "source": [
    "num_nodes_train = int(0.8 * data[\"transaction\"].num_nodes)\n",
    "data[\"transaction\"].train_mask = torch.zeros(data[\"transaction\"].num_nodes, dtype=bool)\n",
    "data[\"transaction\"].train_mask[:num_nodes_train] = True\n",
    "data[\"transaction\"].val_mask = torch.zeros(data[\"transaction\"].num_nodes, dtype=bool)\n",
    "data[\"transaction\"].val_mask[num_nodes_train:] = True\n",
    "\n",
    "print(f\"Number of training nodes: {data['transaction'].train_mask.sum()}\")\n",
    "print(f\"Number of validation nodes: {data['transaction'].val_mask.sum()}\")"
   ]
  },
  {
   "cell_type": "code",
   "execution_count": 83,
   "id": "a7b00b1e",
   "metadata": {},
   "outputs": [
    {
     "data": {
      "text/plain": [
       "{'edge_index': tensor([[0, 1, 2, 3, 4],\n",
       "        [0, 0, 0, 0, 1]])}"
      ]
     },
     "execution_count": 83,
     "metadata": {},
     "output_type": "execute_result"
    }
   ],
   "source": [
    "data[\"transaction\", \"to\", \"product_code\"]"
   ]
  },
  {
   "attachments": {},
   "cell_type": "markdown",
   "id": "dcda1f0b",
   "metadata": {},
   "source": [
    "## Dataloading\n",
    "\n",
    "TODO: Is graph too large that need to do some sampling - neighbour sampling"
   ]
  },
  {
   "cell_type": "code",
   "execution_count": 84,
   "id": "59150a4e",
   "metadata": {},
   "outputs": [],
   "source": [
    "from torch_geometric.data.storage\n",
    "\n",
    "\n",
    "from draft_fixed_size_neighbour_loader import FixedSizeNeighborLoader\n",
    "\n",
    "batch_size = 2\n",
    "num_layers = 2\n",
    "\n",
    "train_loader_ipu = FixedSizeNeighborLoader(\n",
    "    data,\n",
    "    num_neighbors=[15] * num_layers,\n",
    "    batch_size=batch_size,\n",
    "    input_nodes=('transaction', data['transaction'].train_mask),\n",
    "    collater_args={\"num_nodes\": 10,\n",
    "                   \"num_edges\": 50,\n",
    "                   \"exclude_keys\": (\"batch_size\",),\n",
    "                   \"add_masks_to_batch\": True},\n",
    ")"
   ]
  },
  {
   "cell_type": "code",
   "execution_count": 85,
   "id": "255e188b",
   "metadata": {},
   "outputs": [],
   "source": [
    "sample = next(iter(train_loader_ipu))"
   ]
  },
  {
   "cell_type": "code",
   "execution_count": 86,
   "id": "93af6050",
   "metadata": {},
   "outputs": [],
   "source": [
    "from torch_geometric.loader import NeighborLoader\n",
    "\n",
    "train_loader_cpu = NeighborLoader(\n",
    "    data,\n",
    "    num_neighbors=[15] * num_layers,\n",
    "    batch_size=batch_size,\n",
    "    input_nodes=('transaction', data['transaction'].train_mask),\n",
    ")\n",
    "sample_cpu = next(iter(train_loader_cpu))"
   ]
  },
  {
   "cell_type": "code",
   "execution_count": 87,
   "id": "19f86e65",
   "metadata": {},
   "outputs": [
    {
     "data": {
      "text/plain": [
       "{'edge_index': tensor([[0, 1, 2, 3],\n",
       "        [0, 0, 0, 0]]), 'e_id': tensor([0, 1, 2, 3])}"
      ]
     },
     "execution_count": 87,
     "metadata": {},
     "output_type": "execute_result"
    }
   ],
   "source": [
    "sample_cpu[\"transaction\", \"to\", \"product_code\"]"
   ]
  },
  {
   "attachments": {},
   "cell_type": "markdown",
   "id": "3ae4b014",
   "metadata": {},
   "source": [
    "## Picking the right model\n",
    "\n",
    "TODO: Describe the task\n",
    "\n",
    "TODO: Describe different relations type - want something that can do different relations (heterogeneous graph) - RGCN could be a sensible choice\n",
    "    - but requires weights for every relation type - we have 11 relation types so might be ok\n",
    "\n",
    "TODO: Try CompGCN\n",
    "    - Only requires 3 weights - in, out, self loops"
   ]
  },
  {
   "cell_type": "code",
   "execution_count": 131,
   "id": "b037f361",
   "metadata": {},
   "outputs": [
    {
     "data": {
      "text/plain": [
       "tensor([[-0.0126,  0.9219],\n",
       "        [-0.3262,  0.9219],\n",
       "        [-0.1826,  0.9219],\n",
       "        [-0.1826,  0.9219],\n",
       "        [-0.3164,  0.3027]])"
      ]
     },
     "execution_count": 131,
     "metadata": {},
     "output_type": "execute_result"
    }
   ],
   "source": [
    "import torch.nn as nn\n",
    "from torch_geometric.nn import SAGEConv, to_hetero\n",
    "\n",
    "# TODO: Make this work -> Target is a dict\n",
    "\n",
    "\n",
    "class GNN(torch.nn.Module):\n",
    "    def __init__(self, hidden_channels, out_channels):\n",
    "        super().__init__()\n",
    "        self.conv1 = SAGEConv(\n",
    "            (-1, -1), hidden_channels, add_self_loops=False, aggr=\"sum\", root_weight=False)\n",
    "        self.conv2 = SAGEConv(\n",
    "            (-1, -1), out_channels, add_self_loops=False, aggr=\"sum\", root_weight=False)\n",
    "\n",
    "    def forward(self, x, edge_index):\n",
    "        x = self.conv1(x, edge_index).relu()\n",
    "        x = self.conv2(x, edge_index)\n",
    "        return x\n",
    "\n",
    "\n",
    "class Wrapper(torch.nn.Module):\n",
    "\n",
    "    def __init__(self, hetero_gnn, batch_size):\n",
    "        super().__init__()\n",
    "        self.hetero_gnn = hetero_gnn\n",
    "        self.batch_size = batch_size\n",
    "\n",
    "    def forward(self, x_dict, edge_index_dict, target=None):\n",
    "        x_dict = self.hetero_gnn(x_dict, edge_index_dict)\n",
    "        out = x_dict['transaction']\n",
    "        if self.training:\n",
    "            loss = nn.functional.cross_entropy(out[:self.batch_size],\n",
    "                                               target[:self.batch_size])\n",
    "            return out, loss\n",
    "        return out\n",
    "\n",
    "\n",
    "model = GNN(hidden_channels=64, out_channels=2)\n",
    "model = to_hetero(model, data.metadata(), aggr=\"sum\")\n",
    "model = Wrapper(model, batch_size)\n",
    "\n",
    "with torch.no_grad():  # Initialize lazy modules.\n",
    "    out_cpu, loss = model(data.x_dict,\n",
    "                          data.edge_index_dict,\n",
    "                          target=data[\"transaction\"].y)\n",
    "\n",
    "out_cpu"
   ]
  },
  {
   "cell_type": "code",
   "execution_count": 132,
   "id": "c5905665",
   "metadata": {},
   "outputs": [
    {
     "name": "stderr",
     "output_type": "stream",
     "text": [
      "[13:43:20.635] [poptorch::python] [warning] Dicts as inputs only have partial support, they can be accessed using literal keys, but full Python functionality is not enabled. Consider changing dict inputs to tuple.\n",
      "[13:43:20.635] [poptorch::python] [warning] Dicts as inputs only have partial support, they can be accessed using literal keys, but full Python functionality is not enabled. Consider changing dict inputs to tuple.\n",
      "[13:43:20.648] [poptorch:cpp] [warning] [DISPATCHER] Type coerced from Long to Int for tensor id 3386\n",
      "[13:43:20.648] [poptorch:cpp] [warning] [DISPATCHER] Type coerced from Long to Int for tensor id 3387\n",
      "[13:43:20.648] [poptorch:cpp] [warning] [DISPATCHER] Type coerced from Long to Int for tensor id 3388\n",
      "[13:43:20.648] [poptorch:cpp] [warning] [DISPATCHER] Type coerced from Long to Int for tensor id 3389\n",
      "[13:43:20.649] [poptorch:cpp] [warning] [DISPATCHER] Type coerced from Long to Int for tensor id 3390\n",
      "[13:43:20.649] [poptorch:cpp] [warning] [DISPATCHER] Type coerced from Long to Int for tensor id 3391\n",
      "[13:43:20.649] [poptorch:cpp] [warning] [DISPATCHER] Type coerced from Long to Int for tensor id 3392\n",
      "Graph compilation: 100%|██████████| 100/100 [00:04<00:00]\n"
     ]
    },
    {
     "data": {
      "text/plain": [
       "tensor([[-0.0126,  0.9219],\n",
       "        [-0.0322,  0.9219],\n",
       "        [-0.0322,  0.9219],\n",
       "        [-0.0322,  0.9219],\n",
       "        [ 0.0317, -0.0394]])"
      ]
     },
     "execution_count": 132,
     "metadata": {},
     "output_type": "execute_result"
    }
   ],
   "source": [
    "import poptorch\n",
    "\n",
    "model.eval()\n",
    "inf_model = poptorch.inferenceModel(model)\n",
    "out_ipu = inf_model(data.x_dict,\n",
    "                    data.edge_index_dict,\n",
    "                    target=data[\"transaction\"].y)\n",
    "out_ipu"
   ]
  },
  {
   "cell_type": "code",
   "execution_count": 133,
   "id": "0c964c29",
   "metadata": {},
   "outputs": [
    {
     "ename": "AssertionError",
     "evalue": "",
     "output_type": "error",
     "traceback": [
      "\u001b[0;31m---------------------------------------------------------------------------\u001b[0m",
      "\u001b[0;31mAssertionError\u001b[0m                            Traceback (most recent call last)",
      "Cell \u001b[0;32mIn[133], line 1\u001b[0m\n\u001b[0;32m----> 1\u001b[0m \u001b[39massert\u001b[39;00m torch\u001b[39m.\u001b[39mallclose(out_cpu, out_ipu, rtol\u001b[39m=\u001b[39m\u001b[39m1e-05\u001b[39m, atol\u001b[39m=\u001b[39m\u001b[39m1e-05\u001b[39m)\n",
      "\u001b[0;31mAssertionError\u001b[0m: "
     ]
    }
   ],
   "source": [
    "assert torch.allclose(out_cpu, out_ipu, rtol=1e-05, atol=1e-05)"
   ]
  },
  {
   "cell_type": "code",
   "execution_count": 103,
   "id": "9722f423",
   "metadata": {},
   "outputs": [
    {
     "data": {
      "text/plain": [
       "HeteroGNN(\n",
       "  (convs): ModuleList(\n",
       "    (0): HeteroConv(num_relations=6)\n",
       "    (1): HeteroConv(num_relations=6)\n",
       "  )\n",
       "  (lin): Linear(64, 2, bias=True)\n",
       ")"
      ]
     },
     "execution_count": 103,
     "metadata": {},
     "output_type": "execute_result"
    }
   ],
   "source": [
    "from torch_geometric.nn import HeteroConv, SAGEConv, Linear, GCNConv\n",
    "\n",
    "\n",
    "# TODO: Do I need to add reverse edges\n",
    "# TODO: mean aggregation doesn't work for second conv layer - I think it works if everything is the right size\n",
    "# TODO: Sum gives incorrect results\n",
    "\n",
    "class HeteroGNN(torch.nn.Module):\n",
    "    def __init__(self, hidden_channels, out_channels, num_layers, batch_size):\n",
    "        super().__init__()\n",
    "        self.batch_size = batch_size\n",
    "\n",
    "        self.convs = torch.nn.ModuleList()\n",
    "        for _ in range(num_layers):\n",
    "            self.convs.append(\n",
    "                HeteroConv({\n",
    "                    ('transaction', 'to', 'product_code'): SAGEConv(\n",
    "                        (-1, -1), hidden_channels, add_self_loops=False, aggr=\"sum\", root_weight=False),\n",
    "                    ('transaction', 'to', 'purchaser_email_domain'): SAGEConv(\n",
    "                        (-1, -1), hidden_channels, add_self_loops=False, aggr=\"sum\", root_weight=False),\n",
    "                    ('transaction', 'to', 'recipient_email_domain'): SAGEConv(\n",
    "                        (-1, -1), hidden_channels, add_self_loops=False, aggr=\"sum\", root_weight=False),\n",
    "                    ('product_code', \"rev_to\", \"transaction\"): SAGEConv(\n",
    "                        (-1, -1), hidden_channels, add_self_loops=False, aggr=\"sum\", root_weight=False),\n",
    "                    ('purchaser_email_domain', \"rev_to\", \"transaction\"): SAGEConv(\n",
    "                        (-1, -1), hidden_channels, add_self_loops=False, aggr=\"sum\", root_weight=False),\n",
    "                    ('recipient_email_domain', \"rev_to\", \"transaction\"): SAGEConv(\n",
    "                        (-1, -1), hidden_channels, add_self_loops=False, aggr=\"sum\", root_weight=False),\n",
    "                }, aggr='sum'))\n",
    "        self.lin = Linear(hidden_channels, out_channels)\n",
    "\n",
    "    def forward(self, x_dict, edge_index_dict, target=None):\n",
    "        for conv in self.convs:\n",
    "            x_dict = conv(x_dict, edge_index_dict)\n",
    "            x_dict = {key: x.relu() for key, x in x_dict.items()}\n",
    "        out = self.lin(x_dict['transaction'])\n",
    "        if self.training:\n",
    "            loss = nn.functional.cross_entropy(out[:self.batch_size],\n",
    "                                               target[:self.batch_size])\n",
    "            return out, loss\n",
    "\n",
    "        return out\n",
    "\n",
    "\n",
    "model = HeteroGNN(hidden_channels=64,\n",
    "                  out_channels=2,\n",
    "                  num_layers=num_layers,\n",
    "                  batch_size=batch_size)\n",
    "model"
   ]
  },
  {
   "cell_type": "code",
   "execution_count": 104,
   "id": "58c35d22",
   "metadata": {},
   "outputs": [
    {
     "data": {
      "text/plain": [
       "tensor([0, 0, 0, 0, 0])"
      ]
     },
     "execution_count": 104,
     "metadata": {},
     "output_type": "execute_result"
    }
   ],
   "source": [
    "data[\"transaction\"].y"
   ]
  },
  {
   "cell_type": "code",
   "execution_count": 105,
   "id": "e173b63e",
   "metadata": {},
   "outputs": [
    {
     "data": {
      "text/plain": [
       "tensor([[-0.2695,  0.2399],\n",
       "        [-0.2768,  0.2458],\n",
       "        [-0.2768,  0.2458],\n",
       "        [-0.2768,  0.2458],\n",
       "        [-0.2768,  0.2458]])"
      ]
     },
     "execution_count": 105,
     "metadata": {},
     "output_type": "execute_result"
    }
   ],
   "source": [
    "with torch.no_grad():  # Initialize lazy modules.\n",
    "    out_cpu, loss = model(data.x_dict,\n",
    "                          data.edge_index_dict,\n",
    "                          target=data[\"transaction\"].y)\n",
    "    \n",
    "out_cpu"
   ]
  },
  {
   "cell_type": "code",
   "execution_count": 106,
   "id": "e512a129",
   "metadata": {},
   "outputs": [
    {
     "data": {
      "text/plain": [
       "HeteroData(\n",
       "  \u001b[1mtransaction\u001b[0m={\n",
       "    num_nodes=5,\n",
       "    x=[5, 1],\n",
       "    y=[5],\n",
       "    train_mask=[5],\n",
       "    val_mask=[5]\n",
       "  },\n",
       "  \u001b[1mproduct_code\u001b[0m={ x=[2, 2] },\n",
       "  \u001b[1mpurchaser_email_domain\u001b[0m={ x=[4, 4] },\n",
       "  \u001b[1mrecipient_email_domain\u001b[0m={ x=[1, 1] },\n",
       "  \u001b[1m(transaction, to, product_code)\u001b[0m={ edge_index=[2, 5] },\n",
       "  \u001b[1m(transaction, to, purchaser_email_domain)\u001b[0m={ edge_index=[2, 5] },\n",
       "  \u001b[1m(transaction, to, recipient_email_domain)\u001b[0m={ edge_index=[2, 5] },\n",
       "  \u001b[1m(product_code, rev_to, transaction)\u001b[0m={ edge_index=[2, 5] },\n",
       "  \u001b[1m(purchaser_email_domain, rev_to, transaction)\u001b[0m={ edge_index=[2, 5] },\n",
       "  \u001b[1m(recipient_email_domain, rev_to, transaction)\u001b[0m={ edge_index=[2, 5] }\n",
       ")"
      ]
     },
     "execution_count": 106,
     "metadata": {},
     "output_type": "execute_result"
    }
   ],
   "source": [
    "data"
   ]
  },
  {
   "cell_type": "code",
   "execution_count": 107,
   "id": "0705f699",
   "metadata": {},
   "outputs": [
    {
     "name": "stderr",
     "output_type": "stream",
     "text": [
      "[13:11:40.109] [poptorch::python] [warning] Dicts as inputs only have partial support, they can be accessed using literal keys, but full Python functionality is not enabled. Consider changing dict inputs to tuple.\n",
      "[13:11:40.110] [poptorch::python] [warning] Dicts as inputs only have partial support, they can be accessed using literal keys, but full Python functionality is not enabled. Consider changing dict inputs to tuple.\n",
      "[13:11:40.125] [poptorch:cpp] [warning] [DISPATCHER] Type coerced from Long to Int for tensor id 1937\n",
      "[13:11:40.125] [poptorch:cpp] [warning] [DISPATCHER] Type coerced from Long to Int for tensor id 1938\n",
      "[13:11:40.125] [poptorch:cpp] [warning] [DISPATCHER] Type coerced from Long to Int for tensor id 1939\n",
      "[13:11:40.126] [poptorch:cpp] [warning] [DISPATCHER] Type coerced from Long to Int for tensor id 1940\n",
      "[13:11:40.126] [poptorch:cpp] [warning] [DISPATCHER] Type coerced from Long to Int for tensor id 1941\n",
      "[13:11:40.126] [poptorch:cpp] [warning] [DISPATCHER] Type coerced from Long to Int for tensor id 1942\n",
      "[13:11:40.126] [poptorch:cpp] [warning] [DISPATCHER] Type coerced from Long to Int for tensor id 1943\n",
      "Graph compilation: 100%|██████████| 100/100 [00:04<00:00]\n"
     ]
    },
    {
     "data": {
      "text/plain": [
       "tensor([[-0.2695,  0.2399],\n",
       "        [-0.2768,  0.2458],\n",
       "        [-0.2768,  0.2458],\n",
       "        [-0.2768,  0.2458],\n",
       "        [-0.2768,  0.2458]])"
      ]
     },
     "execution_count": 107,
     "metadata": {},
     "output_type": "execute_result"
    }
   ],
   "source": [
    "import poptorch\n",
    "\n",
    "model.eval()\n",
    "inf_model = poptorch.inferenceModel(model)\n",
    "out_ipu = inf_model(data.x_dict,\n",
    "                    data.edge_index_dict,\n",
    "                    target=data[\"transaction\"].y)\n",
    "out_ipu"
   ]
  },
  {
   "cell_type": "code",
   "execution_count": 108,
   "id": "ac73ba59",
   "metadata": {},
   "outputs": [],
   "source": [
    "assert torch.allclose(out_cpu, out_ipu, rtol=1e-05, atol=1e-05)"
   ]
  },
  {
   "cell_type": "code",
   "execution_count": 95,
   "id": "5ac2835d",
   "metadata": {},
   "outputs": [
    {
     "data": {
      "text/plain": [
       "{'edge_index': tensor([[0, 1, 2, 3],\n",
       "        [0, 0, 0, 0]]), 'e_id': tensor([0, 1, 2, 3])}"
      ]
     },
     "execution_count": 95,
     "metadata": {},
     "output_type": "execute_result"
    }
   ],
   "source": [
    "sample_cpu[\"transaction\", \"to\", \"product_code\"]"
   ]
  },
  {
   "cell_type": "code",
   "execution_count": 97,
   "id": "86253a66",
   "metadata": {},
   "outputs": [],
   "source": [
    "# TODO: Verify model with padded and unpadded\n",
    "\n",
    "model = HeteroGNN(\n",
    "    hidden_channels=64,\n",
    "    out_channels=2,\n",
    "    num_layers=num_layers,\n",
    "    batch_size=batch_size)\n",
    "\n",
    "with torch.no_grad():  # Initialize lazy modules.\n",
    "    out_not_padded, loss = model(\n",
    "        sample_cpu.x_dict,\n",
    "        sample_cpu.edge_index_dict,\n",
    "        target=sample_cpu[\"transaction\"].y)\n",
    "\n",
    "with torch.no_grad():  # Initialize lazy modules.\n",
    "    out_padded, loss = model(\n",
    "        sample.x_dict,\n",
    "        sample.edge_index_dict,\n",
    "        target=sample[\"transaction\"].y)\n",
    "\n",
    "assert torch.allclose(out_not_padded, out_padded[:5])"
   ]
  },
  {
   "cell_type": "code",
   "execution_count": null,
   "id": "eae73378",
   "metadata": {},
   "outputs": [],
   "source": [
    "# TODO: CompGCN?"
   ]
  },
  {
   "attachments": {},
   "cell_type": "markdown",
   "id": "f4ee6edb",
   "metadata": {},
   "source": [
    "## Training the model\n",
    "\n",
    "TODO: Train the model in the normal way"
   ]
  },
  {
   "cell_type": "code",
   "execution_count": 98,
   "id": "98b652dc",
   "metadata": {},
   "outputs": [],
   "source": [
    "learning_rate = 0.001\n",
    "num_epochs = 1"
   ]
  },
  {
   "cell_type": "code",
   "execution_count": 102,
   "id": "45cecaf3",
   "metadata": {},
   "outputs": [
    {
     "name": "stderr",
     "output_type": "stream",
     "text": [
      "[13:10:30.404] [poptorch::python] [warning] Dicts as inputs only have partial support, they can be accessed using literal keys, but full Python functionality is not enabled. Consider changing dict inputs to tuple.\n",
      "[13:10:30.405] [poptorch::python] [warning] Dicts as inputs only have partial support, they can be accessed using literal keys, but full Python functionality is not enabled. Consider changing dict inputs to tuple.\n",
      "[13:10:30.418] [poptorch:cpp] [warning] [DISPATCHER] Type coerced from Long to Int for tensor id 1703\n",
      "[13:10:30.419] [poptorch:cpp] [warning] [DISPATCHER] Type coerced from Long to Int for tensor id 1704\n",
      "[13:10:30.419] [poptorch:cpp] [warning] [DISPATCHER] Type coerced from Long to Int for tensor id 1705\n",
      "[13:10:30.419] [poptorch:cpp] [warning] [DISPATCHER] Type coerced from Long to Int for tensor id 1706\n",
      "[13:10:30.419] [poptorch:cpp] [warning] [DISPATCHER] Type coerced from Long to Int for tensor id 1707\n",
      "[13:10:30.419] [poptorch:cpp] [warning] [DISPATCHER] Type coerced from Long to Int for tensor id 1708\n",
      "[13:10:30.420] [poptorch:cpp] [warning] [DISPATCHER] Type coerced from Long to Int for tensor id 1709\n",
      "Graph compilation: 100%|██████████| 100/100 [00:09<00:00]\n"
     ]
    },
    {
     "name": "stdout",
     "output_type": "stream",
     "text": [
      "Epoch 0, Loss: 0.6300453543663025\n",
      "Epoch 1, Loss: 0.39556291699409485\n",
      "Epoch 2, Loss: 0.2484317496418953\n",
      "Epoch 3, Loss: 0.1553347036242485\n",
      "Epoch 4, Loss: 0.0970383808016777\n",
      "Epoch 5, Loss: 0.0621356051415205\n",
      "Epoch 6, Loss: 0.040943074971437454\n",
      "Epoch 7, Loss: 0.027705077081918716\n",
      "Epoch 8, Loss: 0.019271982833743095\n",
      "Epoch 9, Loss: 0.01381582859903574\n"
     ]
    }
   ],
   "source": [
    "# TODO: With sampling\n",
    "\n",
    "model = HeteroGNN(hidden_channels=64,\n",
    "                  out_channels=2,\n",
    "                  num_layers=num_layers,\n",
    "                  batch_size=batch_size)\n",
    "\n",
    "sample = next(iter(train_loader_ipu))\n",
    "with torch.no_grad():  # Initialize lazy modules.\n",
    "    out_cpu, loss = model(sample.x_dict,\n",
    "                          sample.edge_index_dict,\n",
    "                          target=sample[\"transaction\"].y)\n",
    "\n",
    "model.train()\n",
    "optimizer = poptorch.optim.Adam(model.parameters(), lr=learning_rate)\n",
    "training_model = poptorch.trainingModel(model, optimizer=optimizer)\n",
    "\n",
    "for epoch in range(10):\n",
    "    total_examples = total_loss = 0\n",
    "    for batch in train_loader_ipu:\n",
    "        out, loss = training_model(batch.x_dict,\n",
    "                                   batch.edge_index_dict,\n",
    "                                   target=batch['transaction'].y)\n",
    "        total_examples += batch_size\n",
    "        total_loss += float(loss) * batch_size\n",
    "    print(f\"Epoch {epoch}, Loss: {total_loss / total_examples}\")\n"
   ]
  },
  {
   "attachments": {},
   "cell_type": "markdown",
   "id": "0c127b86",
   "metadata": {},
   "source": [
    "## Validating our trained model\n",
    "\n",
    "TODO: Validate the model in the normal way"
   ]
  },
  {
   "cell_type": "markdown",
   "id": "7ece4041",
   "metadata": {},
   "source": [
    "## Conclusion\n",
    "\n",
    "> The conclusion to your demo should:\n",
    ">\n",
    "> - summarise the main steps that were taken in the demo making clear what\n",
    ">  your user got to do (similar to steps at the start but more\n",
    ">  specific, you can link a specific feature/method/class to achieving a specific\n",
    ">  outcome). (short paragraph: 3-6 sentences)\n",
    "> - provide resources to go further: these can be links to other tutorials, to\n",
    ">  documentation, to code examples in the public_examples repo, tech notes, deployments,\n",
    ">  etc... (2-4 suggestions)\n",
    ">\n",
    "> For pointing users to notebooks in the same runtime, point the user to where the file is rather than a link. For example: please see our tutorial, `<folder_name>/<notebook_name>.ipynb`. For relative links the paperspace platform will download the file locally if the machine is running and if the machine is not running will 404. For full path links a new window is opened."
   ]
  }
 ],
 "metadata": {
  "kernelspec": {
   "display_name": "3.2.0+1277_poptorch",
   "language": "python",
   "name": "python3"
  },
  "language_info": {
   "codemirror_mode": {
    "name": "ipython",
    "version": 3
   },
   "file_extension": ".py",
   "mimetype": "text/x-python",
   "name": "python",
   "nbconvert_exporter": "python",
   "pygments_lexer": "ipython3",
   "version": "3.8.10"
  },
  "vscode": {
   "interpreter": {
    "hash": "14ed74787bcb3a85d33b99e2a461605961fba8ba6d9ddfcf06c9973f1378dba0"
   }
  }
 },
 "nbformat": 4,
 "nbformat_minor": 5
}
